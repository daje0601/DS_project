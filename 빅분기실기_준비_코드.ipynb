{
  "nbformat": 4,
  "nbformat_minor": 0,
  "metadata": {
    "colab": {
      "name": "빅분기실기 준비 코드.ipynb",
      "provenance": [],
      "machine_shape": "hm",
      "authorship_tag": "ABX9TyMNjMPVaPxMwMC0ZmLmoWfC",
      "include_colab_link": true
    },
    "kernelspec": {
      "name": "python3",
      "display_name": "Python 3"
    },
    "language_info": {
      "name": "python"
    }
  },
  "cells": [
    {
      "cell_type": "markdown",
      "metadata": {
        "id": "view-in-github",
        "colab_type": "text"
      },
      "source": [
        "<a href=\"https://colab.research.google.com/github/daje0601/DS_project/blob/main/%EB%B9%85%EB%B6%84%EA%B8%B0%EC%8B%A4%EA%B8%B0_%EC%A4%80%EB%B9%84_%EC%BD%94%EB%93%9C.ipynb\" target=\"_parent\"><img src=\"https://colab.research.google.com/assets/colab-badge.svg\" alt=\"Open In Colab\"/></a>"
      ]
    },
    {
      "cell_type": "code",
      "metadata": {
        "id": "bWWz2Gtnwi_F"
      },
      "source": [
        "import warnings\n",
        "warnings.filterwarnings(\"ignore\")\n",
        "\n",
        "import pandas as pd\n",
        "\n",
        "y_train = pd.read_csv('https://raw.githubusercontent.com/Datamanim/dataq/main/y_train.csv')\n",
        "X_train = pd.read_csv('https://raw.githubusercontent.com/Datamanim/dataq/main/X_train.csv',encoding='euc-kr')\n",
        "test  = pd.read_csv('https://raw.githubusercontent.com/Datamanim/dataq/main/X_test.csv',encoding='euc-kr')"
      ],
      "execution_count": null,
      "outputs": []
    },
    {
      "cell_type": "code",
      "metadata": {
        "colab": {
          "base_uri": "https://localhost:8080/"
        },
        "id": "xc46CO4CwkjT",
        "outputId": "e2692ad6-8985-43ac-9c12-1f681596f975"
      },
      "source": [
        "train = pd.concat([X_train, y_train], axis=1)\n",
        "train = train.drop(columns=\"cust_id\")\n",
        "test = test.drop(columns=\"cust_id\")\n",
        "train, test"
      ],
      "execution_count": null,
      "outputs": [
        {
          "output_type": "execute_result",
          "data": {
            "text/plain": [
              "(           총구매액     최대구매액       환불금액   주구매상품  ...   내점당구매건수    주말방문비율  구매주기  gender\n",
              " 0      68282840  11264000  6860000.0      기타  ...  3.894737  0.527027    17       0\n",
              " 1       2136000   2136000   300000.0     스포츠  ...  1.500000  0.000000     1       0\n",
              " 2       3197000   1639000        NaN  남성 캐주얼  ...  2.000000  0.000000     1       1\n",
              " 3      16077620   4935000        NaN      기타  ...  2.444444  0.318182    16       1\n",
              " 4      29050000  24000000        NaN      보석  ...  1.500000  0.000000    85       0\n",
              " ...         ...       ...        ...     ...  ...       ...       ...   ...     ...\n",
              " 3495    3175200   3042900        NaN      골프  ...  2.000000  1.000000     0       1\n",
              " 3496   29628600   7200000  6049600.0    시티웨어  ...  1.625000  0.461538    40       1\n",
              " 3497      75000     75000        NaN    주방용품  ...  1.000000  0.000000     0       0\n",
              " 3498    1875000   1000000        NaN     화장품  ...  1.000000  0.000000    39       0\n",
              " 3499  263101550  34632000  5973000.0      기타  ...  2.421053  0.467391     8       0\n",
              " \n",
              " [3500 rows x 10 columns],\n",
              "            총구매액     최대구매액        환불금액   주구매상품  ... 내점일수    내점당구매건수    주말방문비율  구매주기\n",
              " 0      70900400  22000000   4050000.0      골프  ...   13   1.461538  0.789474    26\n",
              " 1     310533100  38558000  48034700.0     농산물  ...   90   2.433333  0.369863     3\n",
              " 2     305264140  14825000  30521000.0    가공식품  ...  101  14.623762  0.083277     3\n",
              " 3       7594080   5225000         NaN    주방용품  ...    5   2.000000  0.000000    47\n",
              " 4       1795790   1411200         NaN     수산품  ...    3   2.666667  0.125000     8\n",
              " ...         ...       ...         ...     ...  ...  ...        ...       ...   ...\n",
              " 2477   82581500  23976000         NaN      골프  ...    8   1.750000  0.642857    40\n",
              " 2478     480000    480000         NaN    섬유잡화  ...    1   1.000000  0.000000     0\n",
              " 2479  260003790  25750000         NaN  남성 캐주얼  ...   19   3.736842  0.915493    18\n",
              " 2480   88991520  18120000         NaN      육류  ...    5   3.600000  0.444444    60\n",
              " 2481     623700    209000         NaN    가공식품  ...    2   5.000000  0.000000    31\n",
              " \n",
              " [2482 rows x 9 columns])"
            ]
          },
          "metadata": {
            "tags": []
          },
          "execution_count": 150
        }
      ]
    },
    {
      "cell_type": "code",
      "metadata": {
        "colab": {
          "base_uri": "https://localhost:8080/",
          "height": 287
        },
        "id": "zbvRi7Dewu2y",
        "outputId": "942cca60-f978-4022-c4a2-794b94ace40b"
      },
      "source": [
        "train.describe()"
      ],
      "execution_count": null,
      "outputs": [
        {
          "output_type": "execute_result",
          "data": {
            "text/html": [
              "<div>\n",
              "<style scoped>\n",
              "    .dataframe tbody tr th:only-of-type {\n",
              "        vertical-align: middle;\n",
              "    }\n",
              "\n",
              "    .dataframe tbody tr th {\n",
              "        vertical-align: top;\n",
              "    }\n",
              "\n",
              "    .dataframe thead th {\n",
              "        text-align: right;\n",
              "    }\n",
              "</style>\n",
              "<table border=\"1\" class=\"dataframe\">\n",
              "  <thead>\n",
              "    <tr style=\"text-align: right;\">\n",
              "      <th></th>\n",
              "      <th>총구매액</th>\n",
              "      <th>최대구매액</th>\n",
              "      <th>환불금액</th>\n",
              "      <th>내점일수</th>\n",
              "      <th>내점당구매건수</th>\n",
              "      <th>주말방문비율</th>\n",
              "      <th>구매주기</th>\n",
              "      <th>gender</th>\n",
              "    </tr>\n",
              "  </thead>\n",
              "  <tbody>\n",
              "    <tr>\n",
              "      <th>count</th>\n",
              "      <td>3.500000e+03</td>\n",
              "      <td>3.500000e+03</td>\n",
              "      <td>1.205000e+03</td>\n",
              "      <td>3500.000000</td>\n",
              "      <td>3500.000000</td>\n",
              "      <td>3500.000000</td>\n",
              "      <td>3500.000000</td>\n",
              "      <td>3500.000000</td>\n",
              "    </tr>\n",
              "    <tr>\n",
              "      <th>mean</th>\n",
              "      <td>9.191925e+07</td>\n",
              "      <td>1.966424e+07</td>\n",
              "      <td>2.407822e+07</td>\n",
              "      <td>19.253714</td>\n",
              "      <td>2.834963</td>\n",
              "      <td>0.307246</td>\n",
              "      <td>20.958286</td>\n",
              "      <td>0.376000</td>\n",
              "    </tr>\n",
              "    <tr>\n",
              "      <th>std</th>\n",
              "      <td>1.635065e+08</td>\n",
              "      <td>3.199235e+07</td>\n",
              "      <td>4.746453e+07</td>\n",
              "      <td>27.174942</td>\n",
              "      <td>1.912368</td>\n",
              "      <td>0.289752</td>\n",
              "      <td>24.748682</td>\n",
              "      <td>0.484449</td>\n",
              "    </tr>\n",
              "    <tr>\n",
              "      <th>min</th>\n",
              "      <td>-5.242152e+07</td>\n",
              "      <td>-2.992000e+06</td>\n",
              "      <td>5.600000e+03</td>\n",
              "      <td>1.000000</td>\n",
              "      <td>1.000000</td>\n",
              "      <td>0.000000</td>\n",
              "      <td>0.000000</td>\n",
              "      <td>0.000000</td>\n",
              "    </tr>\n",
              "    <tr>\n",
              "      <th>25%</th>\n",
              "      <td>4.747050e+06</td>\n",
              "      <td>2.875000e+06</td>\n",
              "      <td>2.259000e+06</td>\n",
              "      <td>2.000000</td>\n",
              "      <td>1.666667</td>\n",
              "      <td>0.027291</td>\n",
              "      <td>4.000000</td>\n",
              "      <td>0.000000</td>\n",
              "    </tr>\n",
              "    <tr>\n",
              "      <th>50%</th>\n",
              "      <td>2.822270e+07</td>\n",
              "      <td>9.837000e+06</td>\n",
              "      <td>7.392000e+06</td>\n",
              "      <td>8.000000</td>\n",
              "      <td>2.333333</td>\n",
              "      <td>0.256410</td>\n",
              "      <td>13.000000</td>\n",
              "      <td>0.000000</td>\n",
              "    </tr>\n",
              "    <tr>\n",
              "      <th>75%</th>\n",
              "      <td>1.065079e+08</td>\n",
              "      <td>2.296250e+07</td>\n",
              "      <td>2.412000e+07</td>\n",
              "      <td>25.000000</td>\n",
              "      <td>3.375000</td>\n",
              "      <td>0.448980</td>\n",
              "      <td>28.000000</td>\n",
              "      <td>1.000000</td>\n",
              "    </tr>\n",
              "    <tr>\n",
              "      <th>max</th>\n",
              "      <td>2.323180e+09</td>\n",
              "      <td>7.066290e+08</td>\n",
              "      <td>5.637530e+08</td>\n",
              "      <td>285.000000</td>\n",
              "      <td>22.083333</td>\n",
              "      <td>1.000000</td>\n",
              "      <td>166.000000</td>\n",
              "      <td>1.000000</td>\n",
              "    </tr>\n",
              "  </tbody>\n",
              "</table>\n",
              "</div>"
            ],
            "text/plain": [
              "               총구매액         최대구매액  ...         구매주기       gender\n",
              "count  3.500000e+03  3.500000e+03  ...  3500.000000  3500.000000\n",
              "mean   9.191925e+07  1.966424e+07  ...    20.958286     0.376000\n",
              "std    1.635065e+08  3.199235e+07  ...    24.748682     0.484449\n",
              "min   -5.242152e+07 -2.992000e+06  ...     0.000000     0.000000\n",
              "25%    4.747050e+06  2.875000e+06  ...     4.000000     0.000000\n",
              "50%    2.822270e+07  9.837000e+06  ...    13.000000     0.000000\n",
              "75%    1.065079e+08  2.296250e+07  ...    28.000000     1.000000\n",
              "max    2.323180e+09  7.066290e+08  ...   166.000000     1.000000\n",
              "\n",
              "[8 rows x 8 columns]"
            ]
          },
          "metadata": {
            "tags": []
          },
          "execution_count": 151
        }
      ]
    },
    {
      "cell_type": "code",
      "metadata": {
        "colab": {
          "base_uri": "https://localhost:8080/",
          "height": 287
        },
        "id": "BCueZmhgi5v3",
        "outputId": "d7b34a4b-5c25-4deb-851e-35a952ca292b"
      },
      "source": [
        "test.describe()"
      ],
      "execution_count": null,
      "outputs": [
        {
          "output_type": "execute_result",
          "data": {
            "text/html": [
              "<div>\n",
              "<style scoped>\n",
              "    .dataframe tbody tr th:only-of-type {\n",
              "        vertical-align: middle;\n",
              "    }\n",
              "\n",
              "    .dataframe tbody tr th {\n",
              "        vertical-align: top;\n",
              "    }\n",
              "\n",
              "    .dataframe thead th {\n",
              "        text-align: right;\n",
              "    }\n",
              "</style>\n",
              "<table border=\"1\" class=\"dataframe\">\n",
              "  <thead>\n",
              "    <tr style=\"text-align: right;\">\n",
              "      <th></th>\n",
              "      <th>총구매액</th>\n",
              "      <th>최대구매액</th>\n",
              "      <th>환불금액</th>\n",
              "      <th>내점일수</th>\n",
              "      <th>내점당구매건수</th>\n",
              "      <th>주말방문비율</th>\n",
              "      <th>구매주기</th>\n",
              "    </tr>\n",
              "  </thead>\n",
              "  <tbody>\n",
              "    <tr>\n",
              "      <th>count</th>\n",
              "      <td>2.482000e+03</td>\n",
              "      <td>2.482000e+03</td>\n",
              "      <td>8.710000e+02</td>\n",
              "      <td>2482.000000</td>\n",
              "      <td>2482.000000</td>\n",
              "      <td>2482.000000</td>\n",
              "      <td>2482.000000</td>\n",
              "    </tr>\n",
              "    <tr>\n",
              "      <th>mean</th>\n",
              "      <td>1.010275e+08</td>\n",
              "      <td>2.177048e+07</td>\n",
              "      <td>2.554716e+07</td>\n",
              "      <td>19.516922</td>\n",
              "      <td>2.819388</td>\n",
              "      <td>0.293812</td>\n",
              "      <td>20.286060</td>\n",
              "    </tr>\n",
              "    <tr>\n",
              "      <th>std</th>\n",
              "      <td>1.732132e+08</td>\n",
              "      <td>3.504919e+07</td>\n",
              "      <td>5.944074e+07</td>\n",
              "      <td>25.973972</td>\n",
              "      <td>1.754550</td>\n",
              "      <td>0.282600</td>\n",
              "      <td>24.108756</td>\n",
              "    </tr>\n",
              "    <tr>\n",
              "      <th>min</th>\n",
              "      <td>-3.744000e+07</td>\n",
              "      <td>-3.744000e+07</td>\n",
              "      <td>1.000000e+04</td>\n",
              "      <td>1.000000</td>\n",
              "      <td>1.000000</td>\n",
              "      <td>0.000000</td>\n",
              "      <td>0.000000</td>\n",
              "    </tr>\n",
              "    <tr>\n",
              "      <th>25%</th>\n",
              "      <td>5.076868e+06</td>\n",
              "      <td>2.884350e+06</td>\n",
              "      <td>2.414000e+06</td>\n",
              "      <td>2.000000</td>\n",
              "      <td>1.750000</td>\n",
              "      <td>0.023456</td>\n",
              "      <td>4.000000</td>\n",
              "    </tr>\n",
              "    <tr>\n",
              "      <th>50%</th>\n",
              "      <td>3.051686e+07</td>\n",
              "      <td>1.075250e+07</td>\n",
              "      <td>8.100000e+06</td>\n",
              "      <td>9.000000</td>\n",
              "      <td>2.430952</td>\n",
              "      <td>0.250000</td>\n",
              "      <td>13.000000</td>\n",
              "    </tr>\n",
              "    <tr>\n",
              "      <th>75%</th>\n",
              "      <td>1.264255e+08</td>\n",
              "      <td>2.627700e+07</td>\n",
              "      <td>2.228090e+07</td>\n",
              "      <td>26.750000</td>\n",
              "      <td>3.375000</td>\n",
              "      <td>0.423566</td>\n",
              "      <td>27.000000</td>\n",
              "    </tr>\n",
              "    <tr>\n",
              "      <th>max</th>\n",
              "      <td>2.861238e+09</td>\n",
              "      <td>5.932250e+08</td>\n",
              "      <td>8.715144e+08</td>\n",
              "      <td>222.000000</td>\n",
              "      <td>15.875000</td>\n",
              "      <td>1.000000</td>\n",
              "      <td>177.000000</td>\n",
              "    </tr>\n",
              "  </tbody>\n",
              "</table>\n",
              "</div>"
            ],
            "text/plain": [
              "               총구매액         최대구매액  ...       주말방문비율         구매주기\n",
              "count  2.482000e+03  2.482000e+03  ...  2482.000000  2482.000000\n",
              "mean   1.010275e+08  2.177048e+07  ...     0.293812    20.286060\n",
              "std    1.732132e+08  3.504919e+07  ...     0.282600    24.108756\n",
              "min   -3.744000e+07 -3.744000e+07  ...     0.000000     0.000000\n",
              "25%    5.076868e+06  2.884350e+06  ...     0.023456     4.000000\n",
              "50%    3.051686e+07  1.075250e+07  ...     0.250000    13.000000\n",
              "75%    1.264255e+08  2.627700e+07  ...     0.423566    27.000000\n",
              "max    2.861238e+09  5.932250e+08  ...     1.000000   177.000000\n",
              "\n",
              "[8 rows x 7 columns]"
            ]
          },
          "metadata": {
            "tags": []
          },
          "execution_count": 152
        }
      ]
    },
    {
      "cell_type": "code",
      "metadata": {
        "colab": {
          "base_uri": "https://localhost:8080/",
          "height": 154
        },
        "id": "0F8MnxHEw5pa",
        "outputId": "572cea66-9c5d-442e-be47-d24bf2a486b3"
      },
      "source": [
        "train[train[\"총구매액\"] < 0] # 1659, 3174, 3488"
      ],
      "execution_count": null,
      "outputs": [
        {
          "output_type": "execute_result",
          "data": {
            "text/html": [
              "<div>\n",
              "<style scoped>\n",
              "    .dataframe tbody tr th:only-of-type {\n",
              "        vertical-align: middle;\n",
              "    }\n",
              "\n",
              "    .dataframe tbody tr th {\n",
              "        vertical-align: top;\n",
              "    }\n",
              "\n",
              "    .dataframe thead th {\n",
              "        text-align: right;\n",
              "    }\n",
              "</style>\n",
              "<table border=\"1\" class=\"dataframe\">\n",
              "  <thead>\n",
              "    <tr style=\"text-align: right;\">\n",
              "      <th></th>\n",
              "      <th>총구매액</th>\n",
              "      <th>최대구매액</th>\n",
              "      <th>환불금액</th>\n",
              "      <th>주구매상품</th>\n",
              "      <th>주구매지점</th>\n",
              "      <th>내점일수</th>\n",
              "      <th>내점당구매건수</th>\n",
              "      <th>주말방문비율</th>\n",
              "      <th>구매주기</th>\n",
              "      <th>gender</th>\n",
              "    </tr>\n",
              "  </thead>\n",
              "  <tbody>\n",
              "    <tr>\n",
              "      <th>1659</th>\n",
              "      <td>-2992000</td>\n",
              "      <td>-2992000</td>\n",
              "      <td>2992000.0</td>\n",
              "      <td>디자이너</td>\n",
              "      <td>본  점</td>\n",
              "      <td>1</td>\n",
              "      <td>1.000000</td>\n",
              "      <td>0.000000</td>\n",
              "      <td>0</td>\n",
              "      <td>0</td>\n",
              "    </tr>\n",
              "    <tr>\n",
              "      <th>3174</th>\n",
              "      <td>-52421520</td>\n",
              "      <td>13616000</td>\n",
              "      <td>97222000.0</td>\n",
              "      <td>기타</td>\n",
              "      <td>본  점</td>\n",
              "      <td>18</td>\n",
              "      <td>4.444444</td>\n",
              "      <td>0.337500</td>\n",
              "      <td>16</td>\n",
              "      <td>0</td>\n",
              "    </tr>\n",
              "    <tr>\n",
              "      <th>3488</th>\n",
              "      <td>-18905600</td>\n",
              "      <td>82306000</td>\n",
              "      <td>529602320.0</td>\n",
              "      <td>디자이너</td>\n",
              "      <td>부산본점</td>\n",
              "      <td>31</td>\n",
              "      <td>1.064516</td>\n",
              "      <td>0.242424</td>\n",
              "      <td>11</td>\n",
              "      <td>0</td>\n",
              "    </tr>\n",
              "  </tbody>\n",
              "</table>\n",
              "</div>"
            ],
            "text/plain": [
              "          총구매액     최대구매액         환불금액 주구매상품  ...   내점당구매건수    주말방문비율  구매주기  gender\n",
              "1659  -2992000  -2992000    2992000.0  디자이너  ...  1.000000  0.000000     0       0\n",
              "3174 -52421520  13616000   97222000.0    기타  ...  4.444444  0.337500    16       0\n",
              "3488 -18905600  82306000  529602320.0  디자이너  ...  1.064516  0.242424    11       0\n",
              "\n",
              "[3 rows x 10 columns]"
            ]
          },
          "metadata": {
            "tags": []
          },
          "execution_count": 153
        }
      ]
    },
    {
      "cell_type": "code",
      "metadata": {
        "id": "cLkHgAJvw_Be"
      },
      "source": [
        "# 0보다 작은 금액 제거 \n",
        "train = train[train[\"총구매액\"]>0]\n",
        "test = test[test[\"총구매액\"]>0]"
      ],
      "execution_count": null,
      "outputs": []
    },
    {
      "cell_type": "code",
      "metadata": {
        "colab": {
          "base_uri": "https://localhost:8080/"
        },
        "id": "KKCb9BsbxE9P",
        "outputId": "d456e65d-5af1-4eea-cc66-dca3ccd789ae"
      },
      "source": [
        "train.isnull().sum()"
      ],
      "execution_count": null,
      "outputs": [
        {
          "output_type": "execute_result",
          "data": {
            "text/plain": [
              "총구매액          0\n",
              "최대구매액         0\n",
              "환불금액       2295\n",
              "주구매상품         0\n",
              "주구매지점         0\n",
              "내점일수          0\n",
              "내점당구매건수       0\n",
              "주말방문비율        0\n",
              "구매주기          0\n",
              "gender        0\n",
              "dtype: int64"
            ]
          },
          "metadata": {
            "tags": []
          },
          "execution_count": 155
        }
      ]
    },
    {
      "cell_type": "code",
      "metadata": {
        "colab": {
          "base_uri": "https://localhost:8080/"
        },
        "id": "VmwU0cfnxelP",
        "outputId": "8f2b8218-5758-4319-d150-3f15f5c02f8b"
      },
      "source": [
        "test.isnull().sum()"
      ],
      "execution_count": null,
      "outputs": [
        {
          "output_type": "execute_result",
          "data": {
            "text/plain": [
              "총구매액          0\n",
              "최대구매액         0\n",
              "환불금액       1611\n",
              "주구매상품         0\n",
              "주구매지점         0\n",
              "내점일수          0\n",
              "내점당구매건수       0\n",
              "주말방문비율        0\n",
              "구매주기          0\n",
              "dtype: int64"
            ]
          },
          "metadata": {
            "tags": []
          },
          "execution_count": 156
        }
      ]
    },
    {
      "cell_type": "code",
      "metadata": {
        "id": "ZJVN7ukwxjzt"
      },
      "source": [
        "train[\"환불금액\"] = train[\"환불금액\"].fillna(0)\n",
        "test[\"환불금액\"] = test[\"환불금액\"].fillna(0)"
      ],
      "execution_count": null,
      "outputs": []
    },
    {
      "cell_type": "code",
      "metadata": {
        "colab": {
          "base_uri": "https://localhost:8080/"
        },
        "id": "F20Es_SJxuM1",
        "outputId": "193b7137-f99b-4f6a-f6f8-d02902d851bd"
      },
      "source": [
        "print(\"train null :\", train.isnull().sum().sum(), \",\", \"test null :\",test.isnull().sum().sum())"
      ],
      "execution_count": null,
      "outputs": [
        {
          "output_type": "stream",
          "text": [
            "train null : 0 , test null : 0\n"
          ],
          "name": "stdout"
        }
      ]
    },
    {
      "cell_type": "code",
      "metadata": {
        "colab": {
          "base_uri": "https://localhost:8080/"
        },
        "id": "_UIVi-MSxzUn",
        "outputId": "7142c4dd-9437-41e9-8f79-c012a7c3e34d"
      },
      "source": [
        "train.dtypes"
      ],
      "execution_count": null,
      "outputs": [
        {
          "output_type": "execute_result",
          "data": {
            "text/plain": [
              "총구매액         int64\n",
              "최대구매액        int64\n",
              "환불금액       float64\n",
              "주구매상품       object\n",
              "주구매지점       object\n",
              "내점일수         int64\n",
              "내점당구매건수    float64\n",
              "주말방문비율     float64\n",
              "구매주기         int64\n",
              "gender       int64\n",
              "dtype: object"
            ]
          },
          "metadata": {
            "tags": []
          },
          "execution_count": 159
        }
      ]
    },
    {
      "cell_type": "code",
      "metadata": {
        "colab": {
          "base_uri": "https://localhost:8080/"
        },
        "id": "FhJcvVqGyUF5",
        "outputId": "231bf96e-186f-47e9-ab22-afa05616972a"
      },
      "source": [
        "train[\"주구매지점\"].value_counts()"
      ],
      "execution_count": null,
      "outputs": [
        {
          "output_type": "execute_result",
          "data": {
            "text/plain": [
              "본  점     1074\n",
              "잠실점       474\n",
              "분당점       433\n",
              "부산본점      243\n",
              "영등포점      240\n",
              "일산점       197\n",
              "강남점       145\n",
              "광주점       114\n",
              "노원점        90\n",
              "청량리점       86\n",
              "대전점        70\n",
              "미아점        69\n",
              "부평점        57\n",
              "동래점        49\n",
              "관악점        46\n",
              "인천점        34\n",
              "안양점        29\n",
              "포항점        11\n",
              "대구점         7\n",
              "울산점         6\n",
              "센텀시티점       6\n",
              "전주점         5\n",
              "창원점         4\n",
              "상인점         1\n",
              "Name: 주구매지점, dtype: int64"
            ]
          },
          "metadata": {
            "tags": []
          },
          "execution_count": 160
        }
      ]
    },
    {
      "cell_type": "code",
      "metadata": {
        "colab": {
          "base_uri": "https://localhost:8080/"
        },
        "id": "Ntc8IO9dyEnE",
        "outputId": "128d9993-0d9d-40a8-f7c2-b254c5dabe84"
      },
      "source": [
        "train[\"주구매상품\"].value_counts()"
      ],
      "execution_count": null,
      "outputs": [
        {
          "output_type": "execute_result",
          "data": {
            "text/plain": [
              "기타        594\n",
              "가공식품      546\n",
              "농산물       339\n",
              "화장품       264\n",
              "시티웨어      211\n",
              "디자이너      190\n",
              "수산품       153\n",
              "캐주얼       101\n",
              "명품        100\n",
              "섬유잡화       98\n",
              "골프         82\n",
              "스포츠        68\n",
              "일용잡화       64\n",
              "모피/피혁      57\n",
              "육류         57\n",
              "남성 캐주얼     55\n",
              "구두         54\n",
              "건강식품       47\n",
              "차/커피       43\n",
              "아동         40\n",
              "피혁잡화       39\n",
              "축산가공       35\n",
              "주방용품       32\n",
              "셔츠         30\n",
              "젓갈/반찬      29\n",
              "주방가전       26\n",
              "트래디셔널      23\n",
              "남성정장       22\n",
              "주류         14\n",
              "생활잡화       14\n",
              "가구         10\n",
              "커리어         9\n",
              "란제리/내의      8\n",
              "대형가전        8\n",
              "식기          7\n",
              "액세서리        5\n",
              "침구/수예       4\n",
              "통신/컴퓨터      3\n",
              "보석          3\n",
              "악기          2\n",
              "소형가전        2\n",
              "남성 트랜디      2\n",
              "Name: 주구매상품, dtype: int64"
            ]
          },
          "metadata": {
            "tags": []
          },
          "execution_count": 161
        }
      ]
    },
    {
      "cell_type": "code",
      "metadata": {
        "colab": {
          "base_uri": "https://localhost:8080/",
          "height": 423
        },
        "id": "5YjHhRTXOl1h",
        "outputId": "29682d94-1943-41df-bf68-98ecd3559aa0"
      },
      "source": [
        "train"
      ],
      "execution_count": null,
      "outputs": [
        {
          "output_type": "execute_result",
          "data": {
            "text/html": [
              "<div>\n",
              "<style scoped>\n",
              "    .dataframe tbody tr th:only-of-type {\n",
              "        vertical-align: middle;\n",
              "    }\n",
              "\n",
              "    .dataframe tbody tr th {\n",
              "        vertical-align: top;\n",
              "    }\n",
              "\n",
              "    .dataframe thead th {\n",
              "        text-align: right;\n",
              "    }\n",
              "</style>\n",
              "<table border=\"1\" class=\"dataframe\">\n",
              "  <thead>\n",
              "    <tr style=\"text-align: right;\">\n",
              "      <th></th>\n",
              "      <th>총구매액</th>\n",
              "      <th>최대구매액</th>\n",
              "      <th>환불금액</th>\n",
              "      <th>주구매상품</th>\n",
              "      <th>주구매지점</th>\n",
              "      <th>내점일수</th>\n",
              "      <th>내점당구매건수</th>\n",
              "      <th>주말방문비율</th>\n",
              "      <th>구매주기</th>\n",
              "      <th>gender</th>\n",
              "    </tr>\n",
              "  </thead>\n",
              "  <tbody>\n",
              "    <tr>\n",
              "      <th>0</th>\n",
              "      <td>68282840</td>\n",
              "      <td>11264000</td>\n",
              "      <td>6860000.0</td>\n",
              "      <td>기타</td>\n",
              "      <td>강남점</td>\n",
              "      <td>19</td>\n",
              "      <td>3.894737</td>\n",
              "      <td>0.527027</td>\n",
              "      <td>17</td>\n",
              "      <td>0</td>\n",
              "    </tr>\n",
              "    <tr>\n",
              "      <th>1</th>\n",
              "      <td>2136000</td>\n",
              "      <td>2136000</td>\n",
              "      <td>300000.0</td>\n",
              "      <td>스포츠</td>\n",
              "      <td>잠실점</td>\n",
              "      <td>2</td>\n",
              "      <td>1.500000</td>\n",
              "      <td>0.000000</td>\n",
              "      <td>1</td>\n",
              "      <td>0</td>\n",
              "    </tr>\n",
              "    <tr>\n",
              "      <th>2</th>\n",
              "      <td>3197000</td>\n",
              "      <td>1639000</td>\n",
              "      <td>0.0</td>\n",
              "      <td>남성 캐주얼</td>\n",
              "      <td>관악점</td>\n",
              "      <td>2</td>\n",
              "      <td>2.000000</td>\n",
              "      <td>0.000000</td>\n",
              "      <td>1</td>\n",
              "      <td>1</td>\n",
              "    </tr>\n",
              "    <tr>\n",
              "      <th>3</th>\n",
              "      <td>16077620</td>\n",
              "      <td>4935000</td>\n",
              "      <td>0.0</td>\n",
              "      <td>기타</td>\n",
              "      <td>광주점</td>\n",
              "      <td>18</td>\n",
              "      <td>2.444444</td>\n",
              "      <td>0.318182</td>\n",
              "      <td>16</td>\n",
              "      <td>1</td>\n",
              "    </tr>\n",
              "    <tr>\n",
              "      <th>4</th>\n",
              "      <td>29050000</td>\n",
              "      <td>24000000</td>\n",
              "      <td>0.0</td>\n",
              "      <td>보석</td>\n",
              "      <td>본  점</td>\n",
              "      <td>2</td>\n",
              "      <td>1.500000</td>\n",
              "      <td>0.000000</td>\n",
              "      <td>85</td>\n",
              "      <td>0</td>\n",
              "    </tr>\n",
              "    <tr>\n",
              "      <th>...</th>\n",
              "      <td>...</td>\n",
              "      <td>...</td>\n",
              "      <td>...</td>\n",
              "      <td>...</td>\n",
              "      <td>...</td>\n",
              "      <td>...</td>\n",
              "      <td>...</td>\n",
              "      <td>...</td>\n",
              "      <td>...</td>\n",
              "      <td>...</td>\n",
              "    </tr>\n",
              "    <tr>\n",
              "      <th>3495</th>\n",
              "      <td>3175200</td>\n",
              "      <td>3042900</td>\n",
              "      <td>0.0</td>\n",
              "      <td>골프</td>\n",
              "      <td>본  점</td>\n",
              "      <td>1</td>\n",
              "      <td>2.000000</td>\n",
              "      <td>1.000000</td>\n",
              "      <td>0</td>\n",
              "      <td>1</td>\n",
              "    </tr>\n",
              "    <tr>\n",
              "      <th>3496</th>\n",
              "      <td>29628600</td>\n",
              "      <td>7200000</td>\n",
              "      <td>6049600.0</td>\n",
              "      <td>시티웨어</td>\n",
              "      <td>부산본점</td>\n",
              "      <td>8</td>\n",
              "      <td>1.625000</td>\n",
              "      <td>0.461538</td>\n",
              "      <td>40</td>\n",
              "      <td>1</td>\n",
              "    </tr>\n",
              "    <tr>\n",
              "      <th>3497</th>\n",
              "      <td>75000</td>\n",
              "      <td>75000</td>\n",
              "      <td>0.0</td>\n",
              "      <td>주방용품</td>\n",
              "      <td>창원점</td>\n",
              "      <td>1</td>\n",
              "      <td>1.000000</td>\n",
              "      <td>0.000000</td>\n",
              "      <td>0</td>\n",
              "      <td>0</td>\n",
              "    </tr>\n",
              "    <tr>\n",
              "      <th>3498</th>\n",
              "      <td>1875000</td>\n",
              "      <td>1000000</td>\n",
              "      <td>0.0</td>\n",
              "      <td>화장품</td>\n",
              "      <td>본  점</td>\n",
              "      <td>2</td>\n",
              "      <td>1.000000</td>\n",
              "      <td>0.000000</td>\n",
              "      <td>39</td>\n",
              "      <td>0</td>\n",
              "    </tr>\n",
              "    <tr>\n",
              "      <th>3499</th>\n",
              "      <td>263101550</td>\n",
              "      <td>34632000</td>\n",
              "      <td>5973000.0</td>\n",
              "      <td>기타</td>\n",
              "      <td>본  점</td>\n",
              "      <td>38</td>\n",
              "      <td>2.421053</td>\n",
              "      <td>0.467391</td>\n",
              "      <td>8</td>\n",
              "      <td>0</td>\n",
              "    </tr>\n",
              "  </tbody>\n",
              "</table>\n",
              "<p>3490 rows × 10 columns</p>\n",
              "</div>"
            ],
            "text/plain": [
              "           총구매액     최대구매액       환불금액   주구매상품  ...   내점당구매건수    주말방문비율  구매주기  gender\n",
              "0      68282840  11264000  6860000.0      기타  ...  3.894737  0.527027    17       0\n",
              "1       2136000   2136000   300000.0     스포츠  ...  1.500000  0.000000     1       0\n",
              "2       3197000   1639000        0.0  남성 캐주얼  ...  2.000000  0.000000     1       1\n",
              "3      16077620   4935000        0.0      기타  ...  2.444444  0.318182    16       1\n",
              "4      29050000  24000000        0.0      보석  ...  1.500000  0.000000    85       0\n",
              "...         ...       ...        ...     ...  ...       ...       ...   ...     ...\n",
              "3495    3175200   3042900        0.0      골프  ...  2.000000  1.000000     0       1\n",
              "3496   29628600   7200000  6049600.0    시티웨어  ...  1.625000  0.461538    40       1\n",
              "3497      75000     75000        0.0    주방용품  ...  1.000000  0.000000     0       0\n",
              "3498    1875000   1000000        0.0     화장품  ...  1.000000  0.000000    39       0\n",
              "3499  263101550  34632000  5973000.0      기타  ...  2.421053  0.467391     8       0\n",
              "\n",
              "[3490 rows x 10 columns]"
            ]
          },
          "metadata": {
            "tags": []
          },
          "execution_count": 162
        }
      ]
    },
    {
      "cell_type": "code",
      "metadata": {
        "colab": {
          "base_uri": "https://localhost:8080/",
          "height": 287
        },
        "id": "YuJAA_P6OsUR",
        "outputId": "cdd401a2-1302-4e1f-fba9-0060c821e7dd"
      },
      "source": [
        "train[train[\"gender\"]==1].describe().round(2)"
      ],
      "execution_count": null,
      "outputs": [
        {
          "output_type": "execute_result",
          "data": {
            "text/html": [
              "<div>\n",
              "<style scoped>\n",
              "    .dataframe tbody tr th:only-of-type {\n",
              "        vertical-align: middle;\n",
              "    }\n",
              "\n",
              "    .dataframe tbody tr th {\n",
              "        vertical-align: top;\n",
              "    }\n",
              "\n",
              "    .dataframe thead th {\n",
              "        text-align: right;\n",
              "    }\n",
              "</style>\n",
              "<table border=\"1\" class=\"dataframe\">\n",
              "  <thead>\n",
              "    <tr style=\"text-align: right;\">\n",
              "      <th></th>\n",
              "      <th>총구매액</th>\n",
              "      <th>최대구매액</th>\n",
              "      <th>환불금액</th>\n",
              "      <th>내점일수</th>\n",
              "      <th>내점당구매건수</th>\n",
              "      <th>주말방문비율</th>\n",
              "      <th>구매주기</th>\n",
              "      <th>gender</th>\n",
              "    </tr>\n",
              "  </thead>\n",
              "  <tbody>\n",
              "    <tr>\n",
              "      <th>count</th>\n",
              "      <td>1.316000e+03</td>\n",
              "      <td>1.316000e+03</td>\n",
              "      <td>1.316000e+03</td>\n",
              "      <td>1316.00</td>\n",
              "      <td>1316.00</td>\n",
              "      <td>1316.00</td>\n",
              "      <td>1316.00</td>\n",
              "      <td>1316.0</td>\n",
              "    </tr>\n",
              "    <tr>\n",
              "      <th>mean</th>\n",
              "      <td>6.029865e+07</td>\n",
              "      <td>1.495320e+07</td>\n",
              "      <td>3.856970e+06</td>\n",
              "      <td>13.83</td>\n",
              "      <td>2.73</td>\n",
              "      <td>0.33</td>\n",
              "      <td>22.28</td>\n",
              "      <td>1.0</td>\n",
              "    </tr>\n",
              "    <tr>\n",
              "      <th>std</th>\n",
              "      <td>1.210862e+08</td>\n",
              "      <td>2.761925e+07</td>\n",
              "      <td>1.681849e+07</td>\n",
              "      <td>24.95</td>\n",
              "      <td>1.98</td>\n",
              "      <td>0.33</td>\n",
              "      <td>26.65</td>\n",
              "      <td>0.0</td>\n",
              "    </tr>\n",
              "    <tr>\n",
              "      <th>min</th>\n",
              "      <td>5.000000e+03</td>\n",
              "      <td>5.000000e+03</td>\n",
              "      <td>0.000000e+00</td>\n",
              "      <td>1.00</td>\n",
              "      <td>1.00</td>\n",
              "      <td>0.00</td>\n",
              "      <td>0.00</td>\n",
              "      <td>1.0</td>\n",
              "    </tr>\n",
              "    <tr>\n",
              "      <th>25%</th>\n",
              "      <td>2.352638e+06</td>\n",
              "      <td>1.614278e+06</td>\n",
              "      <td>0.000000e+00</td>\n",
              "      <td>1.00</td>\n",
              "      <td>1.50</td>\n",
              "      <td>0.00</td>\n",
              "      <td>0.00</td>\n",
              "      <td>1.0</td>\n",
              "    </tr>\n",
              "    <tr>\n",
              "      <th>50%</th>\n",
              "      <td>1.288002e+07</td>\n",
              "      <td>6.164500e+06</td>\n",
              "      <td>0.000000e+00</td>\n",
              "      <td>4.00</td>\n",
              "      <td>2.17</td>\n",
              "      <td>0.27</td>\n",
              "      <td>14.00</td>\n",
              "      <td>1.0</td>\n",
              "    </tr>\n",
              "    <tr>\n",
              "      <th>75%</th>\n",
              "      <td>6.090238e+07</td>\n",
              "      <td>1.700000e+07</td>\n",
              "      <td>0.000000e+00</td>\n",
              "      <td>15.00</td>\n",
              "      <td>3.25</td>\n",
              "      <td>0.50</td>\n",
              "      <td>32.25</td>\n",
              "      <td>1.0</td>\n",
              "    </tr>\n",
              "    <tr>\n",
              "      <th>max</th>\n",
              "      <td>9.981312e+08</td>\n",
              "      <td>3.910000e+08</td>\n",
              "      <td>2.107714e+08</td>\n",
              "      <td>285.00</td>\n",
              "      <td>22.08</td>\n",
              "      <td>1.00</td>\n",
              "      <td>162.00</td>\n",
              "      <td>1.0</td>\n",
              "    </tr>\n",
              "  </tbody>\n",
              "</table>\n",
              "</div>"
            ],
            "text/plain": [
              "               총구매액         최대구매액          환불금액  ...   주말방문비율     구매주기  gender\n",
              "count  1.316000e+03  1.316000e+03  1.316000e+03  ...  1316.00  1316.00  1316.0\n",
              "mean   6.029865e+07  1.495320e+07  3.856970e+06  ...     0.33    22.28     1.0\n",
              "std    1.210862e+08  2.761925e+07  1.681849e+07  ...     0.33    26.65     0.0\n",
              "min    5.000000e+03  5.000000e+03  0.000000e+00  ...     0.00     0.00     1.0\n",
              "25%    2.352638e+06  1.614278e+06  0.000000e+00  ...     0.00     0.00     1.0\n",
              "50%    1.288002e+07  6.164500e+06  0.000000e+00  ...     0.27    14.00     1.0\n",
              "75%    6.090238e+07  1.700000e+07  0.000000e+00  ...     0.50    32.25     1.0\n",
              "max    9.981312e+08  3.910000e+08  2.107714e+08  ...     1.00   162.00     1.0\n",
              "\n",
              "[8 rows x 8 columns]"
            ]
          },
          "metadata": {
            "tags": []
          },
          "execution_count": 163
        }
      ]
    },
    {
      "cell_type": "code",
      "metadata": {
        "colab": {
          "base_uri": "https://localhost:8080/",
          "height": 287
        },
        "id": "sU_FLad3OxLD",
        "outputId": "4b09f091-f64f-45cb-af19-b92aec31bcd9"
      },
      "source": [
        "train[train[\"gender\"]==0].describe().round(2)"
      ],
      "execution_count": null,
      "outputs": [
        {
          "output_type": "execute_result",
          "data": {
            "text/html": [
              "<div>\n",
              "<style scoped>\n",
              "    .dataframe tbody tr th:only-of-type {\n",
              "        vertical-align: middle;\n",
              "    }\n",
              "\n",
              "    .dataframe tbody tr th {\n",
              "        vertical-align: top;\n",
              "    }\n",
              "\n",
              "    .dataframe thead th {\n",
              "        text-align: right;\n",
              "    }\n",
              "</style>\n",
              "<table border=\"1\" class=\"dataframe\">\n",
              "  <thead>\n",
              "    <tr style=\"text-align: right;\">\n",
              "      <th></th>\n",
              "      <th>총구매액</th>\n",
              "      <th>최대구매액</th>\n",
              "      <th>환불금액</th>\n",
              "      <th>내점일수</th>\n",
              "      <th>내점당구매건수</th>\n",
              "      <th>주말방문비율</th>\n",
              "      <th>구매주기</th>\n",
              "      <th>gender</th>\n",
              "    </tr>\n",
              "  </thead>\n",
              "  <tbody>\n",
              "    <tr>\n",
              "      <th>count</th>\n",
              "      <td>2.174000e+03</td>\n",
              "      <td>2.174000e+03</td>\n",
              "      <td>2.174000e+03</td>\n",
              "      <td>2174.00</td>\n",
              "      <td>2174.00</td>\n",
              "      <td>2174.00</td>\n",
              "      <td>2174.00</td>\n",
              "      <td>2174.0</td>\n",
              "    </tr>\n",
              "    <tr>\n",
              "      <th>mean</th>\n",
              "      <td>1.115173e+08</td>\n",
              "      <td>2.255219e+07</td>\n",
              "      <td>1.070829e+07</td>\n",
              "      <td>22.60</td>\n",
              "      <td>2.90</td>\n",
              "      <td>0.29</td>\n",
              "      <td>20.23</td>\n",
              "      <td>0.0</td>\n",
              "    </tr>\n",
              "    <tr>\n",
              "      <th>std</th>\n",
              "      <td>1.820413e+08</td>\n",
              "      <td>3.408443e+07</td>\n",
              "      <td>3.378378e+07</td>\n",
              "      <td>27.97</td>\n",
              "      <td>1.87</td>\n",
              "      <td>0.26</td>\n",
              "      <td>23.53</td>\n",
              "      <td>0.0</td>\n",
              "    </tr>\n",
              "    <tr>\n",
              "      <th>min</th>\n",
              "      <td>1.000000e+04</td>\n",
              "      <td>1.000000e+04</td>\n",
              "      <td>0.000000e+00</td>\n",
              "      <td>1.00</td>\n",
              "      <td>1.00</td>\n",
              "      <td>0.00</td>\n",
              "      <td>0.00</td>\n",
              "      <td>0.0</td>\n",
              "    </tr>\n",
              "    <tr>\n",
              "      <th>25%</th>\n",
              "      <td>8.404250e+06</td>\n",
              "      <td>4.320000e+06</td>\n",
              "      <td>0.000000e+00</td>\n",
              "      <td>3.00</td>\n",
              "      <td>1.80</td>\n",
              "      <td>0.07</td>\n",
              "      <td>5.00</td>\n",
              "      <td>0.0</td>\n",
              "    </tr>\n",
              "    <tr>\n",
              "      <th>50%</th>\n",
              "      <td>4.189057e+07</td>\n",
              "      <td>1.178600e+07</td>\n",
              "      <td>0.000000e+00</td>\n",
              "      <td>12.00</td>\n",
              "      <td>2.43</td>\n",
              "      <td>0.25</td>\n",
              "      <td>13.00</td>\n",
              "      <td>0.0</td>\n",
              "    </tr>\n",
              "    <tr>\n",
              "      <th>75%</th>\n",
              "      <td>1.430845e+08</td>\n",
              "      <td>2.687500e+07</td>\n",
              "      <td>5.557500e+06</td>\n",
              "      <td>31.00</td>\n",
              "      <td>3.50</td>\n",
              "      <td>0.41</td>\n",
              "      <td>27.00</td>\n",
              "      <td>0.0</td>\n",
              "    </tr>\n",
              "    <tr>\n",
              "      <th>max</th>\n",
              "      <td>2.323180e+09</td>\n",
              "      <td>7.066290e+08</td>\n",
              "      <td>5.637530e+08</td>\n",
              "      <td>211.00</td>\n",
              "      <td>20.00</td>\n",
              "      <td>1.00</td>\n",
              "      <td>166.00</td>\n",
              "      <td>0.0</td>\n",
              "    </tr>\n",
              "  </tbody>\n",
              "</table>\n",
              "</div>"
            ],
            "text/plain": [
              "               총구매액         최대구매액          환불금액  ...   주말방문비율     구매주기  gender\n",
              "count  2.174000e+03  2.174000e+03  2.174000e+03  ...  2174.00  2174.00  2174.0\n",
              "mean   1.115173e+08  2.255219e+07  1.070829e+07  ...     0.29    20.23     0.0\n",
              "std    1.820413e+08  3.408443e+07  3.378378e+07  ...     0.26    23.53     0.0\n",
              "min    1.000000e+04  1.000000e+04  0.000000e+00  ...     0.00     0.00     0.0\n",
              "25%    8.404250e+06  4.320000e+06  0.000000e+00  ...     0.07     5.00     0.0\n",
              "50%    4.189057e+07  1.178600e+07  0.000000e+00  ...     0.25    13.00     0.0\n",
              "75%    1.430845e+08  2.687500e+07  5.557500e+06  ...     0.41    27.00     0.0\n",
              "max    2.323180e+09  7.066290e+08  5.637530e+08  ...     1.00   166.00     0.0\n",
              "\n",
              "[8 rows x 8 columns]"
            ]
          },
          "metadata": {
            "tags": []
          },
          "execution_count": 164
        }
      ]
    },
    {
      "cell_type": "code",
      "metadata": {
        "id": "ilVaMFOxOK8-"
      },
      "source": [
        "\n",
        "train[\"환불금액비율\"] = train[\"환불금액\"]/train[\"총구매액\"]\n",
        "train[\"총구매건수\"] = train[\"내점일수\"]*train[\"내점당구매건수\"]\n",
        "train[\"구매건당지출금액\"] = train[\"총구매액\"]/train[\"총구매건수\"]\n",
        "\n",
        "\n",
        "\n",
        "test[\"환불금액비율\"] = test[\"환불금액\"]/test[\"총구매액\"]\n",
        "test[\"총구매건수\"] = test[\"내점일수\"]*test[\"내점당구매건수\"]\n",
        "test[\"구매건당지출금액\"] = test[\"총구매액\"]/test[\"총구매건수\"]"
      ],
      "execution_count": null,
      "outputs": []
    },
    {
      "cell_type": "code",
      "metadata": {
        "colab": {
          "base_uri": "https://localhost:8080/"
        },
        "id": "VjFsWyZfN5qW",
        "outputId": "042e7183-545a-40e8-e43d-0f4b6c2fcf1c"
      },
      "source": [
        "train.columns"
      ],
      "execution_count": null,
      "outputs": [
        {
          "output_type": "execute_result",
          "data": {
            "text/plain": [
              "Index(['총구매액', '최대구매액', '환불금액', '주구매상품', '주구매지점', '내점일수', '내점당구매건수', '주말방문비율',\n",
              "       '구매주기', 'gender', '환불금액비율', '총구매건수', '구매건당지출금액'],\n",
              "      dtype='object')"
            ]
          },
          "metadata": {
            "tags": []
          },
          "execution_count": 166
        }
      ]
    },
    {
      "cell_type": "code",
      "metadata": {
        "colab": {
          "base_uri": "https://localhost:8080/"
        },
        "id": "lghDTJg2SLPU",
        "outputId": "d892d821-ec12-4fab-f67d-f15872c0be73"
      },
      "source": [
        "len(train)"
      ],
      "execution_count": null,
      "outputs": [
        {
          "output_type": "execute_result",
          "data": {
            "text/plain": [
              "3490"
            ]
          },
          "metadata": {
            "tags": []
          },
          "execution_count": 167
        }
      ]
    },
    {
      "cell_type": "code",
      "metadata": {
        "id": "CJY90AAByMX1"
      },
      "source": [
        "cols = ['총구매액', '최대구매액', '환불금액', '내점일수', '내점당구매건수', '주말방문비율', '구매주기', '환불금액비율', '총구매건수', '구매건당지출금액'] \n",
        "\n",
        "Q1 = train[cols].quantile(0.005)\n",
        "Q3 = train[cols].quantile(0.995)\n",
        "\n",
        "train = train[~((train[cols]< Q1) | (train[cols] > Q3)).any(axis=1)]"
      ],
      "execution_count": null,
      "outputs": []
    },
    {
      "cell_type": "code",
      "metadata": {
        "colab": {
          "base_uri": "https://localhost:8080/"
        },
        "id": "D-vQ3H6-SRCu",
        "outputId": "adf44c0c-e354-4962-dcc2-254407e2b634"
      },
      "source": [
        "len(train)"
      ],
      "execution_count": null,
      "outputs": [
        {
          "output_type": "execute_result",
          "data": {
            "text/plain": [
              "3330"
            ]
          },
          "metadata": {
            "tags": []
          },
          "execution_count": 169
        }
      ]
    },
    {
      "cell_type": "code",
      "metadata": {
        "id": "3qAVcAZcqUWW"
      },
      "source": [
        ""
      ],
      "execution_count": null,
      "outputs": []
    },
    {
      "cell_type": "code",
      "metadata": {
        "id": "kCHjjjPdSSWu"
      },
      "source": [
        "from sklearn.preprocessing import StandardScaler, OrdinalEncoder\n",
        "from sklearn.model_selection import train_test_split"
      ],
      "execution_count": null,
      "outputs": []
    },
    {
      "cell_type": "code",
      "metadata": {
        "id": "AlraVQpNUuob"
      },
      "source": [
        "encoder = OrdinalEncoder()\n",
        "encoder.fit(train[[\"주구매상품\", \"주구매지점\"]])\n",
        "\n",
        "train[[\"주구매상품\", \"주구매지점\"]] = encoder.transform(train[[\"주구매상품\", \"주구매지점\"]] )\n",
        "test[[\"주구매상품\", \"주구매지점\"]] = encoder.transform(test[[\"주구매상품\", \"주구매지점\"]])\n"
      ],
      "execution_count": null,
      "outputs": []
    },
    {
      "cell_type": "code",
      "metadata": {
        "id": "l6nUmfegYCV0"
      },
      "source": [
        "val = train.iloc[:300, :]\n",
        "train = train.iloc[300:, :]"
      ],
      "execution_count": null,
      "outputs": []
    },
    {
      "cell_type": "code",
      "metadata": {
        "colab": {
          "base_uri": "https://localhost:8080/"
        },
        "id": "B064je0WkHpL",
        "outputId": "ae69979b-41b8-4e4f-dd03-fccaab862f23"
      },
      "source": [
        "train.shape"
      ],
      "execution_count": null,
      "outputs": [
        {
          "output_type": "execute_result",
          "data": {
            "text/plain": [
              "(2444, 13)"
            ]
          },
          "metadata": {
            "tags": []
          },
          "execution_count": 195
        }
      ]
    },
    {
      "cell_type": "code",
      "metadata": {
        "colab": {
          "base_uri": "https://localhost:8080/"
        },
        "id": "WA5DHlbTj8v0",
        "outputId": "03cd5e6b-4d81-4d7a-939d-e004e3b13a38"
      },
      "source": [
        "len(train), len(val)"
      ],
      "execution_count": null,
      "outputs": [
        {
          "output_type": "execute_result",
          "data": {
            "text/plain": [
              "(2444, 300)"
            ]
          },
          "metadata": {
            "tags": []
          },
          "execution_count": 196
        }
      ]
    },
    {
      "cell_type": "code",
      "metadata": {
        "id": "QEtLFE2FT2Uv"
      },
      "source": [
        "train['gender'].value_counts()\n",
        "from sklearn.utils import resample\n",
        "\n",
        "#separate majoirty and minority classes\n",
        "train_minority = train[train['gender'] == 1]\n",
        "train_majority = train[train['gender'] == 0]\n",
        "\n",
        "#Upsample minority class\n",
        "train_minority_upsampled = resample(train_minority, \n",
        "                                replace = True,\n",
        "                                n_samples = len(train_majority),\n",
        "                                random_state= 123)"
      ],
      "execution_count": null,
      "outputs": []
    },
    {
      "cell_type": "code",
      "metadata": {
        "id": "K6CARd9fVmnz"
      },
      "source": [
        "#combine\n",
        "train_altered = pd.concat([train_majority, train_minority_upsampled])\n",
        "train_altered['gender'].value_counts()\n",
        "\n",
        "#5. Scaling\n",
        "#데이터셋 분리\n",
        "y_train = train_altered[['gender']]"
      ],
      "execution_count": null,
      "outputs": []
    },
    {
      "cell_type": "code",
      "metadata": {
        "id": "uMakl3U-X8at"
      },
      "source": [
        "X_train = train_altered.drop(columns = y_train.columns)"
      ],
      "execution_count": null,
      "outputs": []
    },
    {
      "cell_type": "code",
      "metadata": {
        "id": "6am-7pYRVwQ7"
      },
      "source": [
        "y_val = val[[\"gender\"]]\n",
        "X_val = val.drop(columns = y_val.columns)"
      ],
      "execution_count": null,
      "outputs": []
    },
    {
      "cell_type": "code",
      "metadata": {
        "id": "XSCreP-gXTWa"
      },
      "source": [
        "\n",
        "import xgboost as xgb\n",
        "from sklearn.pipeline import Pipeline, make_pipeline\n",
        "from sklearn.model_selection import train_test_split,GridSearchCV, cross_val_score\n",
        "from sklearn.preprocessing import StandardScaler"
      ],
      "execution_count": null,
      "outputs": []
    },
    {
      "cell_type": "code",
      "metadata": {
        "colab": {
          "base_uri": "https://localhost:8080/"
        },
        "id": "sisj_hThZAy8",
        "outputId": "508549ea-6f39-4472-eee6-051d3e594acc"
      },
      "source": [
        "pipe = Pipeline([(\"scaler\", StandardScaler()), (\"model\", xgb.XGBClassifier())])\n",
        "\n",
        "train_scores = cross_val_score(pipe, X_train, y_train, cv=5, scoring=\"roc_auc\")\n",
        "val_scores = cross_val_score(pipe, X_val, y_val, cv=10, scoring=\"roc_auc\")\n",
        "\n",
        "print(train_scores.mean())\n",
        "print(val_scores.mean())"
      ],
      "execution_count": null,
      "outputs": [
        {
          "output_type": "stream",
          "text": [
            "0.7318959930475101\n",
            "0.5891124401913875\n"
          ],
          "name": "stdout"
        }
      ]
    },
    {
      "cell_type": "code",
      "metadata": {
        "colab": {
          "base_uri": "https://localhost:8080/"
        },
        "id": "UKNUmkA0Z56k",
        "outputId": "cf0639d7-943e-4805-ab93-2c482f40d05e"
      },
      "source": [
        "from sklearn.pipeline import Pipeline, make_pipeline\n",
        "from sklearn.svm import SVC\n",
        "from sklearn.ensemble import RandomForestClassifier\n",
        "\n",
        "pipe = Pipeline([('model', xgb.XGBClassifier())])\n",
        "\n",
        "param_grid = [\n",
        "              {'model': [SVC()], \n",
        "              'model__gamma': [0.01, 0.1, 1, 10, 100], \n",
        "              'model__C': [0.01, 0.1, 1, 10, 100]\n",
        "              },\n",
        "\n",
        "              {'model': [xgb.XGBClassifier()], \n",
        "              'model__learning_rate' : [0.1, 0.3, 0.5],\n",
        "              'model__n_estimators' : [50, 100, 200,],  \n",
        "              'model__max_depth': [3, 4, 6]\n",
        "              },\n",
        "\n",
        "              {'model': [RandomForestClassifier()],\n",
        "              'model__max_depth': [3, 4], \n",
        "              'model__n_estimators': [100, 200], \n",
        "              'model__min_samples_split': [50, 100]\n",
        "              }]        \n",
        "\n",
        "grid = GridSearchCV(pipe, param_grid, scoring = 'roc_auc', cv=5)  \n",
        "grid.fit(X_train, y_train)\n",
        "\n",
        "print(grid.best_params_)\n",
        "print(grid.best_score_)"
      ],
      "execution_count": null,
      "outputs": [
        {
          "output_type": "stream",
          "text": [
            "{'model': XGBClassifier(base_score=0.5, booster='gbtree', colsample_bylevel=1,\n",
            "              colsample_bynode=1, colsample_bytree=1, gamma=0,\n",
            "              learning_rate=0.3, max_delta_step=0, max_depth=6,\n",
            "              min_child_weight=1, missing=None, n_estimators=200, n_jobs=1,\n",
            "              nthread=None, objective='binary:logistic', random_state=0,\n",
            "              reg_alpha=0, reg_lambda=1, scale_pos_weight=1, seed=None,\n",
            "              silent=None, subsample=1, verbosity=1), 'model__learning_rate': 0.3, 'model__max_depth': 6, 'model__n_estimators': 200}\n",
            "0.8684761846778365\n"
          ],
          "name": "stdout"
        }
      ]
    },
    {
      "cell_type": "code",
      "metadata": {
        "colab": {
          "base_uri": "https://localhost:8080/"
        },
        "id": "wAD1cN2cmDAw",
        "outputId": "1de75eca-a3e5-4536-c018-74cd6d93a8a0"
      },
      "source": [
        "grid.score(X_train, y_train)"
      ],
      "execution_count": null,
      "outputs": [
        {
          "output_type": "execute_result",
          "data": {
            "text/plain": [
              "1.0"
            ]
          },
          "metadata": {
            "tags": []
          },
          "execution_count": 204
        }
      ]
    },
    {
      "cell_type": "code",
      "metadata": {
        "colab": {
          "base_uri": "https://localhost:8080/"
        },
        "id": "V5Wav-1Sa5-p",
        "outputId": "aee67eba-9fe8-4a85-c455-8d3343b8f02e"
      },
      "source": [
        "grid.score(X_val, y_val)"
      ],
      "execution_count": null,
      "outputs": [
        {
          "output_type": "execute_result",
          "data": {
            "text/plain": [
              "0.9866666666666668"
            ]
          },
          "metadata": {
            "tags": []
          },
          "execution_count": 207
        }
      ]
    },
    {
      "cell_type": "code",
      "metadata": {
        "id": "jTC6QhuCbv2w"
      },
      "source": [
        "preds = grid.predict(X_val)"
      ],
      "execution_count": null,
      "outputs": []
    },
    {
      "cell_type": "code",
      "metadata": {
        "id": "JCCkH1jBcUuW"
      },
      "source": [
        "from sklearn.metrics import roc_auc_score, classification_report"
      ],
      "execution_count": null,
      "outputs": []
    },
    {
      "cell_type": "code",
      "metadata": {
        "colab": {
          "base_uri": "https://localhost:8080/"
        },
        "id": "mQz_-4ITmL_w",
        "outputId": "6ba5f3dd-544f-4265-c0ac-a520ffe5e2d8"
      },
      "source": [
        "print(classification_report(y_val, preds))"
      ],
      "execution_count": null,
      "outputs": [
        {
          "output_type": "stream",
          "text": [
            "              precision    recall  f1-score   support\n",
            "\n",
            "           0       0.95      1.00      0.97       195\n",
            "           1       1.00      0.90      0.94       105\n",
            "\n",
            "    accuracy                           0.96       300\n",
            "   macro avg       0.97      0.95      0.96       300\n",
            "weighted avg       0.97      0.96      0.96       300\n",
            "\n"
          ],
          "name": "stdout"
        }
      ]
    },
    {
      "cell_type": "code",
      "metadata": {
        "colab": {
          "base_uri": "https://localhost:8080/"
        },
        "id": "jtyManvnb5bs",
        "outputId": "8479b165-f9cb-4465-ac3d-bbc1f595cafb"
      },
      "source": [
        "\n",
        "roc_auc_score(y_val, preds)"
      ],
      "execution_count": null,
      "outputs": [
        {
          "output_type": "execute_result",
          "data": {
            "text/plain": [
              "0.9476190476190476"
            ]
          },
          "metadata": {
            "tags": []
          },
          "execution_count": 211
        }
      ]
    },
    {
      "cell_type": "code",
      "metadata": {
        "id": "iyIrNxJJdd02"
      },
      "source": [
        "model = xgb.XGBClassifier(**grid.best_params_)"
      ],
      "execution_count": null,
      "outputs": []
    },
    {
      "cell_type": "code",
      "metadata": {
        "colab": {
          "base_uri": "https://localhost:8080/"
        },
        "id": "qPef-m1DfMIj",
        "outputId": "560c1af4-e7b3-4111-c374-04b04e5c1620"
      },
      "source": [
        "model.fit(X_train, y_train)"
      ],
      "execution_count": null,
      "outputs": [
        {
          "output_type": "execute_result",
          "data": {
            "text/plain": [
              "XGBClassifier(base_score=0.5, booster='gbtree', colsample_bylevel=1,\n",
              "              colsample_bynode=1, colsample_bytree=1, gamma=0,\n",
              "              learning_rate=0.1, max_delta_step=0, max_depth=3,\n",
              "              min_child_weight=1, missing=None,\n",
              "              model=XGBClassifier(base_score=0.5, booster='gbtree',\n",
              "                                  colsample_bylevel=1, colsample_bynode=1,\n",
              "                                  colsample_bytree=1, gamma=0,\n",
              "                                  learning_rate=0.3, max_delta_step=0,\n",
              "                                  max_de...\n",
              "                                  objective='binary:logistic', random_state=0,\n",
              "                                  reg_alpha=0, reg_lambda=1, scale_pos_weight=1,\n",
              "                                  seed=None, silent=None, subsample=1,\n",
              "                                  verbosity=1),\n",
              "              model__learning_rate=0.3, model__max_depth=6,\n",
              "              model__n_estimators=200, n_estimators=100, n_jobs=1, nthread=None,\n",
              "              objective='binary:logistic', random_state=0, reg_alpha=0,\n",
              "              reg_lambda=1, scale_pos_weight=1, seed=None, silent=None,\n",
              "              subsample=1, verbosity=1)"
            ]
          },
          "metadata": {
            "tags": []
          },
          "execution_count": 189
        }
      ]
    },
    {
      "cell_type": "code",
      "metadata": {
        "id": "huMOq-KUfOyO"
      },
      "source": [
        "y_test = model.predict_proba(test)[:, 1]"
      ],
      "execution_count": null,
      "outputs": []
    },
    {
      "cell_type": "code",
      "metadata": {
        "id": "95iMB7CRfrVh"
      },
      "source": [
        "test  = pd.read_csv('https://raw.githubusercontent.com/Datamanim/dataq/main/X_test.csv',encoding='euc-kr')"
      ],
      "execution_count": null,
      "outputs": []
    },
    {
      "cell_type": "code",
      "metadata": {
        "id": "SEad7Txbff5Y"
      },
      "source": [
        "answer = test[[\"cust_id\", \"gender\"]]"
      ],
      "execution_count": null,
      "outputs": []
    },
    {
      "cell_type": "code",
      "metadata": {
        "id": "DA52PYnsflJc"
      },
      "source": [
        "answer"
      ],
      "execution_count": null,
      "outputs": []
    },
    {
      "cell_type": "code",
      "metadata": {
        "id": "xopitsYgfywI"
      },
      "source": [
        "answer.to_csv(\"123456.csv\", index=False)"
      ],
      "execution_count": null,
      "outputs": []
    },
    {
      "cell_type": "code",
      "metadata": {
        "id": "cZtYzz_hf4zF"
      },
      "source": [
        "print(pd.read_csv(\"123456.csv\"))"
      ],
      "execution_count": null,
      "outputs": []
    },
    {
      "cell_type": "code",
      "metadata": {
        "id": "B86R9KAxf-ct"
      },
      "source": [
        ""
      ],
      "execution_count": null,
      "outputs": []
    },
    {
      "cell_type": "markdown",
      "metadata": {
        "id": "UYzxxVDnAT3K"
      },
      "source": [
        "# 작업형 1"
      ]
    },
    {
      "cell_type": "code",
      "metadata": {
        "id": "NzvLwaDMAVVw",
        "outputId": "41c9ddac-cffa-4d9f-bab4-411edf5441f2",
        "colab": {
          "base_uri": "https://localhost:8080/",
          "height": 107
        }
      },
      "source": [
        "import pandas as pd\n",
        "df = pd.read_csv('https://raw.githubusercontent.com/Datamanim/dataq/main/mtcars.csv',index_col=0)\n",
        "df.head(2)"
      ],
      "execution_count": 67,
      "outputs": [
        {
          "output_type": "execute_result",
          "data": {
            "text/html": [
              "<div>\n",
              "<style scoped>\n",
              "    .dataframe tbody tr th:only-of-type {\n",
              "        vertical-align: middle;\n",
              "    }\n",
              "\n",
              "    .dataframe tbody tr th {\n",
              "        vertical-align: top;\n",
              "    }\n",
              "\n",
              "    .dataframe thead th {\n",
              "        text-align: right;\n",
              "    }\n",
              "</style>\n",
              "<table border=\"1\" class=\"dataframe\">\n",
              "  <thead>\n",
              "    <tr style=\"text-align: right;\">\n",
              "      <th></th>\n",
              "      <th>mpg</th>\n",
              "      <th>cyl</th>\n",
              "      <th>disp</th>\n",
              "      <th>hp</th>\n",
              "      <th>drat</th>\n",
              "      <th>wt</th>\n",
              "      <th>qsec</th>\n",
              "      <th>vs</th>\n",
              "      <th>am</th>\n",
              "      <th>gear</th>\n",
              "      <th>carb</th>\n",
              "    </tr>\n",
              "  </thead>\n",
              "  <tbody>\n",
              "    <tr>\n",
              "      <th>Mazda RX4</th>\n",
              "      <td>21.0</td>\n",
              "      <td>6</td>\n",
              "      <td>160.0</td>\n",
              "      <td>110</td>\n",
              "      <td>3.9</td>\n",
              "      <td>2.620</td>\n",
              "      <td>16.46</td>\n",
              "      <td>0</td>\n",
              "      <td>1</td>\n",
              "      <td>4</td>\n",
              "      <td>4</td>\n",
              "    </tr>\n",
              "    <tr>\n",
              "      <th>Mazda RX4 Wag</th>\n",
              "      <td>21.0</td>\n",
              "      <td>6</td>\n",
              "      <td>160.0</td>\n",
              "      <td>110</td>\n",
              "      <td>3.9</td>\n",
              "      <td>2.875</td>\n",
              "      <td>17.02</td>\n",
              "      <td>0</td>\n",
              "      <td>1</td>\n",
              "      <td>4</td>\n",
              "      <td>4</td>\n",
              "    </tr>\n",
              "  </tbody>\n",
              "</table>\n",
              "</div>"
            ],
            "text/plain": [
              "                mpg  cyl   disp   hp  drat     wt   qsec  vs  am  gear  carb\n",
              "Mazda RX4      21.0    6  160.0  110   3.9  2.620  16.46   0   1     4     4\n",
              "Mazda RX4 Wag  21.0    6  160.0  110   3.9  2.875  17.02   0   1     4     4"
            ]
          },
          "metadata": {
            "tags": []
          },
          "execution_count": 67
        }
      ]
    },
    {
      "cell_type": "code",
      "metadata": {
        "id": "e8om5Rr0Aj8g",
        "outputId": "a6c853ff-511e-4f8b-f280-7b5560657e58",
        "colab": {
          "base_uri": "https://localhost:8080/"
        }
      },
      "source": [
        "from sklearn.preprocessing import MinMaxScaler, StandardScaler\n",
        "\n",
        "scaler = MinMaxScaler()\n",
        "print(df[\"qsec\"])\n",
        "df[\"qsec\"] = scaler.fit_transform(df[[\"qsec\"]])\n",
        "len(df[df[\"qsec\"]>0.5])"
      ],
      "execution_count": 41,
      "outputs": [
        {
          "output_type": "stream",
          "text": [
            "Mazda RX4              16.46\n",
            "Mazda RX4 Wag          17.02\n",
            "Datsun 710             18.61\n",
            "Hornet 4 Drive         19.44\n",
            "Hornet Sportabout      17.02\n",
            "Valiant                20.22\n",
            "Duster 360             15.84\n",
            "Merc 240D              20.00\n",
            "Merc 230               22.90\n",
            "Merc 280               18.30\n",
            "Merc 280C              18.90\n",
            "Merc 450SE             17.40\n",
            "Merc 450SL             17.60\n",
            "Merc 450SLC            18.00\n",
            "Cadillac Fleetwood     17.98\n",
            "Lincoln Continental    17.82\n",
            "Chrysler Imperial      17.42\n",
            "Fiat 128               19.47\n",
            "Honda Civic            18.52\n",
            "Toyota Corolla         19.90\n",
            "Toyota Corona          20.01\n",
            "Dodge Challenger       16.87\n",
            "AMC Javelin            17.30\n",
            "Camaro Z28             15.41\n",
            "Pontiac Firebird       17.05\n",
            "Fiat X1-9              18.90\n",
            "Porsche 914-2          16.70\n",
            "Lotus Europa           16.90\n",
            "Ford Pantera L         14.50\n",
            "Ferrari Dino           15.50\n",
            "Maserati Bora          14.60\n",
            "Volvo 142E             18.60\n",
            "Name: qsec, dtype: float64\n"
          ],
          "name": "stdout"
        },
        {
          "output_type": "execute_result",
          "data": {
            "text/plain": [
              "9"
            ]
          },
          "metadata": {
            "tags": []
          },
          "execution_count": 41
        }
      ]
    },
    {
      "cell_type": "code",
      "metadata": {
        "id": "W2XeRdLzAj2O",
        "outputId": "816acc47-3b75-48b9-af3b-fa998602b2f7",
        "colab": {
          "base_uri": "https://localhost:8080/"
        }
      },
      "source": [
        "scaler = StandardScaler()\n",
        "df[\"qsec\"] = scaler.fit_transform(df[[\"qsec\"]])\n",
        "min, max = df[\"qsec\"].min(), df[\"qsec\"].max()\n",
        "print(min, max)\n"
      ],
      "execution_count": 42,
      "outputs": [
        {
          "output_type": "stream",
          "text": [
            "-1.9039963517625216 2.871985538436861\n"
          ],
          "name": "stdout"
        }
      ]
    },
    {
      "cell_type": "code",
      "metadata": {
        "id": "kmuHo4cmAjyJ",
        "outputId": "fa34e1fb-e27d-4e13-91de-31415ee69ac7",
        "colab": {
          "base_uri": "https://localhost:8080/"
        }
      },
      "source": [
        "Q1 = df[\"wt\"].quantile(0.25) \n",
        "Q3 = df[\"wt\"].quantile(0.75) \n",
        "iqr = Q3-Q1\n",
        "iqr * 1.5 \n",
        "\n",
        "Q1_iqr = df[\"wt\"].quantile(0.25) - (iqr * 1.5 )\n",
        "Q3_iqr = df[\"wt\"].quantile(0.75) + (iqr * 1.5 )\n",
        "\n",
        "df.wt[(df.wt <= Q1_iqr) | (df.wt >= Q3_iqr)].values"
      ],
      "execution_count": 43,
      "outputs": [
        {
          "output_type": "execute_result",
          "data": {
            "text/plain": [
              "array([5.25 , 5.424, 5.345])"
            ]
          },
          "metadata": {
            "tags": []
          },
          "execution_count": 43
        }
      ]
    },
    {
      "cell_type": "code",
      "metadata": {
        "id": "xnSEQz2xAjvR",
        "outputId": "4c8620a7-ca9e-4454-ec47-080f680dd7dc",
        "colab": {
          "base_uri": "https://localhost:8080/",
          "height": 347
        }
      },
      "source": [
        "df.corr().iloc[1:, 0].to_frame().sort_values(by=\"mpg\", ascending=False)"
      ],
      "execution_count": 44,
      "outputs": [
        {
          "output_type": "execute_result",
          "data": {
            "text/html": [
              "<div>\n",
              "<style scoped>\n",
              "    .dataframe tbody tr th:only-of-type {\n",
              "        vertical-align: middle;\n",
              "    }\n",
              "\n",
              "    .dataframe tbody tr th {\n",
              "        vertical-align: top;\n",
              "    }\n",
              "\n",
              "    .dataframe thead th {\n",
              "        text-align: right;\n",
              "    }\n",
              "</style>\n",
              "<table border=\"1\" class=\"dataframe\">\n",
              "  <thead>\n",
              "    <tr style=\"text-align: right;\">\n",
              "      <th></th>\n",
              "      <th>mpg</th>\n",
              "    </tr>\n",
              "  </thead>\n",
              "  <tbody>\n",
              "    <tr>\n",
              "      <th>drat</th>\n",
              "      <td>0.681172</td>\n",
              "    </tr>\n",
              "    <tr>\n",
              "      <th>vs</th>\n",
              "      <td>0.664039</td>\n",
              "    </tr>\n",
              "    <tr>\n",
              "      <th>am</th>\n",
              "      <td>0.599832</td>\n",
              "    </tr>\n",
              "    <tr>\n",
              "      <th>gear</th>\n",
              "      <td>0.480285</td>\n",
              "    </tr>\n",
              "    <tr>\n",
              "      <th>qsec</th>\n",
              "      <td>0.418684</td>\n",
              "    </tr>\n",
              "    <tr>\n",
              "      <th>carb</th>\n",
              "      <td>-0.550925</td>\n",
              "    </tr>\n",
              "    <tr>\n",
              "      <th>hp</th>\n",
              "      <td>-0.776168</td>\n",
              "    </tr>\n",
              "    <tr>\n",
              "      <th>disp</th>\n",
              "      <td>-0.847551</td>\n",
              "    </tr>\n",
              "    <tr>\n",
              "      <th>cyl</th>\n",
              "      <td>-0.852162</td>\n",
              "    </tr>\n",
              "    <tr>\n",
              "      <th>wt</th>\n",
              "      <td>-0.867659</td>\n",
              "    </tr>\n",
              "  </tbody>\n",
              "</table>\n",
              "</div>"
            ],
            "text/plain": [
              "           mpg\n",
              "drat  0.681172\n",
              "vs    0.664039\n",
              "am    0.599832\n",
              "gear  0.480285\n",
              "qsec  0.418684\n",
              "carb -0.550925\n",
              "hp   -0.776168\n",
              "disp -0.847551\n",
              "cyl  -0.852162\n",
              "wt   -0.867659"
            ]
          },
          "metadata": {
            "tags": []
          },
          "execution_count": 44
        }
      ]
    },
    {
      "cell_type": "code",
      "metadata": {
        "id": "d_CTZd4BE0jw"
      },
      "source": [
        "import numpy as np\n",
        "df = df.iloc[:, 1:]"
      ],
      "execution_count": 68,
      "outputs": []
    },
    {
      "cell_type": "code",
      "metadata": {
        "id": "fivil1NPFE75",
        "outputId": "34a5d241-d10f-4101-caa3-5bdfd9ad1f55",
        "colab": {
          "base_uri": "https://localhost:8080/"
        }
      },
      "source": [
        "columns_names = df.columns.tolist()\n",
        "columns_names"
      ],
      "execution_count": 69,
      "outputs": [
        {
          "output_type": "execute_result",
          "data": {
            "text/plain": [
              "['cyl', 'disp', 'hp', 'drat', 'wt', 'qsec', 'vs', 'am', 'gear', 'carb']"
            ]
          },
          "metadata": {
            "tags": []
          },
          "execution_count": 69
        }
      ]
    },
    {
      "cell_type": "code",
      "metadata": {
        "id": "xwSRuUYIAjsT",
        "outputId": "7115bbef-87c6-40b4-fd59-826b6cfe875e",
        "colab": {
          "base_uri": "https://localhost:8080/",
          "height": 1000
        }
      },
      "source": [
        "from sklearn.decomposition import PCA\n",
        "scale = StandardScaler()\n",
        "df = scaler.fit_transform(df)\n",
        "\n",
        "\n",
        "componentsNum = 10 \n",
        "pca  = PCA(n_components=componentsNum)\n",
        "pca_df = pca.fit_transform(df)\n",
        "pd.DataFrame(pca_df, columns=columns_names)"
      ],
      "execution_count": 73,
      "outputs": [
        {
          "output_type": "execute_result",
          "data": {
            "text/html": [
              "<div>\n",
              "<style scoped>\n",
              "    .dataframe tbody tr th:only-of-type {\n",
              "        vertical-align: middle;\n",
              "    }\n",
              "\n",
              "    .dataframe tbody tr th {\n",
              "        vertical-align: top;\n",
              "    }\n",
              "\n",
              "    .dataframe thead th {\n",
              "        text-align: right;\n",
              "    }\n",
              "</style>\n",
              "<table border=\"1\" class=\"dataframe\">\n",
              "  <thead>\n",
              "    <tr style=\"text-align: right;\">\n",
              "      <th></th>\n",
              "      <th>cyl</th>\n",
              "      <th>disp</th>\n",
              "      <th>hp</th>\n",
              "      <th>drat</th>\n",
              "      <th>wt</th>\n",
              "      <th>qsec</th>\n",
              "      <th>vs</th>\n",
              "      <th>am</th>\n",
              "      <th>gear</th>\n",
              "      <th>carb</th>\n",
              "    </tr>\n",
              "  </thead>\n",
              "  <tbody>\n",
              "    <tr>\n",
              "      <th>0</th>\n",
              "      <td>0.632134</td>\n",
              "      <td>1.739877</td>\n",
              "      <td>-0.665110</td>\n",
              "      <td>0.100862</td>\n",
              "      <td>-0.927621</td>\n",
              "      <td>0.051528</td>\n",
              "      <td>-0.400939</td>\n",
              "      <td>-0.177965</td>\n",
              "      <td>-0.067495</td>\n",
              "      <td>-0.163161</td>\n",
              "    </tr>\n",
              "    <tr>\n",
              "      <th>1</th>\n",
              "      <td>0.605027</td>\n",
              "      <td>1.554343</td>\n",
              "      <td>-0.434619</td>\n",
              "      <td>0.190621</td>\n",
              "      <td>-1.033729</td>\n",
              "      <td>-0.156044</td>\n",
              "      <td>-0.421950</td>\n",
              "      <td>-0.085054</td>\n",
              "      <td>-0.125251</td>\n",
              "      <td>-0.071543</td>\n",
              "    </tr>\n",
              "    <tr>\n",
              "      <th>2</th>\n",
              "      <td>2.801549</td>\n",
              "      <td>-0.122632</td>\n",
              "      <td>-0.414510</td>\n",
              "      <td>-0.263449</td>\n",
              "      <td>0.446730</td>\n",
              "      <td>-0.507376</td>\n",
              "      <td>-0.291290</td>\n",
              "      <td>-0.084116</td>\n",
              "      <td>0.162350</td>\n",
              "      <td>0.181756</td>\n",
              "    </tr>\n",
              "    <tr>\n",
              "      <th>3</th>\n",
              "      <td>0.259204</td>\n",
              "      <td>-2.364265</td>\n",
              "      <td>-0.095090</td>\n",
              "      <td>-0.505929</td>\n",
              "      <td>0.552199</td>\n",
              "      <td>-0.035541</td>\n",
              "      <td>-0.058233</td>\n",
              "      <td>-0.188187</td>\n",
              "      <td>-0.101924</td>\n",
              "      <td>-0.166531</td>\n",
              "    </tr>\n",
              "    <tr>\n",
              "      <th>4</th>\n",
              "      <td>-2.032508</td>\n",
              "      <td>-0.774822</td>\n",
              "      <td>-1.016381</td>\n",
              "      <td>0.081071</td>\n",
              "      <td>0.200412</td>\n",
              "      <td>0.163234</td>\n",
              "      <td>0.285340</td>\n",
              "      <td>0.116682</td>\n",
              "      <td>-0.108244</td>\n",
              "      <td>-0.181168</td>\n",
              "    </tr>\n",
              "    <tr>\n",
              "      <th>5</th>\n",
              "      <td>0.204867</td>\n",
              "      <td>-2.778790</td>\n",
              "      <td>0.093328</td>\n",
              "      <td>-0.995552</td>\n",
              "      <td>0.227545</td>\n",
              "      <td>-0.323183</td>\n",
              "      <td>-0.150440</td>\n",
              "      <td>-0.045932</td>\n",
              "      <td>-0.154474</td>\n",
              "      <td>0.033869</td>\n",
              "    </tr>\n",
              "    <tr>\n",
              "      <th>6</th>\n",
              "      <td>-2.846324</td>\n",
              "      <td>0.318210</td>\n",
              "      <td>-0.324108</td>\n",
              "      <td>-0.053138</td>\n",
              "      <td>0.423729</td>\n",
              "      <td>0.686200</td>\n",
              "      <td>-0.201259</td>\n",
              "      <td>0.179319</td>\n",
              "      <td>0.362386</td>\n",
              "      <td>-0.195036</td>\n",
              "    </tr>\n",
              "    <tr>\n",
              "      <th>7</th>\n",
              "      <td>1.938647</td>\n",
              "      <td>-1.454239</td>\n",
              "      <td>0.955656</td>\n",
              "      <td>-0.138849</td>\n",
              "      <td>-0.349183</td>\n",
              "      <td>0.073207</td>\n",
              "      <td>0.641096</td>\n",
              "      <td>-0.374506</td>\n",
              "      <td>0.239646</td>\n",
              "      <td>-0.031233</td>\n",
              "    </tr>\n",
              "    <tr>\n",
              "      <th>8</th>\n",
              "      <td>2.300271</td>\n",
              "      <td>-1.963602</td>\n",
              "      <td>1.751220</td>\n",
              "      <td>0.299541</td>\n",
              "      <td>-0.408112</td>\n",
              "      <td>-0.255902</td>\n",
              "      <td>0.542837</td>\n",
              "      <td>0.935339</td>\n",
              "      <td>-0.061213</td>\n",
              "      <td>-0.130912</td>\n",
              "    </tr>\n",
              "    <tr>\n",
              "      <th>9</th>\n",
              "      <td>0.636986</td>\n",
              "      <td>-0.150858</td>\n",
              "      <td>1.434045</td>\n",
              "      <td>0.066155</td>\n",
              "      <td>0.010042</td>\n",
              "      <td>0.845973</td>\n",
              "      <td>0.168722</td>\n",
              "      <td>-0.543588</td>\n",
              "      <td>-0.260493</td>\n",
              "      <td>0.124549</td>\n",
              "    </tr>\n",
              "    <tr>\n",
              "      <th>10</th>\n",
              "      <td>0.712003</td>\n",
              "      <td>-0.308009</td>\n",
              "      <td>1.571549</td>\n",
              "      <td>0.090629</td>\n",
              "      <td>-0.062764</td>\n",
              "      <td>0.746137</td>\n",
              "      <td>0.155767</td>\n",
              "      <td>-0.340193</td>\n",
              "      <td>-0.343927</td>\n",
              "      <td>0.071815</td>\n",
              "    </tr>\n",
              "    <tr>\n",
              "      <th>11</th>\n",
              "      <td>-2.168500</td>\n",
              "      <td>-0.698349</td>\n",
              "      <td>-0.318649</td>\n",
              "      <td>-0.132449</td>\n",
              "      <td>-0.380210</td>\n",
              "      <td>0.193121</td>\n",
              "      <td>-0.104051</td>\n",
              "      <td>0.091823</td>\n",
              "      <td>-0.060831</td>\n",
              "      <td>0.389843</td>\n",
              "    </tr>\n",
              "    <tr>\n",
              "      <th>12</th>\n",
              "      <td>-2.013998</td>\n",
              "      <td>-0.698920</td>\n",
              "      <td>-0.409019</td>\n",
              "      <td>-0.213513</td>\n",
              "      <td>-0.353604</td>\n",
              "      <td>0.312365</td>\n",
              "      <td>-0.096477</td>\n",
              "      <td>0.288854</td>\n",
              "      <td>-0.115464</td>\n",
              "      <td>0.184484</td>\n",
              "    </tr>\n",
              "    <tr>\n",
              "      <th>13</th>\n",
              "      <td>-1.983030</td>\n",
              "      <td>-0.811307</td>\n",
              "      <td>-0.297320</td>\n",
              "      <td>-0.184076</td>\n",
              "      <td>-0.409623</td>\n",
              "      <td>0.223378</td>\n",
              "      <td>-0.106863</td>\n",
              "      <td>0.405446</td>\n",
              "      <td>-0.167143</td>\n",
              "      <td>0.176943</td>\n",
              "    </tr>\n",
              "    <tr>\n",
              "      <th>14</th>\n",
              "      <td>-3.540037</td>\n",
              "      <td>-0.841191</td>\n",
              "      <td>0.646830</td>\n",
              "      <td>0.299781</td>\n",
              "      <td>-0.144468</td>\n",
              "      <td>-0.895457</td>\n",
              "      <td>-0.091503</td>\n",
              "      <td>-0.234988</td>\n",
              "      <td>0.052358</td>\n",
              "      <td>-0.258041</td>\n",
              "    </tr>\n",
              "    <tr>\n",
              "      <th>15</th>\n",
              "      <td>-3.597893</td>\n",
              "      <td>-0.747153</td>\n",
              "      <td>0.725851</td>\n",
              "      <td>0.417433</td>\n",
              "      <td>-0.092404</td>\n",
              "      <td>-0.875780</td>\n",
              "      <td>-0.121889</td>\n",
              "      <td>-0.248904</td>\n",
              "      <td>0.121949</td>\n",
              "      <td>-0.036876</td>\n",
              "    </tr>\n",
              "    <tr>\n",
              "      <th>16</th>\n",
              "      <td>-3.493731</td>\n",
              "      <td>-0.445347</td>\n",
              "      <td>0.702793</td>\n",
              "      <td>0.696399</td>\n",
              "      <td>0.074896</td>\n",
              "      <td>-0.605711</td>\n",
              "      <td>-0.147697</td>\n",
              "      <td>-0.182902</td>\n",
              "      <td>0.201483</td>\n",
              "      <td>0.145296</td>\n",
              "    </tr>\n",
              "    <tr>\n",
              "      <th>17</th>\n",
              "      <td>3.329571</td>\n",
              "      <td>-0.292943</td>\n",
              "      <td>-0.277423</td>\n",
              "      <td>0.073323</td>\n",
              "      <td>0.112670</td>\n",
              "      <td>-0.421673</td>\n",
              "      <td>-0.305017</td>\n",
              "      <td>0.070160</td>\n",
              "      <td>-0.116413</td>\n",
              "      <td>0.129409</td>\n",
              "    </tr>\n",
              "    <tr>\n",
              "      <th>18</th>\n",
              "      <td>3.883988</td>\n",
              "      <td>0.704290</td>\n",
              "      <td>-0.202656</td>\n",
              "      <td>1.186911</td>\n",
              "      <td>0.133843</td>\n",
              "      <td>0.540753</td>\n",
              "      <td>-0.410649</td>\n",
              "      <td>-0.133756</td>\n",
              "      <td>-0.228625</td>\n",
              "      <td>-0.282043</td>\n",
              "    </tr>\n",
              "    <tr>\n",
              "      <th>19</th>\n",
              "      <td>3.636227</td>\n",
              "      <td>-0.276133</td>\n",
              "      <td>-0.292044</td>\n",
              "      <td>0.206366</td>\n",
              "      <td>0.113590</td>\n",
              "      <td>-0.245487</td>\n",
              "      <td>-0.304007</td>\n",
              "      <td>0.365579</td>\n",
              "      <td>-0.231154</td>\n",
              "      <td>-0.056534</td>\n",
              "    </tr>\n",
              "    <tr>\n",
              "      <th>20</th>\n",
              "      <td>1.962264</td>\n",
              "      <td>-2.101797</td>\n",
              "      <td>0.030140</td>\n",
              "      <td>0.037593</td>\n",
              "      <td>0.162210</td>\n",
              "      <td>0.672144</td>\n",
              "      <td>-0.164937</td>\n",
              "      <td>0.306503</td>\n",
              "      <td>0.606158</td>\n",
              "      <td>-0.031204</td>\n",
              "    </tr>\n",
              "    <tr>\n",
              "      <th>21</th>\n",
              "      <td>-2.048033</td>\n",
              "      <td>-1.026281</td>\n",
              "      <td>-1.177374</td>\n",
              "      <td>-0.604969</td>\n",
              "      <td>-0.181947</td>\n",
              "      <td>0.089924</td>\n",
              "      <td>0.225311</td>\n",
              "      <td>-0.162343</td>\n",
              "      <td>-0.117839</td>\n",
              "      <td>-0.019935</td>\n",
              "    </tr>\n",
              "    <tr>\n",
              "      <th>22</th>\n",
              "      <td>-1.682576</td>\n",
              "      <td>-0.913388</td>\n",
              "      <td>-1.014237</td>\n",
              "      <td>-0.008073</td>\n",
              "      <td>-0.183926</td>\n",
              "      <td>0.270837</td>\n",
              "      <td>0.220226</td>\n",
              "      <td>0.061937</td>\n",
              "      <td>-0.246339</td>\n",
              "      <td>0.014154</td>\n",
              "    </tr>\n",
              "    <tr>\n",
              "      <th>23</th>\n",
              "      <td>-2.658623</td>\n",
              "      <td>0.669277</td>\n",
              "      <td>-0.184127</td>\n",
              "      <td>0.821191</td>\n",
              "      <td>0.509528</td>\n",
              "      <td>0.897013</td>\n",
              "      <td>-0.185740</td>\n",
              "      <td>-0.017670</td>\n",
              "      <td>0.359389</td>\n",
              "      <td>0.101728</td>\n",
              "    </tr>\n",
              "    <tr>\n",
              "      <th>24</th>\n",
              "      <td>-2.354816</td>\n",
              "      <td>-0.899123</td>\n",
              "      <td>-0.869987</td>\n",
              "      <td>0.161906</td>\n",
              "      <td>0.233469</td>\n",
              "      <td>-0.171734</td>\n",
              "      <td>0.331052</td>\n",
              "      <td>-0.079515</td>\n",
              "      <td>-0.075497</td>\n",
              "      <td>-0.191597</td>\n",
              "    </tr>\n",
              "    <tr>\n",
              "      <th>25</th>\n",
              "      <td>3.358263</td>\n",
              "      <td>-0.103399</td>\n",
              "      <td>-0.514251</td>\n",
              "      <td>-0.018818</td>\n",
              "      <td>0.222321</td>\n",
              "      <td>-0.208830</td>\n",
              "      <td>-0.282955</td>\n",
              "      <td>-0.022693</td>\n",
              "      <td>-0.058105</td>\n",
              "      <td>0.031465</td>\n",
              "    </tr>\n",
              "    <tr>\n",
              "      <th>26</th>\n",
              "      <td>2.440051</td>\n",
              "      <td>2.057439</td>\n",
              "      <td>-0.881101</td>\n",
              "      <td>0.568156</td>\n",
              "      <td>-0.621810</td>\n",
              "      <td>-0.300175</td>\n",
              "      <td>1.030298</td>\n",
              "      <td>0.014321</td>\n",
              "      <td>0.403521</td>\n",
              "      <td>0.121686</td>\n",
              "    </tr>\n",
              "    <tr>\n",
              "      <th>27</th>\n",
              "      <td>2.946328</td>\n",
              "      <td>1.383718</td>\n",
              "      <td>-0.355847</td>\n",
              "      <td>-1.159294</td>\n",
              "      <td>0.678108</td>\n",
              "      <td>-0.024936</td>\n",
              "      <td>0.467431</td>\n",
              "      <td>-0.239450</td>\n",
              "      <td>0.166930</td>\n",
              "      <td>-0.100088</td>\n",
              "    </tr>\n",
              "    <tr>\n",
              "      <th>28</th>\n",
              "      <td>-1.212566</td>\n",
              "      <td>3.498277</td>\n",
              "      <td>-0.197467</td>\n",
              "      <td>0.600021</td>\n",
              "      <td>1.124186</td>\n",
              "      <td>-0.342886</td>\n",
              "      <td>0.664866</td>\n",
              "      <td>0.153216</td>\n",
              "      <td>-0.426021</td>\n",
              "      <td>0.129397</td>\n",
              "    </tr>\n",
              "    <tr>\n",
              "      <th>29</th>\n",
              "      <td>0.014182</td>\n",
              "      <td>3.221361</td>\n",
              "      <td>0.374340</td>\n",
              "      <td>-0.959536</td>\n",
              "      <td>-0.853213</td>\n",
              "      <td>0.081124</td>\n",
              "      <td>0.024243</td>\n",
              "      <td>-0.114836</td>\n",
              "      <td>0.137882</td>\n",
              "      <td>-0.052590</td>\n",
              "    </tr>\n",
              "    <tr>\n",
              "      <th>30</th>\n",
              "      <td>-2.541137</td>\n",
              "      <td>4.366990</td>\n",
              "      <td>1.428770</td>\n",
              "      <td>-0.874904</td>\n",
              "      <td>0.415883</td>\n",
              "      <td>-0.011549</td>\n",
              "      <td>-0.409474</td>\n",
              "      <td>0.456812</td>\n",
              "      <td>0.026336</td>\n",
              "      <td>-0.091492</td>\n",
              "    </tr>\n",
              "    <tr>\n",
              "      <th>31</th>\n",
              "      <td>2.512210</td>\n",
              "      <td>0.258768</td>\n",
              "      <td>0.226798</td>\n",
              "      <td>0.214592</td>\n",
              "      <td>0.361254</td>\n",
              "      <td>-0.464676</td>\n",
              "      <td>-0.501820</td>\n",
              "      <td>-0.169392</td>\n",
              "      <td>0.226064</td>\n",
              "      <td>0.223587</td>\n",
              "    </tr>\n",
              "  </tbody>\n",
              "</table>\n",
              "</div>"
            ],
            "text/plain": [
              "         cyl      disp        hp  ...        am      gear      carb\n",
              "0   0.632134  1.739877 -0.665110  ... -0.177965 -0.067495 -0.163161\n",
              "1   0.605027  1.554343 -0.434619  ... -0.085054 -0.125251 -0.071543\n",
              "2   2.801549 -0.122632 -0.414510  ... -0.084116  0.162350  0.181756\n",
              "3   0.259204 -2.364265 -0.095090  ... -0.188187 -0.101924 -0.166531\n",
              "4  -2.032508 -0.774822 -1.016381  ...  0.116682 -0.108244 -0.181168\n",
              "5   0.204867 -2.778790  0.093328  ... -0.045932 -0.154474  0.033869\n",
              "6  -2.846324  0.318210 -0.324108  ...  0.179319  0.362386 -0.195036\n",
              "7   1.938647 -1.454239  0.955656  ... -0.374506  0.239646 -0.031233\n",
              "8   2.300271 -1.963602  1.751220  ...  0.935339 -0.061213 -0.130912\n",
              "9   0.636986 -0.150858  1.434045  ... -0.543588 -0.260493  0.124549\n",
              "10  0.712003 -0.308009  1.571549  ... -0.340193 -0.343927  0.071815\n",
              "11 -2.168500 -0.698349 -0.318649  ...  0.091823 -0.060831  0.389843\n",
              "12 -2.013998 -0.698920 -0.409019  ...  0.288854 -0.115464  0.184484\n",
              "13 -1.983030 -0.811307 -0.297320  ...  0.405446 -0.167143  0.176943\n",
              "14 -3.540037 -0.841191  0.646830  ... -0.234988  0.052358 -0.258041\n",
              "15 -3.597893 -0.747153  0.725851  ... -0.248904  0.121949 -0.036876\n",
              "16 -3.493731 -0.445347  0.702793  ... -0.182902  0.201483  0.145296\n",
              "17  3.329571 -0.292943 -0.277423  ...  0.070160 -0.116413  0.129409\n",
              "18  3.883988  0.704290 -0.202656  ... -0.133756 -0.228625 -0.282043\n",
              "19  3.636227 -0.276133 -0.292044  ...  0.365579 -0.231154 -0.056534\n",
              "20  1.962264 -2.101797  0.030140  ...  0.306503  0.606158 -0.031204\n",
              "21 -2.048033 -1.026281 -1.177374  ... -0.162343 -0.117839 -0.019935\n",
              "22 -1.682576 -0.913388 -1.014237  ...  0.061937 -0.246339  0.014154\n",
              "23 -2.658623  0.669277 -0.184127  ... -0.017670  0.359389  0.101728\n",
              "24 -2.354816 -0.899123 -0.869987  ... -0.079515 -0.075497 -0.191597\n",
              "25  3.358263 -0.103399 -0.514251  ... -0.022693 -0.058105  0.031465\n",
              "26  2.440051  2.057439 -0.881101  ...  0.014321  0.403521  0.121686\n",
              "27  2.946328  1.383718 -0.355847  ... -0.239450  0.166930 -0.100088\n",
              "28 -1.212566  3.498277 -0.197467  ...  0.153216 -0.426021  0.129397\n",
              "29  0.014182  3.221361  0.374340  ... -0.114836  0.137882 -0.052590\n",
              "30 -2.541137  4.366990  1.428770  ...  0.456812  0.026336 -0.091492\n",
              "31  2.512210  0.258768  0.226798  ... -0.169392  0.226064  0.223587\n",
              "\n",
              "[32 rows x 10 columns]"
            ]
          },
          "metadata": {
            "tags": []
          },
          "execution_count": 73
        }
      ]
    },
    {
      "cell_type": "code",
      "metadata": {
        "id": "0pzzrqXeAjoS",
        "outputId": "3150067b-0126-416a-df41-16a90a008e61",
        "colab": {
          "base_uri": "https://localhost:8080/",
          "height": 137
        }
      },
      "source": [
        "componentDf = pd.DataFrame(pca.explained_variance_ratio_,columns=['cumsumVariance']).cumsum().reset_index()\n",
        "\n",
        "componentDf['index'] +=1\n",
        "\n",
        "componentDf"
      ],
      "execution_count": 72,
      "outputs": [
        {
          "output_type": "execute_result",
          "data": {
            "text/html": [
              "<div>\n",
              "<style scoped>\n",
              "    .dataframe tbody tr th:only-of-type {\n",
              "        vertical-align: middle;\n",
              "    }\n",
              "\n",
              "    .dataframe tbody tr th {\n",
              "        vertical-align: top;\n",
              "    }\n",
              "\n",
              "    .dataframe thead th {\n",
              "        text-align: right;\n",
              "    }\n",
              "</style>\n",
              "<table border=\"1\" class=\"dataframe\">\n",
              "  <thead>\n",
              "    <tr style=\"text-align: right;\">\n",
              "      <th></th>\n",
              "      <th>index</th>\n",
              "      <th>cumsumVariance</th>\n",
              "    </tr>\n",
              "  </thead>\n",
              "  <tbody>\n",
              "    <tr>\n",
              "      <th>0</th>\n",
              "      <td>1</td>\n",
              "      <td>0.576022</td>\n",
              "    </tr>\n",
              "    <tr>\n",
              "      <th>1</th>\n",
              "      <td>2</td>\n",
              "      <td>0.840986</td>\n",
              "    </tr>\n",
              "    <tr>\n",
              "      <th>2</th>\n",
              "      <td>3</td>\n",
              "      <td>0.900708</td>\n",
              "    </tr>\n",
              "  </tbody>\n",
              "</table>\n",
              "</div>"
            ],
            "text/plain": [
              "   index  cumsumVariance\n",
              "0      1        0.576022\n",
              "1      2        0.840986\n",
              "2      3        0.900708"
            ]
          },
          "metadata": {
            "tags": []
          },
          "execution_count": 72
        }
      ]
    },
    {
      "cell_type": "code",
      "metadata": {
        "id": "S4J1SeicIdQT",
        "outputId": "db0ba3f0-6198-48f4-f82f-d12eeb656f9e",
        "colab": {
          "base_uri": "https://localhost:8080/",
          "height": 377
        }
      },
      "source": [
        "import pandas as pd\n",
        "df = pd.read_csv('https://raw.githubusercontent.com/Datamanim/dataq/main/mtcars.csv',index_col=0)\n",
        "\n",
        "from sklearn.preprocessing import StandardScaler\n",
        "from sklearn.decomposition import PCA\n",
        "\n",
        "scaler = StandardScaler()\n",
        "df = scaler.fit_transform(df)\n",
        "pca = PCA()\n",
        "pca_df = pca.fit_transform(df)\n",
        "pd.DataFrame(pca.explained_variance_ratio_).cumsum()\n"
      ],
      "execution_count": 3,
      "outputs": [
        {
          "output_type": "execute_result",
          "data": {
            "text/html": [
              "<div>\n",
              "<style scoped>\n",
              "    .dataframe tbody tr th:only-of-type {\n",
              "        vertical-align: middle;\n",
              "    }\n",
              "\n",
              "    .dataframe tbody tr th {\n",
              "        vertical-align: top;\n",
              "    }\n",
              "\n",
              "    .dataframe thead th {\n",
              "        text-align: right;\n",
              "    }\n",
              "</style>\n",
              "<table border=\"1\" class=\"dataframe\">\n",
              "  <thead>\n",
              "    <tr style=\"text-align: right;\">\n",
              "      <th></th>\n",
              "      <th>0</th>\n",
              "    </tr>\n",
              "  </thead>\n",
              "  <tbody>\n",
              "    <tr>\n",
              "      <th>0</th>\n",
              "      <td>0.600764</td>\n",
              "    </tr>\n",
              "    <tr>\n",
              "      <th>1</th>\n",
              "      <td>0.841715</td>\n",
              "    </tr>\n",
              "    <tr>\n",
              "      <th>2</th>\n",
              "      <td>0.898733</td>\n",
              "    </tr>\n",
              "    <tr>\n",
              "      <th>3</th>\n",
              "      <td>0.923242</td>\n",
              "    </tr>\n",
              "    <tr>\n",
              "      <th>4</th>\n",
              "      <td>0.943556</td>\n",
              "    </tr>\n",
              "    <tr>\n",
              "      <th>5</th>\n",
              "      <td>0.962792</td>\n",
              "    </tr>\n",
              "    <tr>\n",
              "      <th>6</th>\n",
              "      <td>0.975088</td>\n",
              "    </tr>\n",
              "    <tr>\n",
              "      <th>7</th>\n",
              "      <td>0.986261</td>\n",
              "    </tr>\n",
              "    <tr>\n",
              "      <th>8</th>\n",
              "      <td>0.993265</td>\n",
              "    </tr>\n",
              "    <tr>\n",
              "      <th>9</th>\n",
              "      <td>0.997996</td>\n",
              "    </tr>\n",
              "    <tr>\n",
              "      <th>10</th>\n",
              "      <td>1.000000</td>\n",
              "    </tr>\n",
              "  </tbody>\n",
              "</table>\n",
              "</div>"
            ],
            "text/plain": [
              "           0\n",
              "0   0.600764\n",
              "1   0.841715\n",
              "2   0.898733\n",
              "3   0.923242\n",
              "4   0.943556\n",
              "5   0.962792\n",
              "6   0.975088\n",
              "7   0.986261\n",
              "8   0.993265\n",
              "9   0.997996\n",
              "10  1.000000"
            ]
          },
          "metadata": {
            "tags": []
          },
          "execution_count": 3
        }
      ]
    },
    {
      "cell_type": "code",
      "metadata": {
        "id": "c9mZmYBaJQ7c",
        "outputId": "995d2686-35a0-4026-ffeb-92b631c16cd9",
        "colab": {
          "base_uri": "https://localhost:8080/"
        }
      },
      "source": [
        "pca.explained_variance_ratio_.cumsum()"
      ],
      "execution_count": 85,
      "outputs": [
        {
          "output_type": "execute_result",
          "data": {
            "text/plain": [
              "array([0.60076366, 0.84171529, 0.89873322, 0.92324208, 0.94355581,\n",
              "       0.96279183, 0.97508837, 0.98626123, 0.99326547, 0.99799596])"
            ]
          },
          "metadata": {
            "tags": []
          },
          "execution_count": 85
        }
      ]
    },
    {
      "cell_type": "code",
      "metadata": {
        "id": "01C1JPgzix34"
      },
      "source": [
        "dir(st)"
      ],
      "execution_count": null,
      "outputs": []
    },
    {
      "cell_type": "code",
      "metadata": {
        "colab": {
          "base_uri": "https://localhost:8080/"
        },
        "id": "HVgvAFl5rr73",
        "outputId": "4fee62f6-b3b3-46ed-f9e1-ae302a150432"
      },
      "source": [
        "# t-test\n",
        "# 모집단의 분산이나 표준편차를 알지 못할 때\n",
        "# 모집단을 대표하는 표본으로부터 추정된 분산이나 표준편차를 가지고 검정하는 방법\n",
        "\n",
        "# one_smaple_t_test\n",
        "import scipy.stats as st \n",
        "coinflips = np.random.binomial(n = 1, p = 0.5, size = 1000)\n",
        "\n",
        "print(st.ttest_1samp(coinflips, 0.5))\n",
        "\n",
        "# two_smaple_t_test\n",
        "coin1 = np.random.binomial(n = 1, p = 0.6, size = 500)\n",
        "coin2 = np.random.binomial(n = 1, p = 0.5, size = 200)\n",
        "\n",
        "st.ttest_ind(coin1, coin2)"
      ],
      "execution_count": null,
      "outputs": [
        {
          "output_type": "stream",
          "text": [
            "Ttest_1sampResult(statistic=0.6322656909571999, pvalue=0.5273579504134063)\n"
          ],
          "name": "stdout"
        },
        {
          "output_type": "execute_result",
          "data": {
            "text/plain": [
              "Ttest_indResult(statistic=1.9445586796700236, pvalue=0.05222945280717049)"
            ]
          },
          "metadata": {
            "tags": []
          },
          "execution_count": 13
        }
      ]
    },
    {
      "cell_type": "code",
      "metadata": {
        "colab": {
          "base_uri": "https://localhost:8080/"
        },
        "id": "hDjYzimvryqK",
        "outputId": "111f3a70-ba03-4adf-9700-dd83cf7a5f74"
      },
      "source": [
        "import numpy as np\n",
        "from scipy.stats import chisquare  \n",
        "\n",
        "s_obs = np.array([[18, 22, 20, 15, 23, 22]]) # Similar\n",
        "print('--- Similar ---')\n",
        "chisquare(s_obs, axis=None)\n",
        "\n",
        "# st.chi2_contingency(데이터프레임으로 들어와야함)\n",
        "\n",
        "# return으로는 chi2, pvalue, dof, expected가 주어지게 됨 "
      ],
      "execution_count": null,
      "outputs": [
        {
          "output_type": "stream",
          "text": [
            "--- Similar ---\n"
          ],
          "name": "stdout"
        },
        {
          "output_type": "execute_result",
          "data": {
            "text/plain": [
              "Power_divergenceResult(statistic=2.3000000000000003, pvalue=0.8062668698851285)"
            ]
          },
          "metadata": {
            "tags": []
          },
          "execution_count": 17
        }
      ]
    },
    {
      "cell_type": "code",
      "metadata": {
        "colab": {
          "base_uri": "https://localhost:8080/"
        },
        "id": "a0YmPPFpm7SI",
        "outputId": "8f950be3-d663-49f1-8041-467f11b503d9"
      },
      "source": [
        "# 신뢰구간 ( T분포 )\n",
        "\n",
        "import scipy.stats as st\n",
        "import numpy as np\n",
        "\n",
        "a = range(10, 14)\n",
        "print(st.t.interval(0.95, len(a)-1, loc=np.mean(a), scale=st.sem(a)))\n",
        "\n",
        "\n",
        "from scipy.stats import t\n",
        "# 표본의 크기\n",
        "n = len(a)\n",
        "# 자유도\n",
        "dof = n-1\n",
        "# 평균의 평균\n",
        "mean = np.mean(a)\n",
        "# 표본의 표준편차\n",
        "sample_std = np.std(a, ddof = 1)\n",
        "# 표준 오차\n",
        "std_err = sample_std / n ** 0.5 # sample_std / sqrt(n)\n",
        "\n",
        "CI = t.interval(.95, dof, loc = mean, scale = std_err)\n",
        "print(CI)"
      ],
      "execution_count": null,
      "outputs": [
        {
          "output_type": "stream",
          "text": [
            "(9.445739743239121, 13.554260256760879)\n",
            "(9.445739743239121, 13.554260256760879)\n"
          ],
          "name": "stdout"
        }
      ]
    },
    {
      "cell_type": "code",
      "metadata": {
        "colab": {
          "base_uri": "https://localhost:8080/"
        },
        "id": "IfEnXLUw0QXl",
        "outputId": "7e3a95aa-1eed-4ae7-ea29-622c679c13e2"
      },
      "source": [
        "# 신뢰구간 ( chi)\n",
        "\n",
        "from scipy.stats \n",
        "import numpy as np\n",
        "\n",
        "## 모집단 평균 70, 표준편차 3 가정\n",
        "mu = 70\n",
        "std = 3\n",
        "norm_ = st.norm(mu,std)\n",
        "\n",
        "## 모집단에서 30개 표본 추출\n",
        "sample_data=norm_.rvs(30)\n",
        "sample_mean = np.mean(sample_data)\n",
        "sample_std = np.std(sample_data, ddof=1)\n",
        "\n",
        "## 카이제곱분포를 활용한 신뢰구간 추정\n",
        "df = 30-1\n",
        "chi_ = st.chi2(df)\n",
        "t_025 = chi_.ppf(0.025) \n",
        "t_975 = chi_.ppf(0.975) \n",
        "L_= round(((df*sample_std**2)/t_975),2) ## 본문의 식과는 t_975, t_025순서가 바뀜(Scipy가 주는 값에 의해)\n",
        "U_= round(((df*sample_std**2)/t_025),2)\n",
        "print(\"{} < {} < {}\".format(L_, std**2, U_)) ## 결과:4.78 < 9 < 13.62"
      ],
      "execution_count": null,
      "outputs": [
        {
          "output_type": "stream",
          "text": [
            "5.88 < 9 < 16.74\n"
          ],
          "name": "stdout"
        }
      ]
    },
    {
      "cell_type": "code",
      "metadata": {
        "colab": {
          "base_uri": "https://localhost:8080/"
        },
        "id": "kwA0sEbtq2w4",
        "outputId": "5be69c84-02ef-4dd0-e6f7-4c760085ab21"
      },
      "source": [
        "# ANOVA\n",
        "#: Python의  scipy 모듈의 stats.f_oneway() 메소드를 사용하여 샘플의 크기가 서로 다른 3개 그룹 간 평균에 차이가 존재하는지 여부를 일원분산분석(one-way ANOVA)\n",
        "\n",
        "# [ 분산분석  검정의 가정사항 (assumptions of ANOVA test) ]\n",
        "\n",
        "#   (1) 독립성: 각 샘플 데이터는 서로 독립이다. \n",
        "#   (2) 정규성: 각 샘플 데이터는 정규분포를 따르는 모집단으로 부터 추출되었다. \n",
        "#   (3) 등분산성: 그룹들의 모집단의 분산은 모두 동일하다. \n",
        "\n",
        "import scipy.stats as st\n",
        "\n",
        "d1 = np.random.normal(0, 1, 50)\n",
        "d2 = np.random.normal(0, 1, 40)\n",
        "d3 = np.random.normal(5, 1, 30)\n",
        "\n",
        "print(st.f_oneway(d1, d2, d3))\n",
        "\n",
        "f_val, p_val = st.f_oneway(d1, d2, d3)\n",
        "print('f-statistic:', f_val.round(5))\n",
        "print('p-vale:', p_val)\n",
        "\n"
      ],
      "execution_count": null,
      "outputs": [
        {
          "output_type": "stream",
          "text": [
            "F_onewayResult(statistic=239.1906104982351, pvalue=4.60635778812442e-42)\n",
            "f-statistic: 239.19061\n",
            "p-vale: 4.60635778812442e-42\n"
          ],
          "name": "stdout"
        }
      ]
    },
    {
      "cell_type": "markdown",
      "metadata": {
        "id": "lX0yQAljU9CD"
      },
      "source": [
        "# Pandas Tutorial"
      ]
    },
    {
      "cell_type": "code",
      "metadata": {
        "colab": {
          "base_uri": "https://localhost:8080/",
          "height": 217
        },
        "id": "UDBqda4EuMs2",
        "outputId": "4c3c403d-0b80-45e0-a62e-43b49d52a038"
      },
      "source": [
        "# 데이터를 로드하라. 데이터는 \\t을 기준으로 구분되어있다.\n",
        "import pandas as pd\n",
        "url =\"https://raw.githubusercontent.com/Datamanim/pandas/main/lol.csv\"\n",
        "df=pd.read_csv(url, sep=\"\\t\")\n",
        "df.head(5)"
      ],
      "execution_count": null,
      "outputs": [
        {
          "output_type": "execute_result",
          "data": {
            "text/html": [
              "<div>\n",
              "<style scoped>\n",
              "    .dataframe tbody tr th:only-of-type {\n",
              "        vertical-align: middle;\n",
              "    }\n",
              "\n",
              "    .dataframe tbody tr th {\n",
              "        vertical-align: top;\n",
              "    }\n",
              "\n",
              "    .dataframe thead th {\n",
              "        text-align: right;\n",
              "    }\n",
              "</style>\n",
              "<table border=\"1\" class=\"dataframe\">\n",
              "  <thead>\n",
              "    <tr style=\"text-align: right;\">\n",
              "      <th></th>\n",
              "      <th>gameId</th>\n",
              "      <th>creationTime</th>\n",
              "      <th>gameDuration</th>\n",
              "      <th>seasonId</th>\n",
              "      <th>winner</th>\n",
              "      <th>firstBlood</th>\n",
              "      <th>firstTower</th>\n",
              "      <th>firstInhibitor</th>\n",
              "      <th>firstBaron</th>\n",
              "      <th>firstDragon</th>\n",
              "      <th>firstRiftHerald</th>\n",
              "      <th>t1_champ1id</th>\n",
              "      <th>t1_champ1_sum1</th>\n",
              "      <th>t1_champ1_sum2</th>\n",
              "      <th>t1_champ2id</th>\n",
              "      <th>t1_champ2_sum1</th>\n",
              "      <th>t1_champ2_sum2</th>\n",
              "      <th>t1_champ3id</th>\n",
              "      <th>t1_champ3_sum1</th>\n",
              "      <th>t1_champ3_sum2</th>\n",
              "      <th>t1_champ4id</th>\n",
              "      <th>t1_champ4_sum1</th>\n",
              "      <th>t1_champ4_sum2</th>\n",
              "      <th>t1_champ5id</th>\n",
              "      <th>t1_champ5_sum1</th>\n",
              "      <th>t1_champ5_sum2</th>\n",
              "      <th>t1_towerKills</th>\n",
              "      <th>t1_inhibitorKills</th>\n",
              "      <th>t1_baronKills</th>\n",
              "      <th>t1_dragonKills</th>\n",
              "      <th>t1_riftHeraldKills</th>\n",
              "      <th>t1_ban1</th>\n",
              "      <th>t1_ban2</th>\n",
              "      <th>t1_ban3</th>\n",
              "      <th>t1_ban4</th>\n",
              "      <th>t1_ban5</th>\n",
              "      <th>t2_champ1id</th>\n",
              "      <th>t2_champ1_sum1</th>\n",
              "      <th>t2_champ1_sum2</th>\n",
              "      <th>t2_champ2id</th>\n",
              "      <th>t2_champ2_sum1</th>\n",
              "      <th>t2_champ2_sum2</th>\n",
              "      <th>t2_champ3id</th>\n",
              "      <th>t2_champ3_sum1</th>\n",
              "      <th>t2_champ3_sum2</th>\n",
              "      <th>t2_champ4id</th>\n",
              "      <th>t2_champ4_sum1</th>\n",
              "      <th>t2_champ4_sum2</th>\n",
              "      <th>t2_champ5id</th>\n",
              "      <th>t2_champ5_sum1</th>\n",
              "      <th>t2_champ5_sum2</th>\n",
              "      <th>t2_towerKills</th>\n",
              "      <th>t2_inhibitorKills</th>\n",
              "      <th>t2_baronKills</th>\n",
              "      <th>t2_dragonKills</th>\n",
              "      <th>t2_riftHeraldKills</th>\n",
              "      <th>t2_ban1</th>\n",
              "      <th>t2_ban2</th>\n",
              "      <th>t2_ban3</th>\n",
              "      <th>t2_ban4</th>\n",
              "      <th>t2_ban5</th>\n",
              "    </tr>\n",
              "  </thead>\n",
              "  <tbody>\n",
              "    <tr>\n",
              "      <th>0</th>\n",
              "      <td>3326086514</td>\n",
              "      <td>1504279457970</td>\n",
              "      <td>1949</td>\n",
              "      <td>9</td>\n",
              "      <td>1</td>\n",
              "      <td>2</td>\n",
              "      <td>1</td>\n",
              "      <td>1</td>\n",
              "      <td>1</td>\n",
              "      <td>1</td>\n",
              "      <td>2</td>\n",
              "      <td>8</td>\n",
              "      <td>12</td>\n",
              "      <td>4</td>\n",
              "      <td>432</td>\n",
              "      <td>3</td>\n",
              "      <td>4</td>\n",
              "      <td>96</td>\n",
              "      <td>4</td>\n",
              "      <td>7</td>\n",
              "      <td>11</td>\n",
              "      <td>11</td>\n",
              "      <td>6</td>\n",
              "      <td>112</td>\n",
              "      <td>4</td>\n",
              "      <td>14</td>\n",
              "      <td>11</td>\n",
              "      <td>1</td>\n",
              "      <td>2</td>\n",
              "      <td>3</td>\n",
              "      <td>0</td>\n",
              "      <td>92</td>\n",
              "      <td>40</td>\n",
              "      <td>69</td>\n",
              "      <td>119</td>\n",
              "      <td>141</td>\n",
              "      <td>104</td>\n",
              "      <td>11</td>\n",
              "      <td>4</td>\n",
              "      <td>498</td>\n",
              "      <td>4</td>\n",
              "      <td>7</td>\n",
              "      <td>122</td>\n",
              "      <td>6</td>\n",
              "      <td>4</td>\n",
              "      <td>238</td>\n",
              "      <td>14</td>\n",
              "      <td>4</td>\n",
              "      <td>412</td>\n",
              "      <td>4</td>\n",
              "      <td>3</td>\n",
              "      <td>5</td>\n",
              "      <td>0</td>\n",
              "      <td>0</td>\n",
              "      <td>1</td>\n",
              "      <td>1</td>\n",
              "      <td>114</td>\n",
              "      <td>67</td>\n",
              "      <td>43</td>\n",
              "      <td>16</td>\n",
              "      <td>51</td>\n",
              "    </tr>\n",
              "    <tr>\n",
              "      <th>1</th>\n",
              "      <td>3229566029</td>\n",
              "      <td>1497848803862</td>\n",
              "      <td>1851</td>\n",
              "      <td>9</td>\n",
              "      <td>1</td>\n",
              "      <td>1</td>\n",
              "      <td>1</td>\n",
              "      <td>1</td>\n",
              "      <td>0</td>\n",
              "      <td>1</td>\n",
              "      <td>1</td>\n",
              "      <td>119</td>\n",
              "      <td>7</td>\n",
              "      <td>4</td>\n",
              "      <td>39</td>\n",
              "      <td>12</td>\n",
              "      <td>4</td>\n",
              "      <td>76</td>\n",
              "      <td>4</td>\n",
              "      <td>3</td>\n",
              "      <td>10</td>\n",
              "      <td>4</td>\n",
              "      <td>14</td>\n",
              "      <td>35</td>\n",
              "      <td>4</td>\n",
              "      <td>11</td>\n",
              "      <td>10</td>\n",
              "      <td>4</td>\n",
              "      <td>0</td>\n",
              "      <td>2</td>\n",
              "      <td>1</td>\n",
              "      <td>51</td>\n",
              "      <td>122</td>\n",
              "      <td>17</td>\n",
              "      <td>498</td>\n",
              "      <td>19</td>\n",
              "      <td>54</td>\n",
              "      <td>4</td>\n",
              "      <td>12</td>\n",
              "      <td>25</td>\n",
              "      <td>4</td>\n",
              "      <td>14</td>\n",
              "      <td>120</td>\n",
              "      <td>11</td>\n",
              "      <td>4</td>\n",
              "      <td>157</td>\n",
              "      <td>4</td>\n",
              "      <td>14</td>\n",
              "      <td>92</td>\n",
              "      <td>4</td>\n",
              "      <td>7</td>\n",
              "      <td>2</td>\n",
              "      <td>0</td>\n",
              "      <td>0</td>\n",
              "      <td>0</td>\n",
              "      <td>0</td>\n",
              "      <td>11</td>\n",
              "      <td>67</td>\n",
              "      <td>238</td>\n",
              "      <td>51</td>\n",
              "      <td>420</td>\n",
              "    </tr>\n",
              "    <tr>\n",
              "      <th>2</th>\n",
              "      <td>3327363504</td>\n",
              "      <td>1504360103310</td>\n",
              "      <td>1493</td>\n",
              "      <td>9</td>\n",
              "      <td>1</td>\n",
              "      <td>2</td>\n",
              "      <td>1</td>\n",
              "      <td>1</td>\n",
              "      <td>1</td>\n",
              "      <td>2</td>\n",
              "      <td>0</td>\n",
              "      <td>18</td>\n",
              "      <td>4</td>\n",
              "      <td>7</td>\n",
              "      <td>141</td>\n",
              "      <td>11</td>\n",
              "      <td>4</td>\n",
              "      <td>267</td>\n",
              "      <td>3</td>\n",
              "      <td>4</td>\n",
              "      <td>68</td>\n",
              "      <td>4</td>\n",
              "      <td>12</td>\n",
              "      <td>38</td>\n",
              "      <td>12</td>\n",
              "      <td>4</td>\n",
              "      <td>8</td>\n",
              "      <td>1</td>\n",
              "      <td>1</td>\n",
              "      <td>1</td>\n",
              "      <td>0</td>\n",
              "      <td>117</td>\n",
              "      <td>40</td>\n",
              "      <td>29</td>\n",
              "      <td>16</td>\n",
              "      <td>53</td>\n",
              "      <td>69</td>\n",
              "      <td>4</td>\n",
              "      <td>7</td>\n",
              "      <td>412</td>\n",
              "      <td>14</td>\n",
              "      <td>4</td>\n",
              "      <td>126</td>\n",
              "      <td>4</td>\n",
              "      <td>12</td>\n",
              "      <td>24</td>\n",
              "      <td>4</td>\n",
              "      <td>11</td>\n",
              "      <td>22</td>\n",
              "      <td>7</td>\n",
              "      <td>4</td>\n",
              "      <td>2</td>\n",
              "      <td>0</td>\n",
              "      <td>0</td>\n",
              "      <td>1</td>\n",
              "      <td>0</td>\n",
              "      <td>157</td>\n",
              "      <td>238</td>\n",
              "      <td>121</td>\n",
              "      <td>57</td>\n",
              "      <td>28</td>\n",
              "    </tr>\n",
              "    <tr>\n",
              "      <th>3</th>\n",
              "      <td>3326856598</td>\n",
              "      <td>1504348503996</td>\n",
              "      <td>1758</td>\n",
              "      <td>9</td>\n",
              "      <td>1</td>\n",
              "      <td>1</td>\n",
              "      <td>1</td>\n",
              "      <td>1</td>\n",
              "      <td>1</td>\n",
              "      <td>1</td>\n",
              "      <td>0</td>\n",
              "      <td>57</td>\n",
              "      <td>4</td>\n",
              "      <td>12</td>\n",
              "      <td>63</td>\n",
              "      <td>4</td>\n",
              "      <td>14</td>\n",
              "      <td>29</td>\n",
              "      <td>4</td>\n",
              "      <td>7</td>\n",
              "      <td>61</td>\n",
              "      <td>4</td>\n",
              "      <td>1</td>\n",
              "      <td>36</td>\n",
              "      <td>11</td>\n",
              "      <td>4</td>\n",
              "      <td>9</td>\n",
              "      <td>2</td>\n",
              "      <td>1</td>\n",
              "      <td>2</td>\n",
              "      <td>0</td>\n",
              "      <td>238</td>\n",
              "      <td>67</td>\n",
              "      <td>516</td>\n",
              "      <td>114</td>\n",
              "      <td>31</td>\n",
              "      <td>90</td>\n",
              "      <td>14</td>\n",
              "      <td>4</td>\n",
              "      <td>19</td>\n",
              "      <td>11</td>\n",
              "      <td>4</td>\n",
              "      <td>412</td>\n",
              "      <td>4</td>\n",
              "      <td>3</td>\n",
              "      <td>92</td>\n",
              "      <td>4</td>\n",
              "      <td>14</td>\n",
              "      <td>22</td>\n",
              "      <td>4</td>\n",
              "      <td>7</td>\n",
              "      <td>0</td>\n",
              "      <td>0</td>\n",
              "      <td>0</td>\n",
              "      <td>0</td>\n",
              "      <td>0</td>\n",
              "      <td>164</td>\n",
              "      <td>18</td>\n",
              "      <td>141</td>\n",
              "      <td>40</td>\n",
              "      <td>51</td>\n",
              "    </tr>\n",
              "    <tr>\n",
              "      <th>4</th>\n",
              "      <td>3330080762</td>\n",
              "      <td>1504554410899</td>\n",
              "      <td>2094</td>\n",
              "      <td>9</td>\n",
              "      <td>1</td>\n",
              "      <td>2</td>\n",
              "      <td>1</td>\n",
              "      <td>1</td>\n",
              "      <td>1</td>\n",
              "      <td>1</td>\n",
              "      <td>0</td>\n",
              "      <td>19</td>\n",
              "      <td>4</td>\n",
              "      <td>12</td>\n",
              "      <td>29</td>\n",
              "      <td>11</td>\n",
              "      <td>4</td>\n",
              "      <td>40</td>\n",
              "      <td>4</td>\n",
              "      <td>3</td>\n",
              "      <td>119</td>\n",
              "      <td>4</td>\n",
              "      <td>7</td>\n",
              "      <td>134</td>\n",
              "      <td>7</td>\n",
              "      <td>4</td>\n",
              "      <td>9</td>\n",
              "      <td>2</td>\n",
              "      <td>1</td>\n",
              "      <td>3</td>\n",
              "      <td>0</td>\n",
              "      <td>90</td>\n",
              "      <td>64</td>\n",
              "      <td>412</td>\n",
              "      <td>25</td>\n",
              "      <td>31</td>\n",
              "      <td>37</td>\n",
              "      <td>3</td>\n",
              "      <td>4</td>\n",
              "      <td>59</td>\n",
              "      <td>4</td>\n",
              "      <td>12</td>\n",
              "      <td>141</td>\n",
              "      <td>11</td>\n",
              "      <td>4</td>\n",
              "      <td>38</td>\n",
              "      <td>4</td>\n",
              "      <td>12</td>\n",
              "      <td>51</td>\n",
              "      <td>4</td>\n",
              "      <td>7</td>\n",
              "      <td>3</td>\n",
              "      <td>0</td>\n",
              "      <td>0</td>\n",
              "      <td>1</td>\n",
              "      <td>0</td>\n",
              "      <td>86</td>\n",
              "      <td>11</td>\n",
              "      <td>201</td>\n",
              "      <td>122</td>\n",
              "      <td>18</td>\n",
              "    </tr>\n",
              "  </tbody>\n",
              "</table>\n",
              "</div>"
            ],
            "text/plain": [
              "       gameId   creationTime  gameDuration  ...  t2_ban3  t2_ban4  t2_ban5\n",
              "0  3326086514  1504279457970          1949  ...       43       16       51\n",
              "1  3229566029  1497848803862          1851  ...      238       51      420\n",
              "2  3327363504  1504360103310          1493  ...      121       57       28\n",
              "3  3326856598  1504348503996          1758  ...      141       40       51\n",
              "4  3330080762  1504554410899          2094  ...      201      122       18\n",
              "\n",
              "[5 rows x 61 columns]"
            ]
          },
          "metadata": {
            "tags": []
          },
          "execution_count": 8
        }
      ]
    },
    {
      "cell_type": "code",
      "metadata": {
        "colab": {
          "base_uri": "https://localhost:8080/"
        },
        "id": "V3atqfoLVVn-",
        "outputId": "0cd27936-e840-411a-dd65-4791fe828ac2"
      },
      "source": [
        "# 데이터의 행과 열의 갯수를 파악하라\n",
        "print(\"행\", df.shape[0])\n",
        "print(\"열\", df.shape[1])"
      ],
      "execution_count": null,
      "outputs": [
        {
          "output_type": "stream",
          "text": [
            "행 51490\n",
            "열 61\n"
          ],
          "name": "stdout"
        }
      ]
    },
    {
      "cell_type": "code",
      "metadata": {
        "colab": {
          "base_uri": "https://localhost:8080/"
        },
        "id": "hZC4H0U6V2bq",
        "outputId": "6f2d4bce-9141-4315-8709-51012e062b3c"
      },
      "source": [
        "# 전체 컬럼을 출력하라\n",
        "df.columns"
      ],
      "execution_count": null,
      "outputs": [
        {
          "output_type": "execute_result",
          "data": {
            "text/plain": [
              "Index(['gameId', 'creationTime', 'gameDuration', 'seasonId', 'winner',\n",
              "       'firstBlood', 'firstTower', 'firstInhibitor', 'firstBaron',\n",
              "       'firstDragon', 'firstRiftHerald', 't1_champ1id', 't1_champ1_sum1',\n",
              "       't1_champ1_sum2', 't1_champ2id', 't1_champ2_sum1', 't1_champ2_sum2',\n",
              "       't1_champ3id', 't1_champ3_sum1', 't1_champ3_sum2', 't1_champ4id',\n",
              "       't1_champ4_sum1', 't1_champ4_sum2', 't1_champ5id', 't1_champ5_sum1',\n",
              "       't1_champ5_sum2', 't1_towerKills', 't1_inhibitorKills', 't1_baronKills',\n",
              "       't1_dragonKills', 't1_riftHeraldKills', 't1_ban1', 't1_ban2', 't1_ban3',\n",
              "       't1_ban4', 't1_ban5', 't2_champ1id', 't2_champ1_sum1', 't2_champ1_sum2',\n",
              "       't2_champ2id', 't2_champ2_sum1', 't2_champ2_sum2', 't2_champ3id',\n",
              "       't2_champ3_sum1', 't2_champ3_sum2', 't2_champ4id', 't2_champ4_sum1',\n",
              "       't2_champ4_sum2', 't2_champ5id', 't2_champ5_sum1', 't2_champ5_sum2',\n",
              "       't2_towerKills', 't2_inhibitorKills', 't2_baronKills', 't2_dragonKills',\n",
              "       't2_riftHeraldKills', 't2_ban1', 't2_ban2', 't2_ban3', 't2_ban4',\n",
              "       't2_ban5'],\n",
              "      dtype='object')"
            ]
          },
          "metadata": {
            "tags": []
          },
          "execution_count": 10
        }
      ]
    },
    {
      "cell_type": "code",
      "metadata": {
        "colab": {
          "base_uri": "https://localhost:8080/",
          "height": 34
        },
        "id": "Au1PGZVMWHP8",
        "outputId": "12394b51-341a-4225-fe10-b1a08d0e2ee0"
      },
      "source": [
        "# 6번째 컬럼명을 출력하라\n",
        "df.columns[5]"
      ],
      "execution_count": null,
      "outputs": [
        {
          "output_type": "execute_result",
          "data": {
            "application/vnd.google.colaboratory.intrinsic+json": {
              "type": "string"
            },
            "text/plain": [
              "'firstBlood'"
            ]
          },
          "metadata": {
            "tags": []
          },
          "execution_count": 11
        }
      ]
    },
    {
      "cell_type": "code",
      "metadata": {
        "colab": {
          "base_uri": "https://localhost:8080/"
        },
        "id": "Oyjp5oPTWNvb",
        "outputId": "13d24168-f2cc-4af0-efee-d9121304662d"
      },
      "source": [
        "# 데이터셋의 인덱스 구성은 어떤가\n",
        "df.index"
      ],
      "execution_count": null,
      "outputs": [
        {
          "output_type": "execute_result",
          "data": {
            "text/plain": [
              "RangeIndex(start=0, stop=51490, step=1)"
            ]
          },
          "metadata": {
            "tags": []
          },
          "execution_count": 12
        }
      ]
    },
    {
      "cell_type": "code",
      "metadata": {
        "colab": {
          "base_uri": "https://localhost:8080/"
        },
        "id": "0nkWUQZ-Wi7X",
        "outputId": "c9f2e5a7-cf6e-45e7-fd48-ea3267643ac5"
      },
      "source": [
        "df.iloc[2,5]"
      ],
      "execution_count": null,
      "outputs": [
        {
          "output_type": "execute_result",
          "data": {
            "text/plain": [
              "2"
            ]
          },
          "metadata": {
            "tags": []
          },
          "execution_count": 13
        }
      ]
    },
    {
      "cell_type": "code",
      "metadata": {
        "colab": {
          "base_uri": "https://localhost:8080/",
          "height": 590
        },
        "id": "tQGrYEkVWoPN",
        "outputId": "66f38e67-6407-43f5-949a-7da1db7df0d1"
      },
      "source": [
        "url1 = \"https://raw.githubusercontent.com/Datamanim/pandas/main/Jeju.csv\"\n",
        "\n",
        "df1 = pd.read_csv(url1, encoding = \"euc-kr\")\n",
        "df1"
      ],
      "execution_count": null,
      "outputs": [
        {
          "output_type": "execute_result",
          "data": {
            "text/html": [
              "<div>\n",
              "<style scoped>\n",
              "    .dataframe tbody tr th:only-of-type {\n",
              "        vertical-align: middle;\n",
              "    }\n",
              "\n",
              "    .dataframe tbody tr th {\n",
              "        vertical-align: top;\n",
              "    }\n",
              "\n",
              "    .dataframe thead th {\n",
              "        text-align: right;\n",
              "    }\n",
              "</style>\n",
              "<table border=\"1\" class=\"dataframe\">\n",
              "  <thead>\n",
              "    <tr style=\"text-align: right;\">\n",
              "      <th></th>\n",
              "      <th>id</th>\n",
              "      <th>일자</th>\n",
              "      <th>시도명</th>\n",
              "      <th>읍면동명</th>\n",
              "      <th>거주인구</th>\n",
              "      <th>근무인구</th>\n",
              "      <th>방문인구</th>\n",
              "      <th>총 유동인구</th>\n",
              "      <th>평균 속도</th>\n",
              "      <th>평균 소요 시간</th>\n",
              "      <th>평균 기온</th>\n",
              "      <th>일강수량</th>\n",
              "      <th>평균 풍속</th>\n",
              "    </tr>\n",
              "  </thead>\n",
              "  <tbody>\n",
              "    <tr>\n",
              "      <th>0</th>\n",
              "      <td>22448</td>\n",
              "      <td>2018-01-01</td>\n",
              "      <td>제주시</td>\n",
              "      <td>도두동</td>\n",
              "      <td>32249.987</td>\n",
              "      <td>3418.266</td>\n",
              "      <td>102709.092</td>\n",
              "      <td>138377.345</td>\n",
              "      <td>39.556</td>\n",
              "      <td>29.167</td>\n",
              "      <td>5.0</td>\n",
              "      <td>0.0</td>\n",
              "      <td>2.50</td>\n",
              "    </tr>\n",
              "    <tr>\n",
              "      <th>1</th>\n",
              "      <td>22449</td>\n",
              "      <td>2018-01-01</td>\n",
              "      <td>제주시</td>\n",
              "      <td>외도동</td>\n",
              "      <td>213500.997</td>\n",
              "      <td>10341.172</td>\n",
              "      <td>112692.789</td>\n",
              "      <td>336534.958</td>\n",
              "      <td>32.900</td>\n",
              "      <td>30.900</td>\n",
              "      <td>5.0</td>\n",
              "      <td>0.0</td>\n",
              "      <td>2.50</td>\n",
              "    </tr>\n",
              "    <tr>\n",
              "      <th>2</th>\n",
              "      <td>22450</td>\n",
              "      <td>2018-01-01</td>\n",
              "      <td>제주시</td>\n",
              "      <td>이도2동</td>\n",
              "      <td>1212382.218</td>\n",
              "      <td>96920.834</td>\n",
              "      <td>541194.481</td>\n",
              "      <td>1850497.533</td>\n",
              "      <td>29.538</td>\n",
              "      <td>35.692</td>\n",
              "      <td>2.9</td>\n",
              "      <td>0.0</td>\n",
              "      <td>2.40</td>\n",
              "    </tr>\n",
              "    <tr>\n",
              "      <th>3</th>\n",
              "      <td>22451</td>\n",
              "      <td>2018-01-01</td>\n",
              "      <td>제주시</td>\n",
              "      <td>일도1동</td>\n",
              "      <td>33991.653</td>\n",
              "      <td>6034.253</td>\n",
              "      <td>72155.919</td>\n",
              "      <td>112181.825</td>\n",
              "      <td>30.000</td>\n",
              "      <td>23.500</td>\n",
              "      <td>2.9</td>\n",
              "      <td>0.0</td>\n",
              "      <td>2.40</td>\n",
              "    </tr>\n",
              "    <tr>\n",
              "      <th>4</th>\n",
              "      <td>22452</td>\n",
              "      <td>2018-01-01</td>\n",
              "      <td>서귀포시</td>\n",
              "      <td>대천동</td>\n",
              "      <td>155036.925</td>\n",
              "      <td>9403.969</td>\n",
              "      <td>150882.409</td>\n",
              "      <td>315323.303</td>\n",
              "      <td>41.583</td>\n",
              "      <td>14.375</td>\n",
              "      <td>5.1</td>\n",
              "      <td>0.0</td>\n",
              "      <td>2.30</td>\n",
              "    </tr>\n",
              "    <tr>\n",
              "      <th>...</th>\n",
              "      <td>...</td>\n",
              "      <td>...</td>\n",
              "      <td>...</td>\n",
              "      <td>...</td>\n",
              "      <td>...</td>\n",
              "      <td>...</td>\n",
              "      <td>...</td>\n",
              "      <td>...</td>\n",
              "      <td>...</td>\n",
              "      <td>...</td>\n",
              "      <td>...</td>\n",
              "      <td>...</td>\n",
              "      <td>...</td>\n",
              "    </tr>\n",
              "    <tr>\n",
              "      <th>9616</th>\n",
              "      <td>32064</td>\n",
              "      <td>2020-04-30</td>\n",
              "      <td>서귀포시</td>\n",
              "      <td>표선면</td>\n",
              "      <td>228260.005</td>\n",
              "      <td>16891.732</td>\n",
              "      <td>152832.449</td>\n",
              "      <td>397984.186</td>\n",
              "      <td>44.514</td>\n",
              "      <td>34.054</td>\n",
              "      <td>18.1</td>\n",
              "      <td>0.0</td>\n",
              "      <td>4.70</td>\n",
              "    </tr>\n",
              "    <tr>\n",
              "      <th>9617</th>\n",
              "      <td>32065</td>\n",
              "      <td>2020-04-30</td>\n",
              "      <td>제주시</td>\n",
              "      <td>한림읍</td>\n",
              "      <td>459959.064</td>\n",
              "      <td>26007.122</td>\n",
              "      <td>249700.419</td>\n",
              "      <td>735666.605</td>\n",
              "      <td>48.609</td>\n",
              "      <td>61.377</td>\n",
              "      <td>18.0</td>\n",
              "      <td>0.0</td>\n",
              "      <td>4.35</td>\n",
              "    </tr>\n",
              "    <tr>\n",
              "      <th>9618</th>\n",
              "      <td>32066</td>\n",
              "      <td>2020-04-30</td>\n",
              "      <td>제주시</td>\n",
              "      <td>도두동</td>\n",
              "      <td>28397.481</td>\n",
              "      <td>3144.895</td>\n",
              "      <td>84052.697</td>\n",
              "      <td>115595.073</td>\n",
              "      <td>41.053</td>\n",
              "      <td>29.421</td>\n",
              "      <td>20.3</td>\n",
              "      <td>0.0</td>\n",
              "      <td>3.00</td>\n",
              "    </tr>\n",
              "    <tr>\n",
              "      <th>9619</th>\n",
              "      <td>32067</td>\n",
              "      <td>2020-04-30</td>\n",
              "      <td>서귀포시</td>\n",
              "      <td>안덕면</td>\n",
              "      <td>348037.846</td>\n",
              "      <td>29106.286</td>\n",
              "      <td>251129.660</td>\n",
              "      <td>628273.792</td>\n",
              "      <td>46.595</td>\n",
              "      <td>49.189</td>\n",
              "      <td>17.6</td>\n",
              "      <td>0.0</td>\n",
              "      <td>3.50</td>\n",
              "    </tr>\n",
              "    <tr>\n",
              "      <th>9620</th>\n",
              "      <td>32068</td>\n",
              "      <td>2020-04-30</td>\n",
              "      <td>제주시</td>\n",
              "      <td>연동</td>\n",
              "      <td>1010643.372</td>\n",
              "      <td>65673.477</td>\n",
              "      <td>447622.068</td>\n",
              "      <td>1523938.917</td>\n",
              "      <td>40.863</td>\n",
              "      <td>27.765</td>\n",
              "      <td>14.1</td>\n",
              "      <td>0.0</td>\n",
              "      <td>4.80</td>\n",
              "    </tr>\n",
              "  </tbody>\n",
              "</table>\n",
              "<p>9621 rows × 13 columns</p>\n",
              "</div>"
            ],
            "text/plain": [
              "         id          일자   시도명  읍면동명  ...  평균 소요 시간  평균 기온  일강수량  평균 풍속\n",
              "0     22448  2018-01-01   제주시   도두동  ...    29.167    5.0   0.0   2.50\n",
              "1     22449  2018-01-01   제주시   외도동  ...    30.900    5.0   0.0   2.50\n",
              "2     22450  2018-01-01   제주시  이도2동  ...    35.692    2.9   0.0   2.40\n",
              "3     22451  2018-01-01   제주시  일도1동  ...    23.500    2.9   0.0   2.40\n",
              "4     22452  2018-01-01  서귀포시   대천동  ...    14.375    5.1   0.0   2.30\n",
              "...     ...         ...   ...   ...  ...       ...    ...   ...    ...\n",
              "9616  32064  2020-04-30  서귀포시   표선면  ...    34.054   18.1   0.0   4.70\n",
              "9617  32065  2020-04-30   제주시   한림읍  ...    61.377   18.0   0.0   4.35\n",
              "9618  32066  2020-04-30   제주시   도두동  ...    29.421   20.3   0.0   3.00\n",
              "9619  32067  2020-04-30  서귀포시   안덕면  ...    49.189   17.6   0.0   3.50\n",
              "9620  32068  2020-04-30   제주시    연동  ...    27.765   14.1   0.0   4.80\n",
              "\n",
              "[9621 rows x 13 columns]"
            ]
          },
          "metadata": {
            "tags": []
          },
          "execution_count": 14
        }
      ]
    },
    {
      "cell_type": "code",
      "metadata": {
        "colab": {
          "base_uri": "https://localhost:8080/",
          "height": 157
        },
        "id": "ySJHa9jHW30W",
        "outputId": "ff7715de-ae1e-4c28-c7d7-4a75794a7eba"
      },
      "source": [
        "# 데이터 마지막 3개행을 출력하라\n",
        "df.tail(3)"
      ],
      "execution_count": null,
      "outputs": [
        {
          "output_type": "execute_result",
          "data": {
            "text/html": [
              "<div>\n",
              "<style scoped>\n",
              "    .dataframe tbody tr th:only-of-type {\n",
              "        vertical-align: middle;\n",
              "    }\n",
              "\n",
              "    .dataframe tbody tr th {\n",
              "        vertical-align: top;\n",
              "    }\n",
              "\n",
              "    .dataframe thead th {\n",
              "        text-align: right;\n",
              "    }\n",
              "</style>\n",
              "<table border=\"1\" class=\"dataframe\">\n",
              "  <thead>\n",
              "    <tr style=\"text-align: right;\">\n",
              "      <th></th>\n",
              "      <th>gameId</th>\n",
              "      <th>creationTime</th>\n",
              "      <th>gameDuration</th>\n",
              "      <th>seasonId</th>\n",
              "      <th>winner</th>\n",
              "      <th>firstBlood</th>\n",
              "      <th>firstTower</th>\n",
              "      <th>firstInhibitor</th>\n",
              "      <th>firstBaron</th>\n",
              "      <th>firstDragon</th>\n",
              "      <th>firstRiftHerald</th>\n",
              "      <th>t1_champ1id</th>\n",
              "      <th>t1_champ1_sum1</th>\n",
              "      <th>t1_champ1_sum2</th>\n",
              "      <th>t1_champ2id</th>\n",
              "      <th>t1_champ2_sum1</th>\n",
              "      <th>t1_champ2_sum2</th>\n",
              "      <th>t1_champ3id</th>\n",
              "      <th>t1_champ3_sum1</th>\n",
              "      <th>t1_champ3_sum2</th>\n",
              "      <th>t1_champ4id</th>\n",
              "      <th>t1_champ4_sum1</th>\n",
              "      <th>t1_champ4_sum2</th>\n",
              "      <th>t1_champ5id</th>\n",
              "      <th>t1_champ5_sum1</th>\n",
              "      <th>t1_champ5_sum2</th>\n",
              "      <th>t1_towerKills</th>\n",
              "      <th>t1_inhibitorKills</th>\n",
              "      <th>t1_baronKills</th>\n",
              "      <th>t1_dragonKills</th>\n",
              "      <th>t1_riftHeraldKills</th>\n",
              "      <th>t1_ban1</th>\n",
              "      <th>t1_ban2</th>\n",
              "      <th>t1_ban3</th>\n",
              "      <th>t1_ban4</th>\n",
              "      <th>t1_ban5</th>\n",
              "      <th>t2_champ1id</th>\n",
              "      <th>t2_champ1_sum1</th>\n",
              "      <th>t2_champ1_sum2</th>\n",
              "      <th>t2_champ2id</th>\n",
              "      <th>t2_champ2_sum1</th>\n",
              "      <th>t2_champ2_sum2</th>\n",
              "      <th>t2_champ3id</th>\n",
              "      <th>t2_champ3_sum1</th>\n",
              "      <th>t2_champ3_sum2</th>\n",
              "      <th>t2_champ4id</th>\n",
              "      <th>t2_champ4_sum1</th>\n",
              "      <th>t2_champ4_sum2</th>\n",
              "      <th>t2_champ5id</th>\n",
              "      <th>t2_champ5_sum1</th>\n",
              "      <th>t2_champ5_sum2</th>\n",
              "      <th>t2_towerKills</th>\n",
              "      <th>t2_inhibitorKills</th>\n",
              "      <th>t2_baronKills</th>\n",
              "      <th>t2_dragonKills</th>\n",
              "      <th>t2_riftHeraldKills</th>\n",
              "      <th>t2_ban1</th>\n",
              "      <th>t2_ban2</th>\n",
              "      <th>t2_ban3</th>\n",
              "      <th>t2_ban4</th>\n",
              "      <th>t2_ban5</th>\n",
              "    </tr>\n",
              "  </thead>\n",
              "  <tbody>\n",
              "    <tr>\n",
              "      <th>51487</th>\n",
              "      <td>3322765040</td>\n",
              "      <td>1504029863961</td>\n",
              "      <td>2156</td>\n",
              "      <td>9</td>\n",
              "      <td>2</td>\n",
              "      <td>2</td>\n",
              "      <td>2</td>\n",
              "      <td>2</td>\n",
              "      <td>0</td>\n",
              "      <td>1</td>\n",
              "      <td>0</td>\n",
              "      <td>141</td>\n",
              "      <td>11</td>\n",
              "      <td>4</td>\n",
              "      <td>18</td>\n",
              "      <td>7</td>\n",
              "      <td>4</td>\n",
              "      <td>432</td>\n",
              "      <td>3</td>\n",
              "      <td>4</td>\n",
              "      <td>81</td>\n",
              "      <td>12</td>\n",
              "      <td>4</td>\n",
              "      <td>68</td>\n",
              "      <td>4</td>\n",
              "      <td>12</td>\n",
              "      <td>0</td>\n",
              "      <td>0</td>\n",
              "      <td>0</td>\n",
              "      <td>1</td>\n",
              "      <td>0</td>\n",
              "      <td>238</td>\n",
              "      <td>31</td>\n",
              "      <td>24</td>\n",
              "      <td>53</td>\n",
              "      <td>11</td>\n",
              "      <td>1</td>\n",
              "      <td>4</td>\n",
              "      <td>12</td>\n",
              "      <td>119</td>\n",
              "      <td>7</td>\n",
              "      <td>4</td>\n",
              "      <td>33</td>\n",
              "      <td>11</td>\n",
              "      <td>4</td>\n",
              "      <td>43</td>\n",
              "      <td>12</td>\n",
              "      <td>4</td>\n",
              "      <td>99</td>\n",
              "      <td>14</td>\n",
              "      <td>4</td>\n",
              "      <td>10</td>\n",
              "      <td>2</td>\n",
              "      <td>0</td>\n",
              "      <td>2</td>\n",
              "      <td>0</td>\n",
              "      <td>113</td>\n",
              "      <td>122</td>\n",
              "      <td>53</td>\n",
              "      <td>11</td>\n",
              "      <td>157</td>\n",
              "    </tr>\n",
              "    <tr>\n",
              "      <th>51488</th>\n",
              "      <td>3256675373</td>\n",
              "      <td>1499562036246</td>\n",
              "      <td>1475</td>\n",
              "      <td>9</td>\n",
              "      <td>2</td>\n",
              "      <td>2</td>\n",
              "      <td>2</td>\n",
              "      <td>2</td>\n",
              "      <td>0</td>\n",
              "      <td>2</td>\n",
              "      <td>0</td>\n",
              "      <td>121</td>\n",
              "      <td>11</td>\n",
              "      <td>4</td>\n",
              "      <td>236</td>\n",
              "      <td>4</td>\n",
              "      <td>7</td>\n",
              "      <td>420</td>\n",
              "      <td>4</td>\n",
              "      <td>12</td>\n",
              "      <td>201</td>\n",
              "      <td>4</td>\n",
              "      <td>3</td>\n",
              "      <td>99</td>\n",
              "      <td>4</td>\n",
              "      <td>14</td>\n",
              "      <td>0</td>\n",
              "      <td>0</td>\n",
              "      <td>0</td>\n",
              "      <td>0</td>\n",
              "      <td>0</td>\n",
              "      <td>119</td>\n",
              "      <td>64</td>\n",
              "      <td>51</td>\n",
              "      <td>157</td>\n",
              "      <td>29</td>\n",
              "      <td>21</td>\n",
              "      <td>7</td>\n",
              "      <td>4</td>\n",
              "      <td>56</td>\n",
              "      <td>4</td>\n",
              "      <td>12</td>\n",
              "      <td>25</td>\n",
              "      <td>4</td>\n",
              "      <td>14</td>\n",
              "      <td>30</td>\n",
              "      <td>12</td>\n",
              "      <td>4</td>\n",
              "      <td>11</td>\n",
              "      <td>11</td>\n",
              "      <td>4</td>\n",
              "      <td>11</td>\n",
              "      <td>3</td>\n",
              "      <td>0</td>\n",
              "      <td>1</td>\n",
              "      <td>0</td>\n",
              "      <td>154</td>\n",
              "      <td>39</td>\n",
              "      <td>51</td>\n",
              "      <td>90</td>\n",
              "      <td>114</td>\n",
              "    </tr>\n",
              "    <tr>\n",
              "      <th>51489</th>\n",
              "      <td>3317333020</td>\n",
              "      <td>1503612754059</td>\n",
              "      <td>1445</td>\n",
              "      <td>9</td>\n",
              "      <td>1</td>\n",
              "      <td>1</td>\n",
              "      <td>1</td>\n",
              "      <td>1</td>\n",
              "      <td>1</td>\n",
              "      <td>2</td>\n",
              "      <td>0</td>\n",
              "      <td>89</td>\n",
              "      <td>3</td>\n",
              "      <td>4</td>\n",
              "      <td>1</td>\n",
              "      <td>4</td>\n",
              "      <td>14</td>\n",
              "      <td>164</td>\n",
              "      <td>4</td>\n",
              "      <td>12</td>\n",
              "      <td>113</td>\n",
              "      <td>11</td>\n",
              "      <td>4</td>\n",
              "      <td>202</td>\n",
              "      <td>4</td>\n",
              "      <td>7</td>\n",
              "      <td>11</td>\n",
              "      <td>3</td>\n",
              "      <td>1</td>\n",
              "      <td>2</td>\n",
              "      <td>0</td>\n",
              "      <td>40</td>\n",
              "      <td>122</td>\n",
              "      <td>96</td>\n",
              "      <td>157</td>\n",
              "      <td>117</td>\n",
              "      <td>63</td>\n",
              "      <td>4</td>\n",
              "      <td>14</td>\n",
              "      <td>17</td>\n",
              "      <td>14</td>\n",
              "      <td>4</td>\n",
              "      <td>29</td>\n",
              "      <td>7</td>\n",
              "      <td>4</td>\n",
              "      <td>121</td>\n",
              "      <td>11</td>\n",
              "      <td>4</td>\n",
              "      <td>58</td>\n",
              "      <td>12</td>\n",
              "      <td>4</td>\n",
              "      <td>1</td>\n",
              "      <td>0</td>\n",
              "      <td>0</td>\n",
              "      <td>1</td>\n",
              "      <td>0</td>\n",
              "      <td>11</td>\n",
              "      <td>157</td>\n",
              "      <td>141</td>\n",
              "      <td>31</td>\n",
              "      <td>18</td>\n",
              "    </tr>\n",
              "  </tbody>\n",
              "</table>\n",
              "</div>"
            ],
            "text/plain": [
              "           gameId   creationTime  gameDuration  ...  t2_ban3  t2_ban4  t2_ban5\n",
              "51487  3322765040  1504029863961          2156  ...       53       11      157\n",
              "51488  3256675373  1499562036246          1475  ...       51       90      114\n",
              "51489  3317333020  1503612754059          1445  ...      141       31       18\n",
              "\n",
              "[3 rows x 61 columns]"
            ]
          },
          "metadata": {
            "tags": []
          },
          "execution_count": 15
        }
      ]
    },
    {
      "cell_type": "code",
      "metadata": {
        "colab": {
          "base_uri": "https://localhost:8080/"
        },
        "id": "a9m6vvHgXHsQ",
        "outputId": "1b0edf33-d0f3-4551-d5dd-21929ca4e074"
      },
      "source": [
        "# 수치형 변수를 가진 컬럼을 출력하라\n",
        "df1.select_dtypes(exclude=object).columns"
      ],
      "execution_count": null,
      "outputs": [
        {
          "output_type": "execute_result",
          "data": {
            "text/plain": [
              "Index(['id', '거주인구', '근무인구', '방문인구', '총 유동인구', '평균 속도', '평균 소요 시간', '평균 기온',\n",
              "       '일강수량', '평균 풍속'],\n",
              "      dtype='object')"
            ]
          },
          "metadata": {
            "tags": []
          },
          "execution_count": 16
        }
      ]
    },
    {
      "cell_type": "code",
      "metadata": {
        "colab": {
          "base_uri": "https://localhost:8080/"
        },
        "id": "lNqWOpLfXPoQ",
        "outputId": "5bee42ee-c356-448a-b938-d9e856bc1eb2"
      },
      "source": [
        "# 범주형 변수를 가진 컬럼을 출력하라\n",
        "df1.select_dtypes(include=object).columns"
      ],
      "execution_count": null,
      "outputs": [
        {
          "output_type": "execute_result",
          "data": {
            "text/plain": [
              "Index(['일자', '시도명', '읍면동명'], dtype='object')"
            ]
          },
          "metadata": {
            "tags": []
          },
          "execution_count": 17
        }
      ]
    },
    {
      "cell_type": "code",
      "metadata": {
        "colab": {
          "base_uri": "https://localhost:8080/"
        },
        "id": "Szdm4UtqXfNX",
        "outputId": "f76d7141-6e50-4caa-d79c-da2bfa33ee21"
      },
      "source": [
        "df1.isnull().sum()"
      ],
      "execution_count": null,
      "outputs": [
        {
          "output_type": "execute_result",
          "data": {
            "text/plain": [
              "id          0\n",
              "일자          0\n",
              "시도명         0\n",
              "읍면동명        0\n",
              "거주인구        0\n",
              "근무인구        0\n",
              "방문인구        0\n",
              "총 유동인구      0\n",
              "평균 속도       0\n",
              "평균 소요 시간    0\n",
              "평균 기온       0\n",
              "일강수량        0\n",
              "평균 풍속       0\n",
              "dtype: int64"
            ]
          },
          "metadata": {
            "tags": []
          },
          "execution_count": 18
        }
      ]
    },
    {
      "cell_type": "code",
      "metadata": {
        "colab": {
          "base_uri": "https://localhost:8080/"
        },
        "id": "qBucTZftXjbO",
        "outputId": "c4051994-ea9f-4f99-9d4d-dcb719e62cb2"
      },
      "source": [
        "df1.info()"
      ],
      "execution_count": null,
      "outputs": [
        {
          "output_type": "stream",
          "text": [
            "<class 'pandas.core.frame.DataFrame'>\n",
            "RangeIndex: 9621 entries, 0 to 9620\n",
            "Data columns (total 13 columns):\n",
            " #   Column    Non-Null Count  Dtype  \n",
            "---  ------    --------------  -----  \n",
            " 0   id        9621 non-null   int64  \n",
            " 1   일자        9621 non-null   object \n",
            " 2   시도명       9621 non-null   object \n",
            " 3   읍면동명      9621 non-null   object \n",
            " 4   거주인구      9621 non-null   float64\n",
            " 5   근무인구      9621 non-null   float64\n",
            " 6   방문인구      9621 non-null   float64\n",
            " 7   총 유동인구    9621 non-null   float64\n",
            " 8   평균 속도     9621 non-null   float64\n",
            " 9   평균 소요 시간  9621 non-null   float64\n",
            " 10  평균 기온     9621 non-null   float64\n",
            " 11  일강수량      9621 non-null   float64\n",
            " 12  평균 풍속     9621 non-null   float64\n",
            "dtypes: float64(9), int64(1), object(3)\n",
            "memory usage: 977.3+ KB\n"
          ],
          "name": "stdout"
        }
      ]
    },
    {
      "cell_type": "code",
      "metadata": {
        "colab": {
          "base_uri": "https://localhost:8080/",
          "height": 324
        },
        "id": "80UUkB0UXnNj",
        "outputId": "33006df3-2351-4739-b66a-b103690557f6"
      },
      "source": [
        "df1.describe()"
      ],
      "execution_count": null,
      "outputs": [
        {
          "output_type": "execute_result",
          "data": {
            "text/html": [
              "<div>\n",
              "<style scoped>\n",
              "    .dataframe tbody tr th:only-of-type {\n",
              "        vertical-align: middle;\n",
              "    }\n",
              "\n",
              "    .dataframe tbody tr th {\n",
              "        vertical-align: top;\n",
              "    }\n",
              "\n",
              "    .dataframe thead th {\n",
              "        text-align: right;\n",
              "    }\n",
              "</style>\n",
              "<table border=\"1\" class=\"dataframe\">\n",
              "  <thead>\n",
              "    <tr style=\"text-align: right;\">\n",
              "      <th></th>\n",
              "      <th>id</th>\n",
              "      <th>거주인구</th>\n",
              "      <th>근무인구</th>\n",
              "      <th>방문인구</th>\n",
              "      <th>총 유동인구</th>\n",
              "      <th>평균 속도</th>\n",
              "      <th>평균 소요 시간</th>\n",
              "      <th>평균 기온</th>\n",
              "      <th>일강수량</th>\n",
              "      <th>평균 풍속</th>\n",
              "    </tr>\n",
              "  </thead>\n",
              "  <tbody>\n",
              "    <tr>\n",
              "      <th>count</th>\n",
              "      <td>9621.000000</td>\n",
              "      <td>9.621000e+03</td>\n",
              "      <td>9621.000000</td>\n",
              "      <td>9621.000000</td>\n",
              "      <td>9.621000e+03</td>\n",
              "      <td>9621.000000</td>\n",
              "      <td>9621.000000</td>\n",
              "      <td>9621.000000</td>\n",
              "      <td>9621.000000</td>\n",
              "      <td>9621.000000</td>\n",
              "    </tr>\n",
              "    <tr>\n",
              "      <th>mean</th>\n",
              "      <td>27258.000000</td>\n",
              "      <td>3.174315e+05</td>\n",
              "      <td>35471.201510</td>\n",
              "      <td>195889.561802</td>\n",
              "      <td>5.487922e+05</td>\n",
              "      <td>41.109084</td>\n",
              "      <td>37.215873</td>\n",
              "      <td>13.550828</td>\n",
              "      <td>6.972426</td>\n",
              "      <td>2.753171</td>\n",
              "    </tr>\n",
              "    <tr>\n",
              "      <th>std</th>\n",
              "      <td>2777.487804</td>\n",
              "      <td>2.982079e+05</td>\n",
              "      <td>40381.214775</td>\n",
              "      <td>140706.090325</td>\n",
              "      <td>4.608802e+05</td>\n",
              "      <td>8.758631</td>\n",
              "      <td>12.993786</td>\n",
              "      <td>7.745515</td>\n",
              "      <td>27.617260</td>\n",
              "      <td>1.498538</td>\n",
              "    </tr>\n",
              "    <tr>\n",
              "      <th>min</th>\n",
              "      <td>22448.000000</td>\n",
              "      <td>9.305552e+03</td>\n",
              "      <td>1407.936000</td>\n",
              "      <td>11538.322000</td>\n",
              "      <td>2.225181e+04</td>\n",
              "      <td>24.333000</td>\n",
              "      <td>12.667000</td>\n",
              "      <td>-9.600000</td>\n",
              "      <td>0.000000</td>\n",
              "      <td>0.000000</td>\n",
              "    </tr>\n",
              "    <tr>\n",
              "      <th>25%</th>\n",
              "      <td>24853.000000</td>\n",
              "      <td>9.539939e+04</td>\n",
              "      <td>12074.498000</td>\n",
              "      <td>99632.153000</td>\n",
              "      <td>2.216910e+05</td>\n",
              "      <td>34.250000</td>\n",
              "      <td>27.889000</td>\n",
              "      <td>7.600000</td>\n",
              "      <td>0.000000</td>\n",
              "      <td>1.700000</td>\n",
              "    </tr>\n",
              "    <tr>\n",
              "      <th>50%</th>\n",
              "      <td>27258.000000</td>\n",
              "      <td>2.221105e+05</td>\n",
              "      <td>21960.928000</td>\n",
              "      <td>152805.335000</td>\n",
              "      <td>3.866935e+05</td>\n",
              "      <td>39.640000</td>\n",
              "      <td>34.500000</td>\n",
              "      <td>13.400000</td>\n",
              "      <td>0.000000</td>\n",
              "      <td>2.400000</td>\n",
              "    </tr>\n",
              "    <tr>\n",
              "      <th>75%</th>\n",
              "      <td>29663.000000</td>\n",
              "      <td>4.106671e+05</td>\n",
              "      <td>40192.032000</td>\n",
              "      <td>236325.109000</td>\n",
              "      <td>6.406918e+05</td>\n",
              "      <td>49.105000</td>\n",
              "      <td>46.176000</td>\n",
              "      <td>19.700000</td>\n",
              "      <td>1.500000</td>\n",
              "      <td>3.400000</td>\n",
              "    </tr>\n",
              "    <tr>\n",
              "      <th>max</th>\n",
              "      <td>32068.000000</td>\n",
              "      <td>1.364504e+06</td>\n",
              "      <td>263476.965000</td>\n",
              "      <td>723459.209000</td>\n",
              "      <td>2.066484e+06</td>\n",
              "      <td>103.000000</td>\n",
              "      <td>172.200000</td>\n",
              "      <td>30.400000</td>\n",
              "      <td>587.500000</td>\n",
              "      <td>13.333000</td>\n",
              "    </tr>\n",
              "  </tbody>\n",
              "</table>\n",
              "</div>"
            ],
            "text/plain": [
              "                 id          거주인구  ...         일강수량        평균 풍속\n",
              "count   9621.000000  9.621000e+03  ...  9621.000000  9621.000000\n",
              "mean   27258.000000  3.174315e+05  ...     6.972426     2.753171\n",
              "std     2777.487804  2.982079e+05  ...    27.617260     1.498538\n",
              "min    22448.000000  9.305552e+03  ...     0.000000     0.000000\n",
              "25%    24853.000000  9.539939e+04  ...     0.000000     1.700000\n",
              "50%    27258.000000  2.221105e+05  ...     0.000000     2.400000\n",
              "75%    29663.000000  4.106671e+05  ...     1.500000     3.400000\n",
              "max    32068.000000  1.364504e+06  ...   587.500000    13.333000\n",
              "\n",
              "[8 rows x 10 columns]"
            ]
          },
          "metadata": {
            "tags": []
          },
          "execution_count": 20
        }
      ]
    },
    {
      "cell_type": "code",
      "metadata": {
        "colab": {
          "base_uri": "https://localhost:8080/"
        },
        "id": "sO74rOUXXqbR",
        "outputId": "af85e26b-8131-4aff-a3c8-9d5c477604e0"
      },
      "source": [
        "df1[\"거주인구\"]"
      ],
      "execution_count": null,
      "outputs": [
        {
          "output_type": "execute_result",
          "data": {
            "text/plain": [
              "0         32249.987\n",
              "1        213500.997\n",
              "2       1212382.218\n",
              "3         33991.653\n",
              "4        155036.925\n",
              "           ...     \n",
              "9616     228260.005\n",
              "9617     459959.064\n",
              "9618      28397.481\n",
              "9619     348037.846\n",
              "9620    1010643.372\n",
              "Name: 거주인구, Length: 9621, dtype: float64"
            ]
          },
          "metadata": {
            "tags": []
          },
          "execution_count": 21
        }
      ]
    },
    {
      "cell_type": "code",
      "metadata": {
        "colab": {
          "base_uri": "https://localhost:8080/"
        },
        "id": "k8mfEgvGXuyx",
        "outputId": "33f19ac2-3b95-4537-c0a6-8e4ab299b215"
      },
      "source": [
        "df1[\"평균 속도\"].quantile(0.75) - df1[\"평균 속도\"].quantile(0.25)"
      ],
      "execution_count": null,
      "outputs": [
        {
          "output_type": "execute_result",
          "data": {
            "text/plain": [
              "14.854999999999997"
            ]
          },
          "metadata": {
            "tags": []
          },
          "execution_count": 22
        }
      ]
    },
    {
      "cell_type": "code",
      "metadata": {
        "colab": {
          "base_uri": "https://localhost:8080/"
        },
        "id": "AVRsJi_dX3Mg",
        "outputId": "374362a4-2742-4000-b642-5e1fabb126c6"
      },
      "source": [
        "# 읍면동명 컬럼의 유일값 갯수를 출력하라\n",
        "df1.읍면동명.nunique()"
      ],
      "execution_count": null,
      "outputs": [
        {
          "output_type": "execute_result",
          "data": {
            "text/plain": [
              "41"
            ]
          },
          "metadata": {
            "tags": []
          },
          "execution_count": 23
        }
      ]
    },
    {
      "cell_type": "code",
      "metadata": {
        "colab": {
          "base_uri": "https://localhost:8080/"
        },
        "id": "LxSITD_9tE7s",
        "outputId": "c511b190-804e-41d9-97cb-203ddad93e3a"
      },
      "source": [
        "df1.nunique()"
      ],
      "execution_count": null,
      "outputs": [
        {
          "output_type": "execute_result",
          "data": {
            "text/plain": [
              "id          9621\n",
              "일자           803\n",
              "시도명            2\n",
              "읍면동명          41\n",
              "거주인구        9621\n",
              "근무인구        9621\n",
              "방문인구        9621\n",
              "총 유동인구      9621\n",
              "평균 속도       3345\n",
              "평균 소요 시간    4046\n",
              "평균 기온       1324\n",
              "일강수량         506\n",
              "평균 풍속        439\n",
              "dtype: int64"
            ]
          },
          "metadata": {
            "tags": []
          },
          "execution_count": 24
        }
      ]
    },
    {
      "cell_type": "code",
      "metadata": {
        "colab": {
          "base_uri": "https://localhost:8080/"
        },
        "id": "Z1UkusbvtXJS",
        "outputId": "5fa54d03-af9d-43d1-cdc8-1effa31dad34"
      },
      "source": [
        "# 읍면동명 컬럼의 유일값을 모두 출력하라\n",
        "df1.읍면동명.unique()"
      ],
      "execution_count": null,
      "outputs": [
        {
          "output_type": "execute_result",
          "data": {
            "text/plain": [
              "array(['도두동', '외도동', '이도2동', '일도1동', '대천동', '서홍동', '한경면', '송산동', '조천읍',\n",
              "       '일도2동', '영천동', '예래동', '대륜동', '삼도1동', '이호동', '건입동', '중앙동', '삼양동',\n",
              "       '삼도2동', '이도1동', '남원읍', '대정읍', '정방동', '효돈동', '아라동', '한림읍', '구좌읍',\n",
              "       '용담1동', '오라동', '화북동', '연동', '표선면', '중문동', '성산읍', '안덕면', '천지동',\n",
              "       '노형동', '동홍동', '용담2동', '봉개동', '애월읍'], dtype=object)"
            ]
          },
          "metadata": {
            "tags": []
          },
          "execution_count": 25
        }
      ]
    },
    {
      "cell_type": "code",
      "metadata": {
        "id": "wumDHg5atfg1"
      },
      "source": [
        "url2 = 'https://raw.githubusercontent.com/Datamanim/pandas/main/chipo.csv'\n",
        "df = pd.read_csv(url2)\n",
        "Ans = type(df)"
      ],
      "execution_count": null,
      "outputs": []
    },
    {
      "cell_type": "code",
      "metadata": {
        "colab": {
          "base_uri": "https://localhost:8080/"
        },
        "id": "9_6dbAbytpYE",
        "outputId": "117492cf-0bb4-475a-dcb3-d5cf26d535e3"
      },
      "source": [
        "Ans"
      ],
      "execution_count": null,
      "outputs": [
        {
          "output_type": "execute_result",
          "data": {
            "text/plain": [
              "pandas.core.frame.DataFrame"
            ]
          },
          "metadata": {
            "tags": []
          },
          "execution_count": 60
        }
      ]
    },
    {
      "cell_type": "code",
      "metadata": {
        "colab": {
          "base_uri": "https://localhost:8080/",
          "height": 197
        },
        "id": "JNQ4M1FitrL-",
        "outputId": "db5722fd-6fab-4e90-9170-aba54cf64a08"
      },
      "source": [
        "# quantity컬럼 값이 3인 데이터를 추출하여 첫 5행을 출력하라\n",
        "df[df[\"quantity\"]==3].head(5)"
      ],
      "execution_count": null,
      "outputs": [
        {
          "output_type": "execute_result",
          "data": {
            "text/html": [
              "<div>\n",
              "<style scoped>\n",
              "    .dataframe tbody tr th:only-of-type {\n",
              "        vertical-align: middle;\n",
              "    }\n",
              "\n",
              "    .dataframe tbody tr th {\n",
              "        vertical-align: top;\n",
              "    }\n",
              "\n",
              "    .dataframe thead th {\n",
              "        text-align: right;\n",
              "    }\n",
              "</style>\n",
              "<table border=\"1\" class=\"dataframe\">\n",
              "  <thead>\n",
              "    <tr style=\"text-align: right;\">\n",
              "      <th></th>\n",
              "      <th>order_id</th>\n",
              "      <th>quantity</th>\n",
              "      <th>item_name</th>\n",
              "      <th>choice_description</th>\n",
              "      <th>item_price</th>\n",
              "    </tr>\n",
              "  </thead>\n",
              "  <tbody>\n",
              "    <tr>\n",
              "      <th>409</th>\n",
              "      <td>178</td>\n",
              "      <td>3</td>\n",
              "      <td>Chicken Bowl</td>\n",
              "      <td>[[Fresh Tomato Salsa (Mild), Tomatillo-Green C...</td>\n",
              "      <td>$32.94</td>\n",
              "    </tr>\n",
              "    <tr>\n",
              "      <th>445</th>\n",
              "      <td>193</td>\n",
              "      <td>3</td>\n",
              "      <td>Bowl</td>\n",
              "      <td>[Braised Carnitas, Pinto Beans, [Sour Cream, C...</td>\n",
              "      <td>$22.20</td>\n",
              "    </tr>\n",
              "    <tr>\n",
              "      <th>689</th>\n",
              "      <td>284</td>\n",
              "      <td>3</td>\n",
              "      <td>Canned Soft Drink</td>\n",
              "      <td>[Diet Coke]</td>\n",
              "      <td>$3.75</td>\n",
              "    </tr>\n",
              "    <tr>\n",
              "      <th>818</th>\n",
              "      <td>338</td>\n",
              "      <td>3</td>\n",
              "      <td>Bottled Water</td>\n",
              "      <td>NaN</td>\n",
              "      <td>$3.27</td>\n",
              "    </tr>\n",
              "    <tr>\n",
              "      <th>850</th>\n",
              "      <td>350</td>\n",
              "      <td>3</td>\n",
              "      <td>Canned Soft Drink</td>\n",
              "      <td>[Sprite]</td>\n",
              "      <td>$3.75</td>\n",
              "    </tr>\n",
              "  </tbody>\n",
              "</table>\n",
              "</div>"
            ],
            "text/plain": [
              "     order_id  ...  item_price\n",
              "409       178  ...     $32.94 \n",
              "445       193  ...     $22.20 \n",
              "689       284  ...      $3.75 \n",
              "818       338  ...      $3.27 \n",
              "850       350  ...      $3.75 \n",
              "\n",
              "[5 rows x 5 columns]"
            ]
          },
          "metadata": {
            "tags": []
          },
          "execution_count": 61
        }
      ]
    },
    {
      "cell_type": "code",
      "metadata": {
        "colab": {
          "base_uri": "https://localhost:8080/",
          "height": 887
        },
        "id": "aUaNPjDstw-3",
        "outputId": "31d8ad59-a233-4b77-e46a-4794870a45df"
      },
      "source": [
        "# quantity컬럼 값이 3인 데이터를 추출하여 index를 0부터 정렬하고 첫 5행을 출력하라\n",
        "df[df[\"quantity\"]==3].reset_index(drop=False)"
      ],
      "execution_count": null,
      "outputs": [
        {
          "output_type": "execute_result",
          "data": {
            "text/html": [
              "<div>\n",
              "<style scoped>\n",
              "    .dataframe tbody tr th:only-of-type {\n",
              "        vertical-align: middle;\n",
              "    }\n",
              "\n",
              "    .dataframe tbody tr th {\n",
              "        vertical-align: top;\n",
              "    }\n",
              "\n",
              "    .dataframe thead th {\n",
              "        text-align: right;\n",
              "    }\n",
              "</style>\n",
              "<table border=\"1\" class=\"dataframe\">\n",
              "  <thead>\n",
              "    <tr style=\"text-align: right;\">\n",
              "      <th></th>\n",
              "      <th>index</th>\n",
              "      <th>order_id</th>\n",
              "      <th>quantity</th>\n",
              "      <th>item_name</th>\n",
              "      <th>choice_description</th>\n",
              "      <th>item_price</th>\n",
              "    </tr>\n",
              "  </thead>\n",
              "  <tbody>\n",
              "    <tr>\n",
              "      <th>0</th>\n",
              "      <td>409</td>\n",
              "      <td>178</td>\n",
              "      <td>3</td>\n",
              "      <td>Chicken Bowl</td>\n",
              "      <td>[[Fresh Tomato Salsa (Mild), Tomatillo-Green C...</td>\n",
              "      <td>$32.94</td>\n",
              "    </tr>\n",
              "    <tr>\n",
              "      <th>1</th>\n",
              "      <td>445</td>\n",
              "      <td>193</td>\n",
              "      <td>3</td>\n",
              "      <td>Bowl</td>\n",
              "      <td>[Braised Carnitas, Pinto Beans, [Sour Cream, C...</td>\n",
              "      <td>$22.20</td>\n",
              "    </tr>\n",
              "    <tr>\n",
              "      <th>2</th>\n",
              "      <td>689</td>\n",
              "      <td>284</td>\n",
              "      <td>3</td>\n",
              "      <td>Canned Soft Drink</td>\n",
              "      <td>[Diet Coke]</td>\n",
              "      <td>$3.75</td>\n",
              "    </tr>\n",
              "    <tr>\n",
              "      <th>3</th>\n",
              "      <td>818</td>\n",
              "      <td>338</td>\n",
              "      <td>3</td>\n",
              "      <td>Bottled Water</td>\n",
              "      <td>NaN</td>\n",
              "      <td>$3.27</td>\n",
              "    </tr>\n",
              "    <tr>\n",
              "      <th>4</th>\n",
              "      <td>850</td>\n",
              "      <td>350</td>\n",
              "      <td>3</td>\n",
              "      <td>Canned Soft Drink</td>\n",
              "      <td>[Sprite]</td>\n",
              "      <td>$3.75</td>\n",
              "    </tr>\n",
              "    <tr>\n",
              "      <th>5</th>\n",
              "      <td>917</td>\n",
              "      <td>379</td>\n",
              "      <td>3</td>\n",
              "      <td>Canned Soft Drink</td>\n",
              "      <td>[Lemonade]</td>\n",
              "      <td>$3.75</td>\n",
              "    </tr>\n",
              "    <tr>\n",
              "      <th>6</th>\n",
              "      <td>1255</td>\n",
              "      <td>511</td>\n",
              "      <td>3</td>\n",
              "      <td>Steak Burrito</td>\n",
              "      <td>[Fresh Tomato Salsa, [Fajita Vegetables, Rice,...</td>\n",
              "      <td>$27.75</td>\n",
              "    </tr>\n",
              "    <tr>\n",
              "      <th>7</th>\n",
              "      <td>1514</td>\n",
              "      <td>616</td>\n",
              "      <td>3</td>\n",
              "      <td>Chicken Bowl</td>\n",
              "      <td>[Fresh Tomato Salsa, [Rice, Black Beans, Chees...</td>\n",
              "      <td>$26.25</td>\n",
              "    </tr>\n",
              "    <tr>\n",
              "      <th>8</th>\n",
              "      <td>1559</td>\n",
              "      <td>633</td>\n",
              "      <td>3</td>\n",
              "      <td>Canned Soft Drink</td>\n",
              "      <td>[Coke]</td>\n",
              "      <td>$3.75</td>\n",
              "    </tr>\n",
              "    <tr>\n",
              "      <th>9</th>\n",
              "      <td>2645</td>\n",
              "      <td>1051</td>\n",
              "      <td>3</td>\n",
              "      <td>Chips and Guacamole</td>\n",
              "      <td>NaN</td>\n",
              "      <td>$13.35</td>\n",
              "    </tr>\n",
              "    <tr>\n",
              "      <th>10</th>\n",
              "      <td>2823</td>\n",
              "      <td>1121</td>\n",
              "      <td>3</td>\n",
              "      <td>Bottled Water</td>\n",
              "      <td>NaN</td>\n",
              "      <td>$3.27</td>\n",
              "    </tr>\n",
              "    <tr>\n",
              "      <th>11</th>\n",
              "      <td>2936</td>\n",
              "      <td>1167</td>\n",
              "      <td>3</td>\n",
              "      <td>Chips</td>\n",
              "      <td>NaN</td>\n",
              "      <td>$6.45</td>\n",
              "    </tr>\n",
              "    <tr>\n",
              "      <th>12</th>\n",
              "      <td>2944</td>\n",
              "      <td>1170</td>\n",
              "      <td>3</td>\n",
              "      <td>Side of Chips</td>\n",
              "      <td>NaN</td>\n",
              "      <td>$5.07</td>\n",
              "    </tr>\n",
              "    <tr>\n",
              "      <th>13</th>\n",
              "      <td>2972</td>\n",
              "      <td>1182</td>\n",
              "      <td>3</td>\n",
              "      <td>Chips and Tomatillo-Red Chili Salsa</td>\n",
              "      <td>NaN</td>\n",
              "      <td>$7.17</td>\n",
              "    </tr>\n",
              "    <tr>\n",
              "      <th>14</th>\n",
              "      <td>3089</td>\n",
              "      <td>1231</td>\n",
              "      <td>3</td>\n",
              "      <td>Canned Soft Drink</td>\n",
              "      <td>[Diet Coke]</td>\n",
              "      <td>$3.75</td>\n",
              "    </tr>\n",
              "    <tr>\n",
              "      <th>15</th>\n",
              "      <td>3128</td>\n",
              "      <td>1247</td>\n",
              "      <td>3</td>\n",
              "      <td>Canned Soft Drink</td>\n",
              "      <td>[Diet Coke]</td>\n",
              "      <td>$3.75</td>\n",
              "    </tr>\n",
              "    <tr>\n",
              "      <th>16</th>\n",
              "      <td>3270</td>\n",
              "      <td>1309</td>\n",
              "      <td>3</td>\n",
              "      <td>Chips and Tomatillo-Red Chili Salsa</td>\n",
              "      <td>NaN</td>\n",
              "      <td>$7.17</td>\n",
              "    </tr>\n",
              "    <tr>\n",
              "      <th>17</th>\n",
              "      <td>3294</td>\n",
              "      <td>1321</td>\n",
              "      <td>3</td>\n",
              "      <td>Bottled Water</td>\n",
              "      <td>NaN</td>\n",
              "      <td>$4.50</td>\n",
              "    </tr>\n",
              "    <tr>\n",
              "      <th>18</th>\n",
              "      <td>3314</td>\n",
              "      <td>1328</td>\n",
              "      <td>3</td>\n",
              "      <td>Bottled Water</td>\n",
              "      <td>NaN</td>\n",
              "      <td>$4.50</td>\n",
              "    </tr>\n",
              "    <tr>\n",
              "      <th>19</th>\n",
              "      <td>3334</td>\n",
              "      <td>1336</td>\n",
              "      <td>3</td>\n",
              "      <td>Steak Bowl</td>\n",
              "      <td>[Tomatillo Green Chili (Medium), [Rice, Black ...</td>\n",
              "      <td>$26.07</td>\n",
              "    </tr>\n",
              "    <tr>\n",
              "      <th>20</th>\n",
              "      <td>3480</td>\n",
              "      <td>1398</td>\n",
              "      <td>3</td>\n",
              "      <td>Carnitas Bowl</td>\n",
              "      <td>[Roasted Chili Corn Salsa, [Fajita Vegetables,...</td>\n",
              "      <td>$35.25</td>\n",
              "    </tr>\n",
              "    <tr>\n",
              "      <th>21</th>\n",
              "      <td>3601</td>\n",
              "      <td>1443</td>\n",
              "      <td>3</td>\n",
              "      <td>Veggie Burrito</td>\n",
              "      <td>[Fresh Tomato Salsa, [Fajita Vegetables, Rice,...</td>\n",
              "      <td>$33.75</td>\n",
              "    </tr>\n",
              "    <tr>\n",
              "      <th>22</th>\n",
              "      <td>3603</td>\n",
              "      <td>1443</td>\n",
              "      <td>3</td>\n",
              "      <td>Steak Burrito</td>\n",
              "      <td>[Fresh Tomato Salsa, [Rice, Black Beans, Chees...</td>\n",
              "      <td>$27.75</td>\n",
              "    </tr>\n",
              "    <tr>\n",
              "      <th>23</th>\n",
              "      <td>3634</td>\n",
              "      <td>1454</td>\n",
              "      <td>3</td>\n",
              "      <td>Chicken Burrito</td>\n",
              "      <td>[Fresh Tomato Salsa]</td>\n",
              "      <td>$26.25</td>\n",
              "    </tr>\n",
              "    <tr>\n",
              "      <th>24</th>\n",
              "      <td>3636</td>\n",
              "      <td>1454</td>\n",
              "      <td>3</td>\n",
              "      <td>Chicken Burrito</td>\n",
              "      <td>[Fresh Tomato Salsa, Rice]</td>\n",
              "      <td>$26.25</td>\n",
              "    </tr>\n",
              "    <tr>\n",
              "      <th>25</th>\n",
              "      <td>4098</td>\n",
              "      <td>1642</td>\n",
              "      <td>3</td>\n",
              "      <td>Canned Soft Drink</td>\n",
              "      <td>[Diet Coke]</td>\n",
              "      <td>$3.75</td>\n",
              "    </tr>\n",
              "    <tr>\n",
              "      <th>26</th>\n",
              "      <td>4137</td>\n",
              "      <td>1655</td>\n",
              "      <td>3</td>\n",
              "      <td>Bottled Water</td>\n",
              "      <td>NaN</td>\n",
              "      <td>$4.50</td>\n",
              "    </tr>\n",
              "    <tr>\n",
              "      <th>27</th>\n",
              "      <td>4186</td>\n",
              "      <td>1671</td>\n",
              "      <td>3</td>\n",
              "      <td>Bottled Water</td>\n",
              "      <td>NaN</td>\n",
              "      <td>$4.50</td>\n",
              "    </tr>\n",
              "  </tbody>\n",
              "</table>\n",
              "</div>"
            ],
            "text/plain": [
              "    index  ...  item_price\n",
              "0     409  ...     $32.94 \n",
              "1     445  ...     $22.20 \n",
              "2     689  ...      $3.75 \n",
              "3     818  ...      $3.27 \n",
              "4     850  ...      $3.75 \n",
              "5     917  ...      $3.75 \n",
              "6    1255  ...     $27.75 \n",
              "7    1514  ...     $26.25 \n",
              "8    1559  ...      $3.75 \n",
              "9    2645  ...     $13.35 \n",
              "10   2823  ...      $3.27 \n",
              "11   2936  ...      $6.45 \n",
              "12   2944  ...      $5.07 \n",
              "13   2972  ...      $7.17 \n",
              "14   3089  ...      $3.75 \n",
              "15   3128  ...      $3.75 \n",
              "16   3270  ...      $7.17 \n",
              "17   3294  ...      $4.50 \n",
              "18   3314  ...      $4.50 \n",
              "19   3334  ...     $26.07 \n",
              "20   3480  ...     $35.25 \n",
              "21   3601  ...     $33.75 \n",
              "22   3603  ...     $27.75 \n",
              "23   3634  ...     $26.25 \n",
              "24   3636  ...     $26.25 \n",
              "25   4098  ...      $3.75 \n",
              "26   4137  ...      $4.50 \n",
              "27   4186  ...      $4.50 \n",
              "\n",
              "[28 rows x 6 columns]"
            ]
          },
          "metadata": {
            "tags": []
          },
          "execution_count": 62
        }
      ]
    },
    {
      "cell_type": "code",
      "metadata": {
        "colab": {
          "base_uri": "https://localhost:8080/",
          "height": 406
        },
        "id": "zg15tJ8PuDF_",
        "outputId": "e6ad22b8-552b-4d24-8efd-ae9ae9869d08"
      },
      "source": [
        "df[[\"quantity\", \"item_price\"]]"
      ],
      "execution_count": null,
      "outputs": [
        {
          "output_type": "execute_result",
          "data": {
            "text/html": [
              "<div>\n",
              "<style scoped>\n",
              "    .dataframe tbody tr th:only-of-type {\n",
              "        vertical-align: middle;\n",
              "    }\n",
              "\n",
              "    .dataframe tbody tr th {\n",
              "        vertical-align: top;\n",
              "    }\n",
              "\n",
              "    .dataframe thead th {\n",
              "        text-align: right;\n",
              "    }\n",
              "</style>\n",
              "<table border=\"1\" class=\"dataframe\">\n",
              "  <thead>\n",
              "    <tr style=\"text-align: right;\">\n",
              "      <th></th>\n",
              "      <th>quantity</th>\n",
              "      <th>item_price</th>\n",
              "    </tr>\n",
              "  </thead>\n",
              "  <tbody>\n",
              "    <tr>\n",
              "      <th>0</th>\n",
              "      <td>1</td>\n",
              "      <td>$2.39</td>\n",
              "    </tr>\n",
              "    <tr>\n",
              "      <th>1</th>\n",
              "      <td>1</td>\n",
              "      <td>$3.39</td>\n",
              "    </tr>\n",
              "    <tr>\n",
              "      <th>2</th>\n",
              "      <td>1</td>\n",
              "      <td>$3.39</td>\n",
              "    </tr>\n",
              "    <tr>\n",
              "      <th>3</th>\n",
              "      <td>1</td>\n",
              "      <td>$2.39</td>\n",
              "    </tr>\n",
              "    <tr>\n",
              "      <th>4</th>\n",
              "      <td>2</td>\n",
              "      <td>$16.98</td>\n",
              "    </tr>\n",
              "    <tr>\n",
              "      <th>...</th>\n",
              "      <td>...</td>\n",
              "      <td>...</td>\n",
              "    </tr>\n",
              "    <tr>\n",
              "      <th>4617</th>\n",
              "      <td>1</td>\n",
              "      <td>$11.75</td>\n",
              "    </tr>\n",
              "    <tr>\n",
              "      <th>4618</th>\n",
              "      <td>1</td>\n",
              "      <td>$11.75</td>\n",
              "    </tr>\n",
              "    <tr>\n",
              "      <th>4619</th>\n",
              "      <td>1</td>\n",
              "      <td>$11.25</td>\n",
              "    </tr>\n",
              "    <tr>\n",
              "      <th>4620</th>\n",
              "      <td>1</td>\n",
              "      <td>$8.75</td>\n",
              "    </tr>\n",
              "    <tr>\n",
              "      <th>4621</th>\n",
              "      <td>1</td>\n",
              "      <td>$8.75</td>\n",
              "    </tr>\n",
              "  </tbody>\n",
              "</table>\n",
              "<p>4622 rows × 2 columns</p>\n",
              "</div>"
            ],
            "text/plain": [
              "      quantity item_price\n",
              "0            1     $2.39 \n",
              "1            1     $3.39 \n",
              "2            1     $3.39 \n",
              "3            1     $2.39 \n",
              "4            2    $16.98 \n",
              "...        ...        ...\n",
              "4617         1    $11.75 \n",
              "4618         1    $11.75 \n",
              "4619         1    $11.25 \n",
              "4620         1     $8.75 \n",
              "4621         1     $8.75 \n",
              "\n",
              "[4622 rows x 2 columns]"
            ]
          },
          "metadata": {
            "tags": []
          },
          "execution_count": 63
        }
      ]
    },
    {
      "cell_type": "code",
      "metadata": {
        "colab": {
          "base_uri": "https://localhost:8080/",
          "height": 523
        },
        "id": "s2ttorHmuTDP",
        "outputId": "b49a7af3-a580-43da-ecd6-90e4f63490c5"
      },
      "source": [
        "# item_price 컬럼의 달러표시 문자를 제거하고 float 타입으로 저장하여 new_price 컬럼에 저장하라\n",
        "data = df[\"item_price\"].str[1:].astype(\"float\")\n",
        "df[\"new_price\"] = data\n",
        "df"
      ],
      "execution_count": null,
      "outputs": [
        {
          "output_type": "execute_result",
          "data": {
            "text/html": [
              "<div>\n",
              "<style scoped>\n",
              "    .dataframe tbody tr th:only-of-type {\n",
              "        vertical-align: middle;\n",
              "    }\n",
              "\n",
              "    .dataframe tbody tr th {\n",
              "        vertical-align: top;\n",
              "    }\n",
              "\n",
              "    .dataframe thead th {\n",
              "        text-align: right;\n",
              "    }\n",
              "</style>\n",
              "<table border=\"1\" class=\"dataframe\">\n",
              "  <thead>\n",
              "    <tr style=\"text-align: right;\">\n",
              "      <th></th>\n",
              "      <th>order_id</th>\n",
              "      <th>quantity</th>\n",
              "      <th>item_name</th>\n",
              "      <th>choice_description</th>\n",
              "      <th>item_price</th>\n",
              "      <th>new_price</th>\n",
              "    </tr>\n",
              "  </thead>\n",
              "  <tbody>\n",
              "    <tr>\n",
              "      <th>0</th>\n",
              "      <td>1</td>\n",
              "      <td>1</td>\n",
              "      <td>Chips and Fresh Tomato Salsa</td>\n",
              "      <td>NaN</td>\n",
              "      <td>$2.39</td>\n",
              "      <td>2.39</td>\n",
              "    </tr>\n",
              "    <tr>\n",
              "      <th>1</th>\n",
              "      <td>1</td>\n",
              "      <td>1</td>\n",
              "      <td>Izze</td>\n",
              "      <td>[Clementine]</td>\n",
              "      <td>$3.39</td>\n",
              "      <td>3.39</td>\n",
              "    </tr>\n",
              "    <tr>\n",
              "      <th>2</th>\n",
              "      <td>1</td>\n",
              "      <td>1</td>\n",
              "      <td>Nantucket Nectar</td>\n",
              "      <td>[Apple]</td>\n",
              "      <td>$3.39</td>\n",
              "      <td>3.39</td>\n",
              "    </tr>\n",
              "    <tr>\n",
              "      <th>3</th>\n",
              "      <td>1</td>\n",
              "      <td>1</td>\n",
              "      <td>Chips and Tomatillo-Green Chili Salsa</td>\n",
              "      <td>NaN</td>\n",
              "      <td>$2.39</td>\n",
              "      <td>2.39</td>\n",
              "    </tr>\n",
              "    <tr>\n",
              "      <th>4</th>\n",
              "      <td>2</td>\n",
              "      <td>2</td>\n",
              "      <td>Chicken Bowl</td>\n",
              "      <td>[Tomatillo-Red Chili Salsa (Hot), [Black Beans...</td>\n",
              "      <td>$16.98</td>\n",
              "      <td>16.98</td>\n",
              "    </tr>\n",
              "    <tr>\n",
              "      <th>...</th>\n",
              "      <td>...</td>\n",
              "      <td>...</td>\n",
              "      <td>...</td>\n",
              "      <td>...</td>\n",
              "      <td>...</td>\n",
              "      <td>...</td>\n",
              "    </tr>\n",
              "    <tr>\n",
              "      <th>4617</th>\n",
              "      <td>1833</td>\n",
              "      <td>1</td>\n",
              "      <td>Steak Burrito</td>\n",
              "      <td>[Fresh Tomato Salsa, [Rice, Black Beans, Sour ...</td>\n",
              "      <td>$11.75</td>\n",
              "      <td>11.75</td>\n",
              "    </tr>\n",
              "    <tr>\n",
              "      <th>4618</th>\n",
              "      <td>1833</td>\n",
              "      <td>1</td>\n",
              "      <td>Steak Burrito</td>\n",
              "      <td>[Fresh Tomato Salsa, [Rice, Sour Cream, Cheese...</td>\n",
              "      <td>$11.75</td>\n",
              "      <td>11.75</td>\n",
              "    </tr>\n",
              "    <tr>\n",
              "      <th>4619</th>\n",
              "      <td>1834</td>\n",
              "      <td>1</td>\n",
              "      <td>Chicken Salad Bowl</td>\n",
              "      <td>[Fresh Tomato Salsa, [Fajita Vegetables, Pinto...</td>\n",
              "      <td>$11.25</td>\n",
              "      <td>11.25</td>\n",
              "    </tr>\n",
              "    <tr>\n",
              "      <th>4620</th>\n",
              "      <td>1834</td>\n",
              "      <td>1</td>\n",
              "      <td>Chicken Salad Bowl</td>\n",
              "      <td>[Fresh Tomato Salsa, [Fajita Vegetables, Lettu...</td>\n",
              "      <td>$8.75</td>\n",
              "      <td>8.75</td>\n",
              "    </tr>\n",
              "    <tr>\n",
              "      <th>4621</th>\n",
              "      <td>1834</td>\n",
              "      <td>1</td>\n",
              "      <td>Chicken Salad Bowl</td>\n",
              "      <td>[Fresh Tomato Salsa, [Fajita Vegetables, Pinto...</td>\n",
              "      <td>$8.75</td>\n",
              "      <td>8.75</td>\n",
              "    </tr>\n",
              "  </tbody>\n",
              "</table>\n",
              "<p>4622 rows × 6 columns</p>\n",
              "</div>"
            ],
            "text/plain": [
              "      order_id  quantity  ... item_price new_price\n",
              "0            1         1  ...     $2.39       2.39\n",
              "1            1         1  ...     $3.39       3.39\n",
              "2            1         1  ...     $3.39       3.39\n",
              "3            1         1  ...     $2.39       2.39\n",
              "4            2         2  ...    $16.98      16.98\n",
              "...        ...       ...  ...        ...       ...\n",
              "4617      1833         1  ...    $11.75      11.75\n",
              "4618      1833         1  ...    $11.75      11.75\n",
              "4619      1834         1  ...    $11.25      11.25\n",
              "4620      1834         1  ...     $8.75       8.75\n",
              "4621      1834         1  ...     $8.75       8.75\n",
              "\n",
              "[4622 rows x 6 columns]"
            ]
          },
          "metadata": {
            "tags": []
          },
          "execution_count": 64
        }
      ]
    },
    {
      "cell_type": "code",
      "metadata": {
        "colab": {
          "base_uri": "https://localhost:8080/"
        },
        "id": "taqXLGLAuZzS",
        "outputId": "afcd37ff-3726-4919-9c3d-54c7da75d4bb"
      },
      "source": [
        "# new_price 컬럼이 5이하의 값을 가지는 데이터프레임을 추출하고, 전체 갯수를 구하여라\n",
        "len(df[df[\"new_price\"] <= 5])"
      ],
      "execution_count": null,
      "outputs": [
        {
          "output_type": "execute_result",
          "data": {
            "text/plain": [
              "1652"
            ]
          },
          "metadata": {
            "tags": []
          },
          "execution_count": 65
        }
      ]
    },
    {
      "cell_type": "code",
      "metadata": {
        "colab": {
          "base_uri": "https://localhost:8080/",
          "height": 406
        },
        "id": "jkVVRRfRuh2T",
        "outputId": "4cf31ea3-34d2-45df-b4fe-ebd0d557ed52"
      },
      "source": [
        "df[df[\"item_name\"] == \"Chicken Salad Bowl\"].reset_index(drop=True)"
      ],
      "execution_count": null,
      "outputs": [
        {
          "output_type": "execute_result",
          "data": {
            "text/html": [
              "<div>\n",
              "<style scoped>\n",
              "    .dataframe tbody tr th:only-of-type {\n",
              "        vertical-align: middle;\n",
              "    }\n",
              "\n",
              "    .dataframe tbody tr th {\n",
              "        vertical-align: top;\n",
              "    }\n",
              "\n",
              "    .dataframe thead th {\n",
              "        text-align: right;\n",
              "    }\n",
              "</style>\n",
              "<table border=\"1\" class=\"dataframe\">\n",
              "  <thead>\n",
              "    <tr style=\"text-align: right;\">\n",
              "      <th></th>\n",
              "      <th>order_id</th>\n",
              "      <th>quantity</th>\n",
              "      <th>item_name</th>\n",
              "      <th>choice_description</th>\n",
              "      <th>item_price</th>\n",
              "      <th>new_price</th>\n",
              "    </tr>\n",
              "  </thead>\n",
              "  <tbody>\n",
              "    <tr>\n",
              "      <th>0</th>\n",
              "      <td>20</td>\n",
              "      <td>1</td>\n",
              "      <td>Chicken Salad Bowl</td>\n",
              "      <td>[Fresh Tomato Salsa, [Fajita Vegetables, Pinto...</td>\n",
              "      <td>$8.75</td>\n",
              "      <td>8.75</td>\n",
              "    </tr>\n",
              "    <tr>\n",
              "      <th>1</th>\n",
              "      <td>60</td>\n",
              "      <td>2</td>\n",
              "      <td>Chicken Salad Bowl</td>\n",
              "      <td>[Tomatillo Green Chili Salsa, [Sour Cream, Che...</td>\n",
              "      <td>$22.50</td>\n",
              "      <td>22.50</td>\n",
              "    </tr>\n",
              "    <tr>\n",
              "      <th>2</th>\n",
              "      <td>94</td>\n",
              "      <td>2</td>\n",
              "      <td>Chicken Salad Bowl</td>\n",
              "      <td>[Fresh Tomato Salsa, [Fajita Vegetables, Pinto...</td>\n",
              "      <td>$22.50</td>\n",
              "      <td>22.50</td>\n",
              "    </tr>\n",
              "    <tr>\n",
              "      <th>3</th>\n",
              "      <td>111</td>\n",
              "      <td>1</td>\n",
              "      <td>Chicken Salad Bowl</td>\n",
              "      <td>[Fresh Tomato Salsa, [Fajita Vegetables, Rice,...</td>\n",
              "      <td>$8.75</td>\n",
              "      <td>8.75</td>\n",
              "    </tr>\n",
              "    <tr>\n",
              "      <th>4</th>\n",
              "      <td>137</td>\n",
              "      <td>2</td>\n",
              "      <td>Chicken Salad Bowl</td>\n",
              "      <td>[Fresh Tomato Salsa, Fajita Vegetables]</td>\n",
              "      <td>$17.50</td>\n",
              "      <td>17.50</td>\n",
              "    </tr>\n",
              "    <tr>\n",
              "      <th>...</th>\n",
              "      <td>...</td>\n",
              "      <td>...</td>\n",
              "      <td>...</td>\n",
              "      <td>...</td>\n",
              "      <td>...</td>\n",
              "      <td>...</td>\n",
              "    </tr>\n",
              "    <tr>\n",
              "      <th>105</th>\n",
              "      <td>1813</td>\n",
              "      <td>2</td>\n",
              "      <td>Chicken Salad Bowl</td>\n",
              "      <td>[Fresh Tomato Salsa, [Fajita Vegetables, Pinto...</td>\n",
              "      <td>$17.50</td>\n",
              "      <td>17.50</td>\n",
              "    </tr>\n",
              "    <tr>\n",
              "      <th>106</th>\n",
              "      <td>1822</td>\n",
              "      <td>1</td>\n",
              "      <td>Chicken Salad Bowl</td>\n",
              "      <td>[Fresh Tomato Salsa, [Black Beans, Cheese, Gua...</td>\n",
              "      <td>$11.25</td>\n",
              "      <td>11.25</td>\n",
              "    </tr>\n",
              "    <tr>\n",
              "      <th>107</th>\n",
              "      <td>1834</td>\n",
              "      <td>1</td>\n",
              "      <td>Chicken Salad Bowl</td>\n",
              "      <td>[Fresh Tomato Salsa, [Fajita Vegetables, Pinto...</td>\n",
              "      <td>$11.25</td>\n",
              "      <td>11.25</td>\n",
              "    </tr>\n",
              "    <tr>\n",
              "      <th>108</th>\n",
              "      <td>1834</td>\n",
              "      <td>1</td>\n",
              "      <td>Chicken Salad Bowl</td>\n",
              "      <td>[Fresh Tomato Salsa, [Fajita Vegetables, Lettu...</td>\n",
              "      <td>$8.75</td>\n",
              "      <td>8.75</td>\n",
              "    </tr>\n",
              "    <tr>\n",
              "      <th>109</th>\n",
              "      <td>1834</td>\n",
              "      <td>1</td>\n",
              "      <td>Chicken Salad Bowl</td>\n",
              "      <td>[Fresh Tomato Salsa, [Fajita Vegetables, Pinto...</td>\n",
              "      <td>$8.75</td>\n",
              "      <td>8.75</td>\n",
              "    </tr>\n",
              "  </tbody>\n",
              "</table>\n",
              "<p>110 rows × 6 columns</p>\n",
              "</div>"
            ],
            "text/plain": [
              "     order_id  quantity  ... item_price new_price\n",
              "0          20         1  ...     $8.75       8.75\n",
              "1          60         2  ...    $22.50      22.50\n",
              "2          94         2  ...    $22.50      22.50\n",
              "3         111         1  ...     $8.75       8.75\n",
              "4         137         2  ...    $17.50      17.50\n",
              "..        ...       ...  ...        ...       ...\n",
              "105      1813         2  ...    $17.50      17.50\n",
              "106      1822         1  ...    $11.25      11.25\n",
              "107      1834         1  ...    $11.25      11.25\n",
              "108      1834         1  ...     $8.75       8.75\n",
              "109      1834         1  ...     $8.75       8.75\n",
              "\n",
              "[110 rows x 6 columns]"
            ]
          },
          "metadata": {
            "tags": []
          },
          "execution_count": 66
        }
      ]
    },
    {
      "cell_type": "code",
      "metadata": {
        "colab": {
          "base_uri": "https://localhost:8080/",
          "height": 197
        },
        "id": "agxRpCtovPMM",
        "outputId": "c9af8c10-94f0-49ac-cd05-a889901da9da"
      },
      "source": [
        "df[(df.new_price<=9) & (df.item_name == \"Chicken Salad Bowl\")].head(5)"
      ],
      "execution_count": null,
      "outputs": [
        {
          "output_type": "execute_result",
          "data": {
            "text/html": [
              "<div>\n",
              "<style scoped>\n",
              "    .dataframe tbody tr th:only-of-type {\n",
              "        vertical-align: middle;\n",
              "    }\n",
              "\n",
              "    .dataframe tbody tr th {\n",
              "        vertical-align: top;\n",
              "    }\n",
              "\n",
              "    .dataframe thead th {\n",
              "        text-align: right;\n",
              "    }\n",
              "</style>\n",
              "<table border=\"1\" class=\"dataframe\">\n",
              "  <thead>\n",
              "    <tr style=\"text-align: right;\">\n",
              "      <th></th>\n",
              "      <th>order_id</th>\n",
              "      <th>quantity</th>\n",
              "      <th>item_name</th>\n",
              "      <th>choice_description</th>\n",
              "      <th>item_price</th>\n",
              "      <th>new_price</th>\n",
              "    </tr>\n",
              "  </thead>\n",
              "  <tbody>\n",
              "    <tr>\n",
              "      <th>44</th>\n",
              "      <td>20</td>\n",
              "      <td>1</td>\n",
              "      <td>Chicken Salad Bowl</td>\n",
              "      <td>[Fresh Tomato Salsa, [Fajita Vegetables, Pinto...</td>\n",
              "      <td>$8.75</td>\n",
              "      <td>8.75</td>\n",
              "    </tr>\n",
              "    <tr>\n",
              "      <th>256</th>\n",
              "      <td>111</td>\n",
              "      <td>1</td>\n",
              "      <td>Chicken Salad Bowl</td>\n",
              "      <td>[Fresh Tomato Salsa, [Fajita Vegetables, Rice,...</td>\n",
              "      <td>$8.75</td>\n",
              "      <td>8.75</td>\n",
              "    </tr>\n",
              "    <tr>\n",
              "      <th>526</th>\n",
              "      <td>220</td>\n",
              "      <td>1</td>\n",
              "      <td>Chicken Salad Bowl</td>\n",
              "      <td>[Roasted Chili Corn Salsa, [Black Beans, Sour ...</td>\n",
              "      <td>$8.75</td>\n",
              "      <td>8.75</td>\n",
              "    </tr>\n",
              "    <tr>\n",
              "      <th>528</th>\n",
              "      <td>221</td>\n",
              "      <td>1</td>\n",
              "      <td>Chicken Salad Bowl</td>\n",
              "      <td>[Tomatillo Green Chili Salsa, [Fajita Vegetabl...</td>\n",
              "      <td>$8.75</td>\n",
              "      <td>8.75</td>\n",
              "    </tr>\n",
              "    <tr>\n",
              "      <th>529</th>\n",
              "      <td>221</td>\n",
              "      <td>1</td>\n",
              "      <td>Chicken Salad Bowl</td>\n",
              "      <td>[Tomatillo Green Chili Salsa, [Fajita Vegetabl...</td>\n",
              "      <td>$8.75</td>\n",
              "      <td>8.75</td>\n",
              "    </tr>\n",
              "  </tbody>\n",
              "</table>\n",
              "</div>"
            ],
            "text/plain": [
              "     order_id  quantity  ... item_price new_price\n",
              "44         20         1  ...     $8.75       8.75\n",
              "256       111         1  ...     $8.75       8.75\n",
              "526       220         1  ...     $8.75       8.75\n",
              "528       221         1  ...     $8.75       8.75\n",
              "529       221         1  ...     $8.75       8.75\n",
              "\n",
              "[5 rows x 6 columns]"
            ]
          },
          "metadata": {
            "tags": []
          },
          "execution_count": 67
        }
      ]
    },
    {
      "cell_type": "code",
      "metadata": {
        "colab": {
          "base_uri": "https://localhost:8080/",
          "height": 406
        },
        "id": "kwG2kg1svlxZ",
        "outputId": "4f51d7b9-0178-49a1-aae6-b592c39b4671"
      },
      "source": [
        "df.sort_values(\"new_price\").reset_index(drop=True)"
      ],
      "execution_count": null,
      "outputs": [
        {
          "output_type": "execute_result",
          "data": {
            "text/html": [
              "<div>\n",
              "<style scoped>\n",
              "    .dataframe tbody tr th:only-of-type {\n",
              "        vertical-align: middle;\n",
              "    }\n",
              "\n",
              "    .dataframe tbody tr th {\n",
              "        vertical-align: top;\n",
              "    }\n",
              "\n",
              "    .dataframe thead th {\n",
              "        text-align: right;\n",
              "    }\n",
              "</style>\n",
              "<table border=\"1\" class=\"dataframe\">\n",
              "  <thead>\n",
              "    <tr style=\"text-align: right;\">\n",
              "      <th></th>\n",
              "      <th>order_id</th>\n",
              "      <th>quantity</th>\n",
              "      <th>item_name</th>\n",
              "      <th>choice_description</th>\n",
              "      <th>item_price</th>\n",
              "      <th>new_price</th>\n",
              "    </tr>\n",
              "  </thead>\n",
              "  <tbody>\n",
              "    <tr>\n",
              "      <th>0</th>\n",
              "      <td>471</td>\n",
              "      <td>1</td>\n",
              "      <td>Bottled Water</td>\n",
              "      <td>NaN</td>\n",
              "      <td>$1.09</td>\n",
              "      <td>1.09</td>\n",
              "    </tr>\n",
              "    <tr>\n",
              "      <th>1</th>\n",
              "      <td>338</td>\n",
              "      <td>1</td>\n",
              "      <td>Canned Soda</td>\n",
              "      <td>[Coca Cola]</td>\n",
              "      <td>$1.09</td>\n",
              "      <td>1.09</td>\n",
              "    </tr>\n",
              "    <tr>\n",
              "      <th>2</th>\n",
              "      <td>1575</td>\n",
              "      <td>1</td>\n",
              "      <td>Canned Soda</td>\n",
              "      <td>[Dr. Pepper]</td>\n",
              "      <td>$1.09</td>\n",
              "      <td>1.09</td>\n",
              "    </tr>\n",
              "    <tr>\n",
              "      <th>3</th>\n",
              "      <td>47</td>\n",
              "      <td>1</td>\n",
              "      <td>Canned Soda</td>\n",
              "      <td>[Dr. Pepper]</td>\n",
              "      <td>$1.09</td>\n",
              "      <td>1.09</td>\n",
              "    </tr>\n",
              "    <tr>\n",
              "      <th>4</th>\n",
              "      <td>1014</td>\n",
              "      <td>1</td>\n",
              "      <td>Canned Soda</td>\n",
              "      <td>[Coca Cola]</td>\n",
              "      <td>$1.09</td>\n",
              "      <td>1.09</td>\n",
              "    </tr>\n",
              "    <tr>\n",
              "      <th>...</th>\n",
              "      <td>...</td>\n",
              "      <td>...</td>\n",
              "      <td>...</td>\n",
              "      <td>...</td>\n",
              "      <td>...</td>\n",
              "      <td>...</td>\n",
              "    </tr>\n",
              "    <tr>\n",
              "      <th>4617</th>\n",
              "      <td>1443</td>\n",
              "      <td>3</td>\n",
              "      <td>Veggie Burrito</td>\n",
              "      <td>[Fresh Tomato Salsa, [Fajita Vegetables, Rice,...</td>\n",
              "      <td>$33.75</td>\n",
              "      <td>33.75</td>\n",
              "    </tr>\n",
              "    <tr>\n",
              "      <th>4618</th>\n",
              "      <td>1443</td>\n",
              "      <td>4</td>\n",
              "      <td>Chicken Burrito</td>\n",
              "      <td>[Fresh Tomato Salsa, [Rice, Black Beans, Chees...</td>\n",
              "      <td>$35.00</td>\n",
              "      <td>35.00</td>\n",
              "    </tr>\n",
              "    <tr>\n",
              "      <th>4619</th>\n",
              "      <td>511</td>\n",
              "      <td>4</td>\n",
              "      <td>Chicken Burrito</td>\n",
              "      <td>[Fresh Tomato Salsa, [Fajita Vegetables, Rice,...</td>\n",
              "      <td>$35.00</td>\n",
              "      <td>35.00</td>\n",
              "    </tr>\n",
              "    <tr>\n",
              "      <th>4620</th>\n",
              "      <td>1398</td>\n",
              "      <td>3</td>\n",
              "      <td>Carnitas Bowl</td>\n",
              "      <td>[Roasted Chili Corn Salsa, [Fajita Vegetables,...</td>\n",
              "      <td>$35.25</td>\n",
              "      <td>35.25</td>\n",
              "    </tr>\n",
              "    <tr>\n",
              "      <th>4621</th>\n",
              "      <td>1443</td>\n",
              "      <td>15</td>\n",
              "      <td>Chips and Fresh Tomato Salsa</td>\n",
              "      <td>NaN</td>\n",
              "      <td>$44.25</td>\n",
              "      <td>44.25</td>\n",
              "    </tr>\n",
              "  </tbody>\n",
              "</table>\n",
              "<p>4622 rows × 6 columns</p>\n",
              "</div>"
            ],
            "text/plain": [
              "      order_id  quantity  ... item_price new_price\n",
              "0          471         1  ...     $1.09       1.09\n",
              "1          338         1  ...     $1.09       1.09\n",
              "2         1575         1  ...     $1.09       1.09\n",
              "3           47         1  ...     $1.09       1.09\n",
              "4         1014         1  ...     $1.09       1.09\n",
              "...        ...       ...  ...        ...       ...\n",
              "4617      1443         3  ...    $33.75      33.75\n",
              "4618      1443         4  ...    $35.00      35.00\n",
              "4619       511         4  ...    $35.00      35.00\n",
              "4620      1398         3  ...    $35.25      35.25\n",
              "4621      1443        15  ...    $44.25      44.25\n",
              "\n",
              "[4622 rows x 6 columns]"
            ]
          },
          "metadata": {
            "tags": []
          },
          "execution_count": 68
        }
      ]
    },
    {
      "cell_type": "code",
      "metadata": {
        "colab": {
          "base_uri": "https://localhost:8080/",
          "height": 406
        },
        "id": "2oFALceuwMV1",
        "outputId": "e5e6a9c0-58dd-414e-b0c4-356f04e2f9b9"
      },
      "source": [
        "# df의 item_name 컬럼 값중 Chips 포함하는 경우의 데이터를 출력하라\n",
        "\n",
        "df[df[\"item_name\"].str.contains(\"Chips\")]"
      ],
      "execution_count": null,
      "outputs": [
        {
          "output_type": "execute_result",
          "data": {
            "text/html": [
              "<div>\n",
              "<style scoped>\n",
              "    .dataframe tbody tr th:only-of-type {\n",
              "        vertical-align: middle;\n",
              "    }\n",
              "\n",
              "    .dataframe tbody tr th {\n",
              "        vertical-align: top;\n",
              "    }\n",
              "\n",
              "    .dataframe thead th {\n",
              "        text-align: right;\n",
              "    }\n",
              "</style>\n",
              "<table border=\"1\" class=\"dataframe\">\n",
              "  <thead>\n",
              "    <tr style=\"text-align: right;\">\n",
              "      <th></th>\n",
              "      <th>order_id</th>\n",
              "      <th>quantity</th>\n",
              "      <th>item_name</th>\n",
              "      <th>choice_description</th>\n",
              "      <th>item_price</th>\n",
              "      <th>new_price</th>\n",
              "    </tr>\n",
              "  </thead>\n",
              "  <tbody>\n",
              "    <tr>\n",
              "      <th>0</th>\n",
              "      <td>1</td>\n",
              "      <td>1</td>\n",
              "      <td>Chips and Fresh Tomato Salsa</td>\n",
              "      <td>NaN</td>\n",
              "      <td>$2.39</td>\n",
              "      <td>2.39</td>\n",
              "    </tr>\n",
              "    <tr>\n",
              "      <th>3</th>\n",
              "      <td>1</td>\n",
              "      <td>1</td>\n",
              "      <td>Chips and Tomatillo-Green Chili Salsa</td>\n",
              "      <td>NaN</td>\n",
              "      <td>$2.39</td>\n",
              "      <td>2.39</td>\n",
              "    </tr>\n",
              "    <tr>\n",
              "      <th>6</th>\n",
              "      <td>3</td>\n",
              "      <td>1</td>\n",
              "      <td>Side of Chips</td>\n",
              "      <td>NaN</td>\n",
              "      <td>$1.69</td>\n",
              "      <td>1.69</td>\n",
              "    </tr>\n",
              "    <tr>\n",
              "      <th>10</th>\n",
              "      <td>5</td>\n",
              "      <td>1</td>\n",
              "      <td>Chips and Guacamole</td>\n",
              "      <td>NaN</td>\n",
              "      <td>$4.45</td>\n",
              "      <td>4.45</td>\n",
              "    </tr>\n",
              "    <tr>\n",
              "      <th>14</th>\n",
              "      <td>7</td>\n",
              "      <td>1</td>\n",
              "      <td>Chips and Guacamole</td>\n",
              "      <td>NaN</td>\n",
              "      <td>$4.45</td>\n",
              "      <td>4.45</td>\n",
              "    </tr>\n",
              "    <tr>\n",
              "      <th>...</th>\n",
              "      <td>...</td>\n",
              "      <td>...</td>\n",
              "      <td>...</td>\n",
              "      <td>...</td>\n",
              "      <td>...</td>\n",
              "      <td>...</td>\n",
              "    </tr>\n",
              "    <tr>\n",
              "      <th>4596</th>\n",
              "      <td>1826</td>\n",
              "      <td>1</td>\n",
              "      <td>Chips and Guacamole</td>\n",
              "      <td>NaN</td>\n",
              "      <td>$4.45</td>\n",
              "      <td>4.45</td>\n",
              "    </tr>\n",
              "    <tr>\n",
              "      <th>4600</th>\n",
              "      <td>1827</td>\n",
              "      <td>1</td>\n",
              "      <td>Chips and Guacamole</td>\n",
              "      <td>NaN</td>\n",
              "      <td>$4.45</td>\n",
              "      <td>4.45</td>\n",
              "    </tr>\n",
              "    <tr>\n",
              "      <th>4605</th>\n",
              "      <td>1828</td>\n",
              "      <td>1</td>\n",
              "      <td>Chips and Guacamole</td>\n",
              "      <td>NaN</td>\n",
              "      <td>$4.45</td>\n",
              "      <td>4.45</td>\n",
              "    </tr>\n",
              "    <tr>\n",
              "      <th>4613</th>\n",
              "      <td>1831</td>\n",
              "      <td>1</td>\n",
              "      <td>Chips</td>\n",
              "      <td>NaN</td>\n",
              "      <td>$2.15</td>\n",
              "      <td>2.15</td>\n",
              "    </tr>\n",
              "    <tr>\n",
              "      <th>4616</th>\n",
              "      <td>1832</td>\n",
              "      <td>1</td>\n",
              "      <td>Chips and Guacamole</td>\n",
              "      <td>NaN</td>\n",
              "      <td>$4.45</td>\n",
              "      <td>4.45</td>\n",
              "    </tr>\n",
              "  </tbody>\n",
              "</table>\n",
              "<p>1084 rows × 6 columns</p>\n",
              "</div>"
            ],
            "text/plain": [
              "      order_id  quantity  ... item_price new_price\n",
              "0            1         1  ...     $2.39       2.39\n",
              "3            1         1  ...     $2.39       2.39\n",
              "6            3         1  ...     $1.69       1.69\n",
              "10           5         1  ...     $4.45       4.45\n",
              "14           7         1  ...     $4.45       4.45\n",
              "...        ...       ...  ...        ...       ...\n",
              "4596      1826         1  ...     $4.45       4.45\n",
              "4600      1827         1  ...     $4.45       4.45\n",
              "4605      1828         1  ...     $4.45       4.45\n",
              "4613      1831         1  ...     $2.15       2.15\n",
              "4616      1832         1  ...     $4.45       4.45\n",
              "\n",
              "[1084 rows x 6 columns]"
            ]
          },
          "metadata": {
            "tags": []
          },
          "execution_count": 69
        }
      ]
    },
    {
      "cell_type": "code",
      "metadata": {
        "colab": {
          "base_uri": "https://localhost:8080/",
          "height": 406
        },
        "id": "t9ogiCg2wXDN",
        "outputId": "2cdc6c85-e741-434c-9925-130fd68121fa"
      },
      "source": [
        "# df의 짝수번째 컬럼만을 포함하는 데이터프레임을 출력하라\n",
        "df.iloc[:, ::2]"
      ],
      "execution_count": null,
      "outputs": [
        {
          "output_type": "execute_result",
          "data": {
            "text/html": [
              "<div>\n",
              "<style scoped>\n",
              "    .dataframe tbody tr th:only-of-type {\n",
              "        vertical-align: middle;\n",
              "    }\n",
              "\n",
              "    .dataframe tbody tr th {\n",
              "        vertical-align: top;\n",
              "    }\n",
              "\n",
              "    .dataframe thead th {\n",
              "        text-align: right;\n",
              "    }\n",
              "</style>\n",
              "<table border=\"1\" class=\"dataframe\">\n",
              "  <thead>\n",
              "    <tr style=\"text-align: right;\">\n",
              "      <th></th>\n",
              "      <th>order_id</th>\n",
              "      <th>item_name</th>\n",
              "      <th>item_price</th>\n",
              "    </tr>\n",
              "  </thead>\n",
              "  <tbody>\n",
              "    <tr>\n",
              "      <th>0</th>\n",
              "      <td>1</td>\n",
              "      <td>Chips and Fresh Tomato Salsa</td>\n",
              "      <td>$2.39</td>\n",
              "    </tr>\n",
              "    <tr>\n",
              "      <th>1</th>\n",
              "      <td>1</td>\n",
              "      <td>Izze</td>\n",
              "      <td>$3.39</td>\n",
              "    </tr>\n",
              "    <tr>\n",
              "      <th>2</th>\n",
              "      <td>1</td>\n",
              "      <td>Nantucket Nectar</td>\n",
              "      <td>$3.39</td>\n",
              "    </tr>\n",
              "    <tr>\n",
              "      <th>3</th>\n",
              "      <td>1</td>\n",
              "      <td>Chips and Tomatillo-Green Chili Salsa</td>\n",
              "      <td>$2.39</td>\n",
              "    </tr>\n",
              "    <tr>\n",
              "      <th>4</th>\n",
              "      <td>2</td>\n",
              "      <td>Chicken Bowl</td>\n",
              "      <td>$16.98</td>\n",
              "    </tr>\n",
              "    <tr>\n",
              "      <th>...</th>\n",
              "      <td>...</td>\n",
              "      <td>...</td>\n",
              "      <td>...</td>\n",
              "    </tr>\n",
              "    <tr>\n",
              "      <th>4617</th>\n",
              "      <td>1833</td>\n",
              "      <td>Steak Burrito</td>\n",
              "      <td>$11.75</td>\n",
              "    </tr>\n",
              "    <tr>\n",
              "      <th>4618</th>\n",
              "      <td>1833</td>\n",
              "      <td>Steak Burrito</td>\n",
              "      <td>$11.75</td>\n",
              "    </tr>\n",
              "    <tr>\n",
              "      <th>4619</th>\n",
              "      <td>1834</td>\n",
              "      <td>Chicken Salad Bowl</td>\n",
              "      <td>$11.25</td>\n",
              "    </tr>\n",
              "    <tr>\n",
              "      <th>4620</th>\n",
              "      <td>1834</td>\n",
              "      <td>Chicken Salad Bowl</td>\n",
              "      <td>$8.75</td>\n",
              "    </tr>\n",
              "    <tr>\n",
              "      <th>4621</th>\n",
              "      <td>1834</td>\n",
              "      <td>Chicken Salad Bowl</td>\n",
              "      <td>$8.75</td>\n",
              "    </tr>\n",
              "  </tbody>\n",
              "</table>\n",
              "<p>4622 rows × 3 columns</p>\n",
              "</div>"
            ],
            "text/plain": [
              "      order_id                              item_name item_price\n",
              "0            1           Chips and Fresh Tomato Salsa     $2.39 \n",
              "1            1                                   Izze     $3.39 \n",
              "2            1                       Nantucket Nectar     $3.39 \n",
              "3            1  Chips and Tomatillo-Green Chili Salsa     $2.39 \n",
              "4            2                           Chicken Bowl    $16.98 \n",
              "...        ...                                    ...        ...\n",
              "4617      1833                          Steak Burrito    $11.75 \n",
              "4618      1833                          Steak Burrito    $11.75 \n",
              "4619      1834                     Chicken Salad Bowl    $11.25 \n",
              "4620      1834                     Chicken Salad Bowl     $8.75 \n",
              "4621      1834                     Chicken Salad Bowl     $8.75 \n",
              "\n",
              "[4622 rows x 3 columns]"
            ]
          },
          "metadata": {
            "tags": []
          },
          "execution_count": 70
        }
      ]
    },
    {
      "cell_type": "code",
      "metadata": {
        "colab": {
          "base_uri": "https://localhost:8080/",
          "height": 406
        },
        "id": "R4O0aPRZwjuS",
        "outputId": "77f8ed4c-57c6-436a-a1dc-fcbeb20ff454"
      },
      "source": [
        "# df의 new_price 컬럼 값에 따라 내림차순으로 정리하고 index를 초기화 하여라\n",
        "df.sort_values(\"new_price\", ascending=False).reset_index(drop=True)"
      ],
      "execution_count": null,
      "outputs": [
        {
          "output_type": "execute_result",
          "data": {
            "text/html": [
              "<div>\n",
              "<style scoped>\n",
              "    .dataframe tbody tr th:only-of-type {\n",
              "        vertical-align: middle;\n",
              "    }\n",
              "\n",
              "    .dataframe tbody tr th {\n",
              "        vertical-align: top;\n",
              "    }\n",
              "\n",
              "    .dataframe thead th {\n",
              "        text-align: right;\n",
              "    }\n",
              "</style>\n",
              "<table border=\"1\" class=\"dataframe\">\n",
              "  <thead>\n",
              "    <tr style=\"text-align: right;\">\n",
              "      <th></th>\n",
              "      <th>order_id</th>\n",
              "      <th>quantity</th>\n",
              "      <th>item_name</th>\n",
              "      <th>choice_description</th>\n",
              "      <th>item_price</th>\n",
              "      <th>new_price</th>\n",
              "    </tr>\n",
              "  </thead>\n",
              "  <tbody>\n",
              "    <tr>\n",
              "      <th>0</th>\n",
              "      <td>1443</td>\n",
              "      <td>15</td>\n",
              "      <td>Chips and Fresh Tomato Salsa</td>\n",
              "      <td>NaN</td>\n",
              "      <td>$44.25</td>\n",
              "      <td>44.25</td>\n",
              "    </tr>\n",
              "    <tr>\n",
              "      <th>1</th>\n",
              "      <td>1398</td>\n",
              "      <td>3</td>\n",
              "      <td>Carnitas Bowl</td>\n",
              "      <td>[Roasted Chili Corn Salsa, [Fajita Vegetables,...</td>\n",
              "      <td>$35.25</td>\n",
              "      <td>35.25</td>\n",
              "    </tr>\n",
              "    <tr>\n",
              "      <th>2</th>\n",
              "      <td>511</td>\n",
              "      <td>4</td>\n",
              "      <td>Chicken Burrito</td>\n",
              "      <td>[Fresh Tomato Salsa, [Fajita Vegetables, Rice,...</td>\n",
              "      <td>$35.00</td>\n",
              "      <td>35.00</td>\n",
              "    </tr>\n",
              "    <tr>\n",
              "      <th>3</th>\n",
              "      <td>1443</td>\n",
              "      <td>4</td>\n",
              "      <td>Chicken Burrito</td>\n",
              "      <td>[Fresh Tomato Salsa, [Rice, Black Beans, Chees...</td>\n",
              "      <td>$35.00</td>\n",
              "      <td>35.00</td>\n",
              "    </tr>\n",
              "    <tr>\n",
              "      <th>4</th>\n",
              "      <td>1443</td>\n",
              "      <td>3</td>\n",
              "      <td>Veggie Burrito</td>\n",
              "      <td>[Fresh Tomato Salsa, [Fajita Vegetables, Rice,...</td>\n",
              "      <td>$33.75</td>\n",
              "      <td>33.75</td>\n",
              "    </tr>\n",
              "    <tr>\n",
              "      <th>...</th>\n",
              "      <td>...</td>\n",
              "      <td>...</td>\n",
              "      <td>...</td>\n",
              "      <td>...</td>\n",
              "      <td>...</td>\n",
              "      <td>...</td>\n",
              "    </tr>\n",
              "    <tr>\n",
              "      <th>4617</th>\n",
              "      <td>1578</td>\n",
              "      <td>1</td>\n",
              "      <td>Canned Soda</td>\n",
              "      <td>[Diet Dr. Pepper]</td>\n",
              "      <td>$1.09</td>\n",
              "      <td>1.09</td>\n",
              "    </tr>\n",
              "    <tr>\n",
              "      <th>4618</th>\n",
              "      <td>1162</td>\n",
              "      <td>1</td>\n",
              "      <td>Bottled Water</td>\n",
              "      <td>NaN</td>\n",
              "      <td>$1.09</td>\n",
              "      <td>1.09</td>\n",
              "    </tr>\n",
              "    <tr>\n",
              "      <th>4619</th>\n",
              "      <td>567</td>\n",
              "      <td>1</td>\n",
              "      <td>Canned Soda</td>\n",
              "      <td>[Coca Cola]</td>\n",
              "      <td>$1.09</td>\n",
              "      <td>1.09</td>\n",
              "    </tr>\n",
              "    <tr>\n",
              "      <th>4620</th>\n",
              "      <td>1014</td>\n",
              "      <td>1</td>\n",
              "      <td>Canned Soda</td>\n",
              "      <td>[Coca Cola]</td>\n",
              "      <td>$1.09</td>\n",
              "      <td>1.09</td>\n",
              "    </tr>\n",
              "    <tr>\n",
              "      <th>4621</th>\n",
              "      <td>591</td>\n",
              "      <td>1</td>\n",
              "      <td>Canned Soda</td>\n",
              "      <td>[Sprite]</td>\n",
              "      <td>$1.09</td>\n",
              "      <td>1.09</td>\n",
              "    </tr>\n",
              "  </tbody>\n",
              "</table>\n",
              "<p>4622 rows × 6 columns</p>\n",
              "</div>"
            ],
            "text/plain": [
              "      order_id  quantity  ... item_price new_price\n",
              "0         1443        15  ...    $44.25      44.25\n",
              "1         1398         3  ...    $35.25      35.25\n",
              "2          511         4  ...    $35.00      35.00\n",
              "3         1443         4  ...    $35.00      35.00\n",
              "4         1443         3  ...    $33.75      33.75\n",
              "...        ...       ...  ...        ...       ...\n",
              "4617      1578         1  ...     $1.09       1.09\n",
              "4618      1162         1  ...     $1.09       1.09\n",
              "4619       567         1  ...     $1.09       1.09\n",
              "4620      1014         1  ...     $1.09       1.09\n",
              "4621       591         1  ...     $1.09       1.09\n",
              "\n",
              "[4622 rows x 6 columns]"
            ]
          },
          "metadata": {
            "tags": []
          },
          "execution_count": 71
        }
      ]
    },
    {
      "cell_type": "code",
      "metadata": {
        "id": "ll6qMX1vw-Wi",
        "colab": {
          "base_uri": "https://localhost:8080/",
          "height": 227
        },
        "outputId": "640cefca-fb2c-49f0-da76-6257cceeb5e3"
      },
      "source": [
        "df[(df.item_name == \"Steak Salad\") | (df.item_name == \"Bowl\")]"
      ],
      "execution_count": null,
      "outputs": [
        {
          "output_type": "execute_result",
          "data": {
            "text/html": [
              "<div>\n",
              "<style scoped>\n",
              "    .dataframe tbody tr th:only-of-type {\n",
              "        vertical-align: middle;\n",
              "    }\n",
              "\n",
              "    .dataframe tbody tr th {\n",
              "        vertical-align: top;\n",
              "    }\n",
              "\n",
              "    .dataframe thead th {\n",
              "        text-align: right;\n",
              "    }\n",
              "</style>\n",
              "<table border=\"1\" class=\"dataframe\">\n",
              "  <thead>\n",
              "    <tr style=\"text-align: right;\">\n",
              "      <th></th>\n",
              "      <th>order_id</th>\n",
              "      <th>quantity</th>\n",
              "      <th>item_name</th>\n",
              "      <th>choice_description</th>\n",
              "      <th>item_price</th>\n",
              "      <th>new_price</th>\n",
              "    </tr>\n",
              "  </thead>\n",
              "  <tbody>\n",
              "    <tr>\n",
              "      <th>445</th>\n",
              "      <td>193</td>\n",
              "      <td>3</td>\n",
              "      <td>Bowl</td>\n",
              "      <td>[Braised Carnitas, Pinto Beans, [Sour Cream, C...</td>\n",
              "      <td>$22.20</td>\n",
              "      <td>22.20</td>\n",
              "    </tr>\n",
              "    <tr>\n",
              "      <th>664</th>\n",
              "      <td>276</td>\n",
              "      <td>1</td>\n",
              "      <td>Steak Salad</td>\n",
              "      <td>[Tomatillo-Red Chili Salsa (Hot), [Black Beans...</td>\n",
              "      <td>$8.99</td>\n",
              "      <td>8.99</td>\n",
              "    </tr>\n",
              "    <tr>\n",
              "      <th>673</th>\n",
              "      <td>279</td>\n",
              "      <td>1</td>\n",
              "      <td>Bowl</td>\n",
              "      <td>[Adobo-Marinated and Grilled Steak, [Sour Crea...</td>\n",
              "      <td>$7.40</td>\n",
              "      <td>7.40</td>\n",
              "    </tr>\n",
              "    <tr>\n",
              "      <th>752</th>\n",
              "      <td>311</td>\n",
              "      <td>1</td>\n",
              "      <td>Steak Salad</td>\n",
              "      <td>[Tomatillo-Red Chili Salsa (Hot), [Black Beans...</td>\n",
              "      <td>$8.99</td>\n",
              "      <td>8.99</td>\n",
              "    </tr>\n",
              "    <tr>\n",
              "      <th>893</th>\n",
              "      <td>369</td>\n",
              "      <td>1</td>\n",
              "      <td>Steak Salad</td>\n",
              "      <td>[Fresh Tomato Salsa (Mild), [Rice, Cheese, Sou...</td>\n",
              "      <td>$8.99</td>\n",
              "      <td>8.99</td>\n",
              "    </tr>\n",
              "    <tr>\n",
              "      <th>3502</th>\n",
              "      <td>1406</td>\n",
              "      <td>1</td>\n",
              "      <td>Steak Salad</td>\n",
              "      <td>[[Lettuce, Fajita Veggies]]</td>\n",
              "      <td>$8.69</td>\n",
              "      <td>8.69</td>\n",
              "    </tr>\n",
              "  </tbody>\n",
              "</table>\n",
              "</div>"
            ],
            "text/plain": [
              "      order_id  quantity  ... item_price new_price\n",
              "445        193         3  ...    $22.20      22.20\n",
              "664        276         1  ...     $8.99       8.99\n",
              "673        279         1  ...     $7.40       7.40\n",
              "752        311         1  ...     $8.99       8.99\n",
              "893        369         1  ...     $8.99       8.99\n",
              "3502      1406         1  ...     $8.69       8.69\n",
              "\n",
              "[6 rows x 6 columns]"
            ]
          },
          "metadata": {
            "tags": []
          },
          "execution_count": 72
        }
      ]
    },
    {
      "cell_type": "code",
      "metadata": {
        "colab": {
          "base_uri": "https://localhost:8080/",
          "height": 107
        },
        "id": "cxSJ2wUwYegy",
        "outputId": "6b4003b1-b5ff-4918-c064-e6d695f40300"
      },
      "source": [
        "df[(df.item_name == \"Steak Salad\") | (df.item_name == \"Bowl\")].drop_duplicates(\"item_name\")"
      ],
      "execution_count": null,
      "outputs": [
        {
          "output_type": "execute_result",
          "data": {
            "text/html": [
              "<div>\n",
              "<style scoped>\n",
              "    .dataframe tbody tr th:only-of-type {\n",
              "        vertical-align: middle;\n",
              "    }\n",
              "\n",
              "    .dataframe tbody tr th {\n",
              "        vertical-align: top;\n",
              "    }\n",
              "\n",
              "    .dataframe thead th {\n",
              "        text-align: right;\n",
              "    }\n",
              "</style>\n",
              "<table border=\"1\" class=\"dataframe\">\n",
              "  <thead>\n",
              "    <tr style=\"text-align: right;\">\n",
              "      <th></th>\n",
              "      <th>order_id</th>\n",
              "      <th>quantity</th>\n",
              "      <th>item_name</th>\n",
              "      <th>choice_description</th>\n",
              "      <th>item_price</th>\n",
              "      <th>new_price</th>\n",
              "    </tr>\n",
              "  </thead>\n",
              "  <tbody>\n",
              "    <tr>\n",
              "      <th>445</th>\n",
              "      <td>193</td>\n",
              "      <td>3</td>\n",
              "      <td>Bowl</td>\n",
              "      <td>[Braised Carnitas, Pinto Beans, [Sour Cream, C...</td>\n",
              "      <td>$22.20</td>\n",
              "      <td>22.20</td>\n",
              "    </tr>\n",
              "    <tr>\n",
              "      <th>664</th>\n",
              "      <td>276</td>\n",
              "      <td>1</td>\n",
              "      <td>Steak Salad</td>\n",
              "      <td>[Tomatillo-Red Chili Salsa (Hot), [Black Beans...</td>\n",
              "      <td>$8.99</td>\n",
              "      <td>8.99</td>\n",
              "    </tr>\n",
              "  </tbody>\n",
              "</table>\n",
              "</div>"
            ],
            "text/plain": [
              "     order_id  quantity  ... item_price new_price\n",
              "445       193         3  ...    $22.20      22.20\n",
              "664       276         1  ...     $8.99       8.99\n",
              "\n",
              "[2 rows x 6 columns]"
            ]
          },
          "metadata": {
            "tags": []
          },
          "execution_count": 73
        }
      ]
    },
    {
      "cell_type": "code",
      "metadata": {
        "colab": {
          "base_uri": "https://localhost:8080/",
          "height": 107
        },
        "id": "SPgrd62WYyAh",
        "outputId": "ae33a844-d9e8-469d-df55-0220ccbc958e"
      },
      "source": [
        "df[(df.item_name == \"Steak Salad\") | (df.item_name == \"Bowl\")].drop_duplicates(\"item_name\", keep=\"last\")"
      ],
      "execution_count": null,
      "outputs": [
        {
          "output_type": "execute_result",
          "data": {
            "text/html": [
              "<div>\n",
              "<style scoped>\n",
              "    .dataframe tbody tr th:only-of-type {\n",
              "        vertical-align: middle;\n",
              "    }\n",
              "\n",
              "    .dataframe tbody tr th {\n",
              "        vertical-align: top;\n",
              "    }\n",
              "\n",
              "    .dataframe thead th {\n",
              "        text-align: right;\n",
              "    }\n",
              "</style>\n",
              "<table border=\"1\" class=\"dataframe\">\n",
              "  <thead>\n",
              "    <tr style=\"text-align: right;\">\n",
              "      <th></th>\n",
              "      <th>order_id</th>\n",
              "      <th>quantity</th>\n",
              "      <th>item_name</th>\n",
              "      <th>choice_description</th>\n",
              "      <th>item_price</th>\n",
              "      <th>new_price</th>\n",
              "    </tr>\n",
              "  </thead>\n",
              "  <tbody>\n",
              "    <tr>\n",
              "      <th>673</th>\n",
              "      <td>279</td>\n",
              "      <td>1</td>\n",
              "      <td>Bowl</td>\n",
              "      <td>[Adobo-Marinated and Grilled Steak, [Sour Crea...</td>\n",
              "      <td>$7.40</td>\n",
              "      <td>7.40</td>\n",
              "    </tr>\n",
              "    <tr>\n",
              "      <th>3502</th>\n",
              "      <td>1406</td>\n",
              "      <td>1</td>\n",
              "      <td>Steak Salad</td>\n",
              "      <td>[[Lettuce, Fajita Veggies]]</td>\n",
              "      <td>$8.69</td>\n",
              "      <td>8.69</td>\n",
              "    </tr>\n",
              "  </tbody>\n",
              "</table>\n",
              "</div>"
            ],
            "text/plain": [
              "      order_id  quantity  ... item_price new_price\n",
              "673        279         1  ...     $7.40       7.40\n",
              "3502      1406         1  ...     $8.69       8.69\n",
              "\n",
              "[2 rows x 6 columns]"
            ]
          },
          "metadata": {
            "tags": []
          },
          "execution_count": 74
        }
      ]
    },
    {
      "cell_type": "code",
      "metadata": {
        "colab": {
          "base_uri": "https://localhost:8080/",
          "height": 406
        },
        "id": "UV9SEW9xZlA7",
        "outputId": "0779f0db-4580-4e92-d739-d8fcb0f7d41b"
      },
      "source": [
        "average = df[\"new_price\"].mean()\n",
        "df[df[\"new_price\"] > average]"
      ],
      "execution_count": null,
      "outputs": [
        {
          "output_type": "execute_result",
          "data": {
            "text/html": [
              "<div>\n",
              "<style scoped>\n",
              "    .dataframe tbody tr th:only-of-type {\n",
              "        vertical-align: middle;\n",
              "    }\n",
              "\n",
              "    .dataframe tbody tr th {\n",
              "        vertical-align: top;\n",
              "    }\n",
              "\n",
              "    .dataframe thead th {\n",
              "        text-align: right;\n",
              "    }\n",
              "</style>\n",
              "<table border=\"1\" class=\"dataframe\">\n",
              "  <thead>\n",
              "    <tr style=\"text-align: right;\">\n",
              "      <th></th>\n",
              "      <th>order_id</th>\n",
              "      <th>quantity</th>\n",
              "      <th>item_name</th>\n",
              "      <th>choice_description</th>\n",
              "      <th>item_price</th>\n",
              "      <th>new_price</th>\n",
              "    </tr>\n",
              "  </thead>\n",
              "  <tbody>\n",
              "    <tr>\n",
              "      <th>4</th>\n",
              "      <td>2</td>\n",
              "      <td>2</td>\n",
              "      <td>Chicken Bowl</td>\n",
              "      <td>[Tomatillo-Red Chili Salsa (Hot), [Black Beans...</td>\n",
              "      <td>$16.98</td>\n",
              "      <td>16.98</td>\n",
              "    </tr>\n",
              "    <tr>\n",
              "      <th>5</th>\n",
              "      <td>3</td>\n",
              "      <td>1</td>\n",
              "      <td>Chicken Bowl</td>\n",
              "      <td>[Fresh Tomato Salsa (Mild), [Rice, Cheese, Sou...</td>\n",
              "      <td>$10.98</td>\n",
              "      <td>10.98</td>\n",
              "    </tr>\n",
              "    <tr>\n",
              "      <th>7</th>\n",
              "      <td>4</td>\n",
              "      <td>1</td>\n",
              "      <td>Steak Burrito</td>\n",
              "      <td>[Tomatillo Red Chili Salsa, [Fajita Vegetables...</td>\n",
              "      <td>$11.75</td>\n",
              "      <td>11.75</td>\n",
              "    </tr>\n",
              "    <tr>\n",
              "      <th>8</th>\n",
              "      <td>4</td>\n",
              "      <td>1</td>\n",
              "      <td>Steak Soft Tacos</td>\n",
              "      <td>[Tomatillo Green Chili Salsa, [Pinto Beans, Ch...</td>\n",
              "      <td>$9.25</td>\n",
              "      <td>9.25</td>\n",
              "    </tr>\n",
              "    <tr>\n",
              "      <th>9</th>\n",
              "      <td>5</td>\n",
              "      <td>1</td>\n",
              "      <td>Steak Burrito</td>\n",
              "      <td>[Fresh Tomato Salsa, [Rice, Black Beans, Pinto...</td>\n",
              "      <td>$9.25</td>\n",
              "      <td>9.25</td>\n",
              "    </tr>\n",
              "    <tr>\n",
              "      <th>...</th>\n",
              "      <td>...</td>\n",
              "      <td>...</td>\n",
              "      <td>...</td>\n",
              "      <td>...</td>\n",
              "      <td>...</td>\n",
              "      <td>...</td>\n",
              "    </tr>\n",
              "    <tr>\n",
              "      <th>4617</th>\n",
              "      <td>1833</td>\n",
              "      <td>1</td>\n",
              "      <td>Steak Burrito</td>\n",
              "      <td>[Fresh Tomato Salsa, [Rice, Black Beans, Sour ...</td>\n",
              "      <td>$11.75</td>\n",
              "      <td>11.75</td>\n",
              "    </tr>\n",
              "    <tr>\n",
              "      <th>4618</th>\n",
              "      <td>1833</td>\n",
              "      <td>1</td>\n",
              "      <td>Steak Burrito</td>\n",
              "      <td>[Fresh Tomato Salsa, [Rice, Sour Cream, Cheese...</td>\n",
              "      <td>$11.75</td>\n",
              "      <td>11.75</td>\n",
              "    </tr>\n",
              "    <tr>\n",
              "      <th>4619</th>\n",
              "      <td>1834</td>\n",
              "      <td>1</td>\n",
              "      <td>Chicken Salad Bowl</td>\n",
              "      <td>[Fresh Tomato Salsa, [Fajita Vegetables, Pinto...</td>\n",
              "      <td>$11.25</td>\n",
              "      <td>11.25</td>\n",
              "    </tr>\n",
              "    <tr>\n",
              "      <th>4620</th>\n",
              "      <td>1834</td>\n",
              "      <td>1</td>\n",
              "      <td>Chicken Salad Bowl</td>\n",
              "      <td>[Fresh Tomato Salsa, [Fajita Vegetables, Lettu...</td>\n",
              "      <td>$8.75</td>\n",
              "      <td>8.75</td>\n",
              "    </tr>\n",
              "    <tr>\n",
              "      <th>4621</th>\n",
              "      <td>1834</td>\n",
              "      <td>1</td>\n",
              "      <td>Chicken Salad Bowl</td>\n",
              "      <td>[Fresh Tomato Salsa, [Fajita Vegetables, Pinto...</td>\n",
              "      <td>$8.75</td>\n",
              "      <td>8.75</td>\n",
              "    </tr>\n",
              "  </tbody>\n",
              "</table>\n",
              "<p>2890 rows × 6 columns</p>\n",
              "</div>"
            ],
            "text/plain": [
              "      order_id  quantity  ... item_price new_price\n",
              "4            2         2  ...    $16.98      16.98\n",
              "5            3         1  ...    $10.98      10.98\n",
              "7            4         1  ...    $11.75      11.75\n",
              "8            4         1  ...     $9.25       9.25\n",
              "9            5         1  ...     $9.25       9.25\n",
              "...        ...       ...  ...        ...       ...\n",
              "4617      1833         1  ...    $11.75      11.75\n",
              "4618      1833         1  ...    $11.75      11.75\n",
              "4619      1834         1  ...    $11.25      11.25\n",
              "4620      1834         1  ...     $8.75       8.75\n",
              "4621      1834         1  ...     $8.75       8.75\n",
              "\n",
              "[2890 rows x 6 columns]"
            ]
          },
          "metadata": {
            "tags": []
          },
          "execution_count": 75
        }
      ]
    },
    {
      "cell_type": "code",
      "metadata": {
        "colab": {
          "base_uri": "https://localhost:8080/",
          "height": 406
        },
        "id": "XtbXtBh7Zr7a",
        "outputId": "72ff1d18-acfd-4255-a1d8-312c04c01c13"
      },
      "source": [
        "df[df.new_price >= df.new_price.mean()]"
      ],
      "execution_count": null,
      "outputs": [
        {
          "output_type": "execute_result",
          "data": {
            "text/html": [
              "<div>\n",
              "<style scoped>\n",
              "    .dataframe tbody tr th:only-of-type {\n",
              "        vertical-align: middle;\n",
              "    }\n",
              "\n",
              "    .dataframe tbody tr th {\n",
              "        vertical-align: top;\n",
              "    }\n",
              "\n",
              "    .dataframe thead th {\n",
              "        text-align: right;\n",
              "    }\n",
              "</style>\n",
              "<table border=\"1\" class=\"dataframe\">\n",
              "  <thead>\n",
              "    <tr style=\"text-align: right;\">\n",
              "      <th></th>\n",
              "      <th>order_id</th>\n",
              "      <th>quantity</th>\n",
              "      <th>item_name</th>\n",
              "      <th>choice_description</th>\n",
              "      <th>item_price</th>\n",
              "      <th>new_price</th>\n",
              "    </tr>\n",
              "  </thead>\n",
              "  <tbody>\n",
              "    <tr>\n",
              "      <th>4</th>\n",
              "      <td>2</td>\n",
              "      <td>2</td>\n",
              "      <td>Chicken Bowl</td>\n",
              "      <td>[Tomatillo-Red Chili Salsa (Hot), [Black Beans...</td>\n",
              "      <td>$16.98</td>\n",
              "      <td>16.98</td>\n",
              "    </tr>\n",
              "    <tr>\n",
              "      <th>5</th>\n",
              "      <td>3</td>\n",
              "      <td>1</td>\n",
              "      <td>Chicken Bowl</td>\n",
              "      <td>[Fresh Tomato Salsa (Mild), [Rice, Cheese, Sou...</td>\n",
              "      <td>$10.98</td>\n",
              "      <td>10.98</td>\n",
              "    </tr>\n",
              "    <tr>\n",
              "      <th>7</th>\n",
              "      <td>4</td>\n",
              "      <td>1</td>\n",
              "      <td>Steak Burrito</td>\n",
              "      <td>[Tomatillo Red Chili Salsa, [Fajita Vegetables...</td>\n",
              "      <td>$11.75</td>\n",
              "      <td>11.75</td>\n",
              "    </tr>\n",
              "    <tr>\n",
              "      <th>8</th>\n",
              "      <td>4</td>\n",
              "      <td>1</td>\n",
              "      <td>Steak Soft Tacos</td>\n",
              "      <td>[Tomatillo Green Chili Salsa, [Pinto Beans, Ch...</td>\n",
              "      <td>$9.25</td>\n",
              "      <td>9.25</td>\n",
              "    </tr>\n",
              "    <tr>\n",
              "      <th>9</th>\n",
              "      <td>5</td>\n",
              "      <td>1</td>\n",
              "      <td>Steak Burrito</td>\n",
              "      <td>[Fresh Tomato Salsa, [Rice, Black Beans, Pinto...</td>\n",
              "      <td>$9.25</td>\n",
              "      <td>9.25</td>\n",
              "    </tr>\n",
              "    <tr>\n",
              "      <th>...</th>\n",
              "      <td>...</td>\n",
              "      <td>...</td>\n",
              "      <td>...</td>\n",
              "      <td>...</td>\n",
              "      <td>...</td>\n",
              "      <td>...</td>\n",
              "    </tr>\n",
              "    <tr>\n",
              "      <th>4617</th>\n",
              "      <td>1833</td>\n",
              "      <td>1</td>\n",
              "      <td>Steak Burrito</td>\n",
              "      <td>[Fresh Tomato Salsa, [Rice, Black Beans, Sour ...</td>\n",
              "      <td>$11.75</td>\n",
              "      <td>11.75</td>\n",
              "    </tr>\n",
              "    <tr>\n",
              "      <th>4618</th>\n",
              "      <td>1833</td>\n",
              "      <td>1</td>\n",
              "      <td>Steak Burrito</td>\n",
              "      <td>[Fresh Tomato Salsa, [Rice, Sour Cream, Cheese...</td>\n",
              "      <td>$11.75</td>\n",
              "      <td>11.75</td>\n",
              "    </tr>\n",
              "    <tr>\n",
              "      <th>4619</th>\n",
              "      <td>1834</td>\n",
              "      <td>1</td>\n",
              "      <td>Chicken Salad Bowl</td>\n",
              "      <td>[Fresh Tomato Salsa, [Fajita Vegetables, Pinto...</td>\n",
              "      <td>$11.25</td>\n",
              "      <td>11.25</td>\n",
              "    </tr>\n",
              "    <tr>\n",
              "      <th>4620</th>\n",
              "      <td>1834</td>\n",
              "      <td>1</td>\n",
              "      <td>Chicken Salad Bowl</td>\n",
              "      <td>[Fresh Tomato Salsa, [Fajita Vegetables, Lettu...</td>\n",
              "      <td>$8.75</td>\n",
              "      <td>8.75</td>\n",
              "    </tr>\n",
              "    <tr>\n",
              "      <th>4621</th>\n",
              "      <td>1834</td>\n",
              "      <td>1</td>\n",
              "      <td>Chicken Salad Bowl</td>\n",
              "      <td>[Fresh Tomato Salsa, [Fajita Vegetables, Pinto...</td>\n",
              "      <td>$8.75</td>\n",
              "      <td>8.75</td>\n",
              "    </tr>\n",
              "  </tbody>\n",
              "</table>\n",
              "<p>2890 rows × 6 columns</p>\n",
              "</div>"
            ],
            "text/plain": [
              "      order_id  quantity  ... item_price new_price\n",
              "4            2         2  ...    $16.98      16.98\n",
              "5            3         1  ...    $10.98      10.98\n",
              "7            4         1  ...    $11.75      11.75\n",
              "8            4         1  ...     $9.25       9.25\n",
              "9            5         1  ...     $9.25       9.25\n",
              "...        ...       ...  ...        ...       ...\n",
              "4617      1833         1  ...    $11.75      11.75\n",
              "4618      1833         1  ...    $11.75      11.75\n",
              "4619      1834         1  ...    $11.25      11.25\n",
              "4620      1834         1  ...     $8.75       8.75\n",
              "4621      1834         1  ...     $8.75       8.75\n",
              "\n",
              "[2890 rows x 6 columns]"
            ]
          },
          "metadata": {
            "tags": []
          },
          "execution_count": 76
        }
      ]
    },
    {
      "cell_type": "code",
      "metadata": {
        "colab": {
          "base_uri": "https://localhost:8080/",
          "height": 231
        },
        "id": "m2iXJQr_ZxTa",
        "outputId": "70b4d893-8759-4b0f-a05e-a2f1b7c73af1"
      },
      "source": [
        "df[df[\"item_name\"] == \"Izze\"] = \"Fizzy Lizzy\"\n",
        "df.head(5)"
      ],
      "execution_count": null,
      "outputs": [
        {
          "output_type": "execute_result",
          "data": {
            "text/html": [
              "<div>\n",
              "<style scoped>\n",
              "    .dataframe tbody tr th:only-of-type {\n",
              "        vertical-align: middle;\n",
              "    }\n",
              "\n",
              "    .dataframe tbody tr th {\n",
              "        vertical-align: top;\n",
              "    }\n",
              "\n",
              "    .dataframe thead th {\n",
              "        text-align: right;\n",
              "    }\n",
              "</style>\n",
              "<table border=\"1\" class=\"dataframe\">\n",
              "  <thead>\n",
              "    <tr style=\"text-align: right;\">\n",
              "      <th></th>\n",
              "      <th>order_id</th>\n",
              "      <th>quantity</th>\n",
              "      <th>item_name</th>\n",
              "      <th>choice_description</th>\n",
              "      <th>item_price</th>\n",
              "      <th>new_price</th>\n",
              "    </tr>\n",
              "  </thead>\n",
              "  <tbody>\n",
              "    <tr>\n",
              "      <th>0</th>\n",
              "      <td>1</td>\n",
              "      <td>1</td>\n",
              "      <td>Chips and Fresh Tomato Salsa</td>\n",
              "      <td>NaN</td>\n",
              "      <td>$2.39</td>\n",
              "      <td>2.39</td>\n",
              "    </tr>\n",
              "    <tr>\n",
              "      <th>1</th>\n",
              "      <td>Fizzy Lizzy</td>\n",
              "      <td>Fizzy Lizzy</td>\n",
              "      <td>Fizzy Lizzy</td>\n",
              "      <td>Fizzy Lizzy</td>\n",
              "      <td>Fizzy Lizzy</td>\n",
              "      <td>Fizzy Lizzy</td>\n",
              "    </tr>\n",
              "    <tr>\n",
              "      <th>2</th>\n",
              "      <td>1</td>\n",
              "      <td>1</td>\n",
              "      <td>Nantucket Nectar</td>\n",
              "      <td>[Apple]</td>\n",
              "      <td>$3.39</td>\n",
              "      <td>3.39</td>\n",
              "    </tr>\n",
              "    <tr>\n",
              "      <th>3</th>\n",
              "      <td>1</td>\n",
              "      <td>1</td>\n",
              "      <td>Chips and Tomatillo-Green Chili Salsa</td>\n",
              "      <td>NaN</td>\n",
              "      <td>$2.39</td>\n",
              "      <td>2.39</td>\n",
              "    </tr>\n",
              "    <tr>\n",
              "      <th>4</th>\n",
              "      <td>2</td>\n",
              "      <td>2</td>\n",
              "      <td>Chicken Bowl</td>\n",
              "      <td>[Tomatillo-Red Chili Salsa (Hot), [Black Beans...</td>\n",
              "      <td>$16.98</td>\n",
              "      <td>16.98</td>\n",
              "    </tr>\n",
              "  </tbody>\n",
              "</table>\n",
              "</div>"
            ],
            "text/plain": [
              "      order_id     quantity  ...   item_price    new_price\n",
              "0            1            1  ...       $2.39          2.39\n",
              "1  Fizzy Lizzy  Fizzy Lizzy  ...  Fizzy Lizzy  Fizzy Lizzy\n",
              "2            1            1  ...       $3.39          3.39\n",
              "3            1            1  ...       $2.39          2.39\n",
              "4            2            2  ...      $16.98         16.98\n",
              "\n",
              "[5 rows x 6 columns]"
            ]
          },
          "metadata": {
            "tags": []
          },
          "execution_count": 79
        }
      ]
    },
    {
      "cell_type": "code",
      "metadata": {
        "colab": {
          "base_uri": "https://localhost:8080/"
        },
        "id": "jkUViHd2aI0r",
        "outputId": "a4b7742e-a568-4c2e-e2ae-82b1edc86348"
      },
      "source": [
        "df[\"choice_description\"] = df[\"choice_description\"].fillna(\"NoData\")\n",
        "df[\"choice_description\"] "
      ],
      "execution_count": null,
      "outputs": [
        {
          "output_type": "execute_result",
          "data": {
            "text/plain": [
              "0                                                  NoData\n",
              "1                                             Fizzy Lizzy\n",
              "2                                                 [Apple]\n",
              "3                                                  NoData\n",
              "4       [Tomatillo-Red Chili Salsa (Hot), [Black Beans...\n",
              "                              ...                        \n",
              "4617    [Fresh Tomato Salsa, [Rice, Black Beans, Sour ...\n",
              "4618    [Fresh Tomato Salsa, [Rice, Sour Cream, Cheese...\n",
              "4619    [Fresh Tomato Salsa, [Fajita Vegetables, Pinto...\n",
              "4620    [Fresh Tomato Salsa, [Fajita Vegetables, Lettu...\n",
              "4621    [Fresh Tomato Salsa, [Fajita Vegetables, Pinto...\n",
              "Name: choice_description, Length: 4622, dtype: object"
            ]
          },
          "metadata": {
            "tags": []
          },
          "execution_count": 80
        }
      ]
    },
    {
      "cell_type": "code",
      "metadata": {
        "colab": {
          "base_uri": "https://localhost:8080/",
          "height": 197
        },
        "id": "DZ1B4MP-a_Y7",
        "outputId": "dc2d69b2-a397-4071-9373-5d93601904c3"
      },
      "source": [
        "df[df.choice_description.str.contains(\"Black\")].head(5)"
      ],
      "execution_count": null,
      "outputs": [
        {
          "output_type": "execute_result",
          "data": {
            "text/html": [
              "<div>\n",
              "<style scoped>\n",
              "    .dataframe tbody tr th:only-of-type {\n",
              "        vertical-align: middle;\n",
              "    }\n",
              "\n",
              "    .dataframe tbody tr th {\n",
              "        vertical-align: top;\n",
              "    }\n",
              "\n",
              "    .dataframe thead th {\n",
              "        text-align: right;\n",
              "    }\n",
              "</style>\n",
              "<table border=\"1\" class=\"dataframe\">\n",
              "  <thead>\n",
              "    <tr style=\"text-align: right;\">\n",
              "      <th></th>\n",
              "      <th>order_id</th>\n",
              "      <th>quantity</th>\n",
              "      <th>item_name</th>\n",
              "      <th>choice_description</th>\n",
              "      <th>item_price</th>\n",
              "      <th>new_price</th>\n",
              "    </tr>\n",
              "  </thead>\n",
              "  <tbody>\n",
              "    <tr>\n",
              "      <th>4</th>\n",
              "      <td>2</td>\n",
              "      <td>2</td>\n",
              "      <td>Chicken Bowl</td>\n",
              "      <td>[Tomatillo-Red Chili Salsa (Hot), [Black Beans...</td>\n",
              "      <td>$16.98</td>\n",
              "      <td>16.98</td>\n",
              "    </tr>\n",
              "    <tr>\n",
              "      <th>7</th>\n",
              "      <td>4</td>\n",
              "      <td>1</td>\n",
              "      <td>Steak Burrito</td>\n",
              "      <td>[Tomatillo Red Chili Salsa, [Fajita Vegetables...</td>\n",
              "      <td>$11.75</td>\n",
              "      <td>11.75</td>\n",
              "    </tr>\n",
              "    <tr>\n",
              "      <th>9</th>\n",
              "      <td>5</td>\n",
              "      <td>1</td>\n",
              "      <td>Steak Burrito</td>\n",
              "      <td>[Fresh Tomato Salsa, [Rice, Black Beans, Pinto...</td>\n",
              "      <td>$9.25</td>\n",
              "      <td>9.25</td>\n",
              "    </tr>\n",
              "    <tr>\n",
              "      <th>11</th>\n",
              "      <td>6</td>\n",
              "      <td>1</td>\n",
              "      <td>Chicken Crispy Tacos</td>\n",
              "      <td>[Roasted Chili Corn Salsa, [Fajita Vegetables,...</td>\n",
              "      <td>$8.75</td>\n",
              "      <td>8.75</td>\n",
              "    </tr>\n",
              "    <tr>\n",
              "      <th>12</th>\n",
              "      <td>6</td>\n",
              "      <td>1</td>\n",
              "      <td>Chicken Soft Tacos</td>\n",
              "      <td>[Roasted Chili Corn Salsa, [Rice, Black Beans,...</td>\n",
              "      <td>$8.75</td>\n",
              "      <td>8.75</td>\n",
              "    </tr>\n",
              "  </tbody>\n",
              "</table>\n",
              "</div>"
            ],
            "text/plain": [
              "   order_id quantity  ... item_price new_price\n",
              "4         2        2  ...    $16.98      16.98\n",
              "7         4        1  ...    $11.75      11.75\n",
              "9         5        1  ...     $9.25       9.25\n",
              "11        6        1  ...     $8.75       8.75\n",
              "12        6        1  ...     $8.75       8.75\n",
              "\n",
              "[5 rows x 6 columns]"
            ]
          },
          "metadata": {
            "tags": []
          },
          "execution_count": 85
        }
      ]
    },
    {
      "cell_type": "code",
      "metadata": {
        "colab": {
          "base_uri": "https://localhost:8080/"
        },
        "id": "Rd1eF7P6bLWb",
        "outputId": "e06bffd5-5150-454c-bfe8-b189648c0348"
      },
      "source": [
        "len(df.loc[~df.choice_description.str.contains(\"Vegetables\")])"
      ],
      "execution_count": null,
      "outputs": [
        {
          "output_type": "execute_result",
          "data": {
            "text/plain": [
              "3900"
            ]
          },
          "metadata": {
            "tags": []
          },
          "execution_count": 90
        }
      ]
    },
    {
      "cell_type": "code",
      "metadata": {
        "colab": {
          "base_uri": "https://localhost:8080/",
          "height": 137
        },
        "id": "JKPzyMI0bcet",
        "outputId": "e22bb104-de86-4bf9-ffd5-1a63e54694e3"
      },
      "source": [
        "df[df.item_name.str.startswith(\"N\")].head(3)"
      ],
      "execution_count": null,
      "outputs": [
        {
          "output_type": "execute_result",
          "data": {
            "text/html": [
              "<div>\n",
              "<style scoped>\n",
              "    .dataframe tbody tr th:only-of-type {\n",
              "        vertical-align: middle;\n",
              "    }\n",
              "\n",
              "    .dataframe tbody tr th {\n",
              "        vertical-align: top;\n",
              "    }\n",
              "\n",
              "    .dataframe thead th {\n",
              "        text-align: right;\n",
              "    }\n",
              "</style>\n",
              "<table border=\"1\" class=\"dataframe\">\n",
              "  <thead>\n",
              "    <tr style=\"text-align: right;\">\n",
              "      <th></th>\n",
              "      <th>order_id</th>\n",
              "      <th>quantity</th>\n",
              "      <th>item_name</th>\n",
              "      <th>choice_description</th>\n",
              "      <th>item_price</th>\n",
              "      <th>new_price</th>\n",
              "    </tr>\n",
              "  </thead>\n",
              "  <tbody>\n",
              "    <tr>\n",
              "      <th>2</th>\n",
              "      <td>1</td>\n",
              "      <td>1</td>\n",
              "      <td>Nantucket Nectar</td>\n",
              "      <td>[Apple]</td>\n",
              "      <td>$3.39</td>\n",
              "      <td>3.39</td>\n",
              "    </tr>\n",
              "    <tr>\n",
              "      <th>22</th>\n",
              "      <td>11</td>\n",
              "      <td>1</td>\n",
              "      <td>Nantucket Nectar</td>\n",
              "      <td>[Pomegranate Cherry]</td>\n",
              "      <td>$3.39</td>\n",
              "      <td>3.39</td>\n",
              "    </tr>\n",
              "    <tr>\n",
              "      <th>105</th>\n",
              "      <td>46</td>\n",
              "      <td>1</td>\n",
              "      <td>Nantucket Nectar</td>\n",
              "      <td>[Pineapple Orange Banana]</td>\n",
              "      <td>$3.39</td>\n",
              "      <td>3.39</td>\n",
              "    </tr>\n",
              "  </tbody>\n",
              "</table>\n",
              "</div>"
            ],
            "text/plain": [
              "    order_id quantity  ... item_price new_price\n",
              "2          1        1  ...     $3.39       3.39\n",
              "22        11        1  ...     $3.39       3.39\n",
              "105       46        1  ...     $3.39       3.39\n",
              "\n",
              "[3 rows x 6 columns]"
            ]
          },
          "metadata": {
            "tags": []
          },
          "execution_count": 92
        }
      ]
    },
    {
      "cell_type": "code",
      "metadata": {
        "colab": {
          "base_uri": "https://localhost:8080/",
          "height": 231
        },
        "id": "MRNOGtaUbyad",
        "outputId": "90a9c5a2-db8d-4e77-e630-deb9d9ce49a4"
      },
      "source": [
        "df[df.item_name.str.len() >= 15].head()"
      ],
      "execution_count": null,
      "outputs": [
        {
          "output_type": "execute_result",
          "data": {
            "text/html": [
              "<div>\n",
              "<style scoped>\n",
              "    .dataframe tbody tr th:only-of-type {\n",
              "        vertical-align: middle;\n",
              "    }\n",
              "\n",
              "    .dataframe tbody tr th {\n",
              "        vertical-align: top;\n",
              "    }\n",
              "\n",
              "    .dataframe thead th {\n",
              "        text-align: right;\n",
              "    }\n",
              "</style>\n",
              "<table border=\"1\" class=\"dataframe\">\n",
              "  <thead>\n",
              "    <tr style=\"text-align: right;\">\n",
              "      <th></th>\n",
              "      <th>order_id</th>\n",
              "      <th>quantity</th>\n",
              "      <th>item_name</th>\n",
              "      <th>choice_description</th>\n",
              "      <th>item_price</th>\n",
              "      <th>new_price</th>\n",
              "    </tr>\n",
              "  </thead>\n",
              "  <tbody>\n",
              "    <tr>\n",
              "      <th>0</th>\n",
              "      <td>1</td>\n",
              "      <td>1</td>\n",
              "      <td>Chips and Fresh Tomato Salsa</td>\n",
              "      <td>NoData</td>\n",
              "      <td>$2.39</td>\n",
              "      <td>2.39</td>\n",
              "    </tr>\n",
              "    <tr>\n",
              "      <th>2</th>\n",
              "      <td>1</td>\n",
              "      <td>1</td>\n",
              "      <td>Nantucket Nectar</td>\n",
              "      <td>[Apple]</td>\n",
              "      <td>$3.39</td>\n",
              "      <td>3.39</td>\n",
              "    </tr>\n",
              "    <tr>\n",
              "      <th>3</th>\n",
              "      <td>1</td>\n",
              "      <td>1</td>\n",
              "      <td>Chips and Tomatillo-Green Chili Salsa</td>\n",
              "      <td>NoData</td>\n",
              "      <td>$2.39</td>\n",
              "      <td>2.39</td>\n",
              "    </tr>\n",
              "    <tr>\n",
              "      <th>8</th>\n",
              "      <td>4</td>\n",
              "      <td>1</td>\n",
              "      <td>Steak Soft Tacos</td>\n",
              "      <td>[Tomatillo Green Chili Salsa, [Pinto Beans, Ch...</td>\n",
              "      <td>$9.25</td>\n",
              "      <td>9.25</td>\n",
              "    </tr>\n",
              "    <tr>\n",
              "      <th>10</th>\n",
              "      <td>5</td>\n",
              "      <td>1</td>\n",
              "      <td>Chips and Guacamole</td>\n",
              "      <td>NoData</td>\n",
              "      <td>$4.45</td>\n",
              "      <td>4.45</td>\n",
              "    </tr>\n",
              "  </tbody>\n",
              "</table>\n",
              "</div>"
            ],
            "text/plain": [
              "   order_id quantity  ... item_price new_price\n",
              "0         1        1  ...     $2.39       2.39\n",
              "2         1        1  ...     $3.39       3.39\n",
              "3         1        1  ...     $2.39       2.39\n",
              "8         4        1  ...     $9.25       9.25\n",
              "10        5        1  ...     $4.45       4.45\n",
              "\n",
              "[5 rows x 6 columns]"
            ]
          },
          "metadata": {
            "tags": []
          },
          "execution_count": 99
        }
      ]
    },
    {
      "cell_type": "code",
      "metadata": {
        "colab": {
          "base_uri": "https://localhost:8080/",
          "height": 137
        },
        "id": "ulTwzMjRb8YB",
        "outputId": "66a6197f-28f3-49eb-cccc-c95d77673f0c"
      },
      "source": [
        "lst =[1.69, 2.39, 3.39, 4.45, 9.25, 10.98, 11.75, 16.98]\n",
        "\n",
        "df.loc[df.new_price.isin(lst)].head(3)"
      ],
      "execution_count": null,
      "outputs": [
        {
          "output_type": "execute_result",
          "data": {
            "text/html": [
              "<div>\n",
              "<style scoped>\n",
              "    .dataframe tbody tr th:only-of-type {\n",
              "        vertical-align: middle;\n",
              "    }\n",
              "\n",
              "    .dataframe tbody tr th {\n",
              "        vertical-align: top;\n",
              "    }\n",
              "\n",
              "    .dataframe thead th {\n",
              "        text-align: right;\n",
              "    }\n",
              "</style>\n",
              "<table border=\"1\" class=\"dataframe\">\n",
              "  <thead>\n",
              "    <tr style=\"text-align: right;\">\n",
              "      <th></th>\n",
              "      <th>order_id</th>\n",
              "      <th>quantity</th>\n",
              "      <th>item_name</th>\n",
              "      <th>choice_description</th>\n",
              "      <th>item_price</th>\n",
              "      <th>new_price</th>\n",
              "    </tr>\n",
              "  </thead>\n",
              "  <tbody>\n",
              "    <tr>\n",
              "      <th>0</th>\n",
              "      <td>1</td>\n",
              "      <td>1</td>\n",
              "      <td>Chips and Fresh Tomato Salsa</td>\n",
              "      <td>NoData</td>\n",
              "      <td>$2.39</td>\n",
              "      <td>2.39</td>\n",
              "    </tr>\n",
              "    <tr>\n",
              "      <th>2</th>\n",
              "      <td>1</td>\n",
              "      <td>1</td>\n",
              "      <td>Nantucket Nectar</td>\n",
              "      <td>[Apple]</td>\n",
              "      <td>$3.39</td>\n",
              "      <td>3.39</td>\n",
              "    </tr>\n",
              "    <tr>\n",
              "      <th>3</th>\n",
              "      <td>1</td>\n",
              "      <td>1</td>\n",
              "      <td>Chips and Tomatillo-Green Chili Salsa</td>\n",
              "      <td>NoData</td>\n",
              "      <td>$2.39</td>\n",
              "      <td>2.39</td>\n",
              "    </tr>\n",
              "  </tbody>\n",
              "</table>\n",
              "</div>"
            ],
            "text/plain": [
              "  order_id quantity  ... item_price new_price\n",
              "0        1        1  ...     $2.39       2.39\n",
              "2        1        1  ...     $3.39       3.39\n",
              "3        1        1  ...     $2.39       2.39\n",
              "\n",
              "[3 rows x 6 columns]"
            ]
          },
          "metadata": {
            "tags": []
          },
          "execution_count": 101
        }
      ]
    },
    {
      "cell_type": "markdown",
      "metadata": {
        "id": "QArvCC7LcxeE"
      },
      "source": [
        "### Grouping"
      ]
    },
    {
      "cell_type": "code",
      "metadata": {
        "id": "6LsWt4-NcdHy"
      },
      "source": [
        "df= pd.read_csv('https://raw.githubusercontent.com/Datamanim/pandas/main/AB_NYC_2019.csv')\n",
        "\n",
        "Ans =df.head(5)"
      ],
      "execution_count": null,
      "outputs": []
    },
    {
      "cell_type": "code",
      "metadata": {
        "colab": {
          "base_uri": "https://localhost:8080/",
          "height": 843
        },
        "id": "e2NC65RGczLd",
        "outputId": "51139fce-a769-49da-bb44-ce792aa37929"
      },
      "source": [
        "df"
      ],
      "execution_count": null,
      "outputs": [
        {
          "output_type": "execute_result",
          "data": {
            "text/html": [
              "<div>\n",
              "<style scoped>\n",
              "    .dataframe tbody tr th:only-of-type {\n",
              "        vertical-align: middle;\n",
              "    }\n",
              "\n",
              "    .dataframe tbody tr th {\n",
              "        vertical-align: top;\n",
              "    }\n",
              "\n",
              "    .dataframe thead th {\n",
              "        text-align: right;\n",
              "    }\n",
              "</style>\n",
              "<table border=\"1\" class=\"dataframe\">\n",
              "  <thead>\n",
              "    <tr style=\"text-align: right;\">\n",
              "      <th></th>\n",
              "      <th>id</th>\n",
              "      <th>name</th>\n",
              "      <th>host_id</th>\n",
              "      <th>host_name</th>\n",
              "      <th>neighbourhood_group</th>\n",
              "      <th>neighbourhood</th>\n",
              "      <th>latitude</th>\n",
              "      <th>longitude</th>\n",
              "      <th>room_type</th>\n",
              "      <th>price</th>\n",
              "      <th>minimum_nights</th>\n",
              "      <th>number_of_reviews</th>\n",
              "      <th>last_review</th>\n",
              "      <th>reviews_per_month</th>\n",
              "      <th>calculated_host_listings_count</th>\n",
              "      <th>availability_365</th>\n",
              "    </tr>\n",
              "  </thead>\n",
              "  <tbody>\n",
              "    <tr>\n",
              "      <th>0</th>\n",
              "      <td>2539</td>\n",
              "      <td>Clean &amp; quiet apt home by the park</td>\n",
              "      <td>2787</td>\n",
              "      <td>John</td>\n",
              "      <td>Brooklyn</td>\n",
              "      <td>Kensington</td>\n",
              "      <td>40.64749</td>\n",
              "      <td>-73.97237</td>\n",
              "      <td>Private room</td>\n",
              "      <td>149</td>\n",
              "      <td>1</td>\n",
              "      <td>9</td>\n",
              "      <td>2018-10-19</td>\n",
              "      <td>0.21</td>\n",
              "      <td>6</td>\n",
              "      <td>365</td>\n",
              "    </tr>\n",
              "    <tr>\n",
              "      <th>1</th>\n",
              "      <td>2595</td>\n",
              "      <td>Skylit Midtown Castle</td>\n",
              "      <td>2845</td>\n",
              "      <td>Jennifer</td>\n",
              "      <td>Manhattan</td>\n",
              "      <td>Midtown</td>\n",
              "      <td>40.75362</td>\n",
              "      <td>-73.98377</td>\n",
              "      <td>Entire home/apt</td>\n",
              "      <td>225</td>\n",
              "      <td>1</td>\n",
              "      <td>45</td>\n",
              "      <td>2019-05-21</td>\n",
              "      <td>0.38</td>\n",
              "      <td>2</td>\n",
              "      <td>355</td>\n",
              "    </tr>\n",
              "    <tr>\n",
              "      <th>2</th>\n",
              "      <td>3647</td>\n",
              "      <td>THE VILLAGE OF HARLEM....NEW YORK !</td>\n",
              "      <td>4632</td>\n",
              "      <td>Elisabeth</td>\n",
              "      <td>Manhattan</td>\n",
              "      <td>Harlem</td>\n",
              "      <td>40.80902</td>\n",
              "      <td>-73.94190</td>\n",
              "      <td>Private room</td>\n",
              "      <td>150</td>\n",
              "      <td>3</td>\n",
              "      <td>0</td>\n",
              "      <td>NaN</td>\n",
              "      <td>NaN</td>\n",
              "      <td>1</td>\n",
              "      <td>365</td>\n",
              "    </tr>\n",
              "    <tr>\n",
              "      <th>3</th>\n",
              "      <td>3831</td>\n",
              "      <td>Cozy Entire Floor of Brownstone</td>\n",
              "      <td>4869</td>\n",
              "      <td>LisaRoxanne</td>\n",
              "      <td>Brooklyn</td>\n",
              "      <td>Clinton Hill</td>\n",
              "      <td>40.68514</td>\n",
              "      <td>-73.95976</td>\n",
              "      <td>Entire home/apt</td>\n",
              "      <td>89</td>\n",
              "      <td>1</td>\n",
              "      <td>270</td>\n",
              "      <td>2019-07-05</td>\n",
              "      <td>4.64</td>\n",
              "      <td>1</td>\n",
              "      <td>194</td>\n",
              "    </tr>\n",
              "    <tr>\n",
              "      <th>4</th>\n",
              "      <td>5022</td>\n",
              "      <td>Entire Apt: Spacious Studio/Loft by central park</td>\n",
              "      <td>7192</td>\n",
              "      <td>Laura</td>\n",
              "      <td>Manhattan</td>\n",
              "      <td>East Harlem</td>\n",
              "      <td>40.79851</td>\n",
              "      <td>-73.94399</td>\n",
              "      <td>Entire home/apt</td>\n",
              "      <td>80</td>\n",
              "      <td>10</td>\n",
              "      <td>9</td>\n",
              "      <td>2018-11-19</td>\n",
              "      <td>0.10</td>\n",
              "      <td>1</td>\n",
              "      <td>0</td>\n",
              "    </tr>\n",
              "    <tr>\n",
              "      <th>...</th>\n",
              "      <td>...</td>\n",
              "      <td>...</td>\n",
              "      <td>...</td>\n",
              "      <td>...</td>\n",
              "      <td>...</td>\n",
              "      <td>...</td>\n",
              "      <td>...</td>\n",
              "      <td>...</td>\n",
              "      <td>...</td>\n",
              "      <td>...</td>\n",
              "      <td>...</td>\n",
              "      <td>...</td>\n",
              "      <td>...</td>\n",
              "      <td>...</td>\n",
              "      <td>...</td>\n",
              "      <td>...</td>\n",
              "    </tr>\n",
              "    <tr>\n",
              "      <th>48890</th>\n",
              "      <td>36484665</td>\n",
              "      <td>Charming one bedroom - newly renovated rowhouse</td>\n",
              "      <td>8232441</td>\n",
              "      <td>Sabrina</td>\n",
              "      <td>Brooklyn</td>\n",
              "      <td>Bedford-Stuyvesant</td>\n",
              "      <td>40.67853</td>\n",
              "      <td>-73.94995</td>\n",
              "      <td>Private room</td>\n",
              "      <td>70</td>\n",
              "      <td>2</td>\n",
              "      <td>0</td>\n",
              "      <td>NaN</td>\n",
              "      <td>NaN</td>\n",
              "      <td>2</td>\n",
              "      <td>9</td>\n",
              "    </tr>\n",
              "    <tr>\n",
              "      <th>48891</th>\n",
              "      <td>36485057</td>\n",
              "      <td>Affordable room in Bushwick/East Williamsburg</td>\n",
              "      <td>6570630</td>\n",
              "      <td>Marisol</td>\n",
              "      <td>Brooklyn</td>\n",
              "      <td>Bushwick</td>\n",
              "      <td>40.70184</td>\n",
              "      <td>-73.93317</td>\n",
              "      <td>Private room</td>\n",
              "      <td>40</td>\n",
              "      <td>4</td>\n",
              "      <td>0</td>\n",
              "      <td>NaN</td>\n",
              "      <td>NaN</td>\n",
              "      <td>2</td>\n",
              "      <td>36</td>\n",
              "    </tr>\n",
              "    <tr>\n",
              "      <th>48892</th>\n",
              "      <td>36485431</td>\n",
              "      <td>Sunny Studio at Historical Neighborhood</td>\n",
              "      <td>23492952</td>\n",
              "      <td>Ilgar &amp; Aysel</td>\n",
              "      <td>Manhattan</td>\n",
              "      <td>Harlem</td>\n",
              "      <td>40.81475</td>\n",
              "      <td>-73.94867</td>\n",
              "      <td>Entire home/apt</td>\n",
              "      <td>115</td>\n",
              "      <td>10</td>\n",
              "      <td>0</td>\n",
              "      <td>NaN</td>\n",
              "      <td>NaN</td>\n",
              "      <td>1</td>\n",
              "      <td>27</td>\n",
              "    </tr>\n",
              "    <tr>\n",
              "      <th>48893</th>\n",
              "      <td>36485609</td>\n",
              "      <td>43rd St. Time Square-cozy single bed</td>\n",
              "      <td>30985759</td>\n",
              "      <td>Taz</td>\n",
              "      <td>Manhattan</td>\n",
              "      <td>Hell's Kitchen</td>\n",
              "      <td>40.75751</td>\n",
              "      <td>-73.99112</td>\n",
              "      <td>Shared room</td>\n",
              "      <td>55</td>\n",
              "      <td>1</td>\n",
              "      <td>0</td>\n",
              "      <td>NaN</td>\n",
              "      <td>NaN</td>\n",
              "      <td>6</td>\n",
              "      <td>2</td>\n",
              "    </tr>\n",
              "    <tr>\n",
              "      <th>48894</th>\n",
              "      <td>36487245</td>\n",
              "      <td>Trendy duplex in the very heart of Hell's Kitchen</td>\n",
              "      <td>68119814</td>\n",
              "      <td>Christophe</td>\n",
              "      <td>Manhattan</td>\n",
              "      <td>Hell's Kitchen</td>\n",
              "      <td>40.76404</td>\n",
              "      <td>-73.98933</td>\n",
              "      <td>Private room</td>\n",
              "      <td>90</td>\n",
              "      <td>7</td>\n",
              "      <td>0</td>\n",
              "      <td>NaN</td>\n",
              "      <td>NaN</td>\n",
              "      <td>1</td>\n",
              "      <td>23</td>\n",
              "    </tr>\n",
              "  </tbody>\n",
              "</table>\n",
              "<p>48895 rows × 16 columns</p>\n",
              "</div>"
            ],
            "text/plain": [
              "             id  ... availability_365\n",
              "0          2539  ...              365\n",
              "1          2595  ...              355\n",
              "2          3647  ...              365\n",
              "3          3831  ...              194\n",
              "4          5022  ...                0\n",
              "...         ...  ...              ...\n",
              "48890  36484665  ...                9\n",
              "48891  36485057  ...               36\n",
              "48892  36485431  ...               27\n",
              "48893  36485609  ...                2\n",
              "48894  36487245  ...               23\n",
              "\n",
              "[48895 rows x 16 columns]"
            ]
          },
          "metadata": {
            "tags": []
          },
          "execution_count": 103
        }
      ]
    },
    {
      "cell_type": "code",
      "metadata": {
        "id": "v-s-lXL3dLmk"
      },
      "source": [
        "Ans = df.groupby('host_name').size()\n",
        "\n",
        "# or\n",
        "\n",
        "Ans = df.host_name.value_counts().sort_index()"
      ],
      "execution_count": null,
      "outputs": []
    },
    {
      "cell_type": "code",
      "metadata": {
        "colab": {
          "base_uri": "https://localhost:8080/",
          "height": 406
        },
        "id": "ixm-t04DeCpp",
        "outputId": "a9051d70-c61b-483d-dff9-634fc5520537"
      },
      "source": [
        "# 데이터의 각 host_name의 빈도수를 구하고 빈도수 기준 내림차순 정렬한 데이터 프레임을 만들어라. 빈도수 컬럼은 counts로 명명하라\n",
        "df.host_name.value_counts().to_frame().rename(columns={\"host_name\":\"counts\"})"
      ],
      "execution_count": null,
      "outputs": [
        {
          "output_type": "execute_result",
          "data": {
            "text/html": [
              "<div>\n",
              "<style scoped>\n",
              "    .dataframe tbody tr th:only-of-type {\n",
              "        vertical-align: middle;\n",
              "    }\n",
              "\n",
              "    .dataframe tbody tr th {\n",
              "        vertical-align: top;\n",
              "    }\n",
              "\n",
              "    .dataframe thead th {\n",
              "        text-align: right;\n",
              "    }\n",
              "</style>\n",
              "<table border=\"1\" class=\"dataframe\">\n",
              "  <thead>\n",
              "    <tr style=\"text-align: right;\">\n",
              "      <th></th>\n",
              "      <th>counts</th>\n",
              "    </tr>\n",
              "  </thead>\n",
              "  <tbody>\n",
              "    <tr>\n",
              "      <th>Michael</th>\n",
              "      <td>417</td>\n",
              "    </tr>\n",
              "    <tr>\n",
              "      <th>David</th>\n",
              "      <td>403</td>\n",
              "    </tr>\n",
              "    <tr>\n",
              "      <th>Sonder (NYC)</th>\n",
              "      <td>327</td>\n",
              "    </tr>\n",
              "    <tr>\n",
              "      <th>John</th>\n",
              "      <td>294</td>\n",
              "    </tr>\n",
              "    <tr>\n",
              "      <th>Alex</th>\n",
              "      <td>279</td>\n",
              "    </tr>\n",
              "    <tr>\n",
              "      <th>...</th>\n",
              "      <td>...</td>\n",
              "    </tr>\n",
              "    <tr>\n",
              "      <th>Citlali</th>\n",
              "      <td>1</td>\n",
              "    </tr>\n",
              "    <tr>\n",
              "      <th>Mohd Tahmid</th>\n",
              "      <td>1</td>\n",
              "    </tr>\n",
              "    <tr>\n",
              "      <th>Kraig</th>\n",
              "      <td>1</td>\n",
              "    </tr>\n",
              "    <tr>\n",
              "      <th>Fernando And Lenin</th>\n",
              "      <td>1</td>\n",
              "    </tr>\n",
              "    <tr>\n",
              "      <th>Erdi</th>\n",
              "      <td>1</td>\n",
              "    </tr>\n",
              "  </tbody>\n",
              "</table>\n",
              "<p>11452 rows × 1 columns</p>\n",
              "</div>"
            ],
            "text/plain": [
              "                    counts\n",
              "Michael                417\n",
              "David                  403\n",
              "Sonder (NYC)           327\n",
              "John                   294\n",
              "Alex                   279\n",
              "...                    ...\n",
              "Citlali                  1\n",
              "Mohd Tahmid              1\n",
              "Kraig                    1\n",
              "Fernando And Lenin       1\n",
              "Erdi                     1\n",
              "\n",
              "[11452 rows x 1 columns]"
            ]
          },
          "metadata": {
            "tags": []
          },
          "execution_count": 121
        }
      ]
    },
    {
      "cell_type": "code",
      "metadata": {
        "colab": {
          "base_uri": "https://localhost:8080/"
        },
        "id": "uDcwJCx2eMVZ",
        "outputId": "4795bfc5-7c0f-406a-8e63-8001624cea46"
      },
      "source": [
        "df.groupby([\"neighbourhood_group\", \"neighbourhood\"]).size()"
      ],
      "execution_count": null,
      "outputs": [
        {
          "output_type": "execute_result",
          "data": {
            "text/plain": [
              "neighbourhood_group  neighbourhood\n",
              "Bronx                Allerton         42\n",
              "                     Baychester        7\n",
              "                     Belmont          24\n",
              "                     Bronxdale        19\n",
              "                     Castle Hill       9\n",
              "                                      ..\n",
              "Staten Island        Tottenville       7\n",
              "                     West Brighton    18\n",
              "                     Westerleigh       2\n",
              "                     Willowbrook       1\n",
              "                     Woodrow           1\n",
              "Length: 221, dtype: int64"
            ]
          },
          "metadata": {
            "tags": []
          },
          "execution_count": 124
        }
      ]
    },
    {
      "cell_type": "code",
      "metadata": {
        "colab": {
          "base_uri": "https://localhost:8080/",
          "height": 197
        },
        "id": "GVmtsazrfEs9",
        "outputId": "e85a5284-e5a5-4288-f234-53543b6ba99d"
      },
      "source": [
        "Ans= df.groupby(['neighbourhood_group','neighbourhood'], as_index=False).size()\\\n",
        "                  .groupby(['neighbourhood_group'], as_index=False).max()\n",
        "Ans"
      ],
      "execution_count": null,
      "outputs": [
        {
          "output_type": "execute_result",
          "data": {
            "text/html": [
              "<div>\n",
              "<style scoped>\n",
              "    .dataframe tbody tr th:only-of-type {\n",
              "        vertical-align: middle;\n",
              "    }\n",
              "\n",
              "    .dataframe tbody tr th {\n",
              "        vertical-align: top;\n",
              "    }\n",
              "\n",
              "    .dataframe thead th {\n",
              "        text-align: right;\n",
              "    }\n",
              "</style>\n",
              "<table border=\"1\" class=\"dataframe\">\n",
              "  <thead>\n",
              "    <tr style=\"text-align: right;\">\n",
              "      <th></th>\n",
              "      <th>neighbourhood_group</th>\n",
              "      <th>neighbourhood</th>\n",
              "      <th>size</th>\n",
              "    </tr>\n",
              "  </thead>\n",
              "  <tbody>\n",
              "    <tr>\n",
              "      <th>0</th>\n",
              "      <td>Bronx</td>\n",
              "      <td>Woodlawn</td>\n",
              "      <td>70</td>\n",
              "    </tr>\n",
              "    <tr>\n",
              "      <th>1</th>\n",
              "      <td>Brooklyn</td>\n",
              "      <td>Windsor Terrace</td>\n",
              "      <td>3920</td>\n",
              "    </tr>\n",
              "    <tr>\n",
              "      <th>2</th>\n",
              "      <td>Manhattan</td>\n",
              "      <td>West Village</td>\n",
              "      <td>2658</td>\n",
              "    </tr>\n",
              "    <tr>\n",
              "      <th>3</th>\n",
              "      <td>Queens</td>\n",
              "      <td>Woodside</td>\n",
              "      <td>900</td>\n",
              "    </tr>\n",
              "    <tr>\n",
              "      <th>4</th>\n",
              "      <td>Staten Island</td>\n",
              "      <td>Woodrow</td>\n",
              "      <td>48</td>\n",
              "    </tr>\n",
              "  </tbody>\n",
              "</table>\n",
              "</div>"
            ],
            "text/plain": [
              "  neighbourhood_group    neighbourhood  size\n",
              "0               Bronx         Woodlawn    70\n",
              "1            Brooklyn  Windsor Terrace  3920\n",
              "2           Manhattan     West Village  2658\n",
              "3              Queens         Woodside   900\n",
              "4       Staten Island          Woodrow    48"
            ]
          },
          "metadata": {
            "tags": []
          },
          "execution_count": 126
        }
      ]
    },
    {
      "cell_type": "code",
      "metadata": {
        "colab": {
          "base_uri": "https://localhost:8080/",
          "height": 227
        },
        "id": "nMmyNvAPh9Nq",
        "outputId": "100f211c-937b-4a63-e41e-18437076a1a6"
      },
      "source": [
        "df.groupby(\"neighbourhood_group\")[\"price\"].agg([\"mean\", \"var\", \"max\", \"min\"])"
      ],
      "execution_count": null,
      "outputs": [
        {
          "output_type": "execute_result",
          "data": {
            "text/html": [
              "<div>\n",
              "<style scoped>\n",
              "    .dataframe tbody tr th:only-of-type {\n",
              "        vertical-align: middle;\n",
              "    }\n",
              "\n",
              "    .dataframe tbody tr th {\n",
              "        vertical-align: top;\n",
              "    }\n",
              "\n",
              "    .dataframe thead th {\n",
              "        text-align: right;\n",
              "    }\n",
              "</style>\n",
              "<table border=\"1\" class=\"dataframe\">\n",
              "  <thead>\n",
              "    <tr style=\"text-align: right;\">\n",
              "      <th></th>\n",
              "      <th>mean</th>\n",
              "      <th>var</th>\n",
              "      <th>max</th>\n",
              "      <th>min</th>\n",
              "    </tr>\n",
              "    <tr>\n",
              "      <th>neighbourhood_group</th>\n",
              "      <th></th>\n",
              "      <th></th>\n",
              "      <th></th>\n",
              "      <th></th>\n",
              "    </tr>\n",
              "  </thead>\n",
              "  <tbody>\n",
              "    <tr>\n",
              "      <th>Bronx</th>\n",
              "      <td>87.496792</td>\n",
              "      <td>11386.885081</td>\n",
              "      <td>2500</td>\n",
              "      <td>0</td>\n",
              "    </tr>\n",
              "    <tr>\n",
              "      <th>Brooklyn</th>\n",
              "      <td>124.383207</td>\n",
              "      <td>34921.719135</td>\n",
              "      <td>10000</td>\n",
              "      <td>0</td>\n",
              "    </tr>\n",
              "    <tr>\n",
              "      <th>Manhattan</th>\n",
              "      <td>196.875814</td>\n",
              "      <td>84904.159185</td>\n",
              "      <td>10000</td>\n",
              "      <td>0</td>\n",
              "    </tr>\n",
              "    <tr>\n",
              "      <th>Queens</th>\n",
              "      <td>99.517649</td>\n",
              "      <td>27923.130227</td>\n",
              "      <td>10000</td>\n",
              "      <td>10</td>\n",
              "    </tr>\n",
              "    <tr>\n",
              "      <th>Staten Island</th>\n",
              "      <td>114.812332</td>\n",
              "      <td>77073.088342</td>\n",
              "      <td>5000</td>\n",
              "      <td>13</td>\n",
              "    </tr>\n",
              "  </tbody>\n",
              "</table>\n",
              "</div>"
            ],
            "text/plain": [
              "                           mean           var    max  min\n",
              "neighbourhood_group                                      \n",
              "Bronx                 87.496792  11386.885081   2500    0\n",
              "Brooklyn             124.383207  34921.719135  10000    0\n",
              "Manhattan            196.875814  84904.159185  10000    0\n",
              "Queens                99.517649  27923.130227  10000   10\n",
              "Staten Island        114.812332  77073.088342   5000   13"
            ]
          },
          "metadata": {
            "tags": []
          },
          "execution_count": 129
        }
      ]
    },
    {
      "cell_type": "code",
      "metadata": {
        "colab": {
          "base_uri": "https://localhost:8080/",
          "height": 257
        },
        "id": "8Ux7Y-7viOKD",
        "outputId": "e423011e-f88d-445d-80fb-50a960ea915a"
      },
      "source": [
        "df[['neighbourhood_group','price']].groupby('neighbourhood_group').agg(['mean','var','max','min'])"
      ],
      "execution_count": null,
      "outputs": [
        {
          "output_type": "execute_result",
          "data": {
            "text/html": [
              "<div>\n",
              "<style scoped>\n",
              "    .dataframe tbody tr th:only-of-type {\n",
              "        vertical-align: middle;\n",
              "    }\n",
              "\n",
              "    .dataframe tbody tr th {\n",
              "        vertical-align: top;\n",
              "    }\n",
              "\n",
              "    .dataframe thead tr th {\n",
              "        text-align: left;\n",
              "    }\n",
              "\n",
              "    .dataframe thead tr:last-of-type th {\n",
              "        text-align: right;\n",
              "    }\n",
              "</style>\n",
              "<table border=\"1\" class=\"dataframe\">\n",
              "  <thead>\n",
              "    <tr>\n",
              "      <th></th>\n",
              "      <th colspan=\"4\" halign=\"left\">price</th>\n",
              "    </tr>\n",
              "    <tr>\n",
              "      <th></th>\n",
              "      <th>mean</th>\n",
              "      <th>var</th>\n",
              "      <th>max</th>\n",
              "      <th>min</th>\n",
              "    </tr>\n",
              "    <tr>\n",
              "      <th>neighbourhood_group</th>\n",
              "      <th></th>\n",
              "      <th></th>\n",
              "      <th></th>\n",
              "      <th></th>\n",
              "    </tr>\n",
              "  </thead>\n",
              "  <tbody>\n",
              "    <tr>\n",
              "      <th>Bronx</th>\n",
              "      <td>87.496792</td>\n",
              "      <td>11386.885081</td>\n",
              "      <td>2500</td>\n",
              "      <td>0</td>\n",
              "    </tr>\n",
              "    <tr>\n",
              "      <th>Brooklyn</th>\n",
              "      <td>124.383207</td>\n",
              "      <td>34921.719135</td>\n",
              "      <td>10000</td>\n",
              "      <td>0</td>\n",
              "    </tr>\n",
              "    <tr>\n",
              "      <th>Manhattan</th>\n",
              "      <td>196.875814</td>\n",
              "      <td>84904.159185</td>\n",
              "      <td>10000</td>\n",
              "      <td>0</td>\n",
              "    </tr>\n",
              "    <tr>\n",
              "      <th>Queens</th>\n",
              "      <td>99.517649</td>\n",
              "      <td>27923.130227</td>\n",
              "      <td>10000</td>\n",
              "      <td>10</td>\n",
              "    </tr>\n",
              "    <tr>\n",
              "      <th>Staten Island</th>\n",
              "      <td>114.812332</td>\n",
              "      <td>77073.088342</td>\n",
              "      <td>5000</td>\n",
              "      <td>13</td>\n",
              "    </tr>\n",
              "  </tbody>\n",
              "</table>\n",
              "</div>"
            ],
            "text/plain": [
              "                          price                         \n",
              "                           mean           var    max min\n",
              "neighbourhood_group                                     \n",
              "Bronx                 87.496792  11386.885081   2500   0\n",
              "Brooklyn             124.383207  34921.719135  10000   0\n",
              "Manhattan            196.875814  84904.159185  10000   0\n",
              "Queens                99.517649  27923.130227  10000  10\n",
              "Staten Island        114.812332  77073.088342   5000  13"
            ]
          },
          "metadata": {
            "tags": []
          },
          "execution_count": 130
        }
      ]
    },
    {
      "cell_type": "code",
      "metadata": {
        "colab": {
          "base_uri": "https://localhost:8080/",
          "height": 227
        },
        "id": "_24Bmo3CigPX",
        "outputId": "8a51fddd-b026-4123-9c79-d9d2dd1e5e06"
      },
      "source": [
        "df.groupby(\"neighbourhood_group\")[\"reviews_per_month\"].agg([\"mean\", \"var\", \"max\", \"min\"])"
      ],
      "execution_count": null,
      "outputs": [
        {
          "output_type": "execute_result",
          "data": {
            "text/html": [
              "<div>\n",
              "<style scoped>\n",
              "    .dataframe tbody tr th:only-of-type {\n",
              "        vertical-align: middle;\n",
              "    }\n",
              "\n",
              "    .dataframe tbody tr th {\n",
              "        vertical-align: top;\n",
              "    }\n",
              "\n",
              "    .dataframe thead th {\n",
              "        text-align: right;\n",
              "    }\n",
              "</style>\n",
              "<table border=\"1\" class=\"dataframe\">\n",
              "  <thead>\n",
              "    <tr style=\"text-align: right;\">\n",
              "      <th></th>\n",
              "      <th>mean</th>\n",
              "      <th>var</th>\n",
              "      <th>max</th>\n",
              "      <th>min</th>\n",
              "    </tr>\n",
              "    <tr>\n",
              "      <th>neighbourhood_group</th>\n",
              "      <th></th>\n",
              "      <th></th>\n",
              "      <th></th>\n",
              "      <th></th>\n",
              "    </tr>\n",
              "  </thead>\n",
              "  <tbody>\n",
              "    <tr>\n",
              "      <th>Bronx</th>\n",
              "      <td>1.837831</td>\n",
              "      <td>2.799878</td>\n",
              "      <td>10.34</td>\n",
              "      <td>0.02</td>\n",
              "    </tr>\n",
              "    <tr>\n",
              "      <th>Brooklyn</th>\n",
              "      <td>1.283212</td>\n",
              "      <td>2.299040</td>\n",
              "      <td>14.00</td>\n",
              "      <td>0.01</td>\n",
              "    </tr>\n",
              "    <tr>\n",
              "      <th>Manhattan</th>\n",
              "      <td>1.272131</td>\n",
              "      <td>2.651206</td>\n",
              "      <td>58.50</td>\n",
              "      <td>0.01</td>\n",
              "    </tr>\n",
              "    <tr>\n",
              "      <th>Queens</th>\n",
              "      <td>1.941200</td>\n",
              "      <td>4.897848</td>\n",
              "      <td>20.94</td>\n",
              "      <td>0.01</td>\n",
              "    </tr>\n",
              "    <tr>\n",
              "      <th>Staten Island</th>\n",
              "      <td>1.872580</td>\n",
              "      <td>2.840895</td>\n",
              "      <td>10.12</td>\n",
              "      <td>0.02</td>\n",
              "    </tr>\n",
              "  </tbody>\n",
              "</table>\n",
              "</div>"
            ],
            "text/plain": [
              "                         mean       var    max   min\n",
              "neighbourhood_group                                 \n",
              "Bronx                1.837831  2.799878  10.34  0.02\n",
              "Brooklyn             1.283212  2.299040  14.00  0.01\n",
              "Manhattan            1.272131  2.651206  58.50  0.01\n",
              "Queens               1.941200  4.897848  20.94  0.01\n",
              "Staten Island        1.872580  2.840895  10.12  0.02"
            ]
          },
          "metadata": {
            "tags": []
          },
          "execution_count": 133
        }
      ]
    },
    {
      "cell_type": "code",
      "metadata": {
        "colab": {
          "base_uri": "https://localhost:8080/"
        },
        "id": "45RoI_5FivaC",
        "outputId": "44625d5e-2f9a-487d-8695-11a48b536b5f"
      },
      "source": [
        "df.groupby([\"neighbourhood\", \"neighbourhood_group\"]).price.mean()"
      ],
      "execution_count": null,
      "outputs": [
        {
          "output_type": "execute_result",
          "data": {
            "text/plain": [
              "neighbourhood    neighbourhood_group\n",
              "Allerton         Bronx                   87.595238\n",
              "Arden Heights    Staten Island           67.250000\n",
              "Arrochar         Staten Island          115.000000\n",
              "Arverne          Queens                 171.779221\n",
              "Astoria          Queens                 117.187778\n",
              "                                           ...    \n",
              "Windsor Terrace  Brooklyn               138.993631\n",
              "Woodhaven        Queens                  67.170455\n",
              "Woodlawn         Bronx                   60.090909\n",
              "Woodrow          Staten Island          700.000000\n",
              "Woodside         Queens                  85.097872\n",
              "Name: price, Length: 221, dtype: float64"
            ]
          },
          "metadata": {
            "tags": []
          },
          "execution_count": 136
        }
      ]
    },
    {
      "cell_type": "code",
      "metadata": {
        "colab": {
          "base_uri": "https://localhost:8080/",
          "height": 436
        },
        "id": "dzL3ulRgi799",
        "outputId": "c257c269-05fa-4d77-926d-612b3275497f"
      },
      "source": [
        "df.groupby([\"neighbourhood\", \"neighbourhood_group\"]).price.mean().unstack()"
      ],
      "execution_count": null,
      "outputs": [
        {
          "output_type": "execute_result",
          "data": {
            "text/html": [
              "<div>\n",
              "<style scoped>\n",
              "    .dataframe tbody tr th:only-of-type {\n",
              "        vertical-align: middle;\n",
              "    }\n",
              "\n",
              "    .dataframe tbody tr th {\n",
              "        vertical-align: top;\n",
              "    }\n",
              "\n",
              "    .dataframe thead th {\n",
              "        text-align: right;\n",
              "    }\n",
              "</style>\n",
              "<table border=\"1\" class=\"dataframe\">\n",
              "  <thead>\n",
              "    <tr style=\"text-align: right;\">\n",
              "      <th>neighbourhood_group</th>\n",
              "      <th>Bronx</th>\n",
              "      <th>Brooklyn</th>\n",
              "      <th>Manhattan</th>\n",
              "      <th>Queens</th>\n",
              "      <th>Staten Island</th>\n",
              "    </tr>\n",
              "    <tr>\n",
              "      <th>neighbourhood</th>\n",
              "      <th></th>\n",
              "      <th></th>\n",
              "      <th></th>\n",
              "      <th></th>\n",
              "      <th></th>\n",
              "    </tr>\n",
              "  </thead>\n",
              "  <tbody>\n",
              "    <tr>\n",
              "      <th>Allerton</th>\n",
              "      <td>87.595238</td>\n",
              "      <td>NaN</td>\n",
              "      <td>NaN</td>\n",
              "      <td>NaN</td>\n",
              "      <td>NaN</td>\n",
              "    </tr>\n",
              "    <tr>\n",
              "      <th>Arden Heights</th>\n",
              "      <td>NaN</td>\n",
              "      <td>NaN</td>\n",
              "      <td>NaN</td>\n",
              "      <td>NaN</td>\n",
              "      <td>67.25</td>\n",
              "    </tr>\n",
              "    <tr>\n",
              "      <th>Arrochar</th>\n",
              "      <td>NaN</td>\n",
              "      <td>NaN</td>\n",
              "      <td>NaN</td>\n",
              "      <td>NaN</td>\n",
              "      <td>115.00</td>\n",
              "    </tr>\n",
              "    <tr>\n",
              "      <th>Arverne</th>\n",
              "      <td>NaN</td>\n",
              "      <td>NaN</td>\n",
              "      <td>NaN</td>\n",
              "      <td>171.779221</td>\n",
              "      <td>NaN</td>\n",
              "    </tr>\n",
              "    <tr>\n",
              "      <th>Astoria</th>\n",
              "      <td>NaN</td>\n",
              "      <td>NaN</td>\n",
              "      <td>NaN</td>\n",
              "      <td>117.187778</td>\n",
              "      <td>NaN</td>\n",
              "    </tr>\n",
              "    <tr>\n",
              "      <th>...</th>\n",
              "      <td>...</td>\n",
              "      <td>...</td>\n",
              "      <td>...</td>\n",
              "      <td>...</td>\n",
              "      <td>...</td>\n",
              "    </tr>\n",
              "    <tr>\n",
              "      <th>Windsor Terrace</th>\n",
              "      <td>NaN</td>\n",
              "      <td>138.993631</td>\n",
              "      <td>NaN</td>\n",
              "      <td>NaN</td>\n",
              "      <td>NaN</td>\n",
              "    </tr>\n",
              "    <tr>\n",
              "      <th>Woodhaven</th>\n",
              "      <td>NaN</td>\n",
              "      <td>NaN</td>\n",
              "      <td>NaN</td>\n",
              "      <td>67.170455</td>\n",
              "      <td>NaN</td>\n",
              "    </tr>\n",
              "    <tr>\n",
              "      <th>Woodlawn</th>\n",
              "      <td>60.090909</td>\n",
              "      <td>NaN</td>\n",
              "      <td>NaN</td>\n",
              "      <td>NaN</td>\n",
              "      <td>NaN</td>\n",
              "    </tr>\n",
              "    <tr>\n",
              "      <th>Woodrow</th>\n",
              "      <td>NaN</td>\n",
              "      <td>NaN</td>\n",
              "      <td>NaN</td>\n",
              "      <td>NaN</td>\n",
              "      <td>700.00</td>\n",
              "    </tr>\n",
              "    <tr>\n",
              "      <th>Woodside</th>\n",
              "      <td>NaN</td>\n",
              "      <td>NaN</td>\n",
              "      <td>NaN</td>\n",
              "      <td>85.097872</td>\n",
              "      <td>NaN</td>\n",
              "    </tr>\n",
              "  </tbody>\n",
              "</table>\n",
              "<p>221 rows × 5 columns</p>\n",
              "</div>"
            ],
            "text/plain": [
              "neighbourhood_group      Bronx    Brooklyn  ...      Queens  Staten Island\n",
              "neighbourhood                               ...                           \n",
              "Allerton             87.595238         NaN  ...         NaN            NaN\n",
              "Arden Heights              NaN         NaN  ...         NaN          67.25\n",
              "Arrochar                   NaN         NaN  ...         NaN         115.00\n",
              "Arverne                    NaN         NaN  ...  171.779221            NaN\n",
              "Astoria                    NaN         NaN  ...  117.187778            NaN\n",
              "...                        ...         ...  ...         ...            ...\n",
              "Windsor Terrace            NaN  138.993631  ...         NaN            NaN\n",
              "Woodhaven                  NaN         NaN  ...   67.170455            NaN\n",
              "Woodlawn             60.090909         NaN  ...         NaN            NaN\n",
              "Woodrow                    NaN         NaN  ...         NaN         700.00\n",
              "Woodside                   NaN         NaN  ...   85.097872            NaN\n",
              "\n",
              "[221 rows x 5 columns]"
            ]
          },
          "metadata": {
            "tags": []
          },
          "execution_count": 137
        }
      ]
    },
    {
      "cell_type": "code",
      "metadata": {
        "colab": {
          "base_uri": "https://localhost:8080/",
          "height": 436
        },
        "id": "8zfu-YM2jSM6",
        "outputId": "08c802bb-72dc-4231-8991-80fa8d0c007d"
      },
      "source": [
        "df.groupby([\"neighbourhood\", \"neighbourhood_group\"]).price.mean().unstack().fillna(-999)"
      ],
      "execution_count": null,
      "outputs": [
        {
          "output_type": "execute_result",
          "data": {
            "text/html": [
              "<div>\n",
              "<style scoped>\n",
              "    .dataframe tbody tr th:only-of-type {\n",
              "        vertical-align: middle;\n",
              "    }\n",
              "\n",
              "    .dataframe tbody tr th {\n",
              "        vertical-align: top;\n",
              "    }\n",
              "\n",
              "    .dataframe thead th {\n",
              "        text-align: right;\n",
              "    }\n",
              "</style>\n",
              "<table border=\"1\" class=\"dataframe\">\n",
              "  <thead>\n",
              "    <tr style=\"text-align: right;\">\n",
              "      <th>neighbourhood_group</th>\n",
              "      <th>Bronx</th>\n",
              "      <th>Brooklyn</th>\n",
              "      <th>Manhattan</th>\n",
              "      <th>Queens</th>\n",
              "      <th>Staten Island</th>\n",
              "    </tr>\n",
              "    <tr>\n",
              "      <th>neighbourhood</th>\n",
              "      <th></th>\n",
              "      <th></th>\n",
              "      <th></th>\n",
              "      <th></th>\n",
              "      <th></th>\n",
              "    </tr>\n",
              "  </thead>\n",
              "  <tbody>\n",
              "    <tr>\n",
              "      <th>Allerton</th>\n",
              "      <td>87.595238</td>\n",
              "      <td>-999.000000</td>\n",
              "      <td>-999.0</td>\n",
              "      <td>-999.000000</td>\n",
              "      <td>-999.00</td>\n",
              "    </tr>\n",
              "    <tr>\n",
              "      <th>Arden Heights</th>\n",
              "      <td>-999.000000</td>\n",
              "      <td>-999.000000</td>\n",
              "      <td>-999.0</td>\n",
              "      <td>-999.000000</td>\n",
              "      <td>67.25</td>\n",
              "    </tr>\n",
              "    <tr>\n",
              "      <th>Arrochar</th>\n",
              "      <td>-999.000000</td>\n",
              "      <td>-999.000000</td>\n",
              "      <td>-999.0</td>\n",
              "      <td>-999.000000</td>\n",
              "      <td>115.00</td>\n",
              "    </tr>\n",
              "    <tr>\n",
              "      <th>Arverne</th>\n",
              "      <td>-999.000000</td>\n",
              "      <td>-999.000000</td>\n",
              "      <td>-999.0</td>\n",
              "      <td>171.779221</td>\n",
              "      <td>-999.00</td>\n",
              "    </tr>\n",
              "    <tr>\n",
              "      <th>Astoria</th>\n",
              "      <td>-999.000000</td>\n",
              "      <td>-999.000000</td>\n",
              "      <td>-999.0</td>\n",
              "      <td>117.187778</td>\n",
              "      <td>-999.00</td>\n",
              "    </tr>\n",
              "    <tr>\n",
              "      <th>...</th>\n",
              "      <td>...</td>\n",
              "      <td>...</td>\n",
              "      <td>...</td>\n",
              "      <td>...</td>\n",
              "      <td>...</td>\n",
              "    </tr>\n",
              "    <tr>\n",
              "      <th>Windsor Terrace</th>\n",
              "      <td>-999.000000</td>\n",
              "      <td>138.993631</td>\n",
              "      <td>-999.0</td>\n",
              "      <td>-999.000000</td>\n",
              "      <td>-999.00</td>\n",
              "    </tr>\n",
              "    <tr>\n",
              "      <th>Woodhaven</th>\n",
              "      <td>-999.000000</td>\n",
              "      <td>-999.000000</td>\n",
              "      <td>-999.0</td>\n",
              "      <td>67.170455</td>\n",
              "      <td>-999.00</td>\n",
              "    </tr>\n",
              "    <tr>\n",
              "      <th>Woodlawn</th>\n",
              "      <td>60.090909</td>\n",
              "      <td>-999.000000</td>\n",
              "      <td>-999.0</td>\n",
              "      <td>-999.000000</td>\n",
              "      <td>-999.00</td>\n",
              "    </tr>\n",
              "    <tr>\n",
              "      <th>Woodrow</th>\n",
              "      <td>-999.000000</td>\n",
              "      <td>-999.000000</td>\n",
              "      <td>-999.0</td>\n",
              "      <td>-999.000000</td>\n",
              "      <td>700.00</td>\n",
              "    </tr>\n",
              "    <tr>\n",
              "      <th>Woodside</th>\n",
              "      <td>-999.000000</td>\n",
              "      <td>-999.000000</td>\n",
              "      <td>-999.0</td>\n",
              "      <td>85.097872</td>\n",
              "      <td>-999.00</td>\n",
              "    </tr>\n",
              "  </tbody>\n",
              "</table>\n",
              "<p>221 rows × 5 columns</p>\n",
              "</div>"
            ],
            "text/plain": [
              "neighbourhood_group       Bronx    Brooklyn  ...      Queens  Staten Island\n",
              "neighbourhood                                ...                           \n",
              "Allerton              87.595238 -999.000000  ... -999.000000        -999.00\n",
              "Arden Heights       -999.000000 -999.000000  ... -999.000000          67.25\n",
              "Arrochar            -999.000000 -999.000000  ... -999.000000         115.00\n",
              "Arverne             -999.000000 -999.000000  ...  171.779221        -999.00\n",
              "Astoria             -999.000000 -999.000000  ...  117.187778        -999.00\n",
              "...                         ...         ...  ...         ...            ...\n",
              "Windsor Terrace     -999.000000  138.993631  ... -999.000000        -999.00\n",
              "Woodhaven           -999.000000 -999.000000  ...   67.170455        -999.00\n",
              "Woodlawn              60.090909 -999.000000  ... -999.000000        -999.00\n",
              "Woodrow             -999.000000 -999.000000  ... -999.000000         700.00\n",
              "Woodside            -999.000000 -999.000000  ...   85.097872        -999.00\n",
              "\n",
              "[221 rows x 5 columns]"
            ]
          },
          "metadata": {
            "tags": []
          },
          "execution_count": 138
        }
      ]
    },
    {
      "cell_type": "code",
      "metadata": {
        "colab": {
          "base_uri": "https://localhost:8080/",
          "height": 167
        },
        "id": "lKcyU2amjsRX",
        "outputId": "07deafc9-4b89-4d60-f1b1-e0cdc00e3ba9"
      },
      "source": [
        "df[df.neighbourhood_group.str.contains(\"Queens\")].groupby(\"neighbourhood\").price.agg([\"mean\", \"var\", \"min\", \"max\"]).head(3)"
      ],
      "execution_count": null,
      "outputs": [
        {
          "output_type": "execute_result",
          "data": {
            "text/html": [
              "<div>\n",
              "<style scoped>\n",
              "    .dataframe tbody tr th:only-of-type {\n",
              "        vertical-align: middle;\n",
              "    }\n",
              "\n",
              "    .dataframe tbody tr th {\n",
              "        vertical-align: top;\n",
              "    }\n",
              "\n",
              "    .dataframe thead th {\n",
              "        text-align: right;\n",
              "    }\n",
              "</style>\n",
              "<table border=\"1\" class=\"dataframe\">\n",
              "  <thead>\n",
              "    <tr style=\"text-align: right;\">\n",
              "      <th></th>\n",
              "      <th>mean</th>\n",
              "      <th>var</th>\n",
              "      <th>min</th>\n",
              "      <th>max</th>\n",
              "    </tr>\n",
              "    <tr>\n",
              "      <th>neighbourhood</th>\n",
              "      <th></th>\n",
              "      <th></th>\n",
              "      <th></th>\n",
              "      <th></th>\n",
              "    </tr>\n",
              "  </thead>\n",
              "  <tbody>\n",
              "    <tr>\n",
              "      <th>Arverne</th>\n",
              "      <td>171.779221</td>\n",
              "      <td>37383.411141</td>\n",
              "      <td>35</td>\n",
              "      <td>1500</td>\n",
              "    </tr>\n",
              "    <tr>\n",
              "      <th>Astoria</th>\n",
              "      <td>117.187778</td>\n",
              "      <td>122428.811196</td>\n",
              "      <td>25</td>\n",
              "      <td>10000</td>\n",
              "    </tr>\n",
              "    <tr>\n",
              "      <th>Bay Terrace</th>\n",
              "      <td>142.000000</td>\n",
              "      <td>6816.400000</td>\n",
              "      <td>32</td>\n",
              "      <td>258</td>\n",
              "    </tr>\n",
              "  </tbody>\n",
              "</table>\n",
              "</div>"
            ],
            "text/plain": [
              "                     mean            var  min    max\n",
              "neighbourhood                                       \n",
              "Arverne        171.779221   37383.411141   35   1500\n",
              "Astoria        117.187778  122428.811196   25  10000\n",
              "Bay Terrace    142.000000    6816.400000   32    258"
            ]
          },
          "metadata": {
            "tags": []
          },
          "execution_count": 144
        }
      ]
    },
    {
      "cell_type": "code",
      "metadata": {
        "colab": {
          "base_uri": "https://localhost:8080/",
          "height": 372
        },
        "id": "dndsuwSgj20V",
        "outputId": "7fe8d166-521e-472f-a62e-83c8f5bbfb18"
      },
      "source": [
        "ans = df[[\"neighbourhood_group\", \"room_type\"]].groupby([\"neighbourhood_group\", \"room_type\"]).size().unstack()\n",
        "ans.loc[:, :] = ans.values / ans.sum(axis=1).values.reshape(-1, 1)\n",
        "ans"
      ],
      "execution_count": null,
      "outputs": [
        {
          "output_type": "error",
          "ename": "KeyError",
          "evalue": "ignored",
          "traceback": [
            "\u001b[0;31m---------------------------------------------------------------------------\u001b[0m",
            "\u001b[0;31mKeyError\u001b[0m                                  Traceback (most recent call last)",
            "\u001b[0;32m<ipython-input-175-24d1d438eb4a>\u001b[0m in \u001b[0;36m<module>\u001b[0;34m()\u001b[0m\n\u001b[0;32m----> 1\u001b[0;31m \u001b[0mans\u001b[0m \u001b[0;34m=\u001b[0m \u001b[0mdf\u001b[0m\u001b[0;34m[\u001b[0m\u001b[0;34m[\u001b[0m\u001b[0;34m\"neighbourhood_group\"\u001b[0m\u001b[0;34m,\u001b[0m \u001b[0;34m\"room_type\"\u001b[0m\u001b[0;34m]\u001b[0m\u001b[0;34m]\u001b[0m\u001b[0;34m.\u001b[0m\u001b[0mgroupby\u001b[0m\u001b[0;34m(\u001b[0m\u001b[0;34m[\u001b[0m\u001b[0;34m\"neighbourhood_group\"\u001b[0m\u001b[0;34m,\u001b[0m \u001b[0;34m\"room_type\"\u001b[0m\u001b[0;34m]\u001b[0m\u001b[0;34m)\u001b[0m\u001b[0;34m.\u001b[0m\u001b[0msize\u001b[0m\u001b[0;34m(\u001b[0m\u001b[0;34m)\u001b[0m\u001b[0;34m.\u001b[0m\u001b[0munstack\u001b[0m\u001b[0;34m(\u001b[0m\u001b[0;34m)\u001b[0m\u001b[0;34m\u001b[0m\u001b[0;34m\u001b[0m\u001b[0m\n\u001b[0m\u001b[1;32m      2\u001b[0m \u001b[0mans\u001b[0m\u001b[0;34m.\u001b[0m\u001b[0mloc\u001b[0m\u001b[0;34m[\u001b[0m\u001b[0;34m:\u001b[0m\u001b[0;34m,\u001b[0m \u001b[0;34m:\u001b[0m\u001b[0;34m]\u001b[0m \u001b[0;34m=\u001b[0m \u001b[0mans\u001b[0m\u001b[0;34m.\u001b[0m\u001b[0mvalues\u001b[0m \u001b[0;34m/\u001b[0m \u001b[0mans\u001b[0m\u001b[0;34m.\u001b[0m\u001b[0msum\u001b[0m\u001b[0;34m(\u001b[0m\u001b[0maxis\u001b[0m\u001b[0;34m=\u001b[0m\u001b[0;36m1\u001b[0m\u001b[0;34m)\u001b[0m\u001b[0;34m.\u001b[0m\u001b[0mvalues\u001b[0m\u001b[0;34m.\u001b[0m\u001b[0mreshape\u001b[0m\u001b[0;34m(\u001b[0m\u001b[0;34m-\u001b[0m\u001b[0;36m1\u001b[0m\u001b[0;34m,\u001b[0m \u001b[0;36m1\u001b[0m\u001b[0;34m)\u001b[0m\u001b[0;34m\u001b[0m\u001b[0;34m\u001b[0m\u001b[0m\n\u001b[1;32m      3\u001b[0m \u001b[0mans\u001b[0m\u001b[0;34m\u001b[0m\u001b[0;34m\u001b[0m\u001b[0m\n",
            "\u001b[0;32m/usr/local/lib/python3.7/dist-packages/pandas/core/frame.py\u001b[0m in \u001b[0;36m__getitem__\u001b[0;34m(self, key)\u001b[0m\n\u001b[1;32m   2910\u001b[0m             \u001b[0;32mif\u001b[0m \u001b[0mis_iterator\u001b[0m\u001b[0;34m(\u001b[0m\u001b[0mkey\u001b[0m\u001b[0;34m)\u001b[0m\u001b[0;34m:\u001b[0m\u001b[0;34m\u001b[0m\u001b[0;34m\u001b[0m\u001b[0m\n\u001b[1;32m   2911\u001b[0m                 \u001b[0mkey\u001b[0m \u001b[0;34m=\u001b[0m \u001b[0mlist\u001b[0m\u001b[0;34m(\u001b[0m\u001b[0mkey\u001b[0m\u001b[0;34m)\u001b[0m\u001b[0;34m\u001b[0m\u001b[0;34m\u001b[0m\u001b[0m\n\u001b[0;32m-> 2912\u001b[0;31m             \u001b[0mindexer\u001b[0m \u001b[0;34m=\u001b[0m \u001b[0mself\u001b[0m\u001b[0;34m.\u001b[0m\u001b[0mloc\u001b[0m\u001b[0;34m.\u001b[0m\u001b[0m_get_listlike_indexer\u001b[0m\u001b[0;34m(\u001b[0m\u001b[0mkey\u001b[0m\u001b[0;34m,\u001b[0m \u001b[0maxis\u001b[0m\u001b[0;34m=\u001b[0m\u001b[0;36m1\u001b[0m\u001b[0;34m,\u001b[0m \u001b[0mraise_missing\u001b[0m\u001b[0;34m=\u001b[0m\u001b[0;32mTrue\u001b[0m\u001b[0;34m)\u001b[0m\u001b[0;34m[\u001b[0m\u001b[0;36m1\u001b[0m\u001b[0;34m]\u001b[0m\u001b[0;34m\u001b[0m\u001b[0;34m\u001b[0m\u001b[0m\n\u001b[0m\u001b[1;32m   2913\u001b[0m \u001b[0;34m\u001b[0m\u001b[0m\n\u001b[1;32m   2914\u001b[0m         \u001b[0;31m# take() does not accept boolean indexers\u001b[0m\u001b[0;34m\u001b[0m\u001b[0;34m\u001b[0m\u001b[0;34m\u001b[0m\u001b[0m\n",
            "\u001b[0;32m/usr/local/lib/python3.7/dist-packages/pandas/core/indexing.py\u001b[0m in \u001b[0;36m_get_listlike_indexer\u001b[0;34m(self, key, axis, raise_missing)\u001b[0m\n\u001b[1;32m   1252\u001b[0m             \u001b[0mkeyarr\u001b[0m\u001b[0;34m,\u001b[0m \u001b[0mindexer\u001b[0m\u001b[0;34m,\u001b[0m \u001b[0mnew_indexer\u001b[0m \u001b[0;34m=\u001b[0m \u001b[0max\u001b[0m\u001b[0;34m.\u001b[0m\u001b[0m_reindex_non_unique\u001b[0m\u001b[0;34m(\u001b[0m\u001b[0mkeyarr\u001b[0m\u001b[0;34m)\u001b[0m\u001b[0;34m\u001b[0m\u001b[0;34m\u001b[0m\u001b[0m\n\u001b[1;32m   1253\u001b[0m \u001b[0;34m\u001b[0m\u001b[0m\n\u001b[0;32m-> 1254\u001b[0;31m         \u001b[0mself\u001b[0m\u001b[0;34m.\u001b[0m\u001b[0m_validate_read_indexer\u001b[0m\u001b[0;34m(\u001b[0m\u001b[0mkeyarr\u001b[0m\u001b[0;34m,\u001b[0m \u001b[0mindexer\u001b[0m\u001b[0;34m,\u001b[0m \u001b[0maxis\u001b[0m\u001b[0;34m,\u001b[0m \u001b[0mraise_missing\u001b[0m\u001b[0;34m=\u001b[0m\u001b[0mraise_missing\u001b[0m\u001b[0;34m)\u001b[0m\u001b[0;34m\u001b[0m\u001b[0;34m\u001b[0m\u001b[0m\n\u001b[0m\u001b[1;32m   1255\u001b[0m         \u001b[0;32mreturn\u001b[0m \u001b[0mkeyarr\u001b[0m\u001b[0;34m,\u001b[0m \u001b[0mindexer\u001b[0m\u001b[0;34m\u001b[0m\u001b[0;34m\u001b[0m\u001b[0m\n\u001b[1;32m   1256\u001b[0m \u001b[0;34m\u001b[0m\u001b[0m\n",
            "\u001b[0;32m/usr/local/lib/python3.7/dist-packages/pandas/core/indexing.py\u001b[0m in \u001b[0;36m_validate_read_indexer\u001b[0;34m(self, key, indexer, axis, raise_missing)\u001b[0m\n\u001b[1;32m   1296\u001b[0m             \u001b[0;32mif\u001b[0m \u001b[0mmissing\u001b[0m \u001b[0;34m==\u001b[0m \u001b[0mlen\u001b[0m\u001b[0;34m(\u001b[0m\u001b[0mindexer\u001b[0m\u001b[0;34m)\u001b[0m\u001b[0;34m:\u001b[0m\u001b[0;34m\u001b[0m\u001b[0;34m\u001b[0m\u001b[0m\n\u001b[1;32m   1297\u001b[0m                 \u001b[0maxis_name\u001b[0m \u001b[0;34m=\u001b[0m \u001b[0mself\u001b[0m\u001b[0;34m.\u001b[0m\u001b[0mobj\u001b[0m\u001b[0;34m.\u001b[0m\u001b[0m_get_axis_name\u001b[0m\u001b[0;34m(\u001b[0m\u001b[0maxis\u001b[0m\u001b[0;34m)\u001b[0m\u001b[0;34m\u001b[0m\u001b[0;34m\u001b[0m\u001b[0m\n\u001b[0;32m-> 1298\u001b[0;31m                 \u001b[0;32mraise\u001b[0m \u001b[0mKeyError\u001b[0m\u001b[0;34m(\u001b[0m\u001b[0;34mf\"None of [{key}] are in the [{axis_name}]\"\u001b[0m\u001b[0;34m)\u001b[0m\u001b[0;34m\u001b[0m\u001b[0;34m\u001b[0m\u001b[0m\n\u001b[0m\u001b[1;32m   1299\u001b[0m \u001b[0;34m\u001b[0m\u001b[0m\n\u001b[1;32m   1300\u001b[0m             \u001b[0;31m# We (temporarily) allow for some missing keys with .loc, except in\u001b[0m\u001b[0;34m\u001b[0m\u001b[0;34m\u001b[0m\u001b[0;34m\u001b[0m\u001b[0m\n",
            "\u001b[0;31mKeyError\u001b[0m: \"None of [Index(['neighbourhood_group', 'room_type'], dtype='object')] are in the [columns]\""
          ]
        }
      ]
    },
    {
      "cell_type": "markdown",
      "metadata": {
        "id": "bqk5VfJ5lmlD"
      },
      "source": [
        "### Apply, Map"
      ]
    },
    {
      "cell_type": "code",
      "metadata": {
        "id": "vgN5yGG8mTdA"
      },
      "source": [
        "url = \"https://raw.githubusercontent.com/Datamanim/pandas/main/BankChurnersUp.csv\"\n",
        "\n",
        "df = pd.read_csv(url)"
      ],
      "execution_count": null,
      "outputs": []
    },
    {
      "cell_type": "code",
      "metadata": {
        "colab": {
          "base_uri": "https://localhost:8080/"
        },
        "id": "5gpmW5dCkjnL",
        "outputId": "e9d31805-f4f1-422f-dec4-550766a2ebbb"
      },
      "source": [
        "dic = {\n",
        "    'Unknown'        : 'N',\n",
        "    'Less than $40K' : 'a',\n",
        "    '$40K - $60K'    : 'b',\n",
        "    '$60K - $80K'    : 'c',\n",
        "    '$80K - $120K'   : 'd',\n",
        "    '$120K +'        : 'e'   \n",
        "}\n",
        "\n",
        "df[\"newIncome\"] = df.Income_Category.map(lambda x: dic[x])\n",
        "df[\"newIncome\"]"
      ],
      "execution_count": null,
      "outputs": [
        {
          "output_type": "execute_result",
          "data": {
            "text/plain": [
              "0        c\n",
              "1        a\n",
              "2        d\n",
              "3        a\n",
              "4        c\n",
              "        ..\n",
              "10122    b\n",
              "10123    b\n",
              "10124    a\n",
              "10125    b\n",
              "10126    a\n",
              "Name: newIncome, Length: 10127, dtype: object"
            ]
          },
          "metadata": {
            "tags": []
          },
          "execution_count": 177
        }
      ]
    },
    {
      "cell_type": "code",
      "metadata": {
        "colab": {
          "base_uri": "https://localhost:8080/"
        },
        "id": "YY7OPEIamPmB",
        "outputId": "0d10a395-61f0-4557-cea4-7cc1338f3738"
      },
      "source": [
        "df['AgeState']  = df.Customer_Age.map(lambda x: x//10 *10)\n",
        "df['AgeState'].value_counts().sort_index()"
      ],
      "execution_count": null,
      "outputs": [
        {
          "output_type": "execute_result",
          "data": {
            "text/plain": [
              "20     195\n",
              "30    1841\n",
              "40    4561\n",
              "50    2998\n",
              "60     530\n",
              "70       2\n",
              "Name: AgeState, dtype: int64"
            ]
          },
          "metadata": {
            "tags": []
          },
          "execution_count": 178
        }
      ]
    },
    {
      "cell_type": "code",
      "metadata": {
        "colab": {
          "base_uri": "https://localhost:8080/"
        },
        "id": "19fxWsbam99-",
        "outputId": "8dccb58f-8b89-4ba0-ed39-c36ee3ed8cd8"
      },
      "source": [
        "df[\"Education_Level\"] = df[\"Education_Level\"].map(lambda x : 1 if \"Graduate\" in x else 0)\n",
        "df[\"Education_Level\"].value_counts()"
      ],
      "execution_count": null,
      "outputs": [
        {
          "output_type": "execute_result",
          "data": {
            "text/plain": [
              "0    6483\n",
              "1    3644\n",
              "Name: Education_Level, dtype: int64"
            ]
          },
          "metadata": {
            "tags": []
          },
          "execution_count": 179
        }
      ]
    },
    {
      "cell_type": "code",
      "metadata": {
        "colab": {
          "base_uri": "https://localhost:8080/"
        },
        "id": "jthIElubnm9H",
        "outputId": "0babf419-e8cb-44fb-815f-9c04955f5617"
      },
      "source": [
        "df[\"newLimit \"] = df[\"Credit_Limit\"].map(lambda x : 1 if x >=4500 else 0)\n",
        "df[\"newLimit \"].value_counts()"
      ],
      "execution_count": null,
      "outputs": [
        {
          "output_type": "execute_result",
          "data": {
            "text/plain": [
              "1    5096\n",
              "0    5031\n",
              "Name: newLimit , dtype: int64"
            ]
          },
          "metadata": {
            "tags": []
          },
          "execution_count": 180
        }
      ]
    },
    {
      "cell_type": "code",
      "metadata": {
        "colab": {
          "base_uri": "https://localhost:8080/"
        },
        "id": "2zF2n9P8pA4L",
        "outputId": "d696530f-18dd-483e-ce37-d1aee3dad310"
      },
      "source": [
        "def check(x):\n",
        "  if (x.Marital_Status == \"Married\") & (x.Card_Category == \"Platinum\"):\n",
        "    return 1 \n",
        "  else:\n",
        "    return 0 \n",
        "\n",
        "df['newState'] = df.apply(check, axis=1)\n",
        "df['newState'].value_counts()"
      ],
      "execution_count": null,
      "outputs": [
        {
          "output_type": "execute_result",
          "data": {
            "text/plain": [
              "0    10120\n",
              "1        7\n",
              "Name: newState, dtype: int64"
            ]
          },
          "metadata": {
            "tags": []
          },
          "execution_count": 185
        }
      ]
    },
    {
      "cell_type": "code",
      "metadata": {
        "colab": {
          "base_uri": "https://localhost:8080/"
        },
        "id": "Lnzk-KQqq5cX",
        "outputId": "8547094f-a9ba-459c-8c9c-ee6cb078dfc4"
      },
      "source": [
        "df[\"Gender\"]"
      ],
      "execution_count": null,
      "outputs": [
        {
          "output_type": "execute_result",
          "data": {
            "text/plain": [
              "0        M\n",
              "1        F\n",
              "2        M\n",
              "3        F\n",
              "4        M\n",
              "        ..\n",
              "10122    M\n",
              "10123    M\n",
              "10124    F\n",
              "10125    M\n",
              "10126    F\n",
              "Name: Gender, Length: 10127, dtype: object"
            ]
          },
          "metadata": {
            "tags": []
          },
          "execution_count": 186
        }
      ]
    },
    {
      "cell_type": "code",
      "metadata": {
        "colab": {
          "base_uri": "https://localhost:8080/"
        },
        "id": "gFH_WOIvqE4A",
        "outputId": "2a56d035-9108-432e-b756-0f1795b836a9"
      },
      "source": [
        "df[df[\"Gender\"] == \"M\"] = \"male\"\n",
        "df[df[\"Gender\"] == \"F\"] = \"female\"\n",
        "df[\"Gender\"]"
      ],
      "execution_count": null,
      "outputs": [
        {
          "output_type": "execute_result",
          "data": {
            "text/plain": [
              "0          male\n",
              "1        female\n",
              "2          male\n",
              "3        female\n",
              "4          male\n",
              "          ...  \n",
              "10122      male\n",
              "10123      male\n",
              "10124    female\n",
              "10125      male\n",
              "10126    female\n",
              "Name: Gender, Length: 10127, dtype: object"
            ]
          },
          "metadata": {
            "tags": []
          },
          "execution_count": 188
        }
      ]
    },
    {
      "cell_type": "code",
      "metadata": {
        "colab": {
          "base_uri": "https://localhost:8080/"
        },
        "id": "-v2I2NG8q8Fm",
        "outputId": "bb7ebdb5-93fa-4904-c1ea-45f729fcf5d6"
      },
      "source": [
        "url = \"https://raw.githubusercontent.com/Datamanim/pandas/main/timeTest.csv\"\n",
        "df = pd.read_csv(url)\n",
        "df.info()"
      ],
      "execution_count": null,
      "outputs": [
        {
          "output_type": "stream",
          "text": [
            "<class 'pandas.core.frame.DataFrame'>\n",
            "RangeIndex: 6574 entries, 0 to 6573\n",
            "Data columns (total 13 columns):\n",
            " #   Column    Non-Null Count  Dtype  \n",
            "---  ------    --------------  -----  \n",
            " 0   Yr_Mo_Dy  6574 non-null   object \n",
            " 1   RPT       6568 non-null   float64\n",
            " 2   VAL       6571 non-null   float64\n",
            " 3   ROS       6572 non-null   float64\n",
            " 4   KIL       6569 non-null   float64\n",
            " 5   SHA       6572 non-null   float64\n",
            " 6   BIR       6574 non-null   float64\n",
            " 7   DUB       6571 non-null   float64\n",
            " 8   CLA       6572 non-null   float64\n",
            " 9   MUL       6571 non-null   float64\n",
            " 10  CLO       6573 non-null   float64\n",
            " 11  BEL       6574 non-null   float64\n",
            " 12  MAL       6570 non-null   float64\n",
            "dtypes: float64(12), object(1)\n",
            "memory usage: 667.8+ KB\n"
          ],
          "name": "stdout"
        }
      ]
    },
    {
      "cell_type": "code",
      "metadata": {
        "colab": {
          "base_uri": "https://localhost:8080/",
          "height": 107
        },
        "id": "KFgLjmzSrHy_",
        "outputId": "ba20cb3a-4edc-4ff3-fe5c-87a40370f110"
      },
      "source": [
        "df.head(2)"
      ],
      "execution_count": null,
      "outputs": [
        {
          "output_type": "execute_result",
          "data": {
            "text/html": [
              "<div>\n",
              "<style scoped>\n",
              "    .dataframe tbody tr th:only-of-type {\n",
              "        vertical-align: middle;\n",
              "    }\n",
              "\n",
              "    .dataframe tbody tr th {\n",
              "        vertical-align: top;\n",
              "    }\n",
              "\n",
              "    .dataframe thead th {\n",
              "        text-align: right;\n",
              "    }\n",
              "</style>\n",
              "<table border=\"1\" class=\"dataframe\">\n",
              "  <thead>\n",
              "    <tr style=\"text-align: right;\">\n",
              "      <th></th>\n",
              "      <th>Yr_Mo_Dy</th>\n",
              "      <th>RPT</th>\n",
              "      <th>VAL</th>\n",
              "      <th>ROS</th>\n",
              "      <th>KIL</th>\n",
              "      <th>SHA</th>\n",
              "      <th>BIR</th>\n",
              "      <th>DUB</th>\n",
              "      <th>CLA</th>\n",
              "      <th>MUL</th>\n",
              "      <th>CLO</th>\n",
              "      <th>BEL</th>\n",
              "      <th>MAL</th>\n",
              "    </tr>\n",
              "  </thead>\n",
              "  <tbody>\n",
              "    <tr>\n",
              "      <th>0</th>\n",
              "      <td>2061-01-01</td>\n",
              "      <td>15.04</td>\n",
              "      <td>14.96</td>\n",
              "      <td>13.17</td>\n",
              "      <td>9.29</td>\n",
              "      <td>NaN</td>\n",
              "      <td>9.87</td>\n",
              "      <td>13.67</td>\n",
              "      <td>10.25</td>\n",
              "      <td>10.83</td>\n",
              "      <td>12.58</td>\n",
              "      <td>18.50</td>\n",
              "      <td>15.04</td>\n",
              "    </tr>\n",
              "    <tr>\n",
              "      <th>1</th>\n",
              "      <td>2061-01-02</td>\n",
              "      <td>14.71</td>\n",
              "      <td>NaN</td>\n",
              "      <td>10.83</td>\n",
              "      <td>6.50</td>\n",
              "      <td>12.62</td>\n",
              "      <td>7.67</td>\n",
              "      <td>11.50</td>\n",
              "      <td>10.04</td>\n",
              "      <td>9.79</td>\n",
              "      <td>9.67</td>\n",
              "      <td>17.54</td>\n",
              "      <td>13.83</td>\n",
              "    </tr>\n",
              "  </tbody>\n",
              "</table>\n",
              "</div>"
            ],
            "text/plain": [
              "     Yr_Mo_Dy    RPT    VAL    ROS   KIL  ...    CLA    MUL    CLO    BEL    MAL\n",
              "0  2061-01-01  15.04  14.96  13.17  9.29  ...  10.25  10.83  12.58  18.50  15.04\n",
              "1  2061-01-02  14.71    NaN  10.83  6.50  ...  10.04   9.79   9.67  17.54  13.83\n",
              "\n",
              "[2 rows x 13 columns]"
            ]
          },
          "metadata": {
            "tags": []
          },
          "execution_count": 207
        }
      ]
    },
    {
      "cell_type": "code",
      "metadata": {
        "colab": {
          "base_uri": "https://localhost:8080/"
        },
        "id": "M6daieQArOOH",
        "outputId": "b9eceed1-d8c9-4c73-90e4-b0b52c1d0d07"
      },
      "source": [
        "print(df[\"Yr_Mo_Dy\"].dtypes)\n",
        "df[\"Yr_Mo_Dy\"] = df[\"Yr_Mo_Dy\"].astype(\"datetime64[ns]\")\n",
        "print(df[\"Yr_Mo_Dy\"].dtypes)"
      ],
      "execution_count": null,
      "outputs": [
        {
          "output_type": "stream",
          "text": [
            "object\n",
            "datetime64[ns]\n"
          ],
          "name": "stdout"
        }
      ]
    },
    {
      "cell_type": "code",
      "metadata": {
        "id": "A9LFuKHkrXa5"
      },
      "source": [
        "print(df[\"Yr_Mo_Dy\"].dtypes)\n",
        "df[\"Yr_Mo_Dy\"] = pd.to_datetime(df[\"Yr_Mo_Dy\"])\n",
        "print(df[\"Yr_Mo_Dy\"].dtypes)"
      ],
      "execution_count": null,
      "outputs": []
    },
    {
      "cell_type": "code",
      "metadata": {
        "colab": {
          "base_uri": "https://localhost:8080/"
        },
        "id": "4jU-Zh8fsb7M",
        "outputId": "6c3ac7af-0b91-43a1-a73d-528ffb0b4258"
      },
      "source": [
        "df[\"Yr_Mo_Dy\"].dt.year.unique()"
      ],
      "execution_count": null,
      "outputs": [
        {
          "output_type": "execute_result",
          "data": {
            "text/plain": [
              "array([2061, 2062, 2063, 2064, 2065, 2066, 2067, 2068, 2069, 2070, 1971,\n",
              "       1972, 1973, 1974, 1975, 1976, 1977, 1978])"
            ]
          },
          "metadata": {
            "tags": []
          },
          "execution_count": 212
        }
      ]
    },
    {
      "cell_type": "code",
      "metadata": {
        "colab": {
          "base_uri": "https://localhost:8080/",
          "height": 167
        },
        "id": "UCUeE1wosfHs",
        "outputId": "ca788118-0da1-432f-eae8-a1b85c23cc0b"
      },
      "source": [
        "def fix_century(x):\n",
        "  import datetime\n",
        "  \n",
        "  year = x.year - 100 if x.year > 1989 else x.year\n",
        "  return pd.to_datetime(datetime.date(year, x.month, x.day))\n",
        "\n",
        "df[\"Yr_Mo_Dy\"] = df[\"Yr_Mo_Dy\"].apply(fix_century)\n",
        "\n",
        "df.head(4)"
      ],
      "execution_count": null,
      "outputs": [
        {
          "output_type": "execute_result",
          "data": {
            "text/html": [
              "<div>\n",
              "<style scoped>\n",
              "    .dataframe tbody tr th:only-of-type {\n",
              "        vertical-align: middle;\n",
              "    }\n",
              "\n",
              "    .dataframe tbody tr th {\n",
              "        vertical-align: top;\n",
              "    }\n",
              "\n",
              "    .dataframe thead th {\n",
              "        text-align: right;\n",
              "    }\n",
              "</style>\n",
              "<table border=\"1\" class=\"dataframe\">\n",
              "  <thead>\n",
              "    <tr style=\"text-align: right;\">\n",
              "      <th></th>\n",
              "      <th>Yr_Mo_Dy</th>\n",
              "      <th>RPT</th>\n",
              "      <th>VAL</th>\n",
              "      <th>ROS</th>\n",
              "      <th>KIL</th>\n",
              "      <th>SHA</th>\n",
              "      <th>BIR</th>\n",
              "      <th>DUB</th>\n",
              "      <th>CLA</th>\n",
              "      <th>MUL</th>\n",
              "      <th>CLO</th>\n",
              "      <th>BEL</th>\n",
              "      <th>MAL</th>\n",
              "    </tr>\n",
              "  </thead>\n",
              "  <tbody>\n",
              "    <tr>\n",
              "      <th>0</th>\n",
              "      <td>1961-01-01</td>\n",
              "      <td>15.04</td>\n",
              "      <td>14.96</td>\n",
              "      <td>13.17</td>\n",
              "      <td>9.29</td>\n",
              "      <td>NaN</td>\n",
              "      <td>9.87</td>\n",
              "      <td>13.67</td>\n",
              "      <td>10.25</td>\n",
              "      <td>10.83</td>\n",
              "      <td>12.58</td>\n",
              "      <td>18.50</td>\n",
              "      <td>15.04</td>\n",
              "    </tr>\n",
              "    <tr>\n",
              "      <th>1</th>\n",
              "      <td>1961-01-02</td>\n",
              "      <td>14.71</td>\n",
              "      <td>NaN</td>\n",
              "      <td>10.83</td>\n",
              "      <td>6.50</td>\n",
              "      <td>12.62</td>\n",
              "      <td>7.67</td>\n",
              "      <td>11.50</td>\n",
              "      <td>10.04</td>\n",
              "      <td>9.79</td>\n",
              "      <td>9.67</td>\n",
              "      <td>17.54</td>\n",
              "      <td>13.83</td>\n",
              "    </tr>\n",
              "    <tr>\n",
              "      <th>2</th>\n",
              "      <td>1961-01-03</td>\n",
              "      <td>18.50</td>\n",
              "      <td>16.88</td>\n",
              "      <td>12.33</td>\n",
              "      <td>10.13</td>\n",
              "      <td>11.17</td>\n",
              "      <td>6.17</td>\n",
              "      <td>11.25</td>\n",
              "      <td>NaN</td>\n",
              "      <td>8.50</td>\n",
              "      <td>7.67</td>\n",
              "      <td>12.75</td>\n",
              "      <td>12.71</td>\n",
              "    </tr>\n",
              "    <tr>\n",
              "      <th>3</th>\n",
              "      <td>1961-01-04</td>\n",
              "      <td>10.58</td>\n",
              "      <td>6.63</td>\n",
              "      <td>11.75</td>\n",
              "      <td>4.58</td>\n",
              "      <td>4.54</td>\n",
              "      <td>2.88</td>\n",
              "      <td>8.63</td>\n",
              "      <td>1.79</td>\n",
              "      <td>5.83</td>\n",
              "      <td>5.88</td>\n",
              "      <td>5.46</td>\n",
              "      <td>10.88</td>\n",
              "    </tr>\n",
              "  </tbody>\n",
              "</table>\n",
              "</div>"
            ],
            "text/plain": [
              "    Yr_Mo_Dy    RPT    VAL    ROS    KIL  ...    CLA    MUL    CLO    BEL    MAL\n",
              "0 1961-01-01  15.04  14.96  13.17   9.29  ...  10.25  10.83  12.58  18.50  15.04\n",
              "1 1961-01-02  14.71    NaN  10.83   6.50  ...  10.04   9.79   9.67  17.54  13.83\n",
              "2 1961-01-03  18.50  16.88  12.33  10.13  ...    NaN   8.50   7.67  12.75  12.71\n",
              "3 1961-01-04  10.58   6.63  11.75   4.58  ...   1.79   5.83   5.88   5.46  10.88\n",
              "\n",
              "[4 rows x 13 columns]"
            ]
          },
          "metadata": {
            "tags": []
          },
          "execution_count": 236
        }
      ]
    },
    {
      "cell_type": "code",
      "metadata": {
        "colab": {
          "base_uri": "https://localhost:8080/",
          "height": 637
        },
        "id": "eOj73Q0csu8v",
        "outputId": "b500c789-023f-48b3-9ea5-c286670a3a9c"
      },
      "source": [
        "df.groupby(df[\"Yr_Mo_Dy\"].dt.year).mean()"
      ],
      "execution_count": null,
      "outputs": [
        {
          "output_type": "execute_result",
          "data": {
            "text/html": [
              "<div>\n",
              "<style scoped>\n",
              "    .dataframe tbody tr th:only-of-type {\n",
              "        vertical-align: middle;\n",
              "    }\n",
              "\n",
              "    .dataframe tbody tr th {\n",
              "        vertical-align: top;\n",
              "    }\n",
              "\n",
              "    .dataframe thead th {\n",
              "        text-align: right;\n",
              "    }\n",
              "</style>\n",
              "<table border=\"1\" class=\"dataframe\">\n",
              "  <thead>\n",
              "    <tr style=\"text-align: right;\">\n",
              "      <th></th>\n",
              "      <th>RPT</th>\n",
              "      <th>VAL</th>\n",
              "      <th>ROS</th>\n",
              "      <th>KIL</th>\n",
              "      <th>SHA</th>\n",
              "      <th>BIR</th>\n",
              "      <th>DUB</th>\n",
              "      <th>CLA</th>\n",
              "      <th>MUL</th>\n",
              "      <th>CLO</th>\n",
              "      <th>BEL</th>\n",
              "      <th>MAL</th>\n",
              "    </tr>\n",
              "    <tr>\n",
              "      <th>Yr_Mo_Dy</th>\n",
              "      <th></th>\n",
              "      <th></th>\n",
              "      <th></th>\n",
              "      <th></th>\n",
              "      <th></th>\n",
              "      <th></th>\n",
              "      <th></th>\n",
              "      <th></th>\n",
              "      <th></th>\n",
              "      <th></th>\n",
              "      <th></th>\n",
              "      <th></th>\n",
              "    </tr>\n",
              "  </thead>\n",
              "  <tbody>\n",
              "    <tr>\n",
              "      <th>1961</th>\n",
              "      <td>12.299583</td>\n",
              "      <td>10.351796</td>\n",
              "      <td>11.362369</td>\n",
              "      <td>6.958227</td>\n",
              "      <td>10.881763</td>\n",
              "      <td>7.729726</td>\n",
              "      <td>9.733923</td>\n",
              "      <td>8.858788</td>\n",
              "      <td>8.647652</td>\n",
              "      <td>9.835577</td>\n",
              "      <td>13.502795</td>\n",
              "      <td>13.680773</td>\n",
              "    </tr>\n",
              "    <tr>\n",
              "      <th>1962</th>\n",
              "      <td>12.246923</td>\n",
              "      <td>10.110438</td>\n",
              "      <td>11.732712</td>\n",
              "      <td>6.960440</td>\n",
              "      <td>10.657918</td>\n",
              "      <td>7.393068</td>\n",
              "      <td>11.020712</td>\n",
              "      <td>8.793753</td>\n",
              "      <td>8.316822</td>\n",
              "      <td>9.676247</td>\n",
              "      <td>12.930685</td>\n",
              "      <td>14.323956</td>\n",
              "    </tr>\n",
              "    <tr>\n",
              "      <th>1963</th>\n",
              "      <td>12.813452</td>\n",
              "      <td>10.836986</td>\n",
              "      <td>12.541151</td>\n",
              "      <td>7.330055</td>\n",
              "      <td>11.724110</td>\n",
              "      <td>8.434712</td>\n",
              "      <td>11.075699</td>\n",
              "      <td>10.336548</td>\n",
              "      <td>8.903589</td>\n",
              "      <td>10.224438</td>\n",
              "      <td>13.638877</td>\n",
              "      <td>14.999014</td>\n",
              "    </tr>\n",
              "    <tr>\n",
              "      <th>1964</th>\n",
              "      <td>12.363661</td>\n",
              "      <td>10.920164</td>\n",
              "      <td>12.104372</td>\n",
              "      <td>6.787787</td>\n",
              "      <td>11.454481</td>\n",
              "      <td>7.570874</td>\n",
              "      <td>10.259153</td>\n",
              "      <td>9.467350</td>\n",
              "      <td>7.789016</td>\n",
              "      <td>10.207951</td>\n",
              "      <td>13.740546</td>\n",
              "      <td>14.910301</td>\n",
              "    </tr>\n",
              "    <tr>\n",
              "      <th>1965</th>\n",
              "      <td>12.451370</td>\n",
              "      <td>11.075534</td>\n",
              "      <td>11.848767</td>\n",
              "      <td>6.858466</td>\n",
              "      <td>11.024795</td>\n",
              "      <td>7.478110</td>\n",
              "      <td>10.618712</td>\n",
              "      <td>8.879918</td>\n",
              "      <td>7.907425</td>\n",
              "      <td>9.918082</td>\n",
              "      <td>12.964247</td>\n",
              "      <td>15.591644</td>\n",
              "    </tr>\n",
              "    <tr>\n",
              "      <th>1966</th>\n",
              "      <td>13.461973</td>\n",
              "      <td>11.557205</td>\n",
              "      <td>12.020630</td>\n",
              "      <td>7.345726</td>\n",
              "      <td>11.805041</td>\n",
              "      <td>7.793671</td>\n",
              "      <td>10.579808</td>\n",
              "      <td>8.835096</td>\n",
              "      <td>8.514438</td>\n",
              "      <td>9.768959</td>\n",
              "      <td>14.265836</td>\n",
              "      <td>16.307260</td>\n",
              "    </tr>\n",
              "    <tr>\n",
              "      <th>1967</th>\n",
              "      <td>12.737151</td>\n",
              "      <td>10.990986</td>\n",
              "      <td>11.739397</td>\n",
              "      <td>7.143425</td>\n",
              "      <td>11.630740</td>\n",
              "      <td>7.368164</td>\n",
              "      <td>10.652027</td>\n",
              "      <td>9.325616</td>\n",
              "      <td>8.645014</td>\n",
              "      <td>9.547425</td>\n",
              "      <td>14.774548</td>\n",
              "      <td>17.135945</td>\n",
              "    </tr>\n",
              "    <tr>\n",
              "      <th>1968</th>\n",
              "      <td>11.835628</td>\n",
              "      <td>10.468197</td>\n",
              "      <td>11.409754</td>\n",
              "      <td>6.477678</td>\n",
              "      <td>10.760765</td>\n",
              "      <td>6.067322</td>\n",
              "      <td>8.859180</td>\n",
              "      <td>8.255519</td>\n",
              "      <td>7.224945</td>\n",
              "      <td>7.832978</td>\n",
              "      <td>12.808634</td>\n",
              "      <td>15.017486</td>\n",
              "    </tr>\n",
              "    <tr>\n",
              "      <th>1969</th>\n",
              "      <td>11.166356</td>\n",
              "      <td>9.723699</td>\n",
              "      <td>10.902000</td>\n",
              "      <td>5.767973</td>\n",
              "      <td>9.873918</td>\n",
              "      <td>6.189973</td>\n",
              "      <td>8.564493</td>\n",
              "      <td>7.711397</td>\n",
              "      <td>7.924521</td>\n",
              "      <td>7.754384</td>\n",
              "      <td>12.621233</td>\n",
              "      <td>15.762904</td>\n",
              "    </tr>\n",
              "    <tr>\n",
              "      <th>1970</th>\n",
              "      <td>12.600329</td>\n",
              "      <td>10.726932</td>\n",
              "      <td>11.730247</td>\n",
              "      <td>6.217178</td>\n",
              "      <td>10.567370</td>\n",
              "      <td>7.609452</td>\n",
              "      <td>9.609890</td>\n",
              "      <td>8.334630</td>\n",
              "      <td>9.297616</td>\n",
              "      <td>8.289808</td>\n",
              "      <td>13.183644</td>\n",
              "      <td>16.456027</td>\n",
              "    </tr>\n",
              "    <tr>\n",
              "      <th>1971</th>\n",
              "      <td>11.273123</td>\n",
              "      <td>9.095178</td>\n",
              "      <td>11.088329</td>\n",
              "      <td>5.241507</td>\n",
              "      <td>9.440329</td>\n",
              "      <td>6.097151</td>\n",
              "      <td>8.385890</td>\n",
              "      <td>6.757315</td>\n",
              "      <td>7.915370</td>\n",
              "      <td>7.229753</td>\n",
              "      <td>12.208932</td>\n",
              "      <td>15.025233</td>\n",
              "    </tr>\n",
              "    <tr>\n",
              "      <th>1972</th>\n",
              "      <td>12.463962</td>\n",
              "      <td>10.561311</td>\n",
              "      <td>12.058333</td>\n",
              "      <td>5.929699</td>\n",
              "      <td>9.430410</td>\n",
              "      <td>6.358825</td>\n",
              "      <td>9.704508</td>\n",
              "      <td>7.680792</td>\n",
              "      <td>8.357295</td>\n",
              "      <td>7.515273</td>\n",
              "      <td>12.727377</td>\n",
              "      <td>15.028716</td>\n",
              "    </tr>\n",
              "    <tr>\n",
              "      <th>1973</th>\n",
              "      <td>11.828466</td>\n",
              "      <td>10.680493</td>\n",
              "      <td>10.680493</td>\n",
              "      <td>5.547863</td>\n",
              "      <td>9.640877</td>\n",
              "      <td>6.548740</td>\n",
              "      <td>8.482110</td>\n",
              "      <td>7.614274</td>\n",
              "      <td>8.245534</td>\n",
              "      <td>7.812411</td>\n",
              "      <td>12.169699</td>\n",
              "      <td>15.441096</td>\n",
              "    </tr>\n",
              "    <tr>\n",
              "      <th>1974</th>\n",
              "      <td>13.643096</td>\n",
              "      <td>11.811781</td>\n",
              "      <td>12.336356</td>\n",
              "      <td>6.427041</td>\n",
              "      <td>11.110986</td>\n",
              "      <td>6.809781</td>\n",
              "      <td>10.084603</td>\n",
              "      <td>9.896986</td>\n",
              "      <td>9.331753</td>\n",
              "      <td>8.736356</td>\n",
              "      <td>13.252959</td>\n",
              "      <td>16.947671</td>\n",
              "    </tr>\n",
              "    <tr>\n",
              "      <th>1975</th>\n",
              "      <td>12.008575</td>\n",
              "      <td>10.293836</td>\n",
              "      <td>11.564712</td>\n",
              "      <td>5.269096</td>\n",
              "      <td>9.190082</td>\n",
              "      <td>5.668521</td>\n",
              "      <td>8.562603</td>\n",
              "      <td>7.843836</td>\n",
              "      <td>8.797945</td>\n",
              "      <td>7.382822</td>\n",
              "      <td>12.631671</td>\n",
              "      <td>15.307863</td>\n",
              "    </tr>\n",
              "    <tr>\n",
              "      <th>1976</th>\n",
              "      <td>11.737842</td>\n",
              "      <td>10.203115</td>\n",
              "      <td>10.761230</td>\n",
              "      <td>5.109426</td>\n",
              "      <td>8.846339</td>\n",
              "      <td>6.311038</td>\n",
              "      <td>9.149126</td>\n",
              "      <td>7.146202</td>\n",
              "      <td>8.883716</td>\n",
              "      <td>7.883087</td>\n",
              "      <td>12.332377</td>\n",
              "      <td>15.471448</td>\n",
              "    </tr>\n",
              "    <tr>\n",
              "      <th>1977</th>\n",
              "      <td>13.099616</td>\n",
              "      <td>11.144493</td>\n",
              "      <td>12.627836</td>\n",
              "      <td>6.073945</td>\n",
              "      <td>10.003836</td>\n",
              "      <td>8.586438</td>\n",
              "      <td>11.523205</td>\n",
              "      <td>8.378384</td>\n",
              "      <td>9.098192</td>\n",
              "      <td>8.821616</td>\n",
              "      <td>13.459068</td>\n",
              "      <td>16.590849</td>\n",
              "    </tr>\n",
              "    <tr>\n",
              "      <th>1978</th>\n",
              "      <td>12.504356</td>\n",
              "      <td>11.044274</td>\n",
              "      <td>11.380000</td>\n",
              "      <td>6.082356</td>\n",
              "      <td>10.167233</td>\n",
              "      <td>7.650658</td>\n",
              "      <td>9.489342</td>\n",
              "      <td>8.800466</td>\n",
              "      <td>9.089753</td>\n",
              "      <td>8.301699</td>\n",
              "      <td>12.967397</td>\n",
              "      <td>16.771370</td>\n",
              "    </tr>\n",
              "  </tbody>\n",
              "</table>\n",
              "</div>"
            ],
            "text/plain": [
              "                RPT        VAL        ROS  ...        CLO        BEL        MAL\n",
              "Yr_Mo_Dy                                   ...                                 \n",
              "1961      12.299583  10.351796  11.362369  ...   9.835577  13.502795  13.680773\n",
              "1962      12.246923  10.110438  11.732712  ...   9.676247  12.930685  14.323956\n",
              "1963      12.813452  10.836986  12.541151  ...  10.224438  13.638877  14.999014\n",
              "1964      12.363661  10.920164  12.104372  ...  10.207951  13.740546  14.910301\n",
              "1965      12.451370  11.075534  11.848767  ...   9.918082  12.964247  15.591644\n",
              "1966      13.461973  11.557205  12.020630  ...   9.768959  14.265836  16.307260\n",
              "1967      12.737151  10.990986  11.739397  ...   9.547425  14.774548  17.135945\n",
              "1968      11.835628  10.468197  11.409754  ...   7.832978  12.808634  15.017486\n",
              "1969      11.166356   9.723699  10.902000  ...   7.754384  12.621233  15.762904\n",
              "1970      12.600329  10.726932  11.730247  ...   8.289808  13.183644  16.456027\n",
              "1971      11.273123   9.095178  11.088329  ...   7.229753  12.208932  15.025233\n",
              "1972      12.463962  10.561311  12.058333  ...   7.515273  12.727377  15.028716\n",
              "1973      11.828466  10.680493  10.680493  ...   7.812411  12.169699  15.441096\n",
              "1974      13.643096  11.811781  12.336356  ...   8.736356  13.252959  16.947671\n",
              "1975      12.008575  10.293836  11.564712  ...   7.382822  12.631671  15.307863\n",
              "1976      11.737842  10.203115  10.761230  ...   7.883087  12.332377  15.471448\n",
              "1977      13.099616  11.144493  12.627836  ...   8.821616  13.459068  16.590849\n",
              "1978      12.504356  11.044274  11.380000  ...   8.301699  12.967397  16.771370\n",
              "\n",
              "[18 rows x 12 columns]"
            ]
          },
          "metadata": {
            "tags": []
          },
          "execution_count": 237
        }
      ]
    },
    {
      "cell_type": "code",
      "metadata": {
        "colab": {
          "base_uri": "https://localhost:8080/",
          "height": 137
        },
        "id": "MDgulFTKuF0q",
        "outputId": "ef4b4c78-90f1-487a-e0d8-db32c70c2937"
      },
      "source": [
        "df[\"weekday\"] = df.Yr_Mo_Dy.dt.weekday\n",
        "df[\"weekday\"].head(3).to_frame()"
      ],
      "execution_count": null,
      "outputs": [
        {
          "output_type": "execute_result",
          "data": {
            "text/html": [
              "<div>\n",
              "<style scoped>\n",
              "    .dataframe tbody tr th:only-of-type {\n",
              "        vertical-align: middle;\n",
              "    }\n",
              "\n",
              "    .dataframe tbody tr th {\n",
              "        vertical-align: top;\n",
              "    }\n",
              "\n",
              "    .dataframe thead th {\n",
              "        text-align: right;\n",
              "    }\n",
              "</style>\n",
              "<table border=\"1\" class=\"dataframe\">\n",
              "  <thead>\n",
              "    <tr style=\"text-align: right;\">\n",
              "      <th></th>\n",
              "      <th>weekday</th>\n",
              "    </tr>\n",
              "  </thead>\n",
              "  <tbody>\n",
              "    <tr>\n",
              "      <th>0</th>\n",
              "      <td>6</td>\n",
              "    </tr>\n",
              "    <tr>\n",
              "      <th>1</th>\n",
              "      <td>0</td>\n",
              "    </tr>\n",
              "    <tr>\n",
              "      <th>2</th>\n",
              "      <td>1</td>\n",
              "    </tr>\n",
              "  </tbody>\n",
              "</table>\n",
              "</div>"
            ],
            "text/plain": [
              "   weekday\n",
              "0        6\n",
              "1        0\n",
              "2        1"
            ]
          },
          "metadata": {
            "tags": []
          },
          "execution_count": 238
        }
      ]
    },
    {
      "cell_type": "code",
      "metadata": {
        "id": "mbvAnj11utr2"
      },
      "source": [
        "df['WeekCheck']  = df['weekday'].map(lambda x : 1 if x in [5,6] else 0)\n",
        "\n",
        "Ans = df['WeekCheck'].head(3).to_frame()"
      ],
      "execution_count": null,
      "outputs": []
    },
    {
      "cell_type": "code",
      "metadata": {
        "colab": {
          "base_uri": "https://localhost:8080/",
          "height": 406
        },
        "id": "FaPb5yAIvZPf",
        "outputId": "f2f7c0d8-7fe6-4300-d8b6-fcfe7ececb58"
      },
      "source": [
        "# 모든 결측치는 컬럼기준 직전의 값으로 대체하고 첫번째 행에 결측치가 있을경우 뒤에있는 값으로 대채하라 \n",
        "\n",
        "df.fillna(method=\"ffill\").fillna(method=\"bfill\")"
      ],
      "execution_count": null,
      "outputs": [
        {
          "output_type": "execute_result",
          "data": {
            "text/html": [
              "<div>\n",
              "<style scoped>\n",
              "    .dataframe tbody tr th:only-of-type {\n",
              "        vertical-align: middle;\n",
              "    }\n",
              "\n",
              "    .dataframe tbody tr th {\n",
              "        vertical-align: top;\n",
              "    }\n",
              "\n",
              "    .dataframe thead th {\n",
              "        text-align: right;\n",
              "    }\n",
              "</style>\n",
              "<table border=\"1\" class=\"dataframe\">\n",
              "  <thead>\n",
              "    <tr style=\"text-align: right;\">\n",
              "      <th></th>\n",
              "      <th>Yr_Mo_Dy</th>\n",
              "      <th>RPT</th>\n",
              "      <th>VAL</th>\n",
              "      <th>ROS</th>\n",
              "      <th>KIL</th>\n",
              "      <th>SHA</th>\n",
              "      <th>BIR</th>\n",
              "      <th>DUB</th>\n",
              "      <th>CLA</th>\n",
              "      <th>MUL</th>\n",
              "      <th>CLO</th>\n",
              "      <th>BEL</th>\n",
              "      <th>MAL</th>\n",
              "      <th>weekday</th>\n",
              "      <th>WeekCheck</th>\n",
              "    </tr>\n",
              "  </thead>\n",
              "  <tbody>\n",
              "    <tr>\n",
              "      <th>0</th>\n",
              "      <td>1961-01-01</td>\n",
              "      <td>15.04</td>\n",
              "      <td>14.96</td>\n",
              "      <td>13.17</td>\n",
              "      <td>9.29</td>\n",
              "      <td>12.62</td>\n",
              "      <td>9.87</td>\n",
              "      <td>13.67</td>\n",
              "      <td>10.25</td>\n",
              "      <td>10.83</td>\n",
              "      <td>12.58</td>\n",
              "      <td>18.50</td>\n",
              "      <td>15.04</td>\n",
              "      <td>6</td>\n",
              "      <td>1</td>\n",
              "    </tr>\n",
              "    <tr>\n",
              "      <th>1</th>\n",
              "      <td>1961-01-02</td>\n",
              "      <td>14.71</td>\n",
              "      <td>14.96</td>\n",
              "      <td>10.83</td>\n",
              "      <td>6.50</td>\n",
              "      <td>12.62</td>\n",
              "      <td>7.67</td>\n",
              "      <td>11.50</td>\n",
              "      <td>10.04</td>\n",
              "      <td>9.79</td>\n",
              "      <td>9.67</td>\n",
              "      <td>17.54</td>\n",
              "      <td>13.83</td>\n",
              "      <td>0</td>\n",
              "      <td>0</td>\n",
              "    </tr>\n",
              "    <tr>\n",
              "      <th>2</th>\n",
              "      <td>1961-01-03</td>\n",
              "      <td>18.50</td>\n",
              "      <td>16.88</td>\n",
              "      <td>12.33</td>\n",
              "      <td>10.13</td>\n",
              "      <td>11.17</td>\n",
              "      <td>6.17</td>\n",
              "      <td>11.25</td>\n",
              "      <td>10.04</td>\n",
              "      <td>8.50</td>\n",
              "      <td>7.67</td>\n",
              "      <td>12.75</td>\n",
              "      <td>12.71</td>\n",
              "      <td>1</td>\n",
              "      <td>0</td>\n",
              "    </tr>\n",
              "    <tr>\n",
              "      <th>3</th>\n",
              "      <td>1961-01-04</td>\n",
              "      <td>10.58</td>\n",
              "      <td>6.63</td>\n",
              "      <td>11.75</td>\n",
              "      <td>4.58</td>\n",
              "      <td>4.54</td>\n",
              "      <td>2.88</td>\n",
              "      <td>8.63</td>\n",
              "      <td>1.79</td>\n",
              "      <td>5.83</td>\n",
              "      <td>5.88</td>\n",
              "      <td>5.46</td>\n",
              "      <td>10.88</td>\n",
              "      <td>2</td>\n",
              "      <td>0</td>\n",
              "    </tr>\n",
              "    <tr>\n",
              "      <th>4</th>\n",
              "      <td>1961-01-05</td>\n",
              "      <td>13.33</td>\n",
              "      <td>13.25</td>\n",
              "      <td>11.42</td>\n",
              "      <td>6.17</td>\n",
              "      <td>10.71</td>\n",
              "      <td>8.21</td>\n",
              "      <td>11.92</td>\n",
              "      <td>6.54</td>\n",
              "      <td>10.92</td>\n",
              "      <td>10.34</td>\n",
              "      <td>12.92</td>\n",
              "      <td>11.83</td>\n",
              "      <td>3</td>\n",
              "      <td>0</td>\n",
              "    </tr>\n",
              "    <tr>\n",
              "      <th>...</th>\n",
              "      <td>...</td>\n",
              "      <td>...</td>\n",
              "      <td>...</td>\n",
              "      <td>...</td>\n",
              "      <td>...</td>\n",
              "      <td>...</td>\n",
              "      <td>...</td>\n",
              "      <td>...</td>\n",
              "      <td>...</td>\n",
              "      <td>...</td>\n",
              "      <td>...</td>\n",
              "      <td>...</td>\n",
              "      <td>...</td>\n",
              "      <td>...</td>\n",
              "      <td>...</td>\n",
              "    </tr>\n",
              "    <tr>\n",
              "      <th>6569</th>\n",
              "      <td>1978-12-27</td>\n",
              "      <td>17.58</td>\n",
              "      <td>16.96</td>\n",
              "      <td>17.62</td>\n",
              "      <td>8.08</td>\n",
              "      <td>13.21</td>\n",
              "      <td>11.67</td>\n",
              "      <td>14.46</td>\n",
              "      <td>15.59</td>\n",
              "      <td>14.04</td>\n",
              "      <td>14.00</td>\n",
              "      <td>17.21</td>\n",
              "      <td>40.08</td>\n",
              "      <td>2</td>\n",
              "      <td>0</td>\n",
              "    </tr>\n",
              "    <tr>\n",
              "      <th>6570</th>\n",
              "      <td>1978-12-28</td>\n",
              "      <td>13.21</td>\n",
              "      <td>5.46</td>\n",
              "      <td>13.46</td>\n",
              "      <td>5.00</td>\n",
              "      <td>8.12</td>\n",
              "      <td>9.42</td>\n",
              "      <td>14.33</td>\n",
              "      <td>16.25</td>\n",
              "      <td>15.25</td>\n",
              "      <td>18.05</td>\n",
              "      <td>21.79</td>\n",
              "      <td>41.46</td>\n",
              "      <td>3</td>\n",
              "      <td>0</td>\n",
              "    </tr>\n",
              "    <tr>\n",
              "      <th>6571</th>\n",
              "      <td>1978-12-29</td>\n",
              "      <td>14.00</td>\n",
              "      <td>10.29</td>\n",
              "      <td>14.42</td>\n",
              "      <td>8.71</td>\n",
              "      <td>9.71</td>\n",
              "      <td>10.54</td>\n",
              "      <td>19.17</td>\n",
              "      <td>12.46</td>\n",
              "      <td>14.50</td>\n",
              "      <td>16.42</td>\n",
              "      <td>18.88</td>\n",
              "      <td>29.58</td>\n",
              "      <td>4</td>\n",
              "      <td>0</td>\n",
              "    </tr>\n",
              "    <tr>\n",
              "      <th>6572</th>\n",
              "      <td>1978-12-30</td>\n",
              "      <td>18.50</td>\n",
              "      <td>14.04</td>\n",
              "      <td>21.29</td>\n",
              "      <td>9.13</td>\n",
              "      <td>12.75</td>\n",
              "      <td>9.71</td>\n",
              "      <td>18.08</td>\n",
              "      <td>12.87</td>\n",
              "      <td>12.46</td>\n",
              "      <td>12.12</td>\n",
              "      <td>14.67</td>\n",
              "      <td>28.79</td>\n",
              "      <td>5</td>\n",
              "      <td>1</td>\n",
              "    </tr>\n",
              "    <tr>\n",
              "      <th>6573</th>\n",
              "      <td>1978-12-31</td>\n",
              "      <td>20.33</td>\n",
              "      <td>17.41</td>\n",
              "      <td>27.29</td>\n",
              "      <td>9.59</td>\n",
              "      <td>12.08</td>\n",
              "      <td>10.13</td>\n",
              "      <td>19.25</td>\n",
              "      <td>11.63</td>\n",
              "      <td>11.58</td>\n",
              "      <td>11.38</td>\n",
              "      <td>12.08</td>\n",
              "      <td>22.08</td>\n",
              "      <td>6</td>\n",
              "      <td>1</td>\n",
              "    </tr>\n",
              "  </tbody>\n",
              "</table>\n",
              "<p>6574 rows × 15 columns</p>\n",
              "</div>"
            ],
            "text/plain": [
              "       Yr_Mo_Dy    RPT    VAL    ROS  ...    BEL    MAL  weekday  WeekCheck\n",
              "0    1961-01-01  15.04  14.96  13.17  ...  18.50  15.04        6          1\n",
              "1    1961-01-02  14.71  14.96  10.83  ...  17.54  13.83        0          0\n",
              "2    1961-01-03  18.50  16.88  12.33  ...  12.75  12.71        1          0\n",
              "3    1961-01-04  10.58   6.63  11.75  ...   5.46  10.88        2          0\n",
              "4    1961-01-05  13.33  13.25  11.42  ...  12.92  11.83        3          0\n",
              "...         ...    ...    ...    ...  ...    ...    ...      ...        ...\n",
              "6569 1978-12-27  17.58  16.96  17.62  ...  17.21  40.08        2          0\n",
              "6570 1978-12-28  13.21   5.46  13.46  ...  21.79  41.46        3          0\n",
              "6571 1978-12-29  14.00  10.29  14.42  ...  18.88  29.58        4          0\n",
              "6572 1978-12-30  18.50  14.04  21.29  ...  14.67  28.79        5          1\n",
              "6573 1978-12-31  20.33  17.41  27.29  ...  12.08  22.08        6          1\n",
              "\n",
              "[6574 rows x 15 columns]"
            ]
          },
          "metadata": {
            "tags": []
          },
          "execution_count": 240
        }
      ]
    },
    {
      "cell_type": "code",
      "metadata": {
        "colab": {
          "base_uri": "https://localhost:8080/",
          "height": 456
        },
        "id": "nZ2Ff61mxGmA",
        "outputId": "09bac264-910e-4ff7-fbdd-17b218dfa73d"
      },
      "source": [
        "df.groupby(df.Yr_Mo_Dy.dt.to_period(\"M\")).mean()"
      ],
      "execution_count": null,
      "outputs": [
        {
          "output_type": "execute_result",
          "data": {
            "text/html": [
              "<div>\n",
              "<style scoped>\n",
              "    .dataframe tbody tr th:only-of-type {\n",
              "        vertical-align: middle;\n",
              "    }\n",
              "\n",
              "    .dataframe tbody tr th {\n",
              "        vertical-align: top;\n",
              "    }\n",
              "\n",
              "    .dataframe thead th {\n",
              "        text-align: right;\n",
              "    }\n",
              "</style>\n",
              "<table border=\"1\" class=\"dataframe\">\n",
              "  <thead>\n",
              "    <tr style=\"text-align: right;\">\n",
              "      <th></th>\n",
              "      <th>RPT</th>\n",
              "      <th>VAL</th>\n",
              "      <th>ROS</th>\n",
              "      <th>KIL</th>\n",
              "      <th>SHA</th>\n",
              "      <th>BIR</th>\n",
              "      <th>DUB</th>\n",
              "      <th>CLA</th>\n",
              "      <th>MUL</th>\n",
              "      <th>CLO</th>\n",
              "      <th>BEL</th>\n",
              "      <th>MAL</th>\n",
              "      <th>weekday</th>\n",
              "      <th>WeekCheck</th>\n",
              "    </tr>\n",
              "    <tr>\n",
              "      <th>Yr_Mo_Dy</th>\n",
              "      <th></th>\n",
              "      <th></th>\n",
              "      <th></th>\n",
              "      <th></th>\n",
              "      <th></th>\n",
              "      <th></th>\n",
              "      <th></th>\n",
              "      <th></th>\n",
              "      <th></th>\n",
              "      <th></th>\n",
              "      <th></th>\n",
              "      <th></th>\n",
              "      <th></th>\n",
              "      <th></th>\n",
              "    </tr>\n",
              "  </thead>\n",
              "  <tbody>\n",
              "    <tr>\n",
              "      <th>1961-01</th>\n",
              "      <td>14.841333</td>\n",
              "      <td>11.988333</td>\n",
              "      <td>13.431613</td>\n",
              "      <td>7.736774</td>\n",
              "      <td>11.072759</td>\n",
              "      <td>8.588065</td>\n",
              "      <td>11.184839</td>\n",
              "      <td>9.245333</td>\n",
              "      <td>9.085806</td>\n",
              "      <td>10.107419</td>\n",
              "      <td>13.880968</td>\n",
              "      <td>14.703226</td>\n",
              "      <td>2.935484</td>\n",
              "      <td>0.290323</td>\n",
              "    </tr>\n",
              "    <tr>\n",
              "      <th>1961-02</th>\n",
              "      <td>16.269286</td>\n",
              "      <td>14.975357</td>\n",
              "      <td>14.441481</td>\n",
              "      <td>9.230741</td>\n",
              "      <td>13.852143</td>\n",
              "      <td>10.937500</td>\n",
              "      <td>11.890714</td>\n",
              "      <td>11.846071</td>\n",
              "      <td>11.821429</td>\n",
              "      <td>12.714286</td>\n",
              "      <td>18.583214</td>\n",
              "      <td>15.411786</td>\n",
              "      <td>3.000000</td>\n",
              "      <td>0.285714</td>\n",
              "    </tr>\n",
              "    <tr>\n",
              "      <th>1961-03</th>\n",
              "      <td>10.890000</td>\n",
              "      <td>11.296452</td>\n",
              "      <td>10.752903</td>\n",
              "      <td>7.284000</td>\n",
              "      <td>10.509355</td>\n",
              "      <td>8.866774</td>\n",
              "      <td>9.644194</td>\n",
              "      <td>9.829677</td>\n",
              "      <td>10.294138</td>\n",
              "      <td>11.251935</td>\n",
              "      <td>16.410968</td>\n",
              "      <td>15.720000</td>\n",
              "      <td>3.000000</td>\n",
              "      <td>0.258065</td>\n",
              "    </tr>\n",
              "    <tr>\n",
              "      <th>1961-04</th>\n",
              "      <td>10.722667</td>\n",
              "      <td>9.427667</td>\n",
              "      <td>9.998000</td>\n",
              "      <td>5.830667</td>\n",
              "      <td>8.435000</td>\n",
              "      <td>6.495000</td>\n",
              "      <td>6.925333</td>\n",
              "      <td>7.094667</td>\n",
              "      <td>7.342333</td>\n",
              "      <td>7.237000</td>\n",
              "      <td>11.147333</td>\n",
              "      <td>10.278333</td>\n",
              "      <td>3.166667</td>\n",
              "      <td>0.333333</td>\n",
              "    </tr>\n",
              "    <tr>\n",
              "      <th>1961-05</th>\n",
              "      <td>9.860968</td>\n",
              "      <td>8.850000</td>\n",
              "      <td>10.818065</td>\n",
              "      <td>5.905333</td>\n",
              "      <td>9.490323</td>\n",
              "      <td>6.574839</td>\n",
              "      <td>7.604000</td>\n",
              "      <td>8.177097</td>\n",
              "      <td>8.039355</td>\n",
              "      <td>8.499355</td>\n",
              "      <td>11.900323</td>\n",
              "      <td>12.011613</td>\n",
              "      <td>2.806452</td>\n",
              "      <td>0.258065</td>\n",
              "    </tr>\n",
              "    <tr>\n",
              "      <th>...</th>\n",
              "      <td>...</td>\n",
              "      <td>...</td>\n",
              "      <td>...</td>\n",
              "      <td>...</td>\n",
              "      <td>...</td>\n",
              "      <td>...</td>\n",
              "      <td>...</td>\n",
              "      <td>...</td>\n",
              "      <td>...</td>\n",
              "      <td>...</td>\n",
              "      <td>...</td>\n",
              "      <td>...</td>\n",
              "      <td>...</td>\n",
              "      <td>...</td>\n",
              "    </tr>\n",
              "    <tr>\n",
              "      <th>1978-08</th>\n",
              "      <td>9.645161</td>\n",
              "      <td>8.259355</td>\n",
              "      <td>9.032258</td>\n",
              "      <td>4.502903</td>\n",
              "      <td>7.368065</td>\n",
              "      <td>5.935161</td>\n",
              "      <td>5.650323</td>\n",
              "      <td>5.417742</td>\n",
              "      <td>7.241290</td>\n",
              "      <td>5.536774</td>\n",
              "      <td>10.466774</td>\n",
              "      <td>12.054194</td>\n",
              "      <td>2.903226</td>\n",
              "      <td>0.258065</td>\n",
              "    </tr>\n",
              "    <tr>\n",
              "      <th>1978-09</th>\n",
              "      <td>10.913667</td>\n",
              "      <td>10.895000</td>\n",
              "      <td>10.635000</td>\n",
              "      <td>5.725000</td>\n",
              "      <td>10.372000</td>\n",
              "      <td>9.278333</td>\n",
              "      <td>10.790333</td>\n",
              "      <td>9.583000</td>\n",
              "      <td>10.069333</td>\n",
              "      <td>8.939000</td>\n",
              "      <td>15.680333</td>\n",
              "      <td>19.391333</td>\n",
              "      <td>3.100000</td>\n",
              "      <td>0.300000</td>\n",
              "    </tr>\n",
              "    <tr>\n",
              "      <th>1978-10</th>\n",
              "      <td>9.897742</td>\n",
              "      <td>8.670968</td>\n",
              "      <td>9.295806</td>\n",
              "      <td>4.721290</td>\n",
              "      <td>8.525161</td>\n",
              "      <td>6.774194</td>\n",
              "      <td>8.115484</td>\n",
              "      <td>7.337742</td>\n",
              "      <td>8.297742</td>\n",
              "      <td>8.243871</td>\n",
              "      <td>13.776774</td>\n",
              "      <td>17.150000</td>\n",
              "      <td>2.935484</td>\n",
              "      <td>0.290323</td>\n",
              "    </tr>\n",
              "    <tr>\n",
              "      <th>1978-11</th>\n",
              "      <td>16.151667</td>\n",
              "      <td>14.802667</td>\n",
              "      <td>13.508000</td>\n",
              "      <td>7.317333</td>\n",
              "      <td>11.475000</td>\n",
              "      <td>8.743000</td>\n",
              "      <td>11.492333</td>\n",
              "      <td>9.657333</td>\n",
              "      <td>10.701333</td>\n",
              "      <td>10.676000</td>\n",
              "      <td>17.404667</td>\n",
              "      <td>20.723000</td>\n",
              "      <td>2.966667</td>\n",
              "      <td>0.266667</td>\n",
              "    </tr>\n",
              "    <tr>\n",
              "      <th>1978-12</th>\n",
              "      <td>16.175484</td>\n",
              "      <td>13.748065</td>\n",
              "      <td>15.635161</td>\n",
              "      <td>7.094839</td>\n",
              "      <td>11.398710</td>\n",
              "      <td>9.241613</td>\n",
              "      <td>12.077419</td>\n",
              "      <td>10.194839</td>\n",
              "      <td>10.616774</td>\n",
              "      <td>11.028710</td>\n",
              "      <td>13.859677</td>\n",
              "      <td>21.371613</td>\n",
              "      <td>3.193548</td>\n",
              "      <td>0.322581</td>\n",
              "    </tr>\n",
              "  </tbody>\n",
              "</table>\n",
              "<p>216 rows × 14 columns</p>\n",
              "</div>"
            ],
            "text/plain": [
              "                RPT        VAL        ROS  ...        MAL   weekday  WeekCheck\n",
              "Yr_Mo_Dy                                   ...                                \n",
              "1961-01   14.841333  11.988333  13.431613  ...  14.703226  2.935484   0.290323\n",
              "1961-02   16.269286  14.975357  14.441481  ...  15.411786  3.000000   0.285714\n",
              "1961-03   10.890000  11.296452  10.752903  ...  15.720000  3.000000   0.258065\n",
              "1961-04   10.722667   9.427667   9.998000  ...  10.278333  3.166667   0.333333\n",
              "1961-05    9.860968   8.850000  10.818065  ...  12.011613  2.806452   0.258065\n",
              "...             ...        ...        ...  ...        ...       ...        ...\n",
              "1978-08    9.645161   8.259355   9.032258  ...  12.054194  2.903226   0.258065\n",
              "1978-09   10.913667  10.895000  10.635000  ...  19.391333  3.100000   0.300000\n",
              "1978-10    9.897742   8.670968   9.295806  ...  17.150000  2.935484   0.290323\n",
              "1978-11   16.151667  14.802667  13.508000  ...  20.723000  2.966667   0.266667\n",
              "1978-12   16.175484  13.748065  15.635161  ...  21.371613  3.193548   0.322581\n",
              "\n",
              "[216 rows x 14 columns]"
            ]
          },
          "metadata": {
            "tags": []
          },
          "execution_count": 241
        }
      ]
    },
    {
      "cell_type": "code",
      "metadata": {
        "colab": {
          "base_uri": "https://localhost:8080/"
        },
        "id": "ogr5q0aFxTlH",
        "outputId": "d5735f1a-05a2-4ae8-b3cc-ca7a74d14043"
      },
      "source": [
        "df[\"RPT\"].diff()"
      ],
      "execution_count": null,
      "outputs": [
        {
          "output_type": "execute_result",
          "data": {
            "text/plain": [
              "0        NaN\n",
              "1      -0.33\n",
              "2       3.79\n",
              "3      -7.92\n",
              "4       2.75\n",
              "        ... \n",
              "6569    3.75\n",
              "6570   -4.37\n",
              "6571    0.79\n",
              "6572    4.50\n",
              "6573    1.83\n",
              "Name: RPT, Length: 6574, dtype: float64"
            ]
          },
          "metadata": {
            "tags": []
          },
          "execution_count": 243
        }
      ]
    },
    {
      "cell_type": "code",
      "metadata": {
        "colab": {
          "base_uri": "https://localhost:8080/",
          "height": 406
        },
        "id": "I9PNZuGDy7IE",
        "outputId": "16b25c84-c49d-429a-83b0-d4ca4b7db0b4"
      },
      "source": [
        "df[[\"RPT\", \"VAL\"]].rolling(7).mean()"
      ],
      "execution_count": null,
      "outputs": [
        {
          "output_type": "execute_result",
          "data": {
            "text/html": [
              "<div>\n",
              "<style scoped>\n",
              "    .dataframe tbody tr th:only-of-type {\n",
              "        vertical-align: middle;\n",
              "    }\n",
              "\n",
              "    .dataframe tbody tr th {\n",
              "        vertical-align: top;\n",
              "    }\n",
              "\n",
              "    .dataframe thead th {\n",
              "        text-align: right;\n",
              "    }\n",
              "</style>\n",
              "<table border=\"1\" class=\"dataframe\">\n",
              "  <thead>\n",
              "    <tr style=\"text-align: right;\">\n",
              "      <th></th>\n",
              "      <th>RPT</th>\n",
              "      <th>VAL</th>\n",
              "    </tr>\n",
              "  </thead>\n",
              "  <tbody>\n",
              "    <tr>\n",
              "      <th>0</th>\n",
              "      <td>NaN</td>\n",
              "      <td>NaN</td>\n",
              "    </tr>\n",
              "    <tr>\n",
              "      <th>1</th>\n",
              "      <td>NaN</td>\n",
              "      <td>NaN</td>\n",
              "    </tr>\n",
              "    <tr>\n",
              "      <th>2</th>\n",
              "      <td>NaN</td>\n",
              "      <td>NaN</td>\n",
              "    </tr>\n",
              "    <tr>\n",
              "      <th>3</th>\n",
              "      <td>NaN</td>\n",
              "      <td>NaN</td>\n",
              "    </tr>\n",
              "    <tr>\n",
              "      <th>4</th>\n",
              "      <td>NaN</td>\n",
              "      <td>NaN</td>\n",
              "    </tr>\n",
              "    <tr>\n",
              "      <th>...</th>\n",
              "      <td>...</td>\n",
              "      <td>...</td>\n",
              "    </tr>\n",
              "    <tr>\n",
              "      <th>6569</th>\n",
              "      <td>11.868571</td>\n",
              "      <td>9.362857</td>\n",
              "    </tr>\n",
              "    <tr>\n",
              "      <th>6570</th>\n",
              "      <td>11.904286</td>\n",
              "      <td>9.595714</td>\n",
              "    </tr>\n",
              "    <tr>\n",
              "      <th>6571</th>\n",
              "      <td>13.017143</td>\n",
              "      <td>10.011429</td>\n",
              "    </tr>\n",
              "    <tr>\n",
              "      <th>6572</th>\n",
              "      <td>13.285714</td>\n",
              "      <td>10.118571</td>\n",
              "    </tr>\n",
              "    <tr>\n",
              "      <th>6573</th>\n",
              "      <td>14.951429</td>\n",
              "      <td>11.801429</td>\n",
              "    </tr>\n",
              "  </tbody>\n",
              "</table>\n",
              "<p>6574 rows × 2 columns</p>\n",
              "</div>"
            ],
            "text/plain": [
              "            RPT        VAL\n",
              "0           NaN        NaN\n",
              "1           NaN        NaN\n",
              "2           NaN        NaN\n",
              "3           NaN        NaN\n",
              "4           NaN        NaN\n",
              "...         ...        ...\n",
              "6569  11.868571   9.362857\n",
              "6570  11.904286   9.595714\n",
              "6571  13.017143  10.011429\n",
              "6572  13.285714  10.118571\n",
              "6573  14.951429  11.801429\n",
              "\n",
              "[6574 rows x 2 columns]"
            ]
          },
          "metadata": {
            "tags": []
          },
          "execution_count": 246
        }
      ]
    },
    {
      "cell_type": "code",
      "metadata": {
        "colab": {
          "base_uri": "https://localhost:8080/",
          "height": 590
        },
        "id": "lPGS9qcDzLH7",
        "outputId": "a1e0661b-1d06-4932-928e-3672ec416cbe"
      },
      "source": [
        "df =pd.read_csv('https://raw.githubusercontent.com/Datamanim/pandas/main/seoul_pm.csv')\n",
        "\n",
        "df"
      ],
      "execution_count": null,
      "outputs": [
        {
          "output_type": "execute_result",
          "data": {
            "text/html": [
              "<div>\n",
              "<style scoped>\n",
              "    .dataframe tbody tr th:only-of-type {\n",
              "        vertical-align: middle;\n",
              "    }\n",
              "\n",
              "    .dataframe tbody tr th {\n",
              "        vertical-align: top;\n",
              "    }\n",
              "\n",
              "    .dataframe thead th {\n",
              "        text-align: right;\n",
              "    }\n",
              "</style>\n",
              "<table border=\"1\" class=\"dataframe\">\n",
              "  <thead>\n",
              "    <tr style=\"text-align: right;\">\n",
              "      <th></th>\n",
              "      <th>(년-월-일:시)</th>\n",
              "      <th>PM10등급</th>\n",
              "      <th>PM10</th>\n",
              "      <th>PM2.5등급</th>\n",
              "      <th>PM2.5</th>\n",
              "      <th>오존등급</th>\n",
              "      <th>오존</th>\n",
              "      <th>이산화질소등급</th>\n",
              "      <th>이산화질소</th>\n",
              "      <th>일산화탄소등급</th>\n",
              "      <th>일산화탄소</th>\n",
              "      <th>아황산가스등급</th>\n",
              "      <th>아황산가스</th>\n",
              "    </tr>\n",
              "  </thead>\n",
              "  <tbody>\n",
              "    <tr>\n",
              "      <th>0</th>\n",
              "      <td>2021-05-15:15</td>\n",
              "      <td>보통</td>\n",
              "      <td>47.0</td>\n",
              "      <td>보통</td>\n",
              "      <td>19.0</td>\n",
              "      <td>좋음</td>\n",
              "      <td>0.017</td>\n",
              "      <td>좋음</td>\n",
              "      <td>0.023</td>\n",
              "      <td>좋음</td>\n",
              "      <td>0.4</td>\n",
              "      <td>좋음</td>\n",
              "      <td>0.003</td>\n",
              "    </tr>\n",
              "    <tr>\n",
              "      <th>1</th>\n",
              "      <td>2021-05-15:14</td>\n",
              "      <td>보통</td>\n",
              "      <td>43.0</td>\n",
              "      <td>보통</td>\n",
              "      <td>20.0</td>\n",
              "      <td>좋음</td>\n",
              "      <td>0.024</td>\n",
              "      <td>좋음</td>\n",
              "      <td>0.019</td>\n",
              "      <td>좋음</td>\n",
              "      <td>0.3</td>\n",
              "      <td>좋음</td>\n",
              "      <td>0.003</td>\n",
              "    </tr>\n",
              "    <tr>\n",
              "      <th>2</th>\n",
              "      <td>2021-05-15:13</td>\n",
              "      <td>보통</td>\n",
              "      <td>34.0</td>\n",
              "      <td>보통</td>\n",
              "      <td>24.0</td>\n",
              "      <td>보통</td>\n",
              "      <td>0.035</td>\n",
              "      <td>좋음</td>\n",
              "      <td>0.017</td>\n",
              "      <td>좋음</td>\n",
              "      <td>0.4</td>\n",
              "      <td>좋음</td>\n",
              "      <td>0.004</td>\n",
              "    </tr>\n",
              "    <tr>\n",
              "      <th>3</th>\n",
              "      <td>2021-05-15:12</td>\n",
              "      <td>보통</td>\n",
              "      <td>41.0</td>\n",
              "      <td>보통</td>\n",
              "      <td>27.0</td>\n",
              "      <td>보통</td>\n",
              "      <td>0.037</td>\n",
              "      <td>좋음</td>\n",
              "      <td>0.020</td>\n",
              "      <td>좋음</td>\n",
              "      <td>0.4</td>\n",
              "      <td>좋음</td>\n",
              "      <td>0.004</td>\n",
              "    </tr>\n",
              "    <tr>\n",
              "      <th>4</th>\n",
              "      <td>2021-05-15:11</td>\n",
              "      <td>보통</td>\n",
              "      <td>51.0</td>\n",
              "      <td>보통</td>\n",
              "      <td>34.0</td>\n",
              "      <td>보통</td>\n",
              "      <td>0.033</td>\n",
              "      <td>좋음</td>\n",
              "      <td>0.023</td>\n",
              "      <td>좋음</td>\n",
              "      <td>0.4</td>\n",
              "      <td>좋음</td>\n",
              "      <td>0.005</td>\n",
              "    </tr>\n",
              "    <tr>\n",
              "      <th>...</th>\n",
              "      <td>...</td>\n",
              "      <td>...</td>\n",
              "      <td>...</td>\n",
              "      <td>...</td>\n",
              "      <td>...</td>\n",
              "      <td>...</td>\n",
              "      <td>...</td>\n",
              "      <td>...</td>\n",
              "      <td>...</td>\n",
              "      <td>...</td>\n",
              "      <td>...</td>\n",
              "      <td>...</td>\n",
              "      <td>...</td>\n",
              "    </tr>\n",
              "    <tr>\n",
              "      <th>1234</th>\n",
              "      <td>2021-03-25:05</td>\n",
              "      <td>보통</td>\n",
              "      <td>39.0</td>\n",
              "      <td>보통</td>\n",
              "      <td>18.0</td>\n",
              "      <td>좋음</td>\n",
              "      <td>0.026</td>\n",
              "      <td>좋음</td>\n",
              "      <td>0.025</td>\n",
              "      <td>좋음</td>\n",
              "      <td>0.4</td>\n",
              "      <td>좋음</td>\n",
              "      <td>0.003</td>\n",
              "    </tr>\n",
              "    <tr>\n",
              "      <th>1235</th>\n",
              "      <td>2021-03-25:04</td>\n",
              "      <td>보통</td>\n",
              "      <td>34.0</td>\n",
              "      <td>좋음</td>\n",
              "      <td>15.0</td>\n",
              "      <td>좋음</td>\n",
              "      <td>0.017</td>\n",
              "      <td>보통</td>\n",
              "      <td>0.033</td>\n",
              "      <td>좋음</td>\n",
              "      <td>0.4</td>\n",
              "      <td>좋음</td>\n",
              "      <td>0.002</td>\n",
              "    </tr>\n",
              "    <tr>\n",
              "      <th>1236</th>\n",
              "      <td>2021-03-25:03</td>\n",
              "      <td>보통</td>\n",
              "      <td>35.0</td>\n",
              "      <td>좋음</td>\n",
              "      <td>13.0</td>\n",
              "      <td>좋음</td>\n",
              "      <td>0.029</td>\n",
              "      <td>좋음</td>\n",
              "      <td>0.025</td>\n",
              "      <td>좋음</td>\n",
              "      <td>0.4</td>\n",
              "      <td>좋음</td>\n",
              "      <td>0.003</td>\n",
              "    </tr>\n",
              "    <tr>\n",
              "      <th>1237</th>\n",
              "      <td>2021-03-25:02</td>\n",
              "      <td>보통</td>\n",
              "      <td>35.0</td>\n",
              "      <td>좋음</td>\n",
              "      <td>13.0</td>\n",
              "      <td>보통</td>\n",
              "      <td>0.031</td>\n",
              "      <td>좋음</td>\n",
              "      <td>0.025</td>\n",
              "      <td>좋음</td>\n",
              "      <td>0.3</td>\n",
              "      <td>좋음</td>\n",
              "      <td>0.003</td>\n",
              "    </tr>\n",
              "    <tr>\n",
              "      <th>1238</th>\n",
              "      <td>2021-03-25:01</td>\n",
              "      <td>보통</td>\n",
              "      <td>42.0</td>\n",
              "      <td>좋음</td>\n",
              "      <td>13.0</td>\n",
              "      <td>좋음</td>\n",
              "      <td>0.022</td>\n",
              "      <td>보통</td>\n",
              "      <td>0.037</td>\n",
              "      <td>좋음</td>\n",
              "      <td>0.4</td>\n",
              "      <td>좋음</td>\n",
              "      <td>0.003</td>\n",
              "    </tr>\n",
              "  </tbody>\n",
              "</table>\n",
              "<p>1239 rows × 13 columns</p>\n",
              "</div>"
            ],
            "text/plain": [
              "          (년-월-일:시) PM10등급  PM10 PM2.5등급  ...  일산화탄소등급 일산화탄소  아황산가스등급  아황산가스\n",
              "0     2021-05-15:15     보통  47.0      보통  ...       좋음   0.4       좋음  0.003\n",
              "1     2021-05-15:14     보통  43.0      보통  ...       좋음   0.3       좋음  0.003\n",
              "2     2021-05-15:13     보통  34.0      보통  ...       좋음   0.4       좋음  0.004\n",
              "3     2021-05-15:12     보통  41.0      보통  ...       좋음   0.4       좋음  0.004\n",
              "4     2021-05-15:11     보통  51.0      보통  ...       좋음   0.4       좋음  0.005\n",
              "...             ...    ...   ...     ...  ...      ...   ...      ...    ...\n",
              "1234  2021-03-25:05     보통  39.0      보통  ...       좋음   0.4       좋음  0.003\n",
              "1235  2021-03-25:04     보통  34.0      좋음  ...       좋음   0.4       좋음  0.002\n",
              "1236  2021-03-25:03     보통  35.0      좋음  ...       좋음   0.4       좋음  0.003\n",
              "1237  2021-03-25:02     보통  35.0      좋음  ...       좋음   0.3       좋음  0.003\n",
              "1238  2021-03-25:01     보통  42.0      좋음  ...       좋음   0.4       좋음  0.003\n",
              "\n",
              "[1239 rows x 13 columns]"
            ]
          },
          "metadata": {
            "tags": []
          },
          "execution_count": 249
        }
      ]
    },
    {
      "cell_type": "code",
      "metadata": {
        "id": "3BgiTEEozT3E"
      },
      "source": [
        "def change_date(x):\n",
        "    import datetime\n",
        "    hour = x.split(':')[1]\n",
        "    date = x.split(\":\")[0]\n",
        "    \n",
        "    if hour =='24':\n",
        "        hour ='00:00:00'\n",
        "        \n",
        "        FinalDate = pd.to_datetime(date +\" \"+hour) +datetime.timedelta(days=1)\n",
        "        \n",
        "    else:\n",
        "        hour = hour +':00:00'\n",
        "        FinalDate = pd.to_datetime(date +\" \"+hour)\n",
        "    \n",
        "    return FinalDate\n",
        "\n",
        "df['(년-월-일:시)'] = df['(년-월-일:시)'].apply(change_date)\n",
        "\n",
        "Ans = df"
      ],
      "execution_count": null,
      "outputs": []
    },
    {
      "cell_type": "code",
      "metadata": {
        "colab": {
          "base_uri": "https://localhost:8080/",
          "height": 204
        },
        "id": "1iKi4kqI0JJe",
        "outputId": "6c288b27-dfd9-427c-b067-49f88010de46"
      },
      "source": [
        "Ans.head(3)"
      ],
      "execution_count": null,
      "outputs": [
        {
          "output_type": "execute_result",
          "data": {
            "text/html": [
              "<div>\n",
              "<style scoped>\n",
              "    .dataframe tbody tr th:only-of-type {\n",
              "        vertical-align: middle;\n",
              "    }\n",
              "\n",
              "    .dataframe tbody tr th {\n",
              "        vertical-align: top;\n",
              "    }\n",
              "\n",
              "    .dataframe thead th {\n",
              "        text-align: right;\n",
              "    }\n",
              "</style>\n",
              "<table border=\"1\" class=\"dataframe\">\n",
              "  <thead>\n",
              "    <tr style=\"text-align: right;\">\n",
              "      <th></th>\n",
              "      <th>(년-월-일:시)</th>\n",
              "      <th>PM10등급</th>\n",
              "      <th>PM10</th>\n",
              "      <th>PM2.5등급</th>\n",
              "      <th>PM2.5</th>\n",
              "      <th>오존등급</th>\n",
              "      <th>오존</th>\n",
              "      <th>이산화질소등급</th>\n",
              "      <th>이산화질소</th>\n",
              "      <th>일산화탄소등급</th>\n",
              "      <th>일산화탄소</th>\n",
              "      <th>아황산가스등급</th>\n",
              "      <th>아황산가스</th>\n",
              "    </tr>\n",
              "  </thead>\n",
              "  <tbody>\n",
              "    <tr>\n",
              "      <th>0</th>\n",
              "      <td>2021-05-15 15:00:00</td>\n",
              "      <td>보통</td>\n",
              "      <td>47.0</td>\n",
              "      <td>보통</td>\n",
              "      <td>19.0</td>\n",
              "      <td>좋음</td>\n",
              "      <td>0.017</td>\n",
              "      <td>좋음</td>\n",
              "      <td>0.023</td>\n",
              "      <td>좋음</td>\n",
              "      <td>0.4</td>\n",
              "      <td>좋음</td>\n",
              "      <td>0.003</td>\n",
              "    </tr>\n",
              "    <tr>\n",
              "      <th>1</th>\n",
              "      <td>2021-05-15 14:00:00</td>\n",
              "      <td>보통</td>\n",
              "      <td>43.0</td>\n",
              "      <td>보통</td>\n",
              "      <td>20.0</td>\n",
              "      <td>좋음</td>\n",
              "      <td>0.024</td>\n",
              "      <td>좋음</td>\n",
              "      <td>0.019</td>\n",
              "      <td>좋음</td>\n",
              "      <td>0.3</td>\n",
              "      <td>좋음</td>\n",
              "      <td>0.003</td>\n",
              "    </tr>\n",
              "    <tr>\n",
              "      <th>2</th>\n",
              "      <td>2021-05-15 13:00:00</td>\n",
              "      <td>보통</td>\n",
              "      <td>34.0</td>\n",
              "      <td>보통</td>\n",
              "      <td>24.0</td>\n",
              "      <td>보통</td>\n",
              "      <td>0.035</td>\n",
              "      <td>좋음</td>\n",
              "      <td>0.017</td>\n",
              "      <td>좋음</td>\n",
              "      <td>0.4</td>\n",
              "      <td>좋음</td>\n",
              "      <td>0.004</td>\n",
              "    </tr>\n",
              "  </tbody>\n",
              "</table>\n",
              "</div>"
            ],
            "text/plain": [
              "            (년-월-일:시) PM10등급  PM10 PM2.5등급  ...  일산화탄소등급 일산화탄소  아황산가스등급  아황산가스\n",
              "0 2021-05-15 15:00:00     보통  47.0      보통  ...       좋음   0.4       좋음  0.003\n",
              "1 2021-05-15 14:00:00     보통  43.0      보통  ...       좋음   0.3       좋음  0.003\n",
              "2 2021-05-15 13:00:00     보통  34.0      보통  ...       좋음   0.4       좋음  0.004\n",
              "\n",
              "[3 rows x 13 columns]"
            ]
          },
          "metadata": {
            "tags": []
          },
          "execution_count": 251
        }
      ]
    },
    {
      "cell_type": "code",
      "metadata": {
        "colab": {
          "base_uri": "https://localhost:8080/"
        },
        "id": "6neT95E50Kk2",
        "outputId": "14095612-b73f-44f3-d8f9-5bd71595e52b"
      },
      "source": [
        "df['dayName']  =df['(년-월-일:시)'].dt.day_name()\n",
        "df['dayName'] "
      ],
      "execution_count": null,
      "outputs": [
        {
          "output_type": "execute_result",
          "data": {
            "text/plain": [
              "0       Saturday\n",
              "1       Saturday\n",
              "2       Saturday\n",
              "3       Saturday\n",
              "4       Saturday\n",
              "          ...   \n",
              "1234    Thursday\n",
              "1235    Thursday\n",
              "1236    Thursday\n",
              "1237    Thursday\n",
              "1238    Thursday\n",
              "Name: dayName, Length: 1239, dtype: object"
            ]
          },
          "metadata": {
            "tags": []
          },
          "execution_count": 252
        }
      ]
    },
    {
      "cell_type": "code",
      "metadata": {
        "id": "lmDhJvOy0NDL"
      },
      "source": [
        "Ans1 = df.groupby(['dayName','PM10등급'],as_index=False).size()\n",
        "Ans2 = Ans1.pivot(index='dayName',columns='PM10등급',values='size').fillna(0)"
      ],
      "execution_count": null,
      "outputs": []
    },
    {
      "cell_type": "code",
      "metadata": {
        "colab": {
          "base_uri": "https://localhost:8080/",
          "height": 287
        },
        "id": "X3dJMbql0hVU",
        "outputId": "bc173804-ba9b-453d-a430-9a1fa4cf51b2"
      },
      "source": [
        "Ans2"
      ],
      "execution_count": null,
      "outputs": [
        {
          "output_type": "execute_result",
          "data": {
            "text/html": [
              "<div>\n",
              "<style scoped>\n",
              "    .dataframe tbody tr th:only-of-type {\n",
              "        vertical-align: middle;\n",
              "    }\n",
              "\n",
              "    .dataframe tbody tr th {\n",
              "        vertical-align: top;\n",
              "    }\n",
              "\n",
              "    .dataframe thead th {\n",
              "        text-align: right;\n",
              "    }\n",
              "</style>\n",
              "<table border=\"1\" class=\"dataframe\">\n",
              "  <thead>\n",
              "    <tr style=\"text-align: right;\">\n",
              "      <th>PM10등급</th>\n",
              "      <th>나쁨</th>\n",
              "      <th>매우나쁨</th>\n",
              "      <th>보통</th>\n",
              "      <th>좋음</th>\n",
              "    </tr>\n",
              "    <tr>\n",
              "      <th>dayName</th>\n",
              "      <th></th>\n",
              "      <th></th>\n",
              "      <th></th>\n",
              "      <th></th>\n",
              "    </tr>\n",
              "  </thead>\n",
              "  <tbody>\n",
              "    <tr>\n",
              "      <th>Friday</th>\n",
              "      <td>31.0</td>\n",
              "      <td>17.0</td>\n",
              "      <td>120.0</td>\n",
              "      <td>21.0</td>\n",
              "    </tr>\n",
              "    <tr>\n",
              "      <th>Monday</th>\n",
              "      <td>1.0</td>\n",
              "      <td>21.0</td>\n",
              "      <td>83.0</td>\n",
              "      <td>63.0</td>\n",
              "    </tr>\n",
              "    <tr>\n",
              "      <th>Saturday</th>\n",
              "      <td>31.0</td>\n",
              "      <td>27.0</td>\n",
              "      <td>71.0</td>\n",
              "      <td>54.0</td>\n",
              "    </tr>\n",
              "    <tr>\n",
              "      <th>Sunday</th>\n",
              "      <td>2.0</td>\n",
              "      <td>1.0</td>\n",
              "      <td>67.0</td>\n",
              "      <td>98.0</td>\n",
              "    </tr>\n",
              "    <tr>\n",
              "      <th>Thursday</th>\n",
              "      <td>41.0</td>\n",
              "      <td>0.0</td>\n",
              "      <td>144.0</td>\n",
              "      <td>5.0</td>\n",
              "    </tr>\n",
              "    <tr>\n",
              "      <th>Tuesday</th>\n",
              "      <td>13.0</td>\n",
              "      <td>10.0</td>\n",
              "      <td>71.0</td>\n",
              "      <td>74.0</td>\n",
              "    </tr>\n",
              "    <tr>\n",
              "      <th>Wednesday</th>\n",
              "      <td>26.0</td>\n",
              "      <td>0.0</td>\n",
              "      <td>95.0</td>\n",
              "      <td>46.0</td>\n",
              "    </tr>\n",
              "  </tbody>\n",
              "</table>\n",
              "</div>"
            ],
            "text/plain": [
              "PM10등급       나쁨  매우나쁨     보통    좋음\n",
              "dayName                           \n",
              "Friday     31.0  17.0  120.0  21.0\n",
              "Monday      1.0  21.0   83.0  63.0\n",
              "Saturday   31.0  27.0   71.0  54.0\n",
              "Sunday      2.0   1.0   67.0  98.0\n",
              "Thursday   41.0   0.0  144.0   5.0\n",
              "Tuesday    13.0  10.0   71.0  74.0\n",
              "Wednesday  26.0   0.0   95.0  46.0"
            ]
          },
          "metadata": {
            "tags": []
          },
          "execution_count": 254
        }
      ]
    },
    {
      "cell_type": "code",
      "metadata": {
        "colab": {
          "base_uri": "https://localhost:8080/"
        },
        "id": "KqmegzxV0i9M",
        "outputId": "d3919cd3-0f2c-4f41-d627-155b7e25c052"
      },
      "source": [
        "check = len(df['(년-월-일:시)'].diff().unique())\n",
        "if check ==2:\n",
        "    Ans =True\n",
        "else:\n",
        "    Ans = False\n",
        "Ans"
      ],
      "execution_count": null,
      "outputs": [
        {
          "output_type": "execute_result",
          "data": {
            "text/plain": [
              "True"
            ]
          },
          "metadata": {
            "tags": []
          },
          "execution_count": 255
        }
      ]
    },
    {
      "cell_type": "code",
      "metadata": {
        "id": "ZW4nWyJ00rw7"
      },
      "source": [
        "Ans = df.groupby(df['(년-월-일:시)'].dt.hour).mean().iloc[[10,22],[0]]"
      ],
      "execution_count": null,
      "outputs": []
    },
    {
      "cell_type": "code",
      "metadata": {
        "id": "Kn2usc0C01Oa"
      },
      "source": [
        "df.set_index('(년-월-일:시)',inplace=True,drop=True)"
      ],
      "execution_count": null,
      "outputs": []
    },
    {
      "cell_type": "code",
      "metadata": {
        "colab": {
          "base_uri": "https://localhost:8080/",
          "height": 551
        },
        "id": "h8y-lJFB09MO",
        "outputId": "5221fb83-8c20-4b58-b49c-ea6aecfa936d"
      },
      "source": [
        "# 데이터를 주단위로 뽑아서 최소,최대 평균, 표준표차를 구하여라\n",
        "df.resample('W').agg(['min','max','mean','std'])"
      ],
      "execution_count": null,
      "outputs": [
        {
          "output_type": "execute_result",
          "data": {
            "text/html": [
              "<div>\n",
              "<style scoped>\n",
              "    .dataframe tbody tr th:only-of-type {\n",
              "        vertical-align: middle;\n",
              "    }\n",
              "\n",
              "    .dataframe tbody tr th {\n",
              "        vertical-align: top;\n",
              "    }\n",
              "\n",
              "    .dataframe thead tr th {\n",
              "        text-align: left;\n",
              "    }\n",
              "\n",
              "    .dataframe thead tr:last-of-type th {\n",
              "        text-align: right;\n",
              "    }\n",
              "</style>\n",
              "<table border=\"1\" class=\"dataframe\">\n",
              "  <thead>\n",
              "    <tr>\n",
              "      <th></th>\n",
              "      <th colspan=\"4\" halign=\"left\">PM10</th>\n",
              "      <th colspan=\"4\" halign=\"left\">PM2.5</th>\n",
              "      <th colspan=\"4\" halign=\"left\">오존</th>\n",
              "      <th colspan=\"4\" halign=\"left\">이산화질소</th>\n",
              "      <th colspan=\"4\" halign=\"left\">일산화탄소</th>\n",
              "      <th colspan=\"4\" halign=\"left\">아황산가스</th>\n",
              "    </tr>\n",
              "    <tr>\n",
              "      <th></th>\n",
              "      <th>min</th>\n",
              "      <th>max</th>\n",
              "      <th>mean</th>\n",
              "      <th>std</th>\n",
              "      <th>min</th>\n",
              "      <th>max</th>\n",
              "      <th>mean</th>\n",
              "      <th>std</th>\n",
              "      <th>min</th>\n",
              "      <th>max</th>\n",
              "      <th>mean</th>\n",
              "      <th>std</th>\n",
              "      <th>min</th>\n",
              "      <th>max</th>\n",
              "      <th>mean</th>\n",
              "      <th>std</th>\n",
              "      <th>min</th>\n",
              "      <th>max</th>\n",
              "      <th>mean</th>\n",
              "      <th>std</th>\n",
              "      <th>min</th>\n",
              "      <th>max</th>\n",
              "      <th>mean</th>\n",
              "      <th>std</th>\n",
              "    </tr>\n",
              "    <tr>\n",
              "      <th>(년-월-일:시)</th>\n",
              "      <th></th>\n",
              "      <th></th>\n",
              "      <th></th>\n",
              "      <th></th>\n",
              "      <th></th>\n",
              "      <th></th>\n",
              "      <th></th>\n",
              "      <th></th>\n",
              "      <th></th>\n",
              "      <th></th>\n",
              "      <th></th>\n",
              "      <th></th>\n",
              "      <th></th>\n",
              "      <th></th>\n",
              "      <th></th>\n",
              "      <th></th>\n",
              "      <th></th>\n",
              "      <th></th>\n",
              "      <th></th>\n",
              "      <th></th>\n",
              "      <th></th>\n",
              "      <th></th>\n",
              "      <th></th>\n",
              "      <th></th>\n",
              "    </tr>\n",
              "  </thead>\n",
              "  <tbody>\n",
              "    <tr>\n",
              "      <th>2021-03-28</th>\n",
              "      <td>6.0</td>\n",
              "      <td>160.0</td>\n",
              "      <td>72.747368</td>\n",
              "      <td>43.345462</td>\n",
              "      <td>4.0</td>\n",
              "      <td>113.0</td>\n",
              "      <td>44.705263</td>\n",
              "      <td>29.551928</td>\n",
              "      <td>0.002</td>\n",
              "      <td>0.085</td>\n",
              "      <td>0.023516</td>\n",
              "      <td>0.016636</td>\n",
              "      <td>0.008</td>\n",
              "      <td>0.098</td>\n",
              "      <td>0.044579</td>\n",
              "      <td>0.023722</td>\n",
              "      <td>0.3</td>\n",
              "      <td>1.4</td>\n",
              "      <td>0.611579</td>\n",
              "      <td>0.232408</td>\n",
              "      <td>0.002</td>\n",
              "      <td>0.006</td>\n",
              "      <td>0.003274</td>\n",
              "      <td>0.000961</td>\n",
              "    </tr>\n",
              "    <tr>\n",
              "      <th>2021-04-04</th>\n",
              "      <td>3.0</td>\n",
              "      <td>598.0</td>\n",
              "      <td>97.148810</td>\n",
              "      <td>129.911976</td>\n",
              "      <td>1.0</td>\n",
              "      <td>120.0</td>\n",
              "      <td>23.168675</td>\n",
              "      <td>22.399578</td>\n",
              "      <td>0.003</td>\n",
              "      <td>0.055</td>\n",
              "      <td>0.027256</td>\n",
              "      <td>0.013211</td>\n",
              "      <td>0.006</td>\n",
              "      <td>0.068</td>\n",
              "      <td>0.027929</td>\n",
              "      <td>0.014978</td>\n",
              "      <td>0.3</td>\n",
              "      <td>0.9</td>\n",
              "      <td>0.445833</td>\n",
              "      <td>0.135741</td>\n",
              "      <td>0.002</td>\n",
              "      <td>0.004</td>\n",
              "      <td>0.002732</td>\n",
              "      <td>0.000541</td>\n",
              "    </tr>\n",
              "    <tr>\n",
              "      <th>2021-04-11</th>\n",
              "      <td>17.0</td>\n",
              "      <td>102.0</td>\n",
              "      <td>41.059524</td>\n",
              "      <td>16.325911</td>\n",
              "      <td>7.0</td>\n",
              "      <td>70.0</td>\n",
              "      <td>21.761905</td>\n",
              "      <td>11.479343</td>\n",
              "      <td>0.009</td>\n",
              "      <td>0.070</td>\n",
              "      <td>0.039375</td>\n",
              "      <td>0.013653</td>\n",
              "      <td>0.008</td>\n",
              "      <td>0.059</td>\n",
              "      <td>0.022583</td>\n",
              "      <td>0.009562</td>\n",
              "      <td>0.3</td>\n",
              "      <td>0.7</td>\n",
              "      <td>0.389286</td>\n",
              "      <td>0.087573</td>\n",
              "      <td>0.002</td>\n",
              "      <td>0.004</td>\n",
              "      <td>0.002744</td>\n",
              "      <td>0.000569</td>\n",
              "    </tr>\n",
              "    <tr>\n",
              "      <th>2021-04-18</th>\n",
              "      <td>3.0</td>\n",
              "      <td>367.0</td>\n",
              "      <td>48.180723</td>\n",
              "      <td>43.254468</td>\n",
              "      <td>2.0</td>\n",
              "      <td>38.0</td>\n",
              "      <td>17.066265</td>\n",
              "      <td>7.867952</td>\n",
              "      <td>0.002</td>\n",
              "      <td>0.070</td>\n",
              "      <td>0.030398</td>\n",
              "      <td>0.012272</td>\n",
              "      <td>0.006</td>\n",
              "      <td>0.066</td>\n",
              "      <td>0.023753</td>\n",
              "      <td>0.013553</td>\n",
              "      <td>0.3</td>\n",
              "      <td>0.6</td>\n",
              "      <td>0.386747</td>\n",
              "      <td>0.084954</td>\n",
              "      <td>0.002</td>\n",
              "      <td>0.004</td>\n",
              "      <td>0.002464</td>\n",
              "      <td>0.000579</td>\n",
              "    </tr>\n",
              "    <tr>\n",
              "      <th>2021-04-25</th>\n",
              "      <td>17.0</td>\n",
              "      <td>126.0</td>\n",
              "      <td>55.119048</td>\n",
              "      <td>26.659936</td>\n",
              "      <td>7.0</td>\n",
              "      <td>61.0</td>\n",
              "      <td>26.392857</td>\n",
              "      <td>13.094788</td>\n",
              "      <td>0.006</td>\n",
              "      <td>0.090</td>\n",
              "      <td>0.044780</td>\n",
              "      <td>0.020226</td>\n",
              "      <td>0.007</td>\n",
              "      <td>0.073</td>\n",
              "      <td>0.028571</td>\n",
              "      <td>0.014640</td>\n",
              "      <td>0.3</td>\n",
              "      <td>0.8</td>\n",
              "      <td>0.457143</td>\n",
              "      <td>0.122142</td>\n",
              "      <td>0.001</td>\n",
              "      <td>0.011</td>\n",
              "      <td>0.003631</td>\n",
              "      <td>0.001763</td>\n",
              "    </tr>\n",
              "    <tr>\n",
              "      <th>2021-05-02</th>\n",
              "      <td>3.0</td>\n",
              "      <td>97.0</td>\n",
              "      <td>40.612121</td>\n",
              "      <td>24.813103</td>\n",
              "      <td>1.0</td>\n",
              "      <td>43.0</td>\n",
              "      <td>16.644578</td>\n",
              "      <td>8.850965</td>\n",
              "      <td>0.003</td>\n",
              "      <td>0.064</td>\n",
              "      <td>0.036970</td>\n",
              "      <td>0.012612</td>\n",
              "      <td>0.005</td>\n",
              "      <td>0.061</td>\n",
              "      <td>0.020428</td>\n",
              "      <td>0.011676</td>\n",
              "      <td>0.3</td>\n",
              "      <td>0.6</td>\n",
              "      <td>0.392771</td>\n",
              "      <td>0.092485</td>\n",
              "      <td>0.001</td>\n",
              "      <td>0.006</td>\n",
              "      <td>0.002524</td>\n",
              "      <td>0.000768</td>\n",
              "    </tr>\n",
              "    <tr>\n",
              "      <th>2021-05-09</th>\n",
              "      <td>8.0</td>\n",
              "      <td>1024.0</td>\n",
              "      <td>161.660714</td>\n",
              "      <td>239.679148</td>\n",
              "      <td>3.0</td>\n",
              "      <td>172.0</td>\n",
              "      <td>34.738095</td>\n",
              "      <td>39.788248</td>\n",
              "      <td>0.002</td>\n",
              "      <td>0.073</td>\n",
              "      <td>0.031614</td>\n",
              "      <td>0.015940</td>\n",
              "      <td>0.005</td>\n",
              "      <td>0.057</td>\n",
              "      <td>0.024187</td>\n",
              "      <td>0.012371</td>\n",
              "      <td>0.3</td>\n",
              "      <td>1.0</td>\n",
              "      <td>0.419277</td>\n",
              "      <td>0.103230</td>\n",
              "      <td>0.002</td>\n",
              "      <td>0.004</td>\n",
              "      <td>0.002771</td>\n",
              "      <td>0.000579</td>\n",
              "    </tr>\n",
              "    <tr>\n",
              "      <th>2021-05-16</th>\n",
              "      <td>16.0</td>\n",
              "      <td>111.0</td>\n",
              "      <td>40.014815</td>\n",
              "      <td>21.876855</td>\n",
              "      <td>7.0</td>\n",
              "      <td>76.0</td>\n",
              "      <td>21.577778</td>\n",
              "      <td>15.622633</td>\n",
              "      <td>0.004</td>\n",
              "      <td>0.123</td>\n",
              "      <td>0.033096</td>\n",
              "      <td>0.023463</td>\n",
              "      <td>0.011</td>\n",
              "      <td>0.056</td>\n",
              "      <td>0.030793</td>\n",
              "      <td>0.009503</td>\n",
              "      <td>0.3</td>\n",
              "      <td>0.8</td>\n",
              "      <td>0.440741</td>\n",
              "      <td>0.094075</td>\n",
              "      <td>0.001</td>\n",
              "      <td>0.006</td>\n",
              "      <td>0.002459</td>\n",
              "      <td>0.001696</td>\n",
              "    </tr>\n",
              "  </tbody>\n",
              "</table>\n",
              "</div>"
            ],
            "text/plain": [
              "            PM10                      ...  아황산가스                    \n",
              "             min     max        mean  ...    max      mean       std\n",
              "(년-월-일:시)                             ...                           \n",
              "2021-03-28   6.0   160.0   72.747368  ...  0.006  0.003274  0.000961\n",
              "2021-04-04   3.0   598.0   97.148810  ...  0.004  0.002732  0.000541\n",
              "2021-04-11  17.0   102.0   41.059524  ...  0.004  0.002744  0.000569\n",
              "2021-04-18   3.0   367.0   48.180723  ...  0.004  0.002464  0.000579\n",
              "2021-04-25  17.0   126.0   55.119048  ...  0.011  0.003631  0.001763\n",
              "2021-05-02   3.0    97.0   40.612121  ...  0.006  0.002524  0.000768\n",
              "2021-05-09   8.0  1024.0  161.660714  ...  0.004  0.002771  0.000579\n",
              "2021-05-16  16.0   111.0   40.014815  ...  0.006  0.002459  0.001696\n",
              "\n",
              "[8 rows x 24 columns]"
            ]
          },
          "metadata": {
            "tags": []
          },
          "execution_count": 260
        }
      ]
    },
    {
      "cell_type": "code",
      "metadata": {
        "colab": {
          "base_uri": "https://localhost:8080/",
          "height": 406
        },
        "id": "R6q3a_Bl1DZW",
        "outputId": "007a989b-ce0e-4c77-a1ab-a9b75c967913"
      },
      "source": [
        "df = pd.read_csv('https://raw.githubusercontent.com/Datamanim/pandas/main/under5MortalityRate.csv')\n",
        "df"
      ],
      "execution_count": null,
      "outputs": [
        {
          "output_type": "execute_result",
          "data": {
            "text/html": [
              "<div>\n",
              "<style scoped>\n",
              "    .dataframe tbody tr th:only-of-type {\n",
              "        vertical-align: middle;\n",
              "    }\n",
              "\n",
              "    .dataframe tbody tr th {\n",
              "        vertical-align: top;\n",
              "    }\n",
              "\n",
              "    .dataframe thead th {\n",
              "        text-align: right;\n",
              "    }\n",
              "</style>\n",
              "<table border=\"1\" class=\"dataframe\">\n",
              "  <thead>\n",
              "    <tr style=\"text-align: right;\">\n",
              "      <th></th>\n",
              "      <th>Location</th>\n",
              "      <th>Period</th>\n",
              "      <th>Indicator</th>\n",
              "      <th>Dim1</th>\n",
              "      <th>First Tooltip</th>\n",
              "    </tr>\n",
              "  </thead>\n",
              "  <tbody>\n",
              "    <tr>\n",
              "      <th>0</th>\n",
              "      <td>Afghanistan</td>\n",
              "      <td>2019</td>\n",
              "      <td>Under-five mortality rate (probability of dyin...</td>\n",
              "      <td>Both sexes</td>\n",
              "      <td>60.27 [47.44-74.62]</td>\n",
              "    </tr>\n",
              "    <tr>\n",
              "      <th>1</th>\n",
              "      <td>Afghanistan</td>\n",
              "      <td>2019</td>\n",
              "      <td>Under-five mortality rate (probability of dyin...</td>\n",
              "      <td>Male</td>\n",
              "      <td>63.83 [50.04-79.16]</td>\n",
              "    </tr>\n",
              "    <tr>\n",
              "      <th>2</th>\n",
              "      <td>Afghanistan</td>\n",
              "      <td>2019</td>\n",
              "      <td>Under-five mortality rate (probability of dyin...</td>\n",
              "      <td>Female</td>\n",
              "      <td>56.57 [44.54-70.18]</td>\n",
              "    </tr>\n",
              "    <tr>\n",
              "      <th>3</th>\n",
              "      <td>Afghanistan</td>\n",
              "      <td>2018</td>\n",
              "      <td>Under-five mortality rate (probability of dyin...</td>\n",
              "      <td>Both sexes</td>\n",
              "      <td>62.54 [50.64-75.41]</td>\n",
              "    </tr>\n",
              "    <tr>\n",
              "      <th>4</th>\n",
              "      <td>Afghanistan</td>\n",
              "      <td>2018</td>\n",
              "      <td>Under-five mortality rate (probability of dyin...</td>\n",
              "      <td>Male</td>\n",
              "      <td>66.08 [53.41-79.76]</td>\n",
              "    </tr>\n",
              "    <tr>\n",
              "      <th>...</th>\n",
              "      <td>...</td>\n",
              "      <td>...</td>\n",
              "      <td>...</td>\n",
              "      <td>...</td>\n",
              "      <td>...</td>\n",
              "    </tr>\n",
              "    <tr>\n",
              "      <th>29994</th>\n",
              "      <td>Timor-Leste</td>\n",
              "      <td>2002</td>\n",
              "      <td>Under-five mortality rate (probability of dyin...</td>\n",
              "      <td>Both sexes</td>\n",
              "      <td>96.97 [87.36-107.7]</td>\n",
              "    </tr>\n",
              "    <tr>\n",
              "      <th>29995</th>\n",
              "      <td>Timor-Leste</td>\n",
              "      <td>2002</td>\n",
              "      <td>Under-five mortality rate (probability of dyin...</td>\n",
              "      <td>Male</td>\n",
              "      <td>102.6 [92.14-114]</td>\n",
              "    </tr>\n",
              "    <tr>\n",
              "      <th>29996</th>\n",
              "      <td>Timor-Leste</td>\n",
              "      <td>2002</td>\n",
              "      <td>Under-five mortality rate (probability of dyin...</td>\n",
              "      <td>Female</td>\n",
              "      <td>91.04 [81.92-101.5]</td>\n",
              "    </tr>\n",
              "    <tr>\n",
              "      <th>29997</th>\n",
              "      <td>Timor-Leste</td>\n",
              "      <td>2001</td>\n",
              "      <td>Under-five mortality rate (probability of dyin...</td>\n",
              "      <td>Both sexes</td>\n",
              "      <td>102.5 [92.72-113.3]</td>\n",
              "    </tr>\n",
              "    <tr>\n",
              "      <th>29998</th>\n",
              "      <td>Timor-Leste</td>\n",
              "      <td>2001</td>\n",
              "      <td>Under-five mortality rate (probability of dyin...</td>\n",
              "      <td>Male</td>\n",
              "      <td>108.2 [97.57-120]</td>\n",
              "    </tr>\n",
              "  </tbody>\n",
              "</table>\n",
              "<p>29999 rows × 5 columns</p>\n",
              "</div>"
            ],
            "text/plain": [
              "          Location  Period  ...        Dim1        First Tooltip\n",
              "0      Afghanistan    2019  ...  Both sexes  60.27 [47.44-74.62]\n",
              "1      Afghanistan    2019  ...        Male  63.83 [50.04-79.16]\n",
              "2      Afghanistan    2019  ...      Female  56.57 [44.54-70.18]\n",
              "3      Afghanistan    2018  ...  Both sexes  62.54 [50.64-75.41]\n",
              "4      Afghanistan    2018  ...        Male  66.08 [53.41-79.76]\n",
              "...            ...     ...  ...         ...                  ...\n",
              "29994  Timor-Leste    2002  ...  Both sexes  96.97 [87.36-107.7]\n",
              "29995  Timor-Leste    2002  ...        Male    102.6 [92.14-114]\n",
              "29996  Timor-Leste    2002  ...      Female  91.04 [81.92-101.5]\n",
              "29997  Timor-Leste    2001  ...  Both sexes  102.5 [92.72-113.3]\n",
              "29998  Timor-Leste    2001  ...        Male    108.2 [97.57-120]\n",
              "\n",
              "[29999 rows x 5 columns]"
            ]
          },
          "metadata": {
            "tags": []
          },
          "execution_count": 261
        }
      ]
    },
    {
      "cell_type": "code",
      "metadata": {
        "colab": {
          "base_uri": "https://localhost:8080/",
          "height": 406
        },
        "id": "1nC3N_3e1Nq4",
        "outputId": "7e2ecfa4-a984-4a5e-981e-755a2ce5f496"
      },
      "source": [
        "df = df.drop(columns = \"Indicator\")\n",
        "df"
      ],
      "execution_count": null,
      "outputs": [
        {
          "output_type": "execute_result",
          "data": {
            "text/html": [
              "<div>\n",
              "<style scoped>\n",
              "    .dataframe tbody tr th:only-of-type {\n",
              "        vertical-align: middle;\n",
              "    }\n",
              "\n",
              "    .dataframe tbody tr th {\n",
              "        vertical-align: top;\n",
              "    }\n",
              "\n",
              "    .dataframe thead th {\n",
              "        text-align: right;\n",
              "    }\n",
              "</style>\n",
              "<table border=\"1\" class=\"dataframe\">\n",
              "  <thead>\n",
              "    <tr style=\"text-align: right;\">\n",
              "      <th></th>\n",
              "      <th>Location</th>\n",
              "      <th>Period</th>\n",
              "      <th>Dim1</th>\n",
              "      <th>First Tooltip</th>\n",
              "    </tr>\n",
              "  </thead>\n",
              "  <tbody>\n",
              "    <tr>\n",
              "      <th>0</th>\n",
              "      <td>Afghanistan</td>\n",
              "      <td>2019</td>\n",
              "      <td>Both sexes</td>\n",
              "      <td>60.27</td>\n",
              "    </tr>\n",
              "    <tr>\n",
              "      <th>1</th>\n",
              "      <td>Afghanistan</td>\n",
              "      <td>2019</td>\n",
              "      <td>Male</td>\n",
              "      <td>63.83</td>\n",
              "    </tr>\n",
              "    <tr>\n",
              "      <th>2</th>\n",
              "      <td>Afghanistan</td>\n",
              "      <td>2019</td>\n",
              "      <td>Female</td>\n",
              "      <td>56.57</td>\n",
              "    </tr>\n",
              "    <tr>\n",
              "      <th>3</th>\n",
              "      <td>Afghanistan</td>\n",
              "      <td>2018</td>\n",
              "      <td>Both sexes</td>\n",
              "      <td>62.54</td>\n",
              "    </tr>\n",
              "    <tr>\n",
              "      <th>4</th>\n",
              "      <td>Afghanistan</td>\n",
              "      <td>2018</td>\n",
              "      <td>Male</td>\n",
              "      <td>66.08</td>\n",
              "    </tr>\n",
              "    <tr>\n",
              "      <th>...</th>\n",
              "      <td>...</td>\n",
              "      <td>...</td>\n",
              "      <td>...</td>\n",
              "      <td>...</td>\n",
              "    </tr>\n",
              "    <tr>\n",
              "      <th>29994</th>\n",
              "      <td>Timor-Leste</td>\n",
              "      <td>2002</td>\n",
              "      <td>Both sexes</td>\n",
              "      <td>96.97</td>\n",
              "    </tr>\n",
              "    <tr>\n",
              "      <th>29995</th>\n",
              "      <td>Timor-Leste</td>\n",
              "      <td>2002</td>\n",
              "      <td>Male</td>\n",
              "      <td>102.60</td>\n",
              "    </tr>\n",
              "    <tr>\n",
              "      <th>29996</th>\n",
              "      <td>Timor-Leste</td>\n",
              "      <td>2002</td>\n",
              "      <td>Female</td>\n",
              "      <td>91.04</td>\n",
              "    </tr>\n",
              "    <tr>\n",
              "      <th>29997</th>\n",
              "      <td>Timor-Leste</td>\n",
              "      <td>2001</td>\n",
              "      <td>Both sexes</td>\n",
              "      <td>102.50</td>\n",
              "    </tr>\n",
              "    <tr>\n",
              "      <th>29998</th>\n",
              "      <td>Timor-Leste</td>\n",
              "      <td>2001</td>\n",
              "      <td>Male</td>\n",
              "      <td>108.20</td>\n",
              "    </tr>\n",
              "  </tbody>\n",
              "</table>\n",
              "<p>29999 rows × 4 columns</p>\n",
              "</div>"
            ],
            "text/plain": [
              "          Location  Period        Dim1  First Tooltip\n",
              "0      Afghanistan    2019  Both sexes          60.27\n",
              "1      Afghanistan    2019        Male          63.83\n",
              "2      Afghanistan    2019      Female          56.57\n",
              "3      Afghanistan    2018  Both sexes          62.54\n",
              "4      Afghanistan    2018        Male          66.08\n",
              "...            ...     ...         ...            ...\n",
              "29994  Timor-Leste    2002  Both sexes          96.97\n",
              "29995  Timor-Leste    2002        Male         102.60\n",
              "29996  Timor-Leste    2002      Female          91.04\n",
              "29997  Timor-Leste    2001  Both sexes         102.50\n",
              "29998  Timor-Leste    2001        Male         108.20\n",
              "\n",
              "[29999 rows x 4 columns]"
            ]
          },
          "metadata": {
            "tags": []
          },
          "execution_count": 271
        }
      ]
    },
    {
      "cell_type": "code",
      "metadata": {
        "colab": {
          "base_uri": "https://localhost:8080/"
        },
        "id": "7kBRAISV1S3g",
        "outputId": "e1745b71-2ea5-4399-d850-530671f8500c"
      },
      "source": [
        "df[\"First Tooltip\"] = df[\"First Tooltip\"].map(lambda x : float(x.split(\"[\")[0]))\n",
        "df[\"First Tooltip\"]"
      ],
      "execution_count": null,
      "outputs": [
        {
          "output_type": "execute_result",
          "data": {
            "text/plain": [
              "0         60.27\n",
              "1         63.83\n",
              "2         56.57\n",
              "3         62.54\n",
              "4         66.08\n",
              "          ...  \n",
              "29994     96.97\n",
              "29995    102.60\n",
              "29996     91.04\n",
              "29997    102.50\n",
              "29998    108.20\n",
              "Name: First Tooltip, Length: 29999, dtype: float64"
            ]
          },
          "metadata": {
            "tags": []
          },
          "execution_count": 270
        }
      ]
    },
    {
      "cell_type": "code",
      "metadata": {
        "id": "JfFgqJXR1ZKU"
      },
      "source": [
        "target =df[(df.Period >= 2015) & (df.Dim1 == \"Both sexes\")]"
      ],
      "execution_count": null,
      "outputs": []
    },
    {
      "cell_type": "code",
      "metadata": {
        "colab": {
          "base_uri": "https://localhost:8080/",
          "height": 436
        },
        "id": "VLwkyxWh127y",
        "outputId": "7b6a6677-de8d-4175-ead4-e89533071267"
      },
      "source": [
        "Ans = target.pivot(index='Location',columns='Period',values='First Tooltip')\n",
        "Ans"
      ],
      "execution_count": null,
      "outputs": [
        {
          "output_type": "execute_result",
          "data": {
            "text/html": [
              "<div>\n",
              "<style scoped>\n",
              "    .dataframe tbody tr th:only-of-type {\n",
              "        vertical-align: middle;\n",
              "    }\n",
              "\n",
              "    .dataframe tbody tr th {\n",
              "        vertical-align: top;\n",
              "    }\n",
              "\n",
              "    .dataframe thead th {\n",
              "        text-align: right;\n",
              "    }\n",
              "</style>\n",
              "<table border=\"1\" class=\"dataframe\">\n",
              "  <thead>\n",
              "    <tr style=\"text-align: right;\">\n",
              "      <th>Period</th>\n",
              "      <th>2015</th>\n",
              "      <th>2016</th>\n",
              "      <th>2017</th>\n",
              "      <th>2018</th>\n",
              "      <th>2019</th>\n",
              "    </tr>\n",
              "    <tr>\n",
              "      <th>Location</th>\n",
              "      <th></th>\n",
              "      <th></th>\n",
              "      <th></th>\n",
              "      <th></th>\n",
              "      <th></th>\n",
              "    </tr>\n",
              "  </thead>\n",
              "  <tbody>\n",
              "    <tr>\n",
              "      <th>Afghanistan</th>\n",
              "      <td>70.44</td>\n",
              "      <td>67.57</td>\n",
              "      <td>64.94</td>\n",
              "      <td>62.54</td>\n",
              "      <td>60.27</td>\n",
              "    </tr>\n",
              "    <tr>\n",
              "      <th>Albania</th>\n",
              "      <td>9.57</td>\n",
              "      <td>9.42</td>\n",
              "      <td>9.42</td>\n",
              "      <td>9.53</td>\n",
              "      <td>9.68</td>\n",
              "    </tr>\n",
              "    <tr>\n",
              "      <th>Algeria</th>\n",
              "      <td>25.18</td>\n",
              "      <td>24.79</td>\n",
              "      <td>24.32</td>\n",
              "      <td>23.81</td>\n",
              "      <td>23.26</td>\n",
              "    </tr>\n",
              "    <tr>\n",
              "      <th>Andorra</th>\n",
              "      <td>3.53</td>\n",
              "      <td>3.37</td>\n",
              "      <td>3.22</td>\n",
              "      <td>3.09</td>\n",
              "      <td>2.97</td>\n",
              "    </tr>\n",
              "    <tr>\n",
              "      <th>Angola</th>\n",
              "      <td>88.20</td>\n",
              "      <td>84.21</td>\n",
              "      <td>80.62</td>\n",
              "      <td>77.67</td>\n",
              "      <td>74.69</td>\n",
              "    </tr>\n",
              "    <tr>\n",
              "      <th>...</th>\n",
              "      <td>...</td>\n",
              "      <td>...</td>\n",
              "      <td>...</td>\n",
              "      <td>...</td>\n",
              "      <td>...</td>\n",
              "    </tr>\n",
              "    <tr>\n",
              "      <th>Syrian Arab Republic</th>\n",
              "      <td>23.18</td>\n",
              "      <td>23.27</td>\n",
              "      <td>22.97</td>\n",
              "      <td>22.11</td>\n",
              "      <td>21.53</td>\n",
              "    </tr>\n",
              "    <tr>\n",
              "      <th>Tajikistan</th>\n",
              "      <td>37.75</td>\n",
              "      <td>36.82</td>\n",
              "      <td>35.81</td>\n",
              "      <td>34.80</td>\n",
              "      <td>33.78</td>\n",
              "    </tr>\n",
              "    <tr>\n",
              "      <th>Thailand</th>\n",
              "      <td>10.80</td>\n",
              "      <td>10.32</td>\n",
              "      <td>9.86</td>\n",
              "      <td>9.42</td>\n",
              "      <td>9.01</td>\n",
              "    </tr>\n",
              "    <tr>\n",
              "      <th>The former Yugoslav Republic of Macedonia</th>\n",
              "      <td>12.97</td>\n",
              "      <td>11.97</td>\n",
              "      <td>9.94</td>\n",
              "      <td>7.83</td>\n",
              "      <td>6.12</td>\n",
              "    </tr>\n",
              "    <tr>\n",
              "      <th>Timor-Leste</th>\n",
              "      <td>50.76</td>\n",
              "      <td>49.01</td>\n",
              "      <td>47.27</td>\n",
              "      <td>45.62</td>\n",
              "      <td>44.22</td>\n",
              "    </tr>\n",
              "  </tbody>\n",
              "</table>\n",
              "<p>172 rows × 5 columns</p>\n",
              "</div>"
            ],
            "text/plain": [
              "Period                                      2015   2016   2017   2018   2019\n",
              "Location                                                                    \n",
              "Afghanistan                                70.44  67.57  64.94  62.54  60.27\n",
              "Albania                                     9.57   9.42   9.42   9.53   9.68\n",
              "Algeria                                    25.18  24.79  24.32  23.81  23.26\n",
              "Andorra                                     3.53   3.37   3.22   3.09   2.97\n",
              "Angola                                     88.20  84.21  80.62  77.67  74.69\n",
              "...                                          ...    ...    ...    ...    ...\n",
              "Syrian Arab Republic                       23.18  23.27  22.97  22.11  21.53\n",
              "Tajikistan                                 37.75  36.82  35.81  34.80  33.78\n",
              "Thailand                                   10.80  10.32   9.86   9.42   9.01\n",
              "The former Yugoslav Republic of Macedonia  12.97  11.97   9.94   7.83   6.12\n",
              "Timor-Leste                                50.76  49.01  47.27  45.62  44.22\n",
              "\n",
              "[172 rows x 5 columns]"
            ]
          },
          "metadata": {
            "tags": []
          },
          "execution_count": 279
        }
      ]
    },
    {
      "cell_type": "code",
      "metadata": {
        "id": "slEKssLs3gqb"
      },
      "source": [
        "df = pd.read_csv('https://raw.githubusercontent.com/Datamanim/pandas/main/mergeTEst.csv',index_col= 0)"
      ],
      "execution_count": null,
      "outputs": []
    },
    {
      "cell_type": "code",
      "metadata": {
        "colab": {
          "base_uri": "https://localhost:8080/",
          "height": 438
        },
        "id": "8VM4ixtg3hoK",
        "outputId": "61978701-7988-40f9-cd34-adac25474429"
      },
      "source": [
        "df1 = df.iloc[:4,:]\n",
        "df2 = df.iloc[4:,:]\n",
        "\n",
        "display(df1)\n",
        "display(df2)"
      ],
      "execution_count": null,
      "outputs": [
        {
          "output_type": "display_data",
          "data": {
            "text/html": [
              "<div>\n",
              "<style scoped>\n",
              "    .dataframe tbody tr th:only-of-type {\n",
              "        vertical-align: middle;\n",
              "    }\n",
              "\n",
              "    .dataframe tbody tr th {\n",
              "        vertical-align: top;\n",
              "    }\n",
              "\n",
              "    .dataframe thead th {\n",
              "        text-align: right;\n",
              "    }\n",
              "</style>\n",
              "<table border=\"1\" class=\"dataframe\">\n",
              "  <thead>\n",
              "    <tr style=\"text-align: right;\">\n",
              "      <th></th>\n",
              "      <th>2010</th>\n",
              "      <th>2011</th>\n",
              "      <th>2012</th>\n",
              "      <th>2013</th>\n",
              "      <th>2014</th>\n",
              "      <th>2015</th>\n",
              "      <th>2016</th>\n",
              "      <th>2017</th>\n",
              "      <th>2018</th>\n",
              "      <th>2019</th>\n",
              "    </tr>\n",
              "    <tr>\n",
              "      <th>Location</th>\n",
              "      <th></th>\n",
              "      <th></th>\n",
              "      <th></th>\n",
              "      <th></th>\n",
              "      <th></th>\n",
              "      <th></th>\n",
              "      <th></th>\n",
              "      <th></th>\n",
              "      <th></th>\n",
              "      <th></th>\n",
              "    </tr>\n",
              "  </thead>\n",
              "  <tbody>\n",
              "    <tr>\n",
              "      <th>Afghanistan</th>\n",
              "      <td>64.023</td>\n",
              "      <td>61.640</td>\n",
              "      <td>59.367</td>\n",
              "      <td>57.170</td>\n",
              "      <td>55.08</td>\n",
              "      <td>53.107</td>\n",
              "      <td>51.267</td>\n",
              "      <td>49.560</td>\n",
              "      <td>47.983</td>\n",
              "      <td>46.453</td>\n",
              "    </tr>\n",
              "    <tr>\n",
              "      <th>Albania</th>\n",
              "      <td>11.803</td>\n",
              "      <td>10.807</td>\n",
              "      <td>9.943</td>\n",
              "      <td>9.267</td>\n",
              "      <td>8.79</td>\n",
              "      <td>8.493</td>\n",
              "      <td>8.363</td>\n",
              "      <td>8.363</td>\n",
              "      <td>8.453</td>\n",
              "      <td>8.597</td>\n",
              "    </tr>\n",
              "    <tr>\n",
              "      <th>Algeria</th>\n",
              "      <td>23.540</td>\n",
              "      <td>22.907</td>\n",
              "      <td>22.450</td>\n",
              "      <td>22.117</td>\n",
              "      <td>21.85</td>\n",
              "      <td>21.587</td>\n",
              "      <td>21.257</td>\n",
              "      <td>20.850</td>\n",
              "      <td>20.407</td>\n",
              "      <td>19.930</td>\n",
              "    </tr>\n",
              "    <tr>\n",
              "      <th>Andorra</th>\n",
              "      <td>4.240</td>\n",
              "      <td>4.033</td>\n",
              "      <td>3.843</td>\n",
              "      <td>3.667</td>\n",
              "      <td>3.49</td>\n",
              "      <td>3.330</td>\n",
              "      <td>3.187</td>\n",
              "      <td>3.060</td>\n",
              "      <td>2.933</td>\n",
              "      <td>2.827</td>\n",
              "    </tr>\n",
              "  </tbody>\n",
              "</table>\n",
              "</div>"
            ],
            "text/plain": [
              "               2010    2011    2012    2013  ...    2016    2017    2018    2019\n",
              "Location                                     ...                                \n",
              "Afghanistan  64.023  61.640  59.367  57.170  ...  51.267  49.560  47.983  46.453\n",
              "Albania      11.803  10.807   9.943   9.267  ...   8.363   8.363   8.453   8.597\n",
              "Algeria      23.540  22.907  22.450  22.117  ...  21.257  20.850  20.407  19.930\n",
              "Andorra       4.240   4.033   3.843   3.667  ...   3.187   3.060   2.933   2.827\n",
              "\n",
              "[4 rows x 10 columns]"
            ]
          },
          "metadata": {
            "tags": []
          }
        },
        {
          "output_type": "display_data",
          "data": {
            "text/html": [
              "<div>\n",
              "<style scoped>\n",
              "    .dataframe tbody tr th:only-of-type {\n",
              "        vertical-align: middle;\n",
              "    }\n",
              "\n",
              "    .dataframe tbody tr th {\n",
              "        vertical-align: top;\n",
              "    }\n",
              "\n",
              "    .dataframe thead th {\n",
              "        text-align: right;\n",
              "    }\n",
              "</style>\n",
              "<table border=\"1\" class=\"dataframe\">\n",
              "  <thead>\n",
              "    <tr style=\"text-align: right;\">\n",
              "      <th></th>\n",
              "      <th>2010</th>\n",
              "      <th>2011</th>\n",
              "      <th>2012</th>\n",
              "      <th>2013</th>\n",
              "      <th>2014</th>\n",
              "      <th>2015</th>\n",
              "      <th>2016</th>\n",
              "      <th>2017</th>\n",
              "      <th>2018</th>\n",
              "      <th>2019</th>\n",
              "    </tr>\n",
              "    <tr>\n",
              "      <th>Location</th>\n",
              "      <th></th>\n",
              "      <th></th>\n",
              "      <th></th>\n",
              "      <th></th>\n",
              "      <th></th>\n",
              "      <th></th>\n",
              "      <th></th>\n",
              "      <th></th>\n",
              "      <th></th>\n",
              "      <th></th>\n",
              "    </tr>\n",
              "  </thead>\n",
              "  <tbody>\n",
              "    <tr>\n",
              "      <th>Angola</th>\n",
              "      <td>75.713</td>\n",
              "      <td>71.280</td>\n",
              "      <td>67.233</td>\n",
              "      <td>63.570</td>\n",
              "      <td>60.430</td>\n",
              "      <td>57.757</td>\n",
              "      <td>55.510</td>\n",
              "      <td>53.460</td>\n",
              "      <td>51.757</td>\n",
              "      <td>50.093</td>\n",
              "    </tr>\n",
              "    <tr>\n",
              "      <th>Antigua and Barbuda</th>\n",
              "      <td>8.667</td>\n",
              "      <td>8.223</td>\n",
              "      <td>7.807</td>\n",
              "      <td>7.420</td>\n",
              "      <td>7.070</td>\n",
              "      <td>6.757</td>\n",
              "      <td>6.483</td>\n",
              "      <td>6.230</td>\n",
              "      <td>6.000</td>\n",
              "      <td>5.783</td>\n",
              "    </tr>\n",
              "    <tr>\n",
              "      <th>Argentina</th>\n",
              "      <td>12.887</td>\n",
              "      <td>12.380</td>\n",
              "      <td>11.840</td>\n",
              "      <td>11.283</td>\n",
              "      <td>10.733</td>\n",
              "      <td>10.203</td>\n",
              "      <td>9.683</td>\n",
              "      <td>9.177</td>\n",
              "      <td>8.680</td>\n",
              "      <td>8.227</td>\n",
              "    </tr>\n",
              "    <tr>\n",
              "      <th>Armenia</th>\n",
              "      <td>16.497</td>\n",
              "      <td>15.677</td>\n",
              "      <td>14.897</td>\n",
              "      <td>14.170</td>\n",
              "      <td>13.477</td>\n",
              "      <td>12.817</td>\n",
              "      <td>12.183</td>\n",
              "      <td>11.583</td>\n",
              "      <td>11.007</td>\n",
              "      <td>10.497</td>\n",
              "    </tr>\n",
              "    <tr>\n",
              "      <th>Australia</th>\n",
              "      <td>3.993</td>\n",
              "      <td>3.803</td>\n",
              "      <td>3.623</td>\n",
              "      <td>3.467</td>\n",
              "      <td>3.343</td>\n",
              "      <td>3.253</td>\n",
              "      <td>3.183</td>\n",
              "      <td>3.137</td>\n",
              "      <td>3.090</td>\n",
              "      <td>3.047</td>\n",
              "    </tr>\n",
              "    <tr>\n",
              "      <th>Austria</th>\n",
              "      <td>3.573</td>\n",
              "      <td>3.463</td>\n",
              "      <td>3.333</td>\n",
              "      <td>3.210</td>\n",
              "      <td>3.113</td>\n",
              "      <td>3.043</td>\n",
              "      <td>2.987</td>\n",
              "      <td>2.943</td>\n",
              "      <td>2.897</td>\n",
              "      <td>2.843</td>\n",
              "    </tr>\n",
              "  </tbody>\n",
              "</table>\n",
              "</div>"
            ],
            "text/plain": [
              "                       2010    2011    2012  ...    2017    2018    2019\n",
              "Location                                     ...                        \n",
              "Angola               75.713  71.280  67.233  ...  53.460  51.757  50.093\n",
              "Antigua and Barbuda   8.667   8.223   7.807  ...   6.230   6.000   5.783\n",
              "Argentina            12.887  12.380  11.840  ...   9.177   8.680   8.227\n",
              "Armenia              16.497  15.677  14.897  ...  11.583  11.007  10.497\n",
              "Australia             3.993   3.803   3.623  ...   3.137   3.090   3.047\n",
              "Austria               3.573   3.463   3.333  ...   2.943   2.897   2.843\n",
              "\n",
              "[6 rows x 10 columns]"
            ]
          },
          "metadata": {
            "tags": []
          }
        }
      ]
    },
    {
      "cell_type": "code",
      "metadata": {
        "colab": {
          "base_uri": "https://localhost:8080/",
          "height": 377
        },
        "id": "UmxzpUzW2Uri",
        "outputId": "d52008b9-ec4e-4e24-b43e-55e6b5350cb4"
      },
      "source": [
        "pd.concat([df1, df2], axis=0)"
      ],
      "execution_count": null,
      "outputs": [
        {
          "output_type": "execute_result",
          "data": {
            "text/html": [
              "<div>\n",
              "<style scoped>\n",
              "    .dataframe tbody tr th:only-of-type {\n",
              "        vertical-align: middle;\n",
              "    }\n",
              "\n",
              "    .dataframe tbody tr th {\n",
              "        vertical-align: top;\n",
              "    }\n",
              "\n",
              "    .dataframe thead th {\n",
              "        text-align: right;\n",
              "    }\n",
              "</style>\n",
              "<table border=\"1\" class=\"dataframe\">\n",
              "  <thead>\n",
              "    <tr style=\"text-align: right;\">\n",
              "      <th></th>\n",
              "      <th>2010</th>\n",
              "      <th>2011</th>\n",
              "      <th>2012</th>\n",
              "      <th>2013</th>\n",
              "      <th>2014</th>\n",
              "      <th>2015</th>\n",
              "      <th>2016</th>\n",
              "      <th>2017</th>\n",
              "      <th>2018</th>\n",
              "      <th>2019</th>\n",
              "    </tr>\n",
              "    <tr>\n",
              "      <th>Location</th>\n",
              "      <th></th>\n",
              "      <th></th>\n",
              "      <th></th>\n",
              "      <th></th>\n",
              "      <th></th>\n",
              "      <th></th>\n",
              "      <th></th>\n",
              "      <th></th>\n",
              "      <th></th>\n",
              "      <th></th>\n",
              "    </tr>\n",
              "  </thead>\n",
              "  <tbody>\n",
              "    <tr>\n",
              "      <th>Afghanistan</th>\n",
              "      <td>64.023</td>\n",
              "      <td>61.640</td>\n",
              "      <td>59.367</td>\n",
              "      <td>57.170</td>\n",
              "      <td>55.080</td>\n",
              "      <td>53.107</td>\n",
              "      <td>51.267</td>\n",
              "      <td>49.560</td>\n",
              "      <td>47.983</td>\n",
              "      <td>46.453</td>\n",
              "    </tr>\n",
              "    <tr>\n",
              "      <th>Albania</th>\n",
              "      <td>11.803</td>\n",
              "      <td>10.807</td>\n",
              "      <td>9.943</td>\n",
              "      <td>9.267</td>\n",
              "      <td>8.790</td>\n",
              "      <td>8.493</td>\n",
              "      <td>8.363</td>\n",
              "      <td>8.363</td>\n",
              "      <td>8.453</td>\n",
              "      <td>8.597</td>\n",
              "    </tr>\n",
              "    <tr>\n",
              "      <th>Algeria</th>\n",
              "      <td>23.540</td>\n",
              "      <td>22.907</td>\n",
              "      <td>22.450</td>\n",
              "      <td>22.117</td>\n",
              "      <td>21.850</td>\n",
              "      <td>21.587</td>\n",
              "      <td>21.257</td>\n",
              "      <td>20.850</td>\n",
              "      <td>20.407</td>\n",
              "      <td>19.930</td>\n",
              "    </tr>\n",
              "    <tr>\n",
              "      <th>Andorra</th>\n",
              "      <td>4.240</td>\n",
              "      <td>4.033</td>\n",
              "      <td>3.843</td>\n",
              "      <td>3.667</td>\n",
              "      <td>3.490</td>\n",
              "      <td>3.330</td>\n",
              "      <td>3.187</td>\n",
              "      <td>3.060</td>\n",
              "      <td>2.933</td>\n",
              "      <td>2.827</td>\n",
              "    </tr>\n",
              "    <tr>\n",
              "      <th>Angola</th>\n",
              "      <td>75.713</td>\n",
              "      <td>71.280</td>\n",
              "      <td>67.233</td>\n",
              "      <td>63.570</td>\n",
              "      <td>60.430</td>\n",
              "      <td>57.757</td>\n",
              "      <td>55.510</td>\n",
              "      <td>53.460</td>\n",
              "      <td>51.757</td>\n",
              "      <td>50.093</td>\n",
              "    </tr>\n",
              "    <tr>\n",
              "      <th>Antigua and Barbuda</th>\n",
              "      <td>8.667</td>\n",
              "      <td>8.223</td>\n",
              "      <td>7.807</td>\n",
              "      <td>7.420</td>\n",
              "      <td>7.070</td>\n",
              "      <td>6.757</td>\n",
              "      <td>6.483</td>\n",
              "      <td>6.230</td>\n",
              "      <td>6.000</td>\n",
              "      <td>5.783</td>\n",
              "    </tr>\n",
              "    <tr>\n",
              "      <th>Argentina</th>\n",
              "      <td>12.887</td>\n",
              "      <td>12.380</td>\n",
              "      <td>11.840</td>\n",
              "      <td>11.283</td>\n",
              "      <td>10.733</td>\n",
              "      <td>10.203</td>\n",
              "      <td>9.683</td>\n",
              "      <td>9.177</td>\n",
              "      <td>8.680</td>\n",
              "      <td>8.227</td>\n",
              "    </tr>\n",
              "    <tr>\n",
              "      <th>Armenia</th>\n",
              "      <td>16.497</td>\n",
              "      <td>15.677</td>\n",
              "      <td>14.897</td>\n",
              "      <td>14.170</td>\n",
              "      <td>13.477</td>\n",
              "      <td>12.817</td>\n",
              "      <td>12.183</td>\n",
              "      <td>11.583</td>\n",
              "      <td>11.007</td>\n",
              "      <td>10.497</td>\n",
              "    </tr>\n",
              "    <tr>\n",
              "      <th>Australia</th>\n",
              "      <td>3.993</td>\n",
              "      <td>3.803</td>\n",
              "      <td>3.623</td>\n",
              "      <td>3.467</td>\n",
              "      <td>3.343</td>\n",
              "      <td>3.253</td>\n",
              "      <td>3.183</td>\n",
              "      <td>3.137</td>\n",
              "      <td>3.090</td>\n",
              "      <td>3.047</td>\n",
              "    </tr>\n",
              "    <tr>\n",
              "      <th>Austria</th>\n",
              "      <td>3.573</td>\n",
              "      <td>3.463</td>\n",
              "      <td>3.333</td>\n",
              "      <td>3.210</td>\n",
              "      <td>3.113</td>\n",
              "      <td>3.043</td>\n",
              "      <td>2.987</td>\n",
              "      <td>2.943</td>\n",
              "      <td>2.897</td>\n",
              "      <td>2.843</td>\n",
              "    </tr>\n",
              "  </tbody>\n",
              "</table>\n",
              "</div>"
            ],
            "text/plain": [
              "                       2010    2011    2012  ...    2017    2018    2019\n",
              "Location                                     ...                        \n",
              "Afghanistan          64.023  61.640  59.367  ...  49.560  47.983  46.453\n",
              "Albania              11.803  10.807   9.943  ...   8.363   8.453   8.597\n",
              "Algeria              23.540  22.907  22.450  ...  20.850  20.407  19.930\n",
              "Andorra               4.240   4.033   3.843  ...   3.060   2.933   2.827\n",
              "Angola               75.713  71.280  67.233  ...  53.460  51.757  50.093\n",
              "Antigua and Barbuda   8.667   8.223   7.807  ...   6.230   6.000   5.783\n",
              "Argentina            12.887  12.380  11.840  ...   9.177   8.680   8.227\n",
              "Armenia              16.497  15.677  14.897  ...  11.583  11.007  10.497\n",
              "Australia             3.993   3.803   3.623  ...   3.137   3.090   3.047\n",
              "Austria               3.573   3.463   3.333  ...   2.943   2.897   2.843\n",
              "\n",
              "[10 rows x 10 columns]"
            ]
          },
          "metadata": {
            "tags": []
          },
          "execution_count": 284
        }
      ]
    },
    {
      "cell_type": "code",
      "metadata": {
        "id": "2s44PKIZ3er5"
      },
      "source": [
        "df3 = df.iloc[:2,:4]\n",
        "df4 = df.iloc[5:,3:]"
      ],
      "execution_count": null,
      "outputs": []
    },
    {
      "cell_type": "code",
      "metadata": {
        "colab": {
          "base_uri": "https://localhost:8080/",
          "height": 336
        },
        "id": "zP8dYJEj3z1M",
        "outputId": "3b0a6414-1427-409a-bdc7-1916b08a78ac"
      },
      "source": [
        "pd.concat([df3, df4], join =\" inner\")"
      ],
      "execution_count": null,
      "outputs": [
        {
          "output_type": "error",
          "ename": "ValueError",
          "evalue": "ignored",
          "traceback": [
            "\u001b[0;31m---------------------------------------------------------------------------\u001b[0m",
            "\u001b[0;31mValueError\u001b[0m                                Traceback (most recent call last)",
            "\u001b[0;32m<ipython-input-288-899c498ffba1>\u001b[0m in \u001b[0;36m<module>\u001b[0;34m()\u001b[0m\n\u001b[0;32m----> 1\u001b[0;31m \u001b[0mpd\u001b[0m\u001b[0;34m.\u001b[0m\u001b[0mconcat\u001b[0m\u001b[0;34m(\u001b[0m\u001b[0;34m[\u001b[0m\u001b[0mdf3\u001b[0m\u001b[0;34m,\u001b[0m \u001b[0mdf4\u001b[0m\u001b[0;34m]\u001b[0m\u001b[0;34m,\u001b[0m \u001b[0mjoin\u001b[0m \u001b[0;34m=\u001b[0m\u001b[0;34m\" inner\"\u001b[0m\u001b[0;34m)\u001b[0m\u001b[0;34m\u001b[0m\u001b[0;34m\u001b[0m\u001b[0m\n\u001b[0m",
            "\u001b[0;32m/usr/local/lib/python3.7/dist-packages/pandas/core/reshape/concat.py\u001b[0m in \u001b[0;36mconcat\u001b[0;34m(objs, axis, join, ignore_index, keys, levels, names, verify_integrity, sort, copy)\u001b[0m\n\u001b[1;32m    282\u001b[0m         \u001b[0mverify_integrity\u001b[0m\u001b[0;34m=\u001b[0m\u001b[0mverify_integrity\u001b[0m\u001b[0;34m,\u001b[0m\u001b[0;34m\u001b[0m\u001b[0;34m\u001b[0m\u001b[0m\n\u001b[1;32m    283\u001b[0m         \u001b[0mcopy\u001b[0m\u001b[0;34m=\u001b[0m\u001b[0mcopy\u001b[0m\u001b[0;34m,\u001b[0m\u001b[0;34m\u001b[0m\u001b[0;34m\u001b[0m\u001b[0m\n\u001b[0;32m--> 284\u001b[0;31m         \u001b[0msort\u001b[0m\u001b[0;34m=\u001b[0m\u001b[0msort\u001b[0m\u001b[0;34m,\u001b[0m\u001b[0;34m\u001b[0m\u001b[0;34m\u001b[0m\u001b[0m\n\u001b[0m\u001b[1;32m    285\u001b[0m     )\n\u001b[1;32m    286\u001b[0m \u001b[0;34m\u001b[0m\u001b[0m\n",
            "\u001b[0;32m/usr/local/lib/python3.7/dist-packages/pandas/core/reshape/concat.py\u001b[0m in \u001b[0;36m__init__\u001b[0;34m(self, objs, axis, join, keys, levels, names, ignore_index, verify_integrity, copy, sort)\u001b[0m\n\u001b[1;32m    318\u001b[0m         \u001b[0;32melse\u001b[0m\u001b[0;34m:\u001b[0m  \u001b[0;31m# pragma: no cover\u001b[0m\u001b[0;34m\u001b[0m\u001b[0;34m\u001b[0m\u001b[0m\n\u001b[1;32m    319\u001b[0m             raise ValueError(\n\u001b[0;32m--> 320\u001b[0;31m                 \u001b[0;34m\"Only can inner (intersect) or outer (union) join the other axis\"\u001b[0m\u001b[0;34m\u001b[0m\u001b[0;34m\u001b[0m\u001b[0m\n\u001b[0m\u001b[1;32m    321\u001b[0m             )\n\u001b[1;32m    322\u001b[0m \u001b[0;34m\u001b[0m\u001b[0m\n",
            "\u001b[0;31mValueError\u001b[0m: Only can inner (intersect) or outer (union) join the other axis"
          ]
        }
      ]
    },
    {
      "cell_type": "code",
      "metadata": {
        "colab": {
          "base_uri": "https://localhost:8080/",
          "height": 287
        },
        "id": "lYa-e7mt356i",
        "outputId": "f52eb506-62c7-4699-a311-b441d5746767"
      },
      "source": [
        "pd.concat([df3,df4],join='outer').fillna(0)"
      ],
      "execution_count": null,
      "outputs": [
        {
          "output_type": "execute_result",
          "data": {
            "text/html": [
              "<div>\n",
              "<style scoped>\n",
              "    .dataframe tbody tr th:only-of-type {\n",
              "        vertical-align: middle;\n",
              "    }\n",
              "\n",
              "    .dataframe tbody tr th {\n",
              "        vertical-align: top;\n",
              "    }\n",
              "\n",
              "    .dataframe thead th {\n",
              "        text-align: right;\n",
              "    }\n",
              "</style>\n",
              "<table border=\"1\" class=\"dataframe\">\n",
              "  <thead>\n",
              "    <tr style=\"text-align: right;\">\n",
              "      <th></th>\n",
              "      <th>2010</th>\n",
              "      <th>2011</th>\n",
              "      <th>2012</th>\n",
              "      <th>2013</th>\n",
              "      <th>2014</th>\n",
              "      <th>2015</th>\n",
              "      <th>2016</th>\n",
              "      <th>2017</th>\n",
              "      <th>2018</th>\n",
              "      <th>2019</th>\n",
              "    </tr>\n",
              "    <tr>\n",
              "      <th>Location</th>\n",
              "      <th></th>\n",
              "      <th></th>\n",
              "      <th></th>\n",
              "      <th></th>\n",
              "      <th></th>\n",
              "      <th></th>\n",
              "      <th></th>\n",
              "      <th></th>\n",
              "      <th></th>\n",
              "      <th></th>\n",
              "    </tr>\n",
              "  </thead>\n",
              "  <tbody>\n",
              "    <tr>\n",
              "      <th>Afghanistan</th>\n",
              "      <td>64.023</td>\n",
              "      <td>61.640</td>\n",
              "      <td>59.367</td>\n",
              "      <td>57.170</td>\n",
              "      <td>0.000</td>\n",
              "      <td>0.000</td>\n",
              "      <td>0.000</td>\n",
              "      <td>0.000</td>\n",
              "      <td>0.000</td>\n",
              "      <td>0.000</td>\n",
              "    </tr>\n",
              "    <tr>\n",
              "      <th>Albania</th>\n",
              "      <td>11.803</td>\n",
              "      <td>10.807</td>\n",
              "      <td>9.943</td>\n",
              "      <td>9.267</td>\n",
              "      <td>0.000</td>\n",
              "      <td>0.000</td>\n",
              "      <td>0.000</td>\n",
              "      <td>0.000</td>\n",
              "      <td>0.000</td>\n",
              "      <td>0.000</td>\n",
              "    </tr>\n",
              "    <tr>\n",
              "      <th>Antigua and Barbuda</th>\n",
              "      <td>0.000</td>\n",
              "      <td>0.000</td>\n",
              "      <td>0.000</td>\n",
              "      <td>7.420</td>\n",
              "      <td>7.070</td>\n",
              "      <td>6.757</td>\n",
              "      <td>6.483</td>\n",
              "      <td>6.230</td>\n",
              "      <td>6.000</td>\n",
              "      <td>5.783</td>\n",
              "    </tr>\n",
              "    <tr>\n",
              "      <th>Argentina</th>\n",
              "      <td>0.000</td>\n",
              "      <td>0.000</td>\n",
              "      <td>0.000</td>\n",
              "      <td>11.283</td>\n",
              "      <td>10.733</td>\n",
              "      <td>10.203</td>\n",
              "      <td>9.683</td>\n",
              "      <td>9.177</td>\n",
              "      <td>8.680</td>\n",
              "      <td>8.227</td>\n",
              "    </tr>\n",
              "    <tr>\n",
              "      <th>Armenia</th>\n",
              "      <td>0.000</td>\n",
              "      <td>0.000</td>\n",
              "      <td>0.000</td>\n",
              "      <td>14.170</td>\n",
              "      <td>13.477</td>\n",
              "      <td>12.817</td>\n",
              "      <td>12.183</td>\n",
              "      <td>11.583</td>\n",
              "      <td>11.007</td>\n",
              "      <td>10.497</td>\n",
              "    </tr>\n",
              "    <tr>\n",
              "      <th>Australia</th>\n",
              "      <td>0.000</td>\n",
              "      <td>0.000</td>\n",
              "      <td>0.000</td>\n",
              "      <td>3.467</td>\n",
              "      <td>3.343</td>\n",
              "      <td>3.253</td>\n",
              "      <td>3.183</td>\n",
              "      <td>3.137</td>\n",
              "      <td>3.090</td>\n",
              "      <td>3.047</td>\n",
              "    </tr>\n",
              "    <tr>\n",
              "      <th>Austria</th>\n",
              "      <td>0.000</td>\n",
              "      <td>0.000</td>\n",
              "      <td>0.000</td>\n",
              "      <td>3.210</td>\n",
              "      <td>3.113</td>\n",
              "      <td>3.043</td>\n",
              "      <td>2.987</td>\n",
              "      <td>2.943</td>\n",
              "      <td>2.897</td>\n",
              "      <td>2.843</td>\n",
              "    </tr>\n",
              "  </tbody>\n",
              "</table>\n",
              "</div>"
            ],
            "text/plain": [
              "                       2010    2011    2012  ...    2017    2018    2019\n",
              "Location                                     ...                        \n",
              "Afghanistan          64.023  61.640  59.367  ...   0.000   0.000   0.000\n",
              "Albania              11.803  10.807   9.943  ...   0.000   0.000   0.000\n",
              "Antigua and Barbuda   0.000   0.000   0.000  ...   6.230   6.000   5.783\n",
              "Argentina             0.000   0.000   0.000  ...   9.177   8.680   8.227\n",
              "Armenia               0.000   0.000   0.000  ...  11.583  11.007  10.497\n",
              "Australia             0.000   0.000   0.000  ...   3.137   3.090   3.047\n",
              "Austria               0.000   0.000   0.000  ...   2.943   2.897   2.843\n",
              "\n",
              "[7 rows x 10 columns]"
            ]
          },
          "metadata": {
            "tags": []
          },
          "execution_count": 289
        }
      ]
    },
    {
      "cell_type": "code",
      "metadata": {
        "id": "YtPKOjw14Ql4"
      },
      "source": [
        "df5 = df.T.iloc[:7,:3]\n",
        "df6 = df.T.iloc[6:,2:5]"
      ],
      "execution_count": null,
      "outputs": []
    },
    {
      "cell_type": "code",
      "metadata": {
        "colab": {
          "base_uri": "https://localhost:8080/",
          "height": 77
        },
        "id": "XIgv2N0O4ETq",
        "outputId": "0e3db33b-8a61-4d08-9582-3e3831076f10"
      },
      "source": [
        "pd.merge(df5,df6,on='Algeria',how='inner',left_index=True,right_index=True)"
      ],
      "execution_count": null,
      "outputs": [
        {
          "output_type": "execute_result",
          "data": {
            "text/html": [
              "<div>\n",
              "<style scoped>\n",
              "    .dataframe tbody tr th:only-of-type {\n",
              "        vertical-align: middle;\n",
              "    }\n",
              "\n",
              "    .dataframe tbody tr th {\n",
              "        vertical-align: top;\n",
              "    }\n",
              "\n",
              "    .dataframe thead th {\n",
              "        text-align: right;\n",
              "    }\n",
              "</style>\n",
              "<table border=\"1\" class=\"dataframe\">\n",
              "  <thead>\n",
              "    <tr style=\"text-align: right;\">\n",
              "      <th>Location</th>\n",
              "      <th>Afghanistan</th>\n",
              "      <th>Albania</th>\n",
              "      <th>Algeria</th>\n",
              "      <th>Andorra</th>\n",
              "      <th>Angola</th>\n",
              "    </tr>\n",
              "  </thead>\n",
              "  <tbody>\n",
              "    <tr>\n",
              "      <th>2016</th>\n",
              "      <td>51.267</td>\n",
              "      <td>8.363</td>\n",
              "      <td>21.257</td>\n",
              "      <td>3.187</td>\n",
              "      <td>55.51</td>\n",
              "    </tr>\n",
              "  </tbody>\n",
              "</table>\n",
              "</div>"
            ],
            "text/plain": [
              "Location  Afghanistan  Albania  Algeria  Andorra  Angola\n",
              "2016           51.267    8.363   21.257    3.187   55.51"
            ]
          },
          "metadata": {
            "tags": []
          },
          "execution_count": 292
        }
      ]
    },
    {
      "cell_type": "code",
      "metadata": {
        "id": "ieeqlJQX4PQ5"
      },
      "source": [
        "pd.merge(df5, df6, on=\"Algeria\", how=\"inner\", left_index=True, )"
      ],
      "execution_count": null,
      "outputs": []
    },
    {
      "cell_type": "code",
      "metadata": {
        "id": "DpYRu9UQfPQi"
      },
      "source": [
        "import pandas as pd\n",
        "df = pd.read_csv('https://raw.githubusercontent.com/Datamanim/dataq/main/diamonds.csv',index_col=0)"
      ],
      "execution_count": 4,
      "outputs": []
    },
    {
      "cell_type": "code",
      "metadata": {
        "id": "XAsXI71VfQ8_",
        "outputId": "d2232fd6-b668-45e0-b692-3e8c55c99747",
        "colab": {
          "base_uri": "https://localhost:8080/",
          "height": 406
        }
      },
      "source": [
        "df"
      ],
      "execution_count": 6,
      "outputs": [
        {
          "output_type": "execute_result",
          "data": {
            "text/html": [
              "<div>\n",
              "<style scoped>\n",
              "    .dataframe tbody tr th:only-of-type {\n",
              "        vertical-align: middle;\n",
              "    }\n",
              "\n",
              "    .dataframe tbody tr th {\n",
              "        vertical-align: top;\n",
              "    }\n",
              "\n",
              "    .dataframe thead th {\n",
              "        text-align: right;\n",
              "    }\n",
              "</style>\n",
              "<table border=\"1\" class=\"dataframe\">\n",
              "  <thead>\n",
              "    <tr style=\"text-align: right;\">\n",
              "      <th></th>\n",
              "      <th>carat</th>\n",
              "      <th>cut</th>\n",
              "      <th>color</th>\n",
              "      <th>clarity</th>\n",
              "      <th>depth</th>\n",
              "      <th>table</th>\n",
              "      <th>price</th>\n",
              "      <th>x</th>\n",
              "      <th>y</th>\n",
              "      <th>z</th>\n",
              "    </tr>\n",
              "  </thead>\n",
              "  <tbody>\n",
              "    <tr>\n",
              "      <th>1</th>\n",
              "      <td>0.23</td>\n",
              "      <td>Ideal</td>\n",
              "      <td>E</td>\n",
              "      <td>SI2</td>\n",
              "      <td>61.5</td>\n",
              "      <td>55.0</td>\n",
              "      <td>326</td>\n",
              "      <td>3.95</td>\n",
              "      <td>3.98</td>\n",
              "      <td>2.43</td>\n",
              "    </tr>\n",
              "    <tr>\n",
              "      <th>2</th>\n",
              "      <td>0.21</td>\n",
              "      <td>Premium</td>\n",
              "      <td>E</td>\n",
              "      <td>SI1</td>\n",
              "      <td>59.8</td>\n",
              "      <td>61.0</td>\n",
              "      <td>326</td>\n",
              "      <td>3.89</td>\n",
              "      <td>3.84</td>\n",
              "      <td>2.31</td>\n",
              "    </tr>\n",
              "    <tr>\n",
              "      <th>3</th>\n",
              "      <td>0.23</td>\n",
              "      <td>Good</td>\n",
              "      <td>E</td>\n",
              "      <td>VS1</td>\n",
              "      <td>56.9</td>\n",
              "      <td>65.0</td>\n",
              "      <td>327</td>\n",
              "      <td>4.05</td>\n",
              "      <td>4.07</td>\n",
              "      <td>2.31</td>\n",
              "    </tr>\n",
              "    <tr>\n",
              "      <th>4</th>\n",
              "      <td>0.29</td>\n",
              "      <td>Premium</td>\n",
              "      <td>I</td>\n",
              "      <td>VS2</td>\n",
              "      <td>62.4</td>\n",
              "      <td>58.0</td>\n",
              "      <td>334</td>\n",
              "      <td>4.20</td>\n",
              "      <td>4.23</td>\n",
              "      <td>2.63</td>\n",
              "    </tr>\n",
              "    <tr>\n",
              "      <th>5</th>\n",
              "      <td>0.31</td>\n",
              "      <td>Good</td>\n",
              "      <td>J</td>\n",
              "      <td>SI2</td>\n",
              "      <td>63.3</td>\n",
              "      <td>58.0</td>\n",
              "      <td>335</td>\n",
              "      <td>4.34</td>\n",
              "      <td>4.35</td>\n",
              "      <td>2.75</td>\n",
              "    </tr>\n",
              "    <tr>\n",
              "      <th>...</th>\n",
              "      <td>...</td>\n",
              "      <td>...</td>\n",
              "      <td>...</td>\n",
              "      <td>...</td>\n",
              "      <td>...</td>\n",
              "      <td>...</td>\n",
              "      <td>...</td>\n",
              "      <td>...</td>\n",
              "      <td>...</td>\n",
              "      <td>...</td>\n",
              "    </tr>\n",
              "    <tr>\n",
              "      <th>53936</th>\n",
              "      <td>0.72</td>\n",
              "      <td>Ideal</td>\n",
              "      <td>D</td>\n",
              "      <td>SI1</td>\n",
              "      <td>60.8</td>\n",
              "      <td>57.0</td>\n",
              "      <td>2757</td>\n",
              "      <td>5.75</td>\n",
              "      <td>5.76</td>\n",
              "      <td>3.50</td>\n",
              "    </tr>\n",
              "    <tr>\n",
              "      <th>53937</th>\n",
              "      <td>0.72</td>\n",
              "      <td>Good</td>\n",
              "      <td>D</td>\n",
              "      <td>SI1</td>\n",
              "      <td>63.1</td>\n",
              "      <td>55.0</td>\n",
              "      <td>2757</td>\n",
              "      <td>5.69</td>\n",
              "      <td>5.75</td>\n",
              "      <td>3.61</td>\n",
              "    </tr>\n",
              "    <tr>\n",
              "      <th>53938</th>\n",
              "      <td>0.70</td>\n",
              "      <td>Very Good</td>\n",
              "      <td>D</td>\n",
              "      <td>SI1</td>\n",
              "      <td>62.8</td>\n",
              "      <td>60.0</td>\n",
              "      <td>2757</td>\n",
              "      <td>5.66</td>\n",
              "      <td>5.68</td>\n",
              "      <td>3.56</td>\n",
              "    </tr>\n",
              "    <tr>\n",
              "      <th>53939</th>\n",
              "      <td>0.86</td>\n",
              "      <td>Premium</td>\n",
              "      <td>H</td>\n",
              "      <td>SI2</td>\n",
              "      <td>61.0</td>\n",
              "      <td>58.0</td>\n",
              "      <td>2757</td>\n",
              "      <td>6.15</td>\n",
              "      <td>6.12</td>\n",
              "      <td>3.74</td>\n",
              "    </tr>\n",
              "    <tr>\n",
              "      <th>53940</th>\n",
              "      <td>0.75</td>\n",
              "      <td>Ideal</td>\n",
              "      <td>D</td>\n",
              "      <td>SI2</td>\n",
              "      <td>62.2</td>\n",
              "      <td>55.0</td>\n",
              "      <td>2757</td>\n",
              "      <td>5.83</td>\n",
              "      <td>5.87</td>\n",
              "      <td>3.64</td>\n",
              "    </tr>\n",
              "  </tbody>\n",
              "</table>\n",
              "<p>53940 rows × 10 columns</p>\n",
              "</div>"
            ],
            "text/plain": [
              "       carat        cut color clarity  depth  table  price     x     y     z\n",
              "1       0.23      Ideal     E     SI2   61.5   55.0    326  3.95  3.98  2.43\n",
              "2       0.21    Premium     E     SI1   59.8   61.0    326  3.89  3.84  2.31\n",
              "3       0.23       Good     E     VS1   56.9   65.0    327  4.05  4.07  2.31\n",
              "4       0.29    Premium     I     VS2   62.4   58.0    334  4.20  4.23  2.63\n",
              "5       0.31       Good     J     SI2   63.3   58.0    335  4.34  4.35  2.75\n",
              "...      ...        ...   ...     ...    ...    ...    ...   ...   ...   ...\n",
              "53936   0.72      Ideal     D     SI1   60.8   57.0   2757  5.75  5.76  3.50\n",
              "53937   0.72       Good     D     SI1   63.1   55.0   2757  5.69  5.75  3.61\n",
              "53938   0.70  Very Good     D     SI1   62.8   60.0   2757  5.66  5.68  3.56\n",
              "53939   0.86    Premium     H     SI2   61.0   58.0   2757  6.15  6.12  3.74\n",
              "53940   0.75      Ideal     D     SI2   62.2   55.0   2757  5.83  5.87  3.64\n",
              "\n",
              "[53940 rows x 10 columns]"
            ]
          },
          "metadata": {
            "tags": []
          },
          "execution_count": 6
        }
      ]
    },
    {
      "cell_type": "code",
      "metadata": {
        "id": "LHQvgzG0fR_c",
        "outputId": "d4c52fc2-23a8-4237-c43e-d78715ce8e03",
        "colab": {
          "base_uri": "https://localhost:8080/"
        }
      },
      "source": [
        "df_corr = df[[\"carat\", \"price\"]].corr()\n",
        "df_corr.iloc[0, 1]"
      ],
      "execution_count": 12,
      "outputs": [
        {
          "output_type": "execute_result",
          "data": {
            "text/plain": [
              "0.9215913011935697"
            ]
          },
          "metadata": {
            "tags": []
          },
          "execution_count": 12
        }
      ]
    },
    {
      "cell_type": "code",
      "metadata": {
        "id": "npVZNdnIfZd-",
        "outputId": "cb7228aa-f4a6-4e24-9397-f25e053d73d1",
        "colab": {
          "base_uri": "https://localhost:8080/"
        }
      },
      "source": [
        "import scipy.stats as st\n",
        "st.ttest_ind(df[\"carat\"], df[\"price\"])"
      ],
      "execution_count": 16,
      "outputs": [
        {
          "output_type": "execute_result",
          "data": {
            "text/plain": [
              "Ttest_indResult(statistic=-228.9060465473468, pvalue=0.0)"
            ]
          },
          "metadata": {
            "tags": []
          },
          "execution_count": 16
        }
      ]
    },
    {
      "cell_type": "code",
      "metadata": {
        "id": "UjlIxBs6f7v_",
        "outputId": "2fc6dce7-230f-46ad-fa7e-d70a8cae9e67",
        "colab": {
          "base_uri": "https://localhost:8080/"
        }
      },
      "source": [
        "h_prop = df[df[\"color\"] == \"H\"]\n",
        "st.ttest_1samp(h_prop[\"price\"] , 3932)"
      ],
      "execution_count": 20,
      "outputs": [
        {
          "output_type": "execute_result",
          "data": {
            "text/plain": [
              "Ttest_1sampResult(statistic=11.988997411117696, pvalue=7.569973305218302e-33)"
            ]
          },
          "metadata": {
            "tags": []
          },
          "execution_count": 20
        }
      ]
    },
    {
      "cell_type": "code",
      "metadata": {
        "id": "qOynSHmBghZE",
        "outputId": "77f3b6a2-939a-4b03-b88b-08d516b0d7e3",
        "colab": {
          "base_uri": "https://localhost:8080/"
        }
      },
      "source": [
        "h1 = df[df[\"color\"] == \"F\"]\n",
        "h2 = df[df[\"color\"] == \"G\"]\n",
        "st.levene(h1[\"price\"] , h2[\"price\"]), st.fligner(h1[\"price\"] , h2[\"price\"]), st.bartlett(h1[\"price\"] , h2[\"price\"])"
      ],
      "execution_count": 23,
      "outputs": [
        {
          "output_type": "execute_result",
          "data": {
            "text/plain": [
              "(LeveneResult(statistic=53.627886257416655, pvalue=2.511093007074788e-13),\n",
              " FlignerResult(statistic=37.04347553879807, pvalue=1.155244880009172e-09),\n",
              " BartlettResult(statistic=47.52732212008511, pvalue=5.424264079418252e-12))"
            ]
          },
          "metadata": {
            "tags": []
          },
          "execution_count": 23
        }
      ]
    },
    {
      "cell_type": "code",
      "metadata": {
        "id": "F0K3V76YhQ3Q",
        "outputId": "730a11d6-82ea-49f9-abc4-78bafc228bbb",
        "colab": {
          "base_uri": "https://localhost:8080/"
        }
      },
      "source": [
        "st.ttest_ind(h1[\"price\"] , h2[\"price\"], equal_var = False)"
      ],
      "execution_count": 25,
      "outputs": [
        {
          "output_type": "execute_result",
          "data": {
            "text/plain": [
              "Ttest_indResult(statistic=-5.045279980436125, pvalue=4.5670321227041464e-07)"
            ]
          },
          "metadata": {
            "tags": []
          },
          "execution_count": 25
        }
      ]
    },
    {
      "cell_type": "code",
      "metadata": {
        "id": "vxZpB-h1huM4",
        "outputId": "2f4eae98-c75f-43b0-db92-9c6e2b0073e4",
        "colab": {
          "base_uri": "https://localhost:8080/"
        }
      },
      "source": [
        "h1 = df[df[\"color\"] == \"F\"]\n",
        "h2 = df[df[\"color\"] == \"G\"]\n",
        "h3 = df[df[\"color\"] == \"D\"]\n",
        "\n",
        "st.f_oneway(h1[\"price\"], h2[\"price\"], h3[\"price\"])"
      ],
      "execution_count": 29,
      "outputs": [
        {
          "output_type": "execute_result",
          "data": {
            "text/plain": [
              "F_onewayResult(statistic=101.1811790316069, pvalue=1.6513790091285713e-44)"
            ]
          },
          "metadata": {
            "tags": []
          },
          "execution_count": 29
        }
      ]
    },
    {
      "cell_type": "code",
      "metadata": {
        "id": "HSd_2CjbiB4Y",
        "outputId": "45774e57-215c-46cf-ee04-e82779b78748",
        "colab": {
          "base_uri": "https://localhost:8080/",
          "height": 354
        }
      },
      "source": [
        "num_df = df.select_dtypes(exclude=\"object\")\n",
        "\n",
        "q1 = df.quantile(0.25)\n",
        "q3 = df.quantile(0.75)\n",
        "iqr = q3 - q1\n",
        "\n",
        "Q1_iqr = df.carat.quantile(0.25) - (iqr * 1.5 )\n",
        "Q3_iqr = df.carat.quantile(0.75) + (iqr * 1.5 )\n",
        "\n",
        "df[(df.carat <= Q1_iqr) | (df.carat >= Q3_iqr)]"
      ],
      "execution_count": 38,
      "outputs": [
        {
          "output_type": "error",
          "ename": "ValueError",
          "evalue": "ignored",
          "traceback": [
            "\u001b[0;31m---------------------------------------------------------------------------\u001b[0m",
            "\u001b[0;31mValueError\u001b[0m                                Traceback (most recent call last)",
            "\u001b[0;32m<ipython-input-38-3d8f1dd5c996>\u001b[0m in \u001b[0;36m<module>\u001b[0;34m()\u001b[0m\n\u001b[1;32m      8\u001b[0m \u001b[0mQ3_iqr\u001b[0m \u001b[0;34m=\u001b[0m \u001b[0mdf\u001b[0m\u001b[0;34m.\u001b[0m\u001b[0mcarat\u001b[0m\u001b[0;34m.\u001b[0m\u001b[0mquantile\u001b[0m\u001b[0;34m(\u001b[0m\u001b[0;36m0.75\u001b[0m\u001b[0;34m)\u001b[0m \u001b[0;34m+\u001b[0m \u001b[0;34m(\u001b[0m\u001b[0miqr\u001b[0m \u001b[0;34m*\u001b[0m \u001b[0;36m1.5\u001b[0m \u001b[0;34m)\u001b[0m\u001b[0;34m\u001b[0m\u001b[0;34m\u001b[0m\u001b[0m\n\u001b[1;32m      9\u001b[0m \u001b[0;34m\u001b[0m\u001b[0m\n\u001b[0;32m---> 10\u001b[0;31m \u001b[0mdf\u001b[0m\u001b[0;34m[\u001b[0m\u001b[0;34m(\u001b[0m\u001b[0mdf\u001b[0m\u001b[0;34m.\u001b[0m\u001b[0mcarat\u001b[0m \u001b[0;34m<=\u001b[0m \u001b[0mQ1_iqr\u001b[0m\u001b[0;34m)\u001b[0m \u001b[0;34m|\u001b[0m \u001b[0;34m(\u001b[0m\u001b[0mdf\u001b[0m\u001b[0;34m.\u001b[0m\u001b[0mcarat\u001b[0m \u001b[0;34m>=\u001b[0m \u001b[0mQ3_iqr\u001b[0m\u001b[0;34m)\u001b[0m\u001b[0;34m]\u001b[0m\u001b[0;34m\u001b[0m\u001b[0;34m\u001b[0m\u001b[0m\n\u001b[0m",
            "\u001b[0;32m/usr/local/lib/python3.7/dist-packages/pandas/core/ops/common.py\u001b[0m in \u001b[0;36mnew_method\u001b[0;34m(self, other)\u001b[0m\n\u001b[1;32m     63\u001b[0m         \u001b[0mother\u001b[0m \u001b[0;34m=\u001b[0m \u001b[0mitem_from_zerodim\u001b[0m\u001b[0;34m(\u001b[0m\u001b[0mother\u001b[0m\u001b[0;34m)\u001b[0m\u001b[0;34m\u001b[0m\u001b[0;34m\u001b[0m\u001b[0m\n\u001b[1;32m     64\u001b[0m \u001b[0;34m\u001b[0m\u001b[0m\n\u001b[0;32m---> 65\u001b[0;31m         \u001b[0;32mreturn\u001b[0m \u001b[0mmethod\u001b[0m\u001b[0;34m(\u001b[0m\u001b[0mself\u001b[0m\u001b[0;34m,\u001b[0m \u001b[0mother\u001b[0m\u001b[0;34m)\u001b[0m\u001b[0;34m\u001b[0m\u001b[0;34m\u001b[0m\u001b[0m\n\u001b[0m\u001b[1;32m     66\u001b[0m \u001b[0;34m\u001b[0m\u001b[0m\n\u001b[1;32m     67\u001b[0m     \u001b[0;32mreturn\u001b[0m \u001b[0mnew_method\u001b[0m\u001b[0;34m\u001b[0m\u001b[0;34m\u001b[0m\u001b[0m\n",
            "\u001b[0;32m/usr/local/lib/python3.7/dist-packages/pandas/core/ops/__init__.py\u001b[0m in \u001b[0;36mwrapper\u001b[0;34m(self, other)\u001b[0m\n\u001b[1;32m    363\u001b[0m \u001b[0;34m\u001b[0m\u001b[0m\n\u001b[1;32m    364\u001b[0m         \u001b[0;32mif\u001b[0m \u001b[0misinstance\u001b[0m\u001b[0;34m(\u001b[0m\u001b[0mother\u001b[0m\u001b[0;34m,\u001b[0m \u001b[0mABCSeries\u001b[0m\u001b[0;34m)\u001b[0m \u001b[0;32mand\u001b[0m \u001b[0;32mnot\u001b[0m \u001b[0mself\u001b[0m\u001b[0;34m.\u001b[0m\u001b[0m_indexed_same\u001b[0m\u001b[0;34m(\u001b[0m\u001b[0mother\u001b[0m\u001b[0;34m)\u001b[0m\u001b[0;34m:\u001b[0m\u001b[0;34m\u001b[0m\u001b[0;34m\u001b[0m\u001b[0m\n\u001b[0;32m--> 365\u001b[0;31m             \u001b[0;32mraise\u001b[0m \u001b[0mValueError\u001b[0m\u001b[0;34m(\u001b[0m\u001b[0;34m\"Can only compare identically-labeled Series objects\"\u001b[0m\u001b[0;34m)\u001b[0m\u001b[0;34m\u001b[0m\u001b[0;34m\u001b[0m\u001b[0m\n\u001b[0m\u001b[1;32m    366\u001b[0m \u001b[0;34m\u001b[0m\u001b[0m\n\u001b[1;32m    367\u001b[0m         \u001b[0mlvalues\u001b[0m \u001b[0;34m=\u001b[0m \u001b[0mextract_array\u001b[0m\u001b[0;34m(\u001b[0m\u001b[0mself\u001b[0m\u001b[0;34m,\u001b[0m \u001b[0mextract_numpy\u001b[0m\u001b[0;34m=\u001b[0m\u001b[0;32mTrue\u001b[0m\u001b[0;34m)\u001b[0m\u001b[0;34m\u001b[0m\u001b[0;34m\u001b[0m\u001b[0m\n",
            "\u001b[0;31mValueError\u001b[0m: Can only compare identically-labeled Series objects"
          ]
        }
      ]
    },
    {
      "cell_type": "code",
      "metadata": {
        "id": "-lis2Xi5kb83",
        "outputId": "62d30016-4249-406c-9bca-29d35778a8ec",
        "colab": {
          "base_uri": "https://localhost:8080/",
          "height": 406
        }
      },
      "source": [
        "df"
      ],
      "execution_count": 40,
      "outputs": [
        {
          "output_type": "execute_result",
          "data": {
            "text/html": [
              "<div>\n",
              "<style scoped>\n",
              "    .dataframe tbody tr th:only-of-type {\n",
              "        vertical-align: middle;\n",
              "    }\n",
              "\n",
              "    .dataframe tbody tr th {\n",
              "        vertical-align: top;\n",
              "    }\n",
              "\n",
              "    .dataframe thead th {\n",
              "        text-align: right;\n",
              "    }\n",
              "</style>\n",
              "<table border=\"1\" class=\"dataframe\">\n",
              "  <thead>\n",
              "    <tr style=\"text-align: right;\">\n",
              "      <th></th>\n",
              "      <th>carat</th>\n",
              "      <th>cut</th>\n",
              "      <th>color</th>\n",
              "      <th>clarity</th>\n",
              "      <th>depth</th>\n",
              "      <th>table</th>\n",
              "      <th>price</th>\n",
              "      <th>x</th>\n",
              "      <th>y</th>\n",
              "      <th>z</th>\n",
              "    </tr>\n",
              "  </thead>\n",
              "  <tbody>\n",
              "    <tr>\n",
              "      <th>1</th>\n",
              "      <td>0.23</td>\n",
              "      <td>Ideal</td>\n",
              "      <td>E</td>\n",
              "      <td>SI2</td>\n",
              "      <td>61.5</td>\n",
              "      <td>55.0</td>\n",
              "      <td>326</td>\n",
              "      <td>3.95</td>\n",
              "      <td>3.98</td>\n",
              "      <td>2.43</td>\n",
              "    </tr>\n",
              "    <tr>\n",
              "      <th>2</th>\n",
              "      <td>0.21</td>\n",
              "      <td>Premium</td>\n",
              "      <td>E</td>\n",
              "      <td>SI1</td>\n",
              "      <td>59.8</td>\n",
              "      <td>61.0</td>\n",
              "      <td>326</td>\n",
              "      <td>3.89</td>\n",
              "      <td>3.84</td>\n",
              "      <td>2.31</td>\n",
              "    </tr>\n",
              "    <tr>\n",
              "      <th>3</th>\n",
              "      <td>0.23</td>\n",
              "      <td>Good</td>\n",
              "      <td>E</td>\n",
              "      <td>VS1</td>\n",
              "      <td>56.9</td>\n",
              "      <td>65.0</td>\n",
              "      <td>327</td>\n",
              "      <td>4.05</td>\n",
              "      <td>4.07</td>\n",
              "      <td>2.31</td>\n",
              "    </tr>\n",
              "    <tr>\n",
              "      <th>4</th>\n",
              "      <td>0.29</td>\n",
              "      <td>Premium</td>\n",
              "      <td>I</td>\n",
              "      <td>VS2</td>\n",
              "      <td>62.4</td>\n",
              "      <td>58.0</td>\n",
              "      <td>334</td>\n",
              "      <td>4.20</td>\n",
              "      <td>4.23</td>\n",
              "      <td>2.63</td>\n",
              "    </tr>\n",
              "    <tr>\n",
              "      <th>5</th>\n",
              "      <td>0.31</td>\n",
              "      <td>Good</td>\n",
              "      <td>J</td>\n",
              "      <td>SI2</td>\n",
              "      <td>63.3</td>\n",
              "      <td>58.0</td>\n",
              "      <td>335</td>\n",
              "      <td>4.34</td>\n",
              "      <td>4.35</td>\n",
              "      <td>2.75</td>\n",
              "    </tr>\n",
              "    <tr>\n",
              "      <th>...</th>\n",
              "      <td>...</td>\n",
              "      <td>...</td>\n",
              "      <td>...</td>\n",
              "      <td>...</td>\n",
              "      <td>...</td>\n",
              "      <td>...</td>\n",
              "      <td>...</td>\n",
              "      <td>...</td>\n",
              "      <td>...</td>\n",
              "      <td>...</td>\n",
              "    </tr>\n",
              "    <tr>\n",
              "      <th>53936</th>\n",
              "      <td>0.72</td>\n",
              "      <td>Ideal</td>\n",
              "      <td>D</td>\n",
              "      <td>SI1</td>\n",
              "      <td>60.8</td>\n",
              "      <td>57.0</td>\n",
              "      <td>2757</td>\n",
              "      <td>5.75</td>\n",
              "      <td>5.76</td>\n",
              "      <td>3.50</td>\n",
              "    </tr>\n",
              "    <tr>\n",
              "      <th>53937</th>\n",
              "      <td>0.72</td>\n",
              "      <td>Good</td>\n",
              "      <td>D</td>\n",
              "      <td>SI1</td>\n",
              "      <td>63.1</td>\n",
              "      <td>55.0</td>\n",
              "      <td>2757</td>\n",
              "      <td>5.69</td>\n",
              "      <td>5.75</td>\n",
              "      <td>3.61</td>\n",
              "    </tr>\n",
              "    <tr>\n",
              "      <th>53938</th>\n",
              "      <td>0.70</td>\n",
              "      <td>Very Good</td>\n",
              "      <td>D</td>\n",
              "      <td>SI1</td>\n",
              "      <td>62.8</td>\n",
              "      <td>60.0</td>\n",
              "      <td>2757</td>\n",
              "      <td>5.66</td>\n",
              "      <td>5.68</td>\n",
              "      <td>3.56</td>\n",
              "    </tr>\n",
              "    <tr>\n",
              "      <th>53939</th>\n",
              "      <td>0.86</td>\n",
              "      <td>Premium</td>\n",
              "      <td>H</td>\n",
              "      <td>SI2</td>\n",
              "      <td>61.0</td>\n",
              "      <td>58.0</td>\n",
              "      <td>2757</td>\n",
              "      <td>6.15</td>\n",
              "      <td>6.12</td>\n",
              "      <td>3.74</td>\n",
              "    </tr>\n",
              "    <tr>\n",
              "      <th>53940</th>\n",
              "      <td>0.75</td>\n",
              "      <td>Ideal</td>\n",
              "      <td>D</td>\n",
              "      <td>SI2</td>\n",
              "      <td>62.2</td>\n",
              "      <td>55.0</td>\n",
              "      <td>2757</td>\n",
              "      <td>5.83</td>\n",
              "      <td>5.87</td>\n",
              "      <td>3.64</td>\n",
              "    </tr>\n",
              "  </tbody>\n",
              "</table>\n",
              "<p>53940 rows × 10 columns</p>\n",
              "</div>"
            ],
            "text/plain": [
              "       carat        cut color clarity  depth  table  price     x     y     z\n",
              "1       0.23      Ideal     E     SI2   61.5   55.0    326  3.95  3.98  2.43\n",
              "2       0.21    Premium     E     SI1   59.8   61.0    326  3.89  3.84  2.31\n",
              "3       0.23       Good     E     VS1   56.9   65.0    327  4.05  4.07  2.31\n",
              "4       0.29    Premium     I     VS2   62.4   58.0    334  4.20  4.23  2.63\n",
              "5       0.31       Good     J     SI2   63.3   58.0    335  4.34  4.35  2.75\n",
              "...      ...        ...   ...     ...    ...    ...    ...   ...   ...   ...\n",
              "53936   0.72      Ideal     D     SI1   60.8   57.0   2757  5.75  5.76  3.50\n",
              "53937   0.72       Good     D     SI1   63.1   55.0   2757  5.69  5.75  3.61\n",
              "53938   0.70  Very Good     D     SI1   62.8   60.0   2757  5.66  5.68  3.56\n",
              "53939   0.86    Premium     H     SI2   61.0   58.0   2757  6.15  6.12  3.74\n",
              "53940   0.75      Ideal     D     SI2   62.2   55.0   2757  5.83  5.87  3.64\n",
              "\n",
              "[53940 rows x 10 columns]"
            ]
          },
          "metadata": {
            "tags": []
          },
          "execution_count": 40
        }
      ]
    },
    {
      "cell_type": "code",
      "metadata": {
        "id": "g8-ph5kAiDmL",
        "outputId": "37840513-fb46-438c-eaa1-87ba2f5c4ee2",
        "colab": {
          "base_uri": "https://localhost:8080/",
          "height": 287
        }
      },
      "source": [
        "df.groupby(\"color\")[\"price\"].agg([\"max\", \"min\", \"mean\"])"
      ],
      "execution_count": 44,
      "outputs": [
        {
          "output_type": "execute_result",
          "data": {
            "text/html": [
              "<div>\n",
              "<style scoped>\n",
              "    .dataframe tbody tr th:only-of-type {\n",
              "        vertical-align: middle;\n",
              "    }\n",
              "\n",
              "    .dataframe tbody tr th {\n",
              "        vertical-align: top;\n",
              "    }\n",
              "\n",
              "    .dataframe thead th {\n",
              "        text-align: right;\n",
              "    }\n",
              "</style>\n",
              "<table border=\"1\" class=\"dataframe\">\n",
              "  <thead>\n",
              "    <tr style=\"text-align: right;\">\n",
              "      <th></th>\n",
              "      <th>max</th>\n",
              "      <th>min</th>\n",
              "      <th>mean</th>\n",
              "    </tr>\n",
              "    <tr>\n",
              "      <th>color</th>\n",
              "      <th></th>\n",
              "      <th></th>\n",
              "      <th></th>\n",
              "    </tr>\n",
              "  </thead>\n",
              "  <tbody>\n",
              "    <tr>\n",
              "      <th>D</th>\n",
              "      <td>18693</td>\n",
              "      <td>357</td>\n",
              "      <td>3169.954096</td>\n",
              "    </tr>\n",
              "    <tr>\n",
              "      <th>E</th>\n",
              "      <td>18731</td>\n",
              "      <td>326</td>\n",
              "      <td>3076.752475</td>\n",
              "    </tr>\n",
              "    <tr>\n",
              "      <th>F</th>\n",
              "      <td>18791</td>\n",
              "      <td>342</td>\n",
              "      <td>3724.886397</td>\n",
              "    </tr>\n",
              "    <tr>\n",
              "      <th>G</th>\n",
              "      <td>18818</td>\n",
              "      <td>354</td>\n",
              "      <td>3999.135671</td>\n",
              "    </tr>\n",
              "    <tr>\n",
              "      <th>H</th>\n",
              "      <td>18803</td>\n",
              "      <td>337</td>\n",
              "      <td>4486.669196</td>\n",
              "    </tr>\n",
              "    <tr>\n",
              "      <th>I</th>\n",
              "      <td>18823</td>\n",
              "      <td>334</td>\n",
              "      <td>5091.874954</td>\n",
              "    </tr>\n",
              "    <tr>\n",
              "      <th>J</th>\n",
              "      <td>18710</td>\n",
              "      <td>335</td>\n",
              "      <td>5323.818020</td>\n",
              "    </tr>\n",
              "  </tbody>\n",
              "</table>\n",
              "</div>"
            ],
            "text/plain": [
              "         max  min         mean\n",
              "color                         \n",
              "D      18693  357  3169.954096\n",
              "E      18731  326  3076.752475\n",
              "F      18791  342  3724.886397\n",
              "G      18818  354  3999.135671\n",
              "H      18803  337  4486.669196\n",
              "I      18823  334  5091.874954\n",
              "J      18710  335  5323.818020"
            ]
          },
          "metadata": {
            "tags": []
          },
          "execution_count": 44
        }
      ]
    },
    {
      "cell_type": "code",
      "metadata": {
        "id": "8w2EYYnOkaOW",
        "outputId": "ceb8f367-9fbb-4377-d3d6-f651bf4b8c41",
        "colab": {
          "base_uri": "https://localhost:8080/"
        }
      },
      "source": [
        "from sklearn.preprocessing import LabelEncoder\n",
        "\n",
        "encoder = LabelEncoder()\n",
        "df[\"color\"] = encoder.fit_transform(df[\"color\"])\n",
        "df[\"color\"].value_counts()"
      ],
      "execution_count": 46,
      "outputs": [
        {
          "output_type": "execute_result",
          "data": {
            "text/plain": [
              "3    11292\n",
              "1     9797\n",
              "2     9542\n",
              "4     8304\n",
              "0     6775\n",
              "5     5422\n",
              "6     2808\n",
              "Name: color, dtype: int64"
            ]
          },
          "metadata": {
            "tags": []
          },
          "execution_count": 46
        }
      ]
    },
    {
      "cell_type": "code",
      "metadata": {
        "id": "Xv2dLKvllDu7"
      },
      "source": [
        "import requests\n",
        "from bs4 import BeautifulSoup as soup\n",
        "\n",
        "url = 'https://movie.naver.com/movie/sdb/rank/rmovie.nhn?sel=cur&date=20210503'\n",
        "\n",
        "data = requests.get(url)\n",
        "soup = soup(data.text)"
      ],
      "execution_count": 47,
      "outputs": []
    },
    {
      "cell_type": "code",
      "metadata": {
        "id": "WL6q8uhBl5MX",
        "outputId": "6580f4ca-775b-4884-b2fb-01c4ff782bd8",
        "colab": {
          "base_uri": "https://localhost:8080/"
        }
      },
      "source": [
        "soup.head()[:5]"
      ],
      "execution_count": 50,
      "outputs": [
        {
          "output_type": "execute_result",
          "data": {
            "text/plain": [
              "[<meta content=\"text/html; charset=utf-8\" http-equiv=\"Content-Type\"/>,\n",
              " <meta content=\"IE=edge\" http-equiv=\"X-UA-Compatible\"/>,\n",
              " <meta content=\"http://imgmovie.naver.com/today/naverme/naverme_profile.jpg\" property=\"me2:image\"/>,\n",
              " <meta content=\"네이버영화 \" property=\"me2:post_tag\"/>,\n",
              " <meta content=\"네이버영화\" property=\"me2:category1\"/>]"
            ]
          },
          "metadata": {
            "tags": []
          },
          "execution_count": 50
        }
      ]
    },
    {
      "cell_type": "code",
      "metadata": {
        "id": "r-Ci3ShVl58J"
      },
      "source": [
        "# 구조를 지켜면서 출력하는 방법 \n",
        "print(soup.prettify())"
      ],
      "execution_count": null,
      "outputs": []
    },
    {
      "cell_type": "code",
      "metadata": {
        "id": "KgfgLfuCmEvX",
        "outputId": "db906509-16c8-415c-e785-1fdcc95e0703",
        "colab": {
          "base_uri": "https://localhost:8080/"
        }
      },
      "source": [
        "soup.find_all(\"meta\")"
      ],
      "execution_count": 52,
      "outputs": [
        {
          "output_type": "execute_result",
          "data": {
            "text/plain": [
              "[<meta content=\"text/html; charset=utf-8\" http-equiv=\"Content-Type\"/>,\n",
              " <meta content=\"IE=edge\" http-equiv=\"X-UA-Compatible\"/>,\n",
              " <meta content=\"http://imgmovie.naver.com/today/naverme/naverme_profile.jpg\" property=\"me2:image\"/>,\n",
              " <meta content=\"네이버영화 \" property=\"me2:post_tag\"/>,\n",
              " <meta content=\"네이버영화\" property=\"me2:category1\"/>,\n",
              " <meta content=\"\" property=\"me2:category2\"/>,\n",
              " <meta content=\"랭킹 : 네이버 영화\" property=\"og:title\"/>,\n",
              " <meta content=\"영화, 영화인, 예매, 박스오피스 랭킹 정보 제공\" property=\"og:description\"/>,\n",
              " <meta content=\"article\" property=\"og:type\"/>,\n",
              " <meta content=\"https://movie.naver.com/movie/sdb/rank/rmovie.nhn?sel=cur&amp;date=20210503\" property=\"og:url\"/>,\n",
              " <meta content=\"http://static.naver.net/m/movie/icons/OG_270_270.png\" property=\"og:image\"/>,\n",
              " <meta content=\"http://imgmovie.naver.com/today/naverme/naverme_profile.jpg\" property=\"og:article:thumbnailUrl\"/>,\n",
              " <meta content=\"네이버 영화\" property=\"og:article:author\"/>,\n",
              " <meta content=\"https://movie.naver.com/\" property=\"og:article:author:url\"/>]"
            ]
          },
          "metadata": {
            "tags": []
          },
          "execution_count": 52
        }
      ]
    },
    {
      "cell_type": "code",
      "metadata": {
        "id": "8wCSmHHvmQwP"
      },
      "source": [
        "soup.find(class_=\"list_ranking\")"
      ],
      "execution_count": null,
      "outputs": []
    },
    {
      "cell_type": "code",
      "metadata": {
        "id": "lVzYMo97mldr",
        "outputId": "8a2d7143-9552-4d18-e609-67c3d4578ae5",
        "colab": {
          "base_uri": "https://localhost:8080/",
          "height": 177
        }
      },
      "source": [
        "url = \"https://raw.githubusercontent.com/Datamanim/video/master/video_games_sale.csv\"\n",
        "\n",
        "df = pd.read_csv(url, index_col=0)\n",
        "df.head(2)"
      ],
      "execution_count": 59,
      "outputs": [
        {
          "output_type": "execute_result",
          "data": {
            "text/html": [
              "<div>\n",
              "<style scoped>\n",
              "    .dataframe tbody tr th:only-of-type {\n",
              "        vertical-align: middle;\n",
              "    }\n",
              "\n",
              "    .dataframe tbody tr th {\n",
              "        vertical-align: top;\n",
              "    }\n",
              "\n",
              "    .dataframe thead th {\n",
              "        text-align: right;\n",
              "    }\n",
              "</style>\n",
              "<table border=\"1\" class=\"dataframe\">\n",
              "  <thead>\n",
              "    <tr style=\"text-align: right;\">\n",
              "      <th></th>\n",
              "      <th>Name</th>\n",
              "      <th>Platform</th>\n",
              "      <th>Year_of_Release</th>\n",
              "      <th>Genre</th>\n",
              "      <th>Publisher</th>\n",
              "      <th>NA_Sales</th>\n",
              "      <th>EU_Sales</th>\n",
              "      <th>JP_Sales</th>\n",
              "      <th>Other_Sales</th>\n",
              "      <th>Global_Sales</th>\n",
              "      <th>Critic_Score</th>\n",
              "      <th>Critic_Count</th>\n",
              "      <th>User_Score</th>\n",
              "      <th>User_Count</th>\n",
              "      <th>Developer</th>\n",
              "      <th>Rating</th>\n",
              "      <th>Year_of_ten</th>\n",
              "    </tr>\n",
              "  </thead>\n",
              "  <tbody>\n",
              "    <tr>\n",
              "      <th>0</th>\n",
              "      <td>Wii Sports</td>\n",
              "      <td>Wii</td>\n",
              "      <td>2006.0</td>\n",
              "      <td>Sports</td>\n",
              "      <td>Nintendo</td>\n",
              "      <td>41.36</td>\n",
              "      <td>28.96</td>\n",
              "      <td>3.77</td>\n",
              "      <td>8.45</td>\n",
              "      <td>82.53</td>\n",
              "      <td>76.0</td>\n",
              "      <td>51.0</td>\n",
              "      <td>8.0</td>\n",
              "      <td>322.0</td>\n",
              "      <td>Nintendo</td>\n",
              "      <td>E</td>\n",
              "      <td>2000.0</td>\n",
              "    </tr>\n",
              "    <tr>\n",
              "      <th>1</th>\n",
              "      <td>Mario Kart Wii</td>\n",
              "      <td>Wii</td>\n",
              "      <td>2008.0</td>\n",
              "      <td>Racing</td>\n",
              "      <td>Nintendo</td>\n",
              "      <td>15.68</td>\n",
              "      <td>12.76</td>\n",
              "      <td>3.79</td>\n",
              "      <td>3.29</td>\n",
              "      <td>35.52</td>\n",
              "      <td>82.0</td>\n",
              "      <td>73.0</td>\n",
              "      <td>8.3</td>\n",
              "      <td>709.0</td>\n",
              "      <td>Nintendo</td>\n",
              "      <td>E</td>\n",
              "      <td>2000.0</td>\n",
              "    </tr>\n",
              "  </tbody>\n",
              "</table>\n",
              "</div>"
            ],
            "text/plain": [
              "             Name Platform  Year_of_Release  ... Developer Rating  Year_of_ten\n",
              "0      Wii Sports      Wii           2006.0  ...  Nintendo      E       2000.0\n",
              "1  Mario Kart Wii      Wii           2008.0  ...  Nintendo      E       2000.0\n",
              "\n",
              "[2 rows x 17 columns]"
            ]
          },
          "metadata": {
            "tags": []
          },
          "execution_count": 59
        }
      ]
    },
    {
      "cell_type": "code",
      "metadata": {
        "id": "9NdgcPEfpQC5",
        "outputId": "406e70a6-20dc-4811-c884-1bcbc90c9a9e",
        "colab": {
          "base_uri": "https://localhost:8080/"
        }
      },
      "source": [
        "df[\"Year_of_Release\"] = df[\"Year_of_Release\"].map(lambda x : x//10 *10)\n",
        "df[\"Year_of_Release\"].value_counts()"
      ],
      "execution_count": 65,
      "outputs": [
        {
          "output_type": "execute_result",
          "data": {
            "text/plain": [
              "2000.0    4609\n",
              "2010.0    2137\n",
              "1990.0      77\n",
              "1980.0       2\n",
              "Name: Year_of_Release, dtype: int64"
            ]
          },
          "metadata": {
            "tags": []
          },
          "execution_count": 65
        }
      ]
    },
    {
      "cell_type": "code",
      "metadata": {
        "id": "0LLkbwjhpqQZ",
        "outputId": "7ce55ed9-0612-4f90-9938-3ed26fb38cd0",
        "colab": {
          "base_uri": "https://localhost:8080/"
        }
      },
      "source": [
        "print(\"max : \", int(df[\"Year_of_Release\"].value_counts().index[0]))\n",
        "print(\"min : \", int(df[\"Year_of_Release\"].value_counts().index[-1]))"
      ],
      "execution_count": 69,
      "outputs": [
        {
          "output_type": "stream",
          "text": [
            "max :  2000\n",
            "min :  1980\n"
          ],
          "name": "stdout"
        }
      ]
    },
    {
      "cell_type": "code",
      "metadata": {
        "id": "4tM-fOhRp4Sl",
        "outputId": "b3f658f5-59e0-4881-ade0-fdc9bfdf17af",
        "colab": {
          "base_uri": "https://localhost:8080/"
        }
      },
      "source": [
        "len(df[(df.Platform.isin([\"PS\",\"PS2\",\"PS3\",\"PS4\", \"PSV\"])) & (df.Genre == \"Action\")])"
      ],
      "execution_count": 72,
      "outputs": [
        {
          "output_type": "execute_result",
          "data": {
            "text/plain": [
              "616"
            ]
          },
          "metadata": {
            "tags": []
          },
          "execution_count": 72
        }
      ]
    },
    {
      "cell_type": "code",
      "metadata": {
        "id": "bhXpegn6rNA2",
        "outputId": "b9cdc9c9-38ca-4962-e247-cb7f9591f543",
        "colab": {
          "base_uri": "https://localhost:8080/",
          "height": 287
        }
      },
      "source": [
        "df_list = df.Platform.value_counts()[df.Platform.value_counts() >= 400].index\n",
        "df[df.Platform.isin(df_list)].groupby(\"Platform\")[\"User_Score\"].mean().sort_values(ascending=False).to_frame()"
      ],
      "execution_count": 90,
      "outputs": [
        {
          "output_type": "execute_result",
          "data": {
            "text/html": [
              "<div>\n",
              "<style scoped>\n",
              "    .dataframe tbody tr th:only-of-type {\n",
              "        vertical-align: middle;\n",
              "    }\n",
              "\n",
              "    .dataframe tbody tr th {\n",
              "        vertical-align: top;\n",
              "    }\n",
              "\n",
              "    .dataframe thead th {\n",
              "        text-align: right;\n",
              "    }\n",
              "</style>\n",
              "<table border=\"1\" class=\"dataframe\">\n",
              "  <thead>\n",
              "    <tr style=\"text-align: right;\">\n",
              "      <th></th>\n",
              "      <th>User_Score</th>\n",
              "    </tr>\n",
              "    <tr>\n",
              "      <th>Platform</th>\n",
              "      <th></th>\n",
              "    </tr>\n",
              "  </thead>\n",
              "  <tbody>\n",
              "    <tr>\n",
              "      <th>PS2</th>\n",
              "      <td>7.664386</td>\n",
              "    </tr>\n",
              "    <tr>\n",
              "      <th>XB</th>\n",
              "      <td>7.540708</td>\n",
              "    </tr>\n",
              "    <tr>\n",
              "      <th>PC</th>\n",
              "      <td>7.060369</td>\n",
              "    </tr>\n",
              "    <tr>\n",
              "      <th>DS</th>\n",
              "      <td>7.047198</td>\n",
              "    </tr>\n",
              "    <tr>\n",
              "      <th>Wii</th>\n",
              "      <td>6.903758</td>\n",
              "    </tr>\n",
              "    <tr>\n",
              "      <th>PS3</th>\n",
              "      <td>6.782705</td>\n",
              "    </tr>\n",
              "    <tr>\n",
              "      <th>X360</th>\n",
              "      <td>6.780769</td>\n",
              "    </tr>\n",
              "  </tbody>\n",
              "</table>\n",
              "</div>"
            ],
            "text/plain": [
              "          User_Score\n",
              "Platform            \n",
              "PS2         7.664386\n",
              "XB          7.540708\n",
              "PC          7.060369\n",
              "DS          7.047198\n",
              "Wii         6.903758\n",
              "PS3         6.782705\n",
              "X360        6.780769"
            ]
          },
          "metadata": {
            "tags": []
          },
          "execution_count": 90
        }
      ]
    },
    {
      "cell_type": "code",
      "metadata": {
        "id": "9Ug8r2V1qRGz",
        "outputId": "5e42a3d4-3f68-407f-a6d1-fd07f22b426f",
        "colab": {
          "base_uri": "https://localhost:8080/"
        }
      },
      "source": [
        "target = df[df.Name.str.contains(\"Mario\")][\"Developer\"].value_counts()\n",
        "\n",
        "target[target == 3].index"
      ],
      "execution_count": 97,
      "outputs": [
        {
          "output_type": "execute_result",
          "data": {
            "text/plain": [
              "Index(['Nintendo, Nintendo Software Technology', 'Nintendo, Nd Cube'], dtype='object')"
            ]
          },
          "metadata": {
            "tags": []
          },
          "execution_count": 97
        }
      ]
    },
    {
      "cell_type": "code",
      "metadata": {
        "id": "faljkoreqr9v",
        "outputId": "da8f2b55-a091-4565-b10c-e90e26434aef",
        "colab": {
          "base_uri": "https://localhost:8080/"
        }
      },
      "source": [
        "df[df.Platform == \"PS2\"].User_Score.kurtosis()"
      ],
      "execution_count": 99,
      "outputs": [
        {
          "output_type": "execute_result",
          "data": {
            "text/plain": [
              "2.4920035946875965"
            ]
          },
          "metadata": {
            "tags": []
          },
          "execution_count": 99
        }
      ]
    },
    {
      "cell_type": "code",
      "metadata": {
        "id": "lTGiWlU8ueRH"
      },
      "source": [
        "# 일반적으로 boolen 타입의 True는 1로 인식하기에 전체 합을 구한다.\n",
        "Ans = (df[['NA_Sales','EU_Sales','JP_Sales','Other_Sales']].sum(axis=1) != df['Global_Sales']).sum()"
      ],
      "execution_count": 100,
      "outputs": []
    },
    {
      "cell_type": "code",
      "metadata": {
        "id": "STShTJjXu4Wt",
        "outputId": "64527947-e2c0-4193-f716-05255844502b",
        "colab": {
          "base_uri": "https://localhost:8080/"
        }
      },
      "source": [
        "Ans"
      ],
      "execution_count": 101,
      "outputs": [
        {
          "output_type": "execute_result",
          "data": {
            "text/plain": [
              "3636"
            ]
          },
          "metadata": {
            "tags": []
          },
          "execution_count": 101
        }
      ]
    },
    {
      "cell_type": "code",
      "metadata": {
        "id": "Hx2TMds2u5Y5",
        "outputId": "d733c569-3522-41aa-b480-af91a66983e5",
        "colab": {
          "base_uri": "https://localhost:8080/"
        }
      },
      "source": [
        "len(df[(df.User_Count >= 120) & (df.User_Score >=9.0)])"
      ],
      "execution_count": 103,
      "outputs": [
        {
          "output_type": "execute_result",
          "data": {
            "text/plain": [
              "86"
            ]
          },
          "metadata": {
            "tags": []
          },
          "execution_count": 103
        }
      ]
    },
    {
      "cell_type": "code",
      "metadata": {
        "id": "TY95gxsZvG0R",
        "outputId": "4d8ab758-40bb-41c8-ad04-70466d04418b",
        "colab": {
          "base_uri": "https://localhost:8080/"
        }
      },
      "source": [
        "from sklearn.preprocessing import RobustScaler\n",
        "\n",
        "rb = RobustScaler()\n",
        "\n",
        "rb_global = rb.fit_transform(df.Global_Sales.values.reshape(-1,1))\n",
        "\n",
        "len(rb_global[rb_global>40])"
      ],
      "execution_count": 107,
      "outputs": [
        {
          "output_type": "execute_result",
          "data": {
            "text/plain": [
              "6"
            ]
          },
          "metadata": {
            "tags": []
          },
          "execution_count": 107
        }
      ]
    },
    {
      "cell_type": "code",
      "metadata": {
        "id": "HR6dIQSZwKX9"
      },
      "source": [
        ""
      ],
      "execution_count": null,
      "outputs": []
    }
  ]
}