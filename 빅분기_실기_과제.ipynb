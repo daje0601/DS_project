{
  "nbformat": 4,
  "nbformat_minor": 0,
  "metadata": {
    "colab": {
      "name": "빅분기 실기 과제.ipynb",
      "provenance": [],
      "mount_file_id": "1WVOYMo53kyiOUfjYn1kx564RNzqg87-b",
      "authorship_tag": "ABX9TyMXpXoKPahzVTl/hDqfgbZN",
      "include_colab_link": true
    },
    "kernelspec": {
      "name": "python3",
      "display_name": "Python 3"
    },
    "language_info": {
      "name": "python"
    },
    "accelerator": "GPU"
  },
  "cells": [
    {
      "cell_type": "markdown",
      "metadata": {
        "id": "view-in-github",
        "colab_type": "text"
      },
      "source": [
        "<a href=\"https://colab.research.google.com/github/daje0601/DS_project/blob/main/%EB%B9%85%EB%B6%84%EA%B8%B0_%EC%8B%A4%EA%B8%B0_%EA%B3%BC%EC%A0%9C.ipynb\" target=\"_parent\"><img src=\"https://colab.research.google.com/assets/colab-badge.svg\" alt=\"Open In Colab\"/></a>"
      ]
    },
    {
      "cell_type": "code",
      "metadata": {
        "colab": {
          "resources": {
            "http://localhost:8080/nbextensions/google.colab/files.js": {
              "data": "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",
              "ok": true,
              "headers": [
                [
                  "content-type",
                  "application/javascript"
                ]
              ],
              "status": 200,
              "status_text": ""
            }
          },
          "base_uri": "https://localhost:8080/",
          "height": 75
        },
        "id": "448cFqZZluHE",
        "outputId": "b026a6d1-5ad3-4cd4-bc92-5c255f05f9bc"
      },
      "source": [
        "from google.colab import files\n",
        "uploaded =files.upload()"
      ],
      "execution_count": 2,
      "outputs": [
        {
          "output_type": "display_data",
          "data": {
            "text/html": [
              "\n",
              "     <input type=\"file\" id=\"files-c6bd8b01-f661-4428-9290-78dfc3032066\" name=\"files[]\" multiple disabled\n",
              "        style=\"border:none\" />\n",
              "     <output id=\"result-c6bd8b01-f661-4428-9290-78dfc3032066\">\n",
              "      Upload widget is only available when the cell has been executed in the\n",
              "      current browser session. Please rerun this cell to enable.\n",
              "      </output>\n",
              "      <script src=\"/nbextensions/google.colab/files.js\"></script> "
            ],
            "text/plain": [
              "<IPython.core.display.HTML object>"
            ]
          },
          "metadata": {
            "tags": []
          }
        },
        {
          "output_type": "stream",
          "text": [
            "Saving submission.csv to submission.csv\n"
          ],
          "name": "stdout"
        }
      ]
    },
    {
      "cell_type": "code",
      "metadata": {
        "colab": {
          "base_uri": "https://localhost:8080/"
        },
        "id": "mK2f9sZqstRp",
        "outputId": "f2cb6906-d7ca-407d-9c5b-2c71fd9b713d"
      },
      "source": [
        "!unzip -qq \"/content/140472_store_credit_card_revenue_data.zip\""
      ],
      "execution_count": 4,
      "outputs": [
        {
          "output_type": "stream",
          "text": [
            "replace submission.csv? [y]es, [n]o, [A]ll, [N]one, [r]ename: Y\n"
          ],
          "name": "stdout"
        }
      ]
    },
    {
      "cell_type": "code",
      "metadata": {
        "id": "tSgKVGy9sgke"
      },
      "source": [
        "import pandas as pd\n",
        "\n",
        "df = pd.read_csv(\"/content/funda_train.csv\")\n",
        "submission = pd.read_csv(\"/content/funda_train.csv\")"
      ],
      "execution_count": 7,
      "outputs": []
    },
    {
      "cell_type": "code",
      "metadata": {
        "colab": {
          "base_uri": "https://localhost:8080/"
        },
        "id": "lDFK1cYpsnJ3",
        "outputId": "fc30d321-d5b0-457b-d412-1cfa085b4e60"
      },
      "source": [
        "df.shape"
      ],
      "execution_count": 9,
      "outputs": [
        {
          "output_type": "execute_result",
          "data": {
            "text/plain": [
              "(6556613, 9)"
            ]
          },
          "metadata": {
            "tags": []
          },
          "execution_count": 9
        }
      ]
    },
    {
      "cell_type": "code",
      "metadata": {
        "colab": {
          "base_uri": "https://localhost:8080/"
        },
        "id": "gpk7w5-3t18B",
        "outputId": "6b457d8b-8b4c-47c9-e6dc-03df3720397b"
      },
      "source": [
        "df.columns"
      ],
      "execution_count": 10,
      "outputs": [
        {
          "output_type": "execute_result",
          "data": {
            "text/plain": [
              "Index(['store_id', 'card_id', 'card_company', 'transacted_date',\n",
              "       'transacted_time', 'installment_term', 'region', 'type_of_business',\n",
              "       'amount'],\n",
              "      dtype='object')"
            ]
          },
          "metadata": {
            "tags": []
          },
          "execution_count": 10
        }
      ]
    },
    {
      "cell_type": "code",
      "metadata": {
        "colab": {
          "base_uri": "https://localhost:8080/"
        },
        "id": "x0ce_AK8uDFm",
        "outputId": "3cc59cac-20cb-492f-9a05-bae5951ecbed"
      },
      "source": [
        "print(df.isnull().sum().sum())\n",
        "print(df.isnull().sum())"
      ],
      "execution_count": 13,
      "outputs": [
        {
          "output_type": "stream",
          "text": [
            "5995375\n",
            "store_id                  0\n",
            "card_id                   0\n",
            "card_company              0\n",
            "transacted_date           0\n",
            "transacted_time           0\n",
            "installment_term          0\n",
            "region              2042766\n",
            "type_of_business    3952609\n",
            "amount                    0\n",
            "dtype: int64\n"
          ],
          "name": "stdout"
        }
      ]
    },
    {
      "cell_type": "code",
      "metadata": {
        "colab": {
          "base_uri": "https://localhost:8080/",
          "height": 647
        },
        "id": "SPasNpBMu67E",
        "outputId": "c676d1d3-dd43-4e14-8608-85878e596614"
      },
      "source": [
        "df.tail(20)"
      ],
      "execution_count": 16,
      "outputs": [
        {
          "output_type": "execute_result",
          "data": {
            "text/html": [
              "<div>\n",
              "<style scoped>\n",
              "    .dataframe tbody tr th:only-of-type {\n",
              "        vertical-align: middle;\n",
              "    }\n",
              "\n",
              "    .dataframe tbody tr th {\n",
              "        vertical-align: top;\n",
              "    }\n",
              "\n",
              "    .dataframe thead th {\n",
              "        text-align: right;\n",
              "    }\n",
              "</style>\n",
              "<table border=\"1\" class=\"dataframe\">\n",
              "  <thead>\n",
              "    <tr style=\"text-align: right;\">\n",
              "      <th></th>\n",
              "      <th>store_id</th>\n",
              "      <th>card_id</th>\n",
              "      <th>card_company</th>\n",
              "      <th>transacted_date</th>\n",
              "      <th>transacted_time</th>\n",
              "      <th>installment_term</th>\n",
              "      <th>region</th>\n",
              "      <th>type_of_business</th>\n",
              "      <th>amount</th>\n",
              "    </tr>\n",
              "  </thead>\n",
              "  <tbody>\n",
              "    <tr>\n",
              "      <th>6556593</th>\n",
              "      <td>2136</td>\n",
              "      <td>4663846</td>\n",
              "      <td>a</td>\n",
              "      <td>2019-02-27</td>\n",
              "      <td>21:38</td>\n",
              "      <td>0</td>\n",
              "      <td>제주 제주시</td>\n",
              "      <td>기타 주점업</td>\n",
              "      <td>7857.142857</td>\n",
              "    </tr>\n",
              "    <tr>\n",
              "      <th>6556594</th>\n",
              "      <td>2136</td>\n",
              "      <td>4663847</td>\n",
              "      <td>g</td>\n",
              "      <td>2019-02-27</td>\n",
              "      <td>21:55</td>\n",
              "      <td>0</td>\n",
              "      <td>제주 제주시</td>\n",
              "      <td>기타 주점업</td>\n",
              "      <td>7285.714286</td>\n",
              "    </tr>\n",
              "    <tr>\n",
              "      <th>6556595</th>\n",
              "      <td>2136</td>\n",
              "      <td>4663848</td>\n",
              "      <td>d</td>\n",
              "      <td>2019-02-27</td>\n",
              "      <td>22:10</td>\n",
              "      <td>0</td>\n",
              "      <td>제주 제주시</td>\n",
              "      <td>기타 주점업</td>\n",
              "      <td>4000.000000</td>\n",
              "    </tr>\n",
              "    <tr>\n",
              "      <th>6556596</th>\n",
              "      <td>2136</td>\n",
              "      <td>4663706</td>\n",
              "      <td>d</td>\n",
              "      <td>2019-02-27</td>\n",
              "      <td>23:09</td>\n",
              "      <td>0</td>\n",
              "      <td>제주 제주시</td>\n",
              "      <td>기타 주점업</td>\n",
              "      <td>5500.000000</td>\n",
              "    </tr>\n",
              "    <tr>\n",
              "      <th>6556597</th>\n",
              "      <td>2136</td>\n",
              "      <td>4663849</td>\n",
              "      <td>d</td>\n",
              "      <td>2019-02-27</td>\n",
              "      <td>23:20</td>\n",
              "      <td>0</td>\n",
              "      <td>제주 제주시</td>\n",
              "      <td>기타 주점업</td>\n",
              "      <td>10428.571429</td>\n",
              "    </tr>\n",
              "    <tr>\n",
              "      <th>6556598</th>\n",
              "      <td>2136</td>\n",
              "      <td>4661654</td>\n",
              "      <td>a</td>\n",
              "      <td>2019-02-28</td>\n",
              "      <td>01:04</td>\n",
              "      <td>0</td>\n",
              "      <td>제주 제주시</td>\n",
              "      <td>기타 주점업</td>\n",
              "      <td>8571.428571</td>\n",
              "    </tr>\n",
              "    <tr>\n",
              "      <th>6556599</th>\n",
              "      <td>2136</td>\n",
              "      <td>4663850</td>\n",
              "      <td>a</td>\n",
              "      <td>2019-02-28</td>\n",
              "      <td>02:35</td>\n",
              "      <td>0</td>\n",
              "      <td>제주 제주시</td>\n",
              "      <td>기타 주점업</td>\n",
              "      <td>7428.571429</td>\n",
              "    </tr>\n",
              "    <tr>\n",
              "      <th>6556600</th>\n",
              "      <td>2136</td>\n",
              "      <td>4663107</td>\n",
              "      <td>a</td>\n",
              "      <td>2019-02-28</td>\n",
              "      <td>21:20</td>\n",
              "      <td>0</td>\n",
              "      <td>제주 제주시</td>\n",
              "      <td>기타 주점업</td>\n",
              "      <td>3285.714286</td>\n",
              "    </tr>\n",
              "    <tr>\n",
              "      <th>6556601</th>\n",
              "      <td>2136</td>\n",
              "      <td>1980399</td>\n",
              "      <td>d</td>\n",
              "      <td>2019-02-28</td>\n",
              "      <td>22:08</td>\n",
              "      <td>0</td>\n",
              "      <td>제주 제주시</td>\n",
              "      <td>기타 주점업</td>\n",
              "      <td>8714.285714</td>\n",
              "    </tr>\n",
              "    <tr>\n",
              "      <th>6556602</th>\n",
              "      <td>2136</td>\n",
              "      <td>4663851</td>\n",
              "      <td>b</td>\n",
              "      <td>2019-02-28</td>\n",
              "      <td>22:31</td>\n",
              "      <td>0</td>\n",
              "      <td>제주 제주시</td>\n",
              "      <td>기타 주점업</td>\n",
              "      <td>3285.714286</td>\n",
              "    </tr>\n",
              "    <tr>\n",
              "      <th>6556603</th>\n",
              "      <td>2136</td>\n",
              "      <td>4663852</td>\n",
              "      <td>a</td>\n",
              "      <td>2019-02-28</td>\n",
              "      <td>22:35</td>\n",
              "      <td>0</td>\n",
              "      <td>제주 제주시</td>\n",
              "      <td>기타 주점업</td>\n",
              "      <td>4571.428571</td>\n",
              "    </tr>\n",
              "    <tr>\n",
              "      <th>6556604</th>\n",
              "      <td>2136</td>\n",
              "      <td>4663853</td>\n",
              "      <td>e</td>\n",
              "      <td>2019-02-28</td>\n",
              "      <td>22:43</td>\n",
              "      <td>0</td>\n",
              "      <td>제주 제주시</td>\n",
              "      <td>기타 주점업</td>\n",
              "      <td>3571.428571</td>\n",
              "    </tr>\n",
              "    <tr>\n",
              "      <th>6556605</th>\n",
              "      <td>2136</td>\n",
              "      <td>4663666</td>\n",
              "      <td>f</td>\n",
              "      <td>2019-02-28</td>\n",
              "      <td>22:45</td>\n",
              "      <td>0</td>\n",
              "      <td>제주 제주시</td>\n",
              "      <td>기타 주점업</td>\n",
              "      <td>7428.571429</td>\n",
              "    </tr>\n",
              "    <tr>\n",
              "      <th>6556606</th>\n",
              "      <td>2136</td>\n",
              "      <td>4663854</td>\n",
              "      <td>f</td>\n",
              "      <td>2019-02-28</td>\n",
              "      <td>23:03</td>\n",
              "      <td>0</td>\n",
              "      <td>제주 제주시</td>\n",
              "      <td>기타 주점업</td>\n",
              "      <td>3928.571429</td>\n",
              "    </tr>\n",
              "    <tr>\n",
              "      <th>6556607</th>\n",
              "      <td>2136</td>\n",
              "      <td>4663855</td>\n",
              "      <td>d</td>\n",
              "      <td>2019-02-28</td>\n",
              "      <td>23:20</td>\n",
              "      <td>0</td>\n",
              "      <td>제주 제주시</td>\n",
              "      <td>기타 주점업</td>\n",
              "      <td>4500.000000</td>\n",
              "    </tr>\n",
              "    <tr>\n",
              "      <th>6556608</th>\n",
              "      <td>2136</td>\n",
              "      <td>4663855</td>\n",
              "      <td>d</td>\n",
              "      <td>2019-02-28</td>\n",
              "      <td>23:20</td>\n",
              "      <td>0</td>\n",
              "      <td>제주 제주시</td>\n",
              "      <td>기타 주점업</td>\n",
              "      <td>-4500.000000</td>\n",
              "    </tr>\n",
              "    <tr>\n",
              "      <th>6556609</th>\n",
              "      <td>2136</td>\n",
              "      <td>4663855</td>\n",
              "      <td>d</td>\n",
              "      <td>2019-02-28</td>\n",
              "      <td>23:24</td>\n",
              "      <td>0</td>\n",
              "      <td>제주 제주시</td>\n",
              "      <td>기타 주점업</td>\n",
              "      <td>4142.857143</td>\n",
              "    </tr>\n",
              "    <tr>\n",
              "      <th>6556610</th>\n",
              "      <td>2136</td>\n",
              "      <td>4663489</td>\n",
              "      <td>a</td>\n",
              "      <td>2019-02-28</td>\n",
              "      <td>23:24</td>\n",
              "      <td>0</td>\n",
              "      <td>제주 제주시</td>\n",
              "      <td>기타 주점업</td>\n",
              "      <td>4500.000000</td>\n",
              "    </tr>\n",
              "    <tr>\n",
              "      <th>6556611</th>\n",
              "      <td>2136</td>\n",
              "      <td>4663856</td>\n",
              "      <td>d</td>\n",
              "      <td>2019-02-28</td>\n",
              "      <td>23:27</td>\n",
              "      <td>0</td>\n",
              "      <td>제주 제주시</td>\n",
              "      <td>기타 주점업</td>\n",
              "      <td>571.428571</td>\n",
              "    </tr>\n",
              "    <tr>\n",
              "      <th>6556612</th>\n",
              "      <td>2136</td>\n",
              "      <td>4658616</td>\n",
              "      <td>c</td>\n",
              "      <td>2019-02-28</td>\n",
              "      <td>23:54</td>\n",
              "      <td>0</td>\n",
              "      <td>제주 제주시</td>\n",
              "      <td>기타 주점업</td>\n",
              "      <td>5857.142857</td>\n",
              "    </tr>\n",
              "  </tbody>\n",
              "</table>\n",
              "</div>"
            ],
            "text/plain": [
              "         store_id  card_id card_company  ...  region type_of_business        amount\n",
              "6556593      2136  4663846            a  ...  제주 제주시           기타 주점업   7857.142857\n",
              "6556594      2136  4663847            g  ...  제주 제주시           기타 주점업   7285.714286\n",
              "6556595      2136  4663848            d  ...  제주 제주시           기타 주점업   4000.000000\n",
              "6556596      2136  4663706            d  ...  제주 제주시           기타 주점업   5500.000000\n",
              "6556597      2136  4663849            d  ...  제주 제주시           기타 주점업  10428.571429\n",
              "6556598      2136  4661654            a  ...  제주 제주시           기타 주점업   8571.428571\n",
              "6556599      2136  4663850            a  ...  제주 제주시           기타 주점업   7428.571429\n",
              "6556600      2136  4663107            a  ...  제주 제주시           기타 주점업   3285.714286\n",
              "6556601      2136  1980399            d  ...  제주 제주시           기타 주점업   8714.285714\n",
              "6556602      2136  4663851            b  ...  제주 제주시           기타 주점업   3285.714286\n",
              "6556603      2136  4663852            a  ...  제주 제주시           기타 주점업   4571.428571\n",
              "6556604      2136  4663853            e  ...  제주 제주시           기타 주점업   3571.428571\n",
              "6556605      2136  4663666            f  ...  제주 제주시           기타 주점업   7428.571429\n",
              "6556606      2136  4663854            f  ...  제주 제주시           기타 주점업   3928.571429\n",
              "6556607      2136  4663855            d  ...  제주 제주시           기타 주점업   4500.000000\n",
              "6556608      2136  4663855            d  ...  제주 제주시           기타 주점업  -4500.000000\n",
              "6556609      2136  4663855            d  ...  제주 제주시           기타 주점업   4142.857143\n",
              "6556610      2136  4663489            a  ...  제주 제주시           기타 주점업   4500.000000\n",
              "6556611      2136  4663856            d  ...  제주 제주시           기타 주점업    571.428571\n",
              "6556612      2136  4658616            c  ...  제주 제주시           기타 주점업   5857.142857\n",
              "\n",
              "[20 rows x 9 columns]"
            ]
          },
          "metadata": {
            "tags": []
          },
          "execution_count": 16
        }
      ]
    },
    {
      "cell_type": "code",
      "metadata": {
        "id": "AEBayCOj6Ygg"
      },
      "source": [
        ""
      ],
      "execution_count": null,
      "outputs": []
    }
  ]
}